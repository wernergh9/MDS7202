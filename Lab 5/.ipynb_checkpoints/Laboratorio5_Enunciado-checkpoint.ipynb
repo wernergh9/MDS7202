{
 "cells": [
  {
   "cell_type": "markdown",
   "metadata": {
    "cell_id": "00000-d922277a-c096-45e6-919d-d08ca8ca4c9c",
    "deepnote_cell_height": 155.43333435058594,
    "deepnote_cell_type": "markdown",
    "id": "XUZ1dFPHzAHl"
   },
   "source": [
    "<h1><center>Laboratorio 5: El Pandas no Muerde (act IV) 🐼</center></h1>\n",
    "\n",
    "<center><strong>MDS7202: Laboratorio de Programación Científica para Ciencia de Datos</strong></center>"
   ]
  },
  {
   "cell_type": "markdown",
   "metadata": {
    "cell_id": "00001-41058c5a-e4f2-45ba-8925-5dee28b63c02",
    "deepnote_cell_height": 165.78334045410156,
    "deepnote_cell_type": "markdown",
    "id": "UD8X1uhGzAHq"
   },
   "source": [
    "### Cuerpo Docente:\n",
    "\n",
    "- Profesor: Matias Rojas y Mauricio Araneda\n",
    "- Auxiliar: Ignacio Meza D.\n",
    "- Ayudante: Rodrigo Ortiz"
   ]
  },
  {
   "cell_type": "markdown",
   "metadata": {
    "cell_id": "00002-e1842bc9-c821-4133-b500-4fe9b07f9071",
    "deepnote_cell_height": 171.86666870117188,
    "deepnote_cell_type": "markdown",
    "id": "tXflExjqzAHr"
   },
   "source": [
    "### Equipo: SUPER IMPORTANTE - notebooks sin nombre no serán revisados\n",
    "\n",
    "- Nombre de alumno 1: Maximiliano Rosadio\n",
    "- Nombre de alumno 2: Werner González\n"
   ]
  },
  {
   "cell_type": "markdown",
   "metadata": {
    "cell_id": "00003-1ff7590e-80bb-4f14-b210-a464229ab3d9",
    "deepnote_cell_height": 61.56666564941406,
    "deepnote_cell_type": "markdown",
    "id": "AD-V0bbZzAHr"
   },
   "source": [
    "### **Link de repositorio de GitHub:** `http://....`"
   ]
  },
  {
   "cell_type": "markdown",
   "metadata": {
    "cell_id": "00005-9b6fbc71-5250-4293-939d-cff84ea69ac4",
    "deepnote_cell_height": 571,
    "deepnote_cell_type": "markdown",
    "id": "6uBLPj1PzAHs"
   },
   "source": [
    "\n",
    "## Reglas:\n",
    "\n",
    "- **Grupos de 2 personas**\n",
    "- **Ausentes** deberán realizar la actividad solos. \n",
    "- Cualquier duda fuera del horario de clases al foro. Mensajes al equipo docente serán respondidos por este medio.\n",
    "- Prohibidas las copias. \n",
    "- Pueden usar cualquer matrial del curso que estimen conveniente.\n",
    "\n",
    "### Objetivos principales del laboratorio\n",
    "\n",
    "- Aplicar los paradigmas y buenas prácticas de programación vistas hasta este momento.\n",
    "- Comprender y aprovechar las ventajas que nos ofrece la liberia `numpy` con respecto a trabajar en Python 'puro'.\n",
    "- Visualizar aplicaciones de filtros de imágenes sin el uso de librerías.\n",
    "- Verificar que el uso indiscriminado de `for` puede afectar en la eficiencia en al procesar datos masivos.\n",
    "\n",
    "\n",
    "El laboratorio deberá ser desarrollado sin el uso indiscriminado de iteradores nativos de python (aka \"for\", \"while\"). La idea es que aprendan a exprimir al máximo las funciones optimizadas que nos entrega `numpy`, las cuales vale mencionar, son bastante más eficientes que los iteradores nativos sobre arreglos (*o tensores*)."
   ]
  },
  {
   "cell_type": "markdown",
   "metadata": {
    "cell_id": "00006-aba27b6e-506c-4de4-9ba7-161e8fa8eeb6",
    "deepnote_cell_height": 69.03334045410156,
    "deepnote_cell_type": "markdown",
    "id": "wrG4gYabzAHs"
   },
   "source": [
    "## Descripción del laboratorio."
   ]
  },
  {
   "cell_type": "markdown",
   "metadata": {
    "cell_id": "00007-92b497a3-20e7-40e4-8a65-2115c3cf717b",
    "deepnote_cell_height": 61.03334045410156,
    "deepnote_cell_type": "markdown",
    "id": "MhISwri4zAHy"
   },
   "source": [
    "### Importamos librerias utiles 😸"
   ]
  },
  {
   "cell_type": "code",
   "execution_count": null,
   "metadata": {
    "ExecuteTime": {
     "end_time": "2021-03-29T00:08:16.884674Z",
     "start_time": "2021-03-29T00:08:16.349846Z"
    },
    "cell_id": "00008-02ea8e34-1cb6-4773-a4b1-3369d7843ddf",
    "colab": {
     "base_uri": "https://localhost:8080/"
    },
    "deepnote_cell_height": 987.5499877929688,
    "deepnote_cell_type": "code",
    "deepnote_to_be_reexecuted": false,
    "executionInfo": {
     "elapsed": 7340,
     "status": "ok",
     "timestamp": 1619926444128,
     "user": {
      "displayName": "IGNACIO ALEJANDRO MEZA",
      "photoUrl": "",
      "userId": "17011121633069169364"
     },
     "user_tz": 240
    },
    "execution_millis": 15959,
    "execution_start": 1634325916301,
    "id": "uyc33dKdzAHy",
    "outputId": "275fee3c-4ef0-4bfb-acb7-e318d613bdce",
    "source_hash": "80b1c1a9"
   },
   "outputs": [
    {
     "name": "stdout",
     "output_type": "stream",
     "text": [
      "Requirement already satisfied: pandas in /root/venv/lib/python3.7/site-packages (1.3.3)\n",
      "Requirement already satisfied: numpy>=1.17.3 in /shared-libs/python3.7/py/lib/python3.7/site-packages (from pandas) (1.19.5)\n",
      "Requirement already satisfied: python-dateutil>=2.7.3 in /shared-libs/python3.7/py-core/lib/python3.7/site-packages (from pandas) (2.8.2)\n",
      "Requirement already satisfied: pytz>=2017.3 in /shared-libs/python3.7/py/lib/python3.7/site-packages (from pandas) (2021.3)\n",
      "Requirement already satisfied: six>=1.5 in /shared-libs/python3.7/py-core/lib/python3.7/site-packages (from python-dateutil>=2.7.3->pandas) (1.16.0)\n",
      "\u001b[33mWARNING: You are using pip version 21.2.4; however, version 21.3 is available.\n",
      "You should consider upgrading via the '/root/venv/bin/python -m pip install --upgrade pip' command.\u001b[0m\n",
      "Requirement already satisfied: xlrd in /root/venv/lib/python3.7/site-packages (2.0.1)\n",
      "\u001b[33mWARNING: You are using pip version 21.2.4; however, version 21.3 is available.\n",
      "You should consider upgrading via the '/root/venv/bin/python -m pip install --upgrade pip' command.\u001b[0m\n",
      "Requirement already satisfied: openpyxl in /root/venv/lib/python3.7/site-packages (3.0.9)\n",
      "Requirement already satisfied: et-xmlfile in /root/venv/lib/python3.7/site-packages (from openpyxl) (1.1.0)\n",
      "\u001b[33mWARNING: You are using pip version 21.2.4; however, version 21.3 is available.\n",
      "You should consider upgrading via the '/root/venv/bin/python -m pip install --upgrade pip' command.\u001b[0m\n",
      "Requirement already satisfied: plotly in /shared-libs/python3.7/py/lib/python3.7/site-packages (5.3.1)\n",
      "Requirement already satisfied: tenacity>=6.2.0 in /shared-libs/python3.7/py/lib/python3.7/site-packages (from plotly) (8.0.1)\n",
      "Requirement already satisfied: six in /shared-libs/python3.7/py-core/lib/python3.7/site-packages (from plotly) (1.16.0)\n",
      "\u001b[33mWARNING: You are using pip version 21.2.4; however, version 21.3 is available.\n",
      "You should consider upgrading via the '/root/venv/bin/python -m pip install --upgrade pip' command.\u001b[0m\n",
      "Requirement already satisfied: missingno in /root/venv/lib/python3.7/site-packages (0.5.0)\n",
      "Requirement already satisfied: matplotlib in /shared-libs/python3.7/py/lib/python3.7/site-packages (from missingno) (3.4.3)\n",
      "Requirement already satisfied: scipy in /shared-libs/python3.7/py/lib/python3.7/site-packages (from missingno) (1.7.1)\n",
      "Requirement already satisfied: numpy in /shared-libs/python3.7/py/lib/python3.7/site-packages (from missingno) (1.19.5)\n",
      "Requirement already satisfied: seaborn in /shared-libs/python3.7/py/lib/python3.7/site-packages (from missingno) (0.11.2)\n",
      "Requirement already satisfied: python-dateutil>=2.7 in /shared-libs/python3.7/py-core/lib/python3.7/site-packages (from matplotlib->missingno) (2.8.2)\n",
      "Requirement already satisfied: cycler>=0.10 in /shared-libs/python3.7/py/lib/python3.7/site-packages (from matplotlib->missingno) (0.10.0)\n",
      "Requirement already satisfied: pillow>=6.2.0 in /shared-libs/python3.7/py/lib/python3.7/site-packages (from matplotlib->missingno) (8.3.2)\n",
      "Requirement already satisfied: pyparsing>=2.2.1 in /shared-libs/python3.7/py-core/lib/python3.7/site-packages (from matplotlib->missingno) (2.4.7)\n",
      "Requirement already satisfied: kiwisolver>=1.0.1 in /shared-libs/python3.7/py/lib/python3.7/site-packages (from matplotlib->missingno) (1.3.2)\n",
      "Requirement already satisfied: six in /shared-libs/python3.7/py-core/lib/python3.7/site-packages (from cycler>=0.10->matplotlib->missingno) (1.16.0)\n",
      "Requirement already satisfied: pandas>=0.23 in /root/venv/lib/python3.7/site-packages (from seaborn->missingno) (1.3.3)\n",
      "Requirement already satisfied: pytz>=2017.3 in /shared-libs/python3.7/py/lib/python3.7/site-packages (from pandas>=0.23->seaborn->missingno) (2021.3)\n",
      "\u001b[33mWARNING: You are using pip version 21.2.4; however, version 21.3 is available.\n",
      "You should consider upgrading via the '/root/venv/bin/python -m pip install --upgrade pip' command.\u001b[0m\n"
     ]
    }
   ],
   "source": [
    "# Libreria Core del lab.\n",
    "import numpy as np\n",
    "!pip install --upgrade pandas\n",
    "!pip install xlrd\n",
    "!pip install openpyxl\n",
    "import pandas as pd\n",
    "import datetime\n",
    "from scipy import stats\n",
    "\n",
    "from IPython.display import display, Markdown, Latex\n",
    "\n",
    "#Libreria para plotear\n",
    "!pip install --upgrade plotly\n",
    "!pip install missingno\n",
    "import matplotlib.pyplot as plt\n",
    "import missingno as msno\n",
    "import plotly.express as px"
   ]
  },
  {
   "cell_type": "code",
   "execution_count": null,
   "metadata": {
    "cell_id": "00009-ba85c0a3-286a-4df8-a94e-78588eb64ebd",
    "deepnote_cell_height": 218.53334045410156,
    "deepnote_cell_type": "code",
    "deepnote_to_be_reexecuted": false,
    "execution_millis": 4,
    "execution_start": 1634315852279,
    "id": "gQ0-zPV4NNrq",
    "source_hash": "c60dc4a7"
   },
   "outputs": [
    {
     "name": "stdout",
     "output_type": "stream",
     "text": [
      "Ignorando conexión drive-colab\n"
     ]
    }
   ],
   "source": [
    "# Si usted está utilizando Colabolatory le puede ser útil este código para cargar los archivos.\n",
    "try:\n",
    "    from google.colab import drive\n",
    "    drive.mount(\"/content/drive\")\n",
    "    path = 'Dirección donde tiene los archivos en el Drive'\n",
    "except: \n",
    "    print('Ignorando conexión drive-colab')"
   ]
  },
  {
   "cell_type": "markdown",
   "metadata": {
    "cell_id": "00010-5ea0bd58-e4cf-4cd1-b34d-a6286ab74a6c",
    "deepnote_cell_height": 344.0333251953125,
    "deepnote_cell_type": "markdown",
    "tags": []
   },
   "source": [
    "<p align=\"center\"><iframe width=\"560\" height=\"315\" src=\"https://www.youtube.com/embed/MW4d8_LLYp8?rel=0&amp;controls=0&amp;showinfo=0\" frameborder=\"1\" allowfullscreen></iframe></p>"
   ]
  },
  {
   "cell_type": "markdown",
   "metadata": {
    "cell_id": "00011-0668869e-1260-4409-b506-4251e2a12350",
    "deepnote_cell_height": 133.03334045410156,
    "deepnote_cell_type": "markdown",
    "id": "QDwIXTh7bK_A"
   },
   "source": [
    "# Segmentación de Clientes en Tienda de Retail 🛍️"
   ]
  },
  {
   "cell_type": "markdown",
   "metadata": {
    "cell_id": "00012-f421236d-70fc-4317-934a-d9ca05ba774a",
    "deepnote_cell_height": 293.8500061035156,
    "deepnote_cell_type": "markdown",
    "tags": []
   },
   "source": [
    "<p align=\"center\">\n",
    "  <img width=300 src=\"https://s1.eestatic.com/2018/04/14/social/la_jungla_-_social_299733421_73842361_854x640.jpg\">\n",
    "</p>"
   ]
  },
  {
   "cell_type": "markdown",
   "metadata": {
    "cell_id": "00013-b2816031-9bf6-401b-9ce5-d9a10d6d1395",
    "deepnote_cell_height": 69.03334045410156,
    "deepnote_cell_type": "markdown",
    "tags": []
   },
   "source": [
    "## 1.1 Cargar Dataset"
   ]
  },
  {
   "cell_type": "markdown",
   "metadata": {
    "cell_id": "00014-d3ac5fae-56fd-4d4e-83db-be9df9d130a4",
    "deepnote_cell_height": 272.6333312988281,
    "deepnote_cell_type": "markdown",
    "tags": []
   },
   "source": [
    "Mr. Lepin Mora quien es el gerente de una cotizada tienda de retail en Europa, les solicita si pueden analizar los datos de algunas de sus tiendas y si es posible extraer los diferenciar los tipos de clientes que posee el retail.\n",
    "\n",
    "Para esto, el área de ventas les entrega el archivo `online_retail_II.xlsx` con el que se les pide que cargue y visualicen algunas de las filas que componen el Dataset.\n",
    "\n",
    "Realice una primera visualización de los datos y señale los atributos que componen el dataset. Señale las columnas que conforman el dataset, el tipo de variable presente en cada columna y comente que representa cada una de estas.\n",
    "\n",
    "**Respuesta:**"
   ]
  },
  {
   "cell_type": "code",
   "execution_count": null,
   "metadata": {
    "cell_id": "00015-b7ecc992-93dc-4d37-8161-9e2a5238e17d",
    "colab": {
     "base_uri": "https://localhost:8080/",
     "height": 204
    },
    "deepnote_cell_height": 449.54998779296875,
    "deepnote_cell_type": "code",
    "deepnote_output_heights": [
     174
    ],
    "deepnote_to_be_reexecuted": false,
    "executionInfo": {
     "elapsed": 77353,
     "status": "ok",
     "timestamp": 1619717831933,
     "user": {
      "displayName": "IGNACIO ALEJANDRO MEZA",
      "photoUrl": "",
      "userId": "17011121633069169364"
     },
     "user_tz": 240
    },
    "execution_millis": 375,
    "execution_start": 1634325932264,
    "id": "7FNOu-CvjV5m",
    "outputId": "90b4f92c-71df-44d4-8084-4dd06a6179e4",
    "source_hash": "579ecb11"
   },
   "outputs": [
    {
     "data": {
      "application/vnd.deepnote.dataframe.v2+json": {
       "error": "Traceback (most recent call last):\n  File \"/shared-libs/code/variable_explorer.py\", line 167, in dataframe_formatter\n    return {MIME_TYPE: describe_pd_dataframe(df)}\n  File \"/shared-libs/code/variable_explorer_helpers.py\", line 163, in describe_pd_dataframe\n    df_analyzed.columns = pd.io.parsers.ParserBase(\nAttributeError: module 'pandas.io.parsers' has no attribute 'ParserBase'\n"
      },
      "text/html": [
       "<div>\n",
       "<style scoped>\n",
       "    .dataframe tbody tr th:only-of-type {\n",
       "        vertical-align: middle;\n",
       "    }\n",
       "\n",
       "    .dataframe tbody tr th {\n",
       "        vertical-align: top;\n",
       "    }\n",
       "\n",
       "    .dataframe thead th {\n",
       "        text-align: right;\n",
       "    }\n",
       "</style>\n",
       "<table border=\"1\" class=\"dataframe\">\n",
       "  <thead>\n",
       "    <tr style=\"text-align: right;\">\n",
       "      <th></th>\n",
       "      <th>Invoice</th>\n",
       "      <th>StockCode</th>\n",
       "      <th>Description</th>\n",
       "      <th>Quantity</th>\n",
       "      <th>InvoiceDate</th>\n",
       "      <th>Price</th>\n",
       "      <th>Customer ID</th>\n",
       "      <th>Country</th>\n",
       "    </tr>\n",
       "  </thead>\n",
       "  <tbody>\n",
       "    <tr>\n",
       "      <th>0</th>\n",
       "      <td>489434</td>\n",
       "      <td>85048</td>\n",
       "      <td>15CM CHRISTMAS GLASS BALL 20 LIGHTS</td>\n",
       "      <td>12</td>\n",
       "      <td>2009-12-01 07:45:00</td>\n",
       "      <td>6.95</td>\n",
       "      <td>13085.0</td>\n",
       "      <td>United Kingdom</td>\n",
       "    </tr>\n",
       "    <tr>\n",
       "      <th>1</th>\n",
       "      <td>489434</td>\n",
       "      <td>79323P</td>\n",
       "      <td>PINK CHERRY LIGHTS</td>\n",
       "      <td>12</td>\n",
       "      <td>2009-12-01 07:45:00</td>\n",
       "      <td>6.75</td>\n",
       "      <td>13085.0</td>\n",
       "      <td>United Kingdom</td>\n",
       "    </tr>\n",
       "    <tr>\n",
       "      <th>2</th>\n",
       "      <td>489434</td>\n",
       "      <td>79323W</td>\n",
       "      <td>WHITE CHERRY LIGHTS</td>\n",
       "      <td>12</td>\n",
       "      <td>2009-12-01 07:45:00</td>\n",
       "      <td>6.75</td>\n",
       "      <td>13085.0</td>\n",
       "      <td>United Kingdom</td>\n",
       "    </tr>\n",
       "    <tr>\n",
       "      <th>3</th>\n",
       "      <td>489434</td>\n",
       "      <td>22041</td>\n",
       "      <td>RECORD FRAME 7\" SINGLE SIZE</td>\n",
       "      <td>48</td>\n",
       "      <td>2009-12-01 07:45:00</td>\n",
       "      <td>2.10</td>\n",
       "      <td>13085.0</td>\n",
       "      <td>United Kingdom</td>\n",
       "    </tr>\n",
       "    <tr>\n",
       "      <th>4</th>\n",
       "      <td>489434</td>\n",
       "      <td>21232</td>\n",
       "      <td>STRAWBERRY CERAMIC TRINKET BOX</td>\n",
       "      <td>24</td>\n",
       "      <td>2009-12-01 07:45:00</td>\n",
       "      <td>1.25</td>\n",
       "      <td>13085.0</td>\n",
       "      <td>United Kingdom</td>\n",
       "    </tr>\n",
       "  </tbody>\n",
       "</table>\n",
       "</div>"
      ],
      "text/plain": [
       "  Invoice StockCode                          Description  Quantity  \\\n",
       "0  489434     85048  15CM CHRISTMAS GLASS BALL 20 LIGHTS        12   \n",
       "1  489434    79323P                   PINK CHERRY LIGHTS        12   \n",
       "2  489434    79323W                  WHITE CHERRY LIGHTS        12   \n",
       "3  489434     22041         RECORD FRAME 7\" SINGLE SIZE         48   \n",
       "4  489434     21232       STRAWBERRY CERAMIC TRINKET BOX        24   \n",
       "\n",
       "          InvoiceDate  Price Customer ID         Country  \n",
       "0 2009-12-01 07:45:00   6.95     13085.0  United Kingdom  \n",
       "1 2009-12-01 07:45:00   6.75     13085.0  United Kingdom  \n",
       "2 2009-12-01 07:45:00   6.75     13085.0  United Kingdom  \n",
       "3 2009-12-01 07:45:00   2.10     13085.0  United Kingdom  \n",
       "4 2009-12-01 07:45:00   1.25     13085.0  United Kingdom  "
      ]
     },
     "execution_count": 3,
     "metadata": {},
     "output_type": "execute_result"
    }
   ],
   "source": [
    "df_retail = pd.read_pickle(\"online_retail_II.pickle\")\n",
    "df_retail = df_retail.astype(\n",
    "    {\n",
    "        \"Invoice\": \"category\",\n",
    "        \"StockCode\": \"category\",\n",
    "        \"Description\": str,\n",
    "        \"Customer ID\": \"category\",\n",
    "    }\n",
    ")\n",
    "df_retail.head()\n"
   ]
  },
  {
   "cell_type": "markdown",
   "metadata": {
    "cell_id": "00016-95d543d8-e605-4635-98c6-8a4a1293df5a",
    "deepnote_cell_height": 332.23333740234375,
    "deepnote_cell_type": "markdown",
    "id": "Rcjs-dd1V-1u"
   },
   "source": [
    "## 1.2 Analisís Explotatorio de los Datos [0.5 puntos] \n",
    "\n",
    "En base a la primera visualización del dataset, *Don Mora* le solicita que realicen un análisis exploratorio de los datos, para esto les deberán realizar un análisis univariado y multivariado. De la revisión, ustedes deben explicar potenciales anomalías visualizadas y señalar si existe la necesidad de realizar una limpieza de datos.\n",
    "\n",
    "Explique a que nos referimos con análisis univariable, multivariable y de datos faltantes. ¿Qué beneficios nos otorga estudiar estos datos?. Sea conciso con su respuesta y no escriba mas de 5 líneas para su respuesta.\n",
    "\n",
    "**Respuesta a la Pregunta:**"
   ]
  },
  {
   "cell_type": "markdown",
   "metadata": {
    "cell_id": "00017-6d2ae959-397e-46d6-af72-1d1023615611",
    "deepnote_cell_height": 65.43333435058594,
    "deepnote_cell_type": "markdown",
    "tags": []
   },
   "source": [
    "> Respuesta Aquí"
   ]
  },
  {
   "cell_type": "markdown",
   "metadata": {
    "cell_id": "00018-0d2e4dfa-8dfb-4959-b694-e5ac27dd372a",
    "deepnote_cell_height": 225.43333435058594,
    "deepnote_cell_type": "markdown",
    "tags": []
   },
   "source": [
    "### 1.2.1 Análisis Univariado [2 Puntos]\n",
    "\n",
    "A continuación, se le presentan dos funciones para analizar los datos que componen un dataframe. La primera de estas es la función ``profile_serie()`` la cual recibe una serie y le entrega un análisis detallado de los datos que conforman dicha serie. \n",
    "\n",
    "Ejecute la funcion ``profile_serie()`` sobre cada serie para realizar un análisis univariado de estas. A continuación, comente acerca de el comportamiento de cada variable según las estadísticas descriptivas y los gráficos generados."
   ]
  },
  {
   "cell_type": "code",
   "execution_count": null,
   "metadata": {
    "cell_id": "00019-075c9c6a-b956-4329-a280-abd00da1a752",
    "deepnote_cell_height": 1682.0333251953125,
    "deepnote_cell_type": "code",
    "deepnote_to_be_reexecuted": false,
    "execution_millis": 1,
    "execution_start": 1634325950632,
    "source_hash": "60609391",
    "tags": []
   },
   "outputs": [],
   "source": [
    "from pandas.api.types import is_numeric_dtype\n",
    "from pandas.core.dtypes.common import is_datetime_or_timedelta_dtype\n",
    "\n",
    "\n",
    "def profile_serie(serie_in, n_samples=1000, random_state=42):\n",
    "    serie = serie_in.copy()\n",
    "\n",
    "    profile = pd.Series(dtype='object')\n",
    "    profile[\"Type\"] = serie.dtype\n",
    "    profile = pd.concat([profile, serie.describe(datetime_is_numeric=True)])\n",
    "\n",
    "    # profile = pd.Series([])\n",
    "\n",
    "    if is_numeric_dtype(serie):\n",
    "        profile[\"Negative\"] = (serie < 0).sum()\n",
    "        profile[\"Negative (%)\"] = (\n",
    "            str(round((serie < 0).sum() / len(serie) * 100, 2)) + \" %\"\n",
    "        )\n",
    "        profile[\"Zeros\"] = (serie == 0).sum()\n",
    "        profile[\"Zeros (%)\"] = (\n",
    "            str(round((serie == 0).sum() / len(serie) * 100, 2)) + \" %\"\n",
    "        )\n",
    "        profile[\"Kurt\"] = serie.kurt()\n",
    "        profile[\"Skew\"] = serie.skew()\n",
    "\n",
    "    profile[\" \"] = \" \"  # espacio\n",
    "\n",
    "    profile[\"Missing cells\"] = serie.isnull().sum()\n",
    "    profile[\"Missing cells (%)\"] = (\n",
    "        str(round(serie.isnull().sum() / len(serie) * 100, 2)) + \" %\"\n",
    "    )\n",
    "    profile[\"Duplicate rows\"] = serie.duplicated(False).sum()\n",
    "    profile[\"Duplicate rows (%)\"] = (\n",
    "        str(round(serie.duplicated(False).sum() / len(serie) * 100, 2)) + \" %\"\n",
    "    )\n",
    "    profile[\"Total size in memory\"] = str(serie.memory_usage(index=True)) + \" bytes\"\n",
    "\n",
    "    # profile = pd.concat([profile, description])\n",
    "\n",
    "    profile = profile.rename(\n",
    "        index={\n",
    "            \"count\": \"Number of observations\",\n",
    "            \"mean\": \"Mean\",\n",
    "            \"std\": \"Std\",\n",
    "            \"min\": \"Min\",\n",
    "            \"max\": \"Max\",\n",
    "            \"unique\": \"Unique\",\n",
    "            \"top\": \"Top\",\n",
    "            \"freq\": \"Freq\",\n",
    "        }\n",
    "    )\n",
    "    no_outliers_fig = None\n",
    "\n",
    "    if is_numeric_dtype(serie):\n",
    "\n",
    "        sampled_serie = serie.sample(n_samples, random_state=random_state)\n",
    "        fig = px.histogram(\n",
    "            sampled_serie, marginal=\"box\", title=f\"{serie.name} - With Outliers\"\n",
    "        )\n",
    "\n",
    "        no_outliers = sampled_serie.loc[(np.abs(stats.zscore(sampled_serie)) < 3)]\n",
    "        # zscore = https://es.wikipedia.org/wiki/Unidad_tipificada\n",
    "        \n",
    "        no_outliers_fig = px.histogram(\n",
    "            no_outliers, marginal=\"box\", title=f\"{serie.name} - Without Outliers\"\n",
    "        )\n",
    "\n",
    "    elif is_datetime_or_timedelta_dtype(serie):\n",
    "        sampled_serie = serie.sample(n_samples, random_state=random_state)\n",
    "        fig = px.histogram(sampled_serie, marginal=\"box\", title=f\"{serie.name}\")\n",
    "    \n",
    "    else:\n",
    "        count = (\n",
    "            serie.value_counts()[0:100]\n",
    "            .reset_index()\n",
    "            .rename(columns={\"index\": serie.name, serie.name: \"Count\"})\n",
    "        )\n",
    "        fig = px.bar(\n",
    "            x=count[serie.name].astype(str),\n",
    "            y=count[\"Count\"],\n",
    "            title=f\"100 Most common categories of {serie.name}\",\n",
    "        )\n",
    "    display(Markdown(f'## {serie.name} Profile'))\n",
    "    display(profile)\n",
    "    fig.show()\n",
    "\n",
    "    if no_outliers_fig:\n",
    "        no_outliers_fig.show()\n",
    "\n",
    "    # return fig, profile"
   ]
  },
  {
   "cell_type": "code",
   "execution_count": null,
   "metadata": {
    "cell_id": "00020-0dd41995-78f8-4f2c-ac5d-f36288ccfda0",
    "deepnote_cell_height": 1714.0999755859375,
    "deepnote_cell_type": "code",
    "deepnote_output_heights": [
     49,
     424,
     527,
     527
    ],
    "deepnote_to_be_reexecuted": false,
    "execution_millis": 2062,
    "execution_start": 1634325955534,
    "source_hash": "6155d0f5",
    "tags": []
   },
   "outputs": [
    {
     "data": {
      "text/markdown": [
       "## Price Profile"
      ],
      "text/plain": [
       "<IPython.core.display.Markdown object>"
      ]
     },
     "metadata": {},
     "output_type": "display_data"
    },
    {
     "data": {
      "text/plain": [
       "Type                            float64\n",
       "Number of observations         525461.0\n",
       "Mean                           4.688834\n",
       "Std                          146.126914\n",
       "Min                           -53594.36\n",
       "25%                                1.25\n",
       "50%                                 2.1\n",
       "75%                                4.21\n",
       "Max                            25111.09\n",
       "Negative                              3\n",
       "Negative (%)                      0.0 %\n",
       "Zeros                              3687\n",
       "Zeros (%)                         0.7 %\n",
       "Kurt                       64868.344873\n",
       "Skew                        -140.768446\n",
       "                                       \n",
       "Missing cells                         0\n",
       "Missing cells (%)                 0.0 %\n",
       "Duplicate rows                   524485\n",
       "Duplicate rows (%)              99.81 %\n",
       "Total size in memory      4203816 bytes\n",
       "dtype: object"
      ]
     },
     "metadata": {},
     "output_type": "display_data"
    },
    {
     "data": {
      "text/html": [
       "<html>\n",
       "<head><meta charset=\"utf-8\" /></head>\n",
       "<body>\n",
       "    <div>            <script src=\"https://cdnjs.cloudflare.com/ajax/libs/mathjax/2.7.5/MathJax.js?config=TeX-AMS-MML_SVG\"></script><script type=\"text/javascript\">if (window.MathJax) {MathJax.Hub.Config({SVG: {font: \"STIX-Web\"}});}</script>                <script type=\"text/javascript\">window.PlotlyConfig = {MathJaxConfig: 'local'};</script>\n",
       "        <script src=\"https://cdn.plot.ly/plotly-2.4.2.min.js\"></script>                <div id=\"1419c40a-52f3-4f57-895a-8776b6e1270d\" class=\"plotly-graph-div\" style=\"height:525px; width:100%;\"></div>            <script type=\"text/javascript\">                                    window.PLOTLYENV=window.PLOTLYENV || {};                                    if (document.getElementById(\"1419c40a-52f3-4f57-895a-8776b6e1270d\")) {                    Plotly.newPlot(                        \"1419c40a-52f3-4f57-895a-8776b6e1270d\",                        [{\"alignmentgroup\":\"True\",\"bingroup\":\"x\",\"hovertemplate\":\"variable=Price<br>value=%{x}<br>count=%{y}<extra></extra>\",\"legendgroup\":\"Price\",\"marker\":{\"color\":\"#636efa\",\"pattern\":{\"shape\":\"\"}},\"name\":\"Price\",\"offsetgroup\":\"Price\",\"orientation\":\"v\",\"showlegend\":true,\"type\":\"histogram\",\"x\":[7.95,2.1,0.55,1.25,4.95,0.64,5.91,3.75,1.25,1.95,1.25,12.72,0.38,1.25,2.95,5.06,8.5,6.04,1.65,4.25,4.21,3.75,5.91,2.1,10.95,4.21,13.87,0.42,0.1,2.51,2.51,2.95,4.21,0.42,1.45,2.55,1.66,4.65,5.55,2.51,0.65,2.55,1.45,9.95,1.25,2.1,1.95,1.65,0.87,2.95,0.85,0.55,1.65,0.85,8.49,0.85,5.91,4.21,2.1,2.51,1.95,6.35,0.65,2.55,8.5,1.25,10.95,0.85,13.57,0.85,0.85,2.1,3.75,1.65,12.75,7.49,1.66,1.65,7.65,1.65,2.95,0.65,2.55,0.85,0.85,2.51,0.85,5.91,4.25,4.95,18.0,1.65,1.65,10.95,2.55,1.65,1.25,2.57,2.55,2.95,0.85,0.85,1.65,0.85,0.65,2.95,8.5,8.5,0.08,1.25,1.25,6.75,6.75,3.75,2.95,1.45,1.25,5.95,4.65,0.95,0.85,2.95,1.65,6.77,2.1,2.25,4.21,1.69,0.42,1.25,1.65,1.25,2.55,1.65,2.57,1.25,2.51,5.91,0.42,1.66,5.88,0.85,0.21,0.19,1.65,1.65,1.69,0.42,4.95,2.95,3.75,1.65,1.65,1.95,1.69,0.29,5.95,8.5,2.1,4.21,2.95,7.95,1.65,0.42,1.25,1.45,1.65,3.75,0.36,10.75,12.75,2.1,1.25,4.95,2.55,0.42,5.95,1.25,1.69,1.69,1.65,4.95,1.84,1.95,4.65,1.25,0.85,5.95,1.95,0.85,0.42,1.65,4.25,1.25,4.95,0.85,2.55,1.06,0.0,1.25,4.25,3.36,0.85,5.45,1.95,7.49,1.25,0.42,7.62,1.25,2.51,1.66,0.85,3.75,1.95,0.85,2.95,4.25,2.1,3.75,1.45,0.85,0.42,8.5,3.45,8.47,8.95,3.25,0.85,1.65,0.85,2.98,2.95,0.55,3.75,1.25,1.65,0.85,7.49,0.38,1.65,3.36,1.65,34.0,3.75,1.95,5.06,4.65,3.39,1.25,1.25,8.47,2.95,4.95,0.65,0.85,4.21,0.65,4.95,2.1,2.51,3.75,0.85,0.43,8.5,1.25,2.95,2.95,7.95,2.1,5.91,2.95,0.95,1.25,2.51,1.25,3.36,1.25,2.55,2.95,4.25,2.1,0.72,7.49,4.21,2.95,0.85,0.42,2.51,0.85,3.75,1.65,3.75,0.42,12.75,1.25,1.65,1.65,0.85,1.45,0.85,0.34,2.95,0.85,9.95,4.21,1.95,2.51,2.55,9.95,4.21,1.66,0.85,9.95,0.0,1.65,2.95,1.06,1.25,1.25,4.25,1.65,8.5,16.13,1.25,7.49,2.1,11.26,0.43,0.42,10.17,1.66,0.81,5.95,4.21,14.95,1.25,0.72,3.36,3.75,1.06,8.5,6.75,2.95,0.42,0.55,11.87,0.65,2.1,1.95,2.1,1.45,2.95,79.95,1.65,4.25,2.55,4.95,2.1,2.51,4.25,1.25,1.65,4.25,1.66,122.3,3.45,7.65,9.95,1.65,3.36,9.95,1.65,2.55,2.1,0.85,0.85,2.95,3.36,4.3,5.06,0.19,2.1,3.36,1.66,2.1,5.91,5.95,1.06,2.55,34.0,2.55,7.49,0.65,2.95,7.95,8.47,2.1,3.36,2.1,1.95,2.55,2.51,2.1,2.12,9.95,4.95,4.21,1.25,0.42,2.95,5.91,0.55,0.42,38.26,12.75,2.95,9.95,16.95,5.45,0.55,3.95,2.95,0.85,4.21,0.55,7.49,0.85,0.72,1.25,2.51,6.95,1.66,5.91,4.95,4.21,0.85,3.95,0.42,1.66,1.25,1.25,2.95,34.74,1.95,1.25,2.51,0.85,2.1,1.06,6.75,2.1,0.55,6.04,0.85,0.85,0.83,3.25,2.55,7.62,1.45,1.06,1.45,2.1,2.95,9.95,1.65,12.75,1.25,3.75,0.85,0.55,1.25,0.85,0.65,1.25,1.69,5.95,0.0,1.25,0.55,2.1,4.21,1.65,5.95,1.25,1.45,0.85,2.95,2.95,1.65,8.47,8.5,2.55,2.1,0.85,8.5,1.95,1.7,0.65,2.95,1.65,1.25,0.85,4.25,0.64,0.42,0.38,1.65,2.1,12.75,0.65,0.65,4.95,0.85,1.25,1.66,1.65,0.85,4.95,3.04,0.42,16.95,1.65,1.25,5.06,0.85,0.85,2.1,1.65,0.85,8.47,3.43,2.55,0.42,9.95,1.66,0.65,1.25,12.75,12.72,5.95,4.65,3.39,6.75,1.65,4.25,0.85,2.55,2.95,3.75,2.55,1.65,7.95,1.95,0.29,4.95,1.25,0.42,2.95,5.95,1.25,4.95,5.91,4.21,16.98,1.65,4.25,2.95,1.25,1.45,3.36,10.95,1.49,12.75,4.25,0.29,9.95,1.65,1.45,7.95,1.45,1.66,1.65,2.95,5.95,3.75,0.42,2.95,2.98,2.95,1.65,1.65,1.95,0.38,1.65,7.95,2.55,4.25,2.95,0.85,2.95,1.45,1.65,0.42,5.95,1.25,2.1,0.85,3.75,34.0,3.75,1.45,4.25,1.25,1.65,3.75,7.62,0.55,1.95,1.45,1.7,0.36,4.5,4.95,1.95,4.21,1.25,5.17,2.55,0.42,4.95,1.95,2.55,1.28,1.65,0.42,1.95,1.65,2.1,0.85,5.95,0.65,1.45,7.65,2.1,2.95,4.95,8.47,0.95,1.25,2.95,9.95,1.65,2.55,1.65,1.25,1.25,1.25,1.25,2.51,0.85,7.49,1.65,1.45,1.95,0.65,1.25,0.42,2.1,12.75,0.85,1.7,2.1,2.95,1.25,3.36,1.65,1.95,2.55,5.45,0.55,16.95,6.04,4.21,5.95,4.95,1.06,2.55,7.49,1.25,0.55,1.95,5.95,5.95,295.0,2.51,5.91,4.3,1.65,2.51,1.25,1.25,16.98,1.25,10.95,3.35,1.45,1.65,1.25,1.65,4.21,2.95,0.42,2.55,4.95,4.95,1.25,3.36,1.25,1.95,3.36,2.51,0.85,2.55,2.55,1.65,5.91,1.7,2.1,3.36,0.42,2.1,1.65,0.36,2.95,8.5,0.42,0.42,1.25,1.66,1.06,5.2,1.28,12.75,1.25,2.95,3.75,1.66,5.95,8.5,0.55,0.85,2.95,1.25,0.85,1.25,1.25,4.21,0.85,0.42,7.95,3.36,1.25,0.38,0.85,2.95,8.95,1.65,0.85,11.02,7.95,0.85,2.25,4.95,0.85,11.02,2.1,0.85,12.75,2.55,0.42,2.95,12.75,1.69,0.85,1.25,5.06,5.91,4.65,0.95,1.25,1.65,0.85,0.65,2.95,8.47,1.66,5.91,0.42,5.95,7.95,4.21,2.95,1.25,0.85,6.35,0.65,0.42,6.75,0.42,2.55,12.75,2.95,0.85,4.95,2.55,1.25,2.95,1.28,6.75,1.95,1.66,4.3,0.53,1.65,3.75,2.1,2.1,3.36,3.75,5.95,1.25,0.95,2.95,4.21,1.66,5.91,1.69,5.49,2.55,1.65,0.65,1.66,0.85,7.95,2.95,4.25,0.55,0.65,1.45,3.75,1.85,5.95,4.95,1.25,2.55,12.75,9.95,0.85,1.25,1.25,0.42,1.69,0.42,1.69,2.95,1.25,1.65,5.91,3.36,0.55,1.25,0.85,1.25,5.95,6.45,2.95,1.28,1.95,1.25,0.85,0.42,1.25,1.65,4.95,2.95,3.95,3.36,0.55,1.95,2.1,1.66,2.1,1.25,9.95,1.95,3.75,3.75,12.72,3.75,0.43,0.85,0.85,2.95,0.81,0.85,1.25,2.1,5.95,0.85,2.95,8.95,2.1,2.55,3.75,0.42,0.85,1.65,2.55,9.95,4.21,29.79,4.95,1.65,3.75,0.21,2.55,2.1,4.21,0.85,0.55,0.85,0.85,2.95,0.65,1.06,7.95,4.25,0.55,2.95,2.1,1269.51,2.51,0.65,1.25,4.25,3.75,1.25,3.36,0.55,3.75,2.55,1.95,0.42,0.42,0.42,4.21,0.85,3.75,0.43,0.42,1.65,2.95,2.51,0.85,3.25,4.95,14.43,5.45,7.95,2.1,0.42,12.75,1.45,0.85,1.66,0.85,8.47,2.1,1.85,6.75,3.75,1.25,2.95,1.66,2.95,4.25,4.95,1.25,4.21,4.95,1.25,12.75,3.75,2.95,1.65,1.95,1.95,2.98],\"xaxis\":\"x\",\"yaxis\":\"y\"},{\"alignmentgroup\":\"True\",\"hovertemplate\":\"variable=Price<br>value=%{x}<extra></extra>\",\"legendgroup\":\"Price\",\"marker\":{\"color\":\"#636efa\"},\"name\":\"Price\",\"notched\":true,\"offsetgroup\":\"Price\",\"showlegend\":false,\"type\":\"box\",\"x\":[7.95,2.1,0.55,1.25,4.95,0.64,5.91,3.75,1.25,1.95,1.25,12.72,0.38,1.25,2.95,5.06,8.5,6.04,1.65,4.25,4.21,3.75,5.91,2.1,10.95,4.21,13.87,0.42,0.1,2.51,2.51,2.95,4.21,0.42,1.45,2.55,1.66,4.65,5.55,2.51,0.65,2.55,1.45,9.95,1.25,2.1,1.95,1.65,0.87,2.95,0.85,0.55,1.65,0.85,8.49,0.85,5.91,4.21,2.1,2.51,1.95,6.35,0.65,2.55,8.5,1.25,10.95,0.85,13.57,0.85,0.85,2.1,3.75,1.65,12.75,7.49,1.66,1.65,7.65,1.65,2.95,0.65,2.55,0.85,0.85,2.51,0.85,5.91,4.25,4.95,18.0,1.65,1.65,10.95,2.55,1.65,1.25,2.57,2.55,2.95,0.85,0.85,1.65,0.85,0.65,2.95,8.5,8.5,0.08,1.25,1.25,6.75,6.75,3.75,2.95,1.45,1.25,5.95,4.65,0.95,0.85,2.95,1.65,6.77,2.1,2.25,4.21,1.69,0.42,1.25,1.65,1.25,2.55,1.65,2.57,1.25,2.51,5.91,0.42,1.66,5.88,0.85,0.21,0.19,1.65,1.65,1.69,0.42,4.95,2.95,3.75,1.65,1.65,1.95,1.69,0.29,5.95,8.5,2.1,4.21,2.95,7.95,1.65,0.42,1.25,1.45,1.65,3.75,0.36,10.75,12.75,2.1,1.25,4.95,2.55,0.42,5.95,1.25,1.69,1.69,1.65,4.95,1.84,1.95,4.65,1.25,0.85,5.95,1.95,0.85,0.42,1.65,4.25,1.25,4.95,0.85,2.55,1.06,0.0,1.25,4.25,3.36,0.85,5.45,1.95,7.49,1.25,0.42,7.62,1.25,2.51,1.66,0.85,3.75,1.95,0.85,2.95,4.25,2.1,3.75,1.45,0.85,0.42,8.5,3.45,8.47,8.95,3.25,0.85,1.65,0.85,2.98,2.95,0.55,3.75,1.25,1.65,0.85,7.49,0.38,1.65,3.36,1.65,34.0,3.75,1.95,5.06,4.65,3.39,1.25,1.25,8.47,2.95,4.95,0.65,0.85,4.21,0.65,4.95,2.1,2.51,3.75,0.85,0.43,8.5,1.25,2.95,2.95,7.95,2.1,5.91,2.95,0.95,1.25,2.51,1.25,3.36,1.25,2.55,2.95,4.25,2.1,0.72,7.49,4.21,2.95,0.85,0.42,2.51,0.85,3.75,1.65,3.75,0.42,12.75,1.25,1.65,1.65,0.85,1.45,0.85,0.34,2.95,0.85,9.95,4.21,1.95,2.51,2.55,9.95,4.21,1.66,0.85,9.95,0.0,1.65,2.95,1.06,1.25,1.25,4.25,1.65,8.5,16.13,1.25,7.49,2.1,11.26,0.43,0.42,10.17,1.66,0.81,5.95,4.21,14.95,1.25,0.72,3.36,3.75,1.06,8.5,6.75,2.95,0.42,0.55,11.87,0.65,2.1,1.95,2.1,1.45,2.95,79.95,1.65,4.25,2.55,4.95,2.1,2.51,4.25,1.25,1.65,4.25,1.66,122.3,3.45,7.65,9.95,1.65,3.36,9.95,1.65,2.55,2.1,0.85,0.85,2.95,3.36,4.3,5.06,0.19,2.1,3.36,1.66,2.1,5.91,5.95,1.06,2.55,34.0,2.55,7.49,0.65,2.95,7.95,8.47,2.1,3.36,2.1,1.95,2.55,2.51,2.1,2.12,9.95,4.95,4.21,1.25,0.42,2.95,5.91,0.55,0.42,38.26,12.75,2.95,9.95,16.95,5.45,0.55,3.95,2.95,0.85,4.21,0.55,7.49,0.85,0.72,1.25,2.51,6.95,1.66,5.91,4.95,4.21,0.85,3.95,0.42,1.66,1.25,1.25,2.95,34.74,1.95,1.25,2.51,0.85,2.1,1.06,6.75,2.1,0.55,6.04,0.85,0.85,0.83,3.25,2.55,7.62,1.45,1.06,1.45,2.1,2.95,9.95,1.65,12.75,1.25,3.75,0.85,0.55,1.25,0.85,0.65,1.25,1.69,5.95,0.0,1.25,0.55,2.1,4.21,1.65,5.95,1.25,1.45,0.85,2.95,2.95,1.65,8.47,8.5,2.55,2.1,0.85,8.5,1.95,1.7,0.65,2.95,1.65,1.25,0.85,4.25,0.64,0.42,0.38,1.65,2.1,12.75,0.65,0.65,4.95,0.85,1.25,1.66,1.65,0.85,4.95,3.04,0.42,16.95,1.65,1.25,5.06,0.85,0.85,2.1,1.65,0.85,8.47,3.43,2.55,0.42,9.95,1.66,0.65,1.25,12.75,12.72,5.95,4.65,3.39,6.75,1.65,4.25,0.85,2.55,2.95,3.75,2.55,1.65,7.95,1.95,0.29,4.95,1.25,0.42,2.95,5.95,1.25,4.95,5.91,4.21,16.98,1.65,4.25,2.95,1.25,1.45,3.36,10.95,1.49,12.75,4.25,0.29,9.95,1.65,1.45,7.95,1.45,1.66,1.65,2.95,5.95,3.75,0.42,2.95,2.98,2.95,1.65,1.65,1.95,0.38,1.65,7.95,2.55,4.25,2.95,0.85,2.95,1.45,1.65,0.42,5.95,1.25,2.1,0.85,3.75,34.0,3.75,1.45,4.25,1.25,1.65,3.75,7.62,0.55,1.95,1.45,1.7,0.36,4.5,4.95,1.95,4.21,1.25,5.17,2.55,0.42,4.95,1.95,2.55,1.28,1.65,0.42,1.95,1.65,2.1,0.85,5.95,0.65,1.45,7.65,2.1,2.95,4.95,8.47,0.95,1.25,2.95,9.95,1.65,2.55,1.65,1.25,1.25,1.25,1.25,2.51,0.85,7.49,1.65,1.45,1.95,0.65,1.25,0.42,2.1,12.75,0.85,1.7,2.1,2.95,1.25,3.36,1.65,1.95,2.55,5.45,0.55,16.95,6.04,4.21,5.95,4.95,1.06,2.55,7.49,1.25,0.55,1.95,5.95,5.95,295.0,2.51,5.91,4.3,1.65,2.51,1.25,1.25,16.98,1.25,10.95,3.35,1.45,1.65,1.25,1.65,4.21,2.95,0.42,2.55,4.95,4.95,1.25,3.36,1.25,1.95,3.36,2.51,0.85,2.55,2.55,1.65,5.91,1.7,2.1,3.36,0.42,2.1,1.65,0.36,2.95,8.5,0.42,0.42,1.25,1.66,1.06,5.2,1.28,12.75,1.25,2.95,3.75,1.66,5.95,8.5,0.55,0.85,2.95,1.25,0.85,1.25,1.25,4.21,0.85,0.42,7.95,3.36,1.25,0.38,0.85,2.95,8.95,1.65,0.85,11.02,7.95,0.85,2.25,4.95,0.85,11.02,2.1,0.85,12.75,2.55,0.42,2.95,12.75,1.69,0.85,1.25,5.06,5.91,4.65,0.95,1.25,1.65,0.85,0.65,2.95,8.47,1.66,5.91,0.42,5.95,7.95,4.21,2.95,1.25,0.85,6.35,0.65,0.42,6.75,0.42,2.55,12.75,2.95,0.85,4.95,2.55,1.25,2.95,1.28,6.75,1.95,1.66,4.3,0.53,1.65,3.75,2.1,2.1,3.36,3.75,5.95,1.25,0.95,2.95,4.21,1.66,5.91,1.69,5.49,2.55,1.65,0.65,1.66,0.85,7.95,2.95,4.25,0.55,0.65,1.45,3.75,1.85,5.95,4.95,1.25,2.55,12.75,9.95,0.85,1.25,1.25,0.42,1.69,0.42,1.69,2.95,1.25,1.65,5.91,3.36,0.55,1.25,0.85,1.25,5.95,6.45,2.95,1.28,1.95,1.25,0.85,0.42,1.25,1.65,4.95,2.95,3.95,3.36,0.55,1.95,2.1,1.66,2.1,1.25,9.95,1.95,3.75,3.75,12.72,3.75,0.43,0.85,0.85,2.95,0.81,0.85,1.25,2.1,5.95,0.85,2.95,8.95,2.1,2.55,3.75,0.42,0.85,1.65,2.55,9.95,4.21,29.79,4.95,1.65,3.75,0.21,2.55,2.1,4.21,0.85,0.55,0.85,0.85,2.95,0.65,1.06,7.95,4.25,0.55,2.95,2.1,1269.51,2.51,0.65,1.25,4.25,3.75,1.25,3.36,0.55,3.75,2.55,1.95,0.42,0.42,0.42,4.21,0.85,3.75,0.43,0.42,1.65,2.95,2.51,0.85,3.25,4.95,14.43,5.45,7.95,2.1,0.42,12.75,1.45,0.85,1.66,0.85,8.47,2.1,1.85,6.75,3.75,1.25,2.95,1.66,2.95,4.25,4.95,1.25,4.21,4.95,1.25,12.75,3.75,2.95,1.65,1.95,1.95,2.98],\"xaxis\":\"x2\",\"yaxis\":\"y2\"}],                        {\"barmode\":\"relative\",\"legend\":{\"title\":{\"text\":\"variable\"},\"tracegroupgap\":0},\"template\":{\"data\":{\"bar\":[{\"error_x\":{\"color\":\"#2a3f5f\"},\"error_y\":{\"color\":\"#2a3f5f\"},\"marker\":{\"line\":{\"color\":\"#E5ECF6\",\"width\":0.5},\"pattern\":{\"fillmode\":\"overlay\",\"size\":10,\"solidity\":0.2}},\"type\":\"bar\"}],\"barpolar\":[{\"marker\":{\"line\":{\"color\":\"#E5ECF6\",\"width\":0.5},\"pattern\":{\"fillmode\":\"overlay\",\"size\":10,\"solidity\":0.2}},\"type\":\"barpolar\"}],\"carpet\":[{\"aaxis\":{\"endlinecolor\":\"#2a3f5f\",\"gridcolor\":\"white\",\"linecolor\":\"white\",\"minorgridcolor\":\"white\",\"startlinecolor\":\"#2a3f5f\"},\"baxis\":{\"endlinecolor\":\"#2a3f5f\",\"gridcolor\":\"white\",\"linecolor\":\"white\",\"minorgridcolor\":\"white\",\"startlinecolor\":\"#2a3f5f\"},\"type\":\"carpet\"}],\"choropleth\":[{\"colorbar\":{\"outlinewidth\":0,\"ticks\":\"\"},\"type\":\"choropleth\"}],\"contour\":[{\"colorbar\":{\"outlinewidth\":0,\"ticks\":\"\"},\"colorscale\":[[0.0,\"#0d0887\"],[0.1111111111111111,\"#46039f\"],[0.2222222222222222,\"#7201a8\"],[0.3333333333333333,\"#9c179e\"],[0.4444444444444444,\"#bd3786\"],[0.5555555555555556,\"#d8576b\"],[0.6666666666666666,\"#ed7953\"],[0.7777777777777778,\"#fb9f3a\"],[0.8888888888888888,\"#fdca26\"],[1.0,\"#f0f921\"]],\"type\":\"contour\"}],\"contourcarpet\":[{\"colorbar\":{\"outlinewidth\":0,\"ticks\":\"\"},\"type\":\"contourcarpet\"}],\"heatmap\":[{\"colorbar\":{\"outlinewidth\":0,\"ticks\":\"\"},\"colorscale\":[[0.0,\"#0d0887\"],[0.1111111111111111,\"#46039f\"],[0.2222222222222222,\"#7201a8\"],[0.3333333333333333,\"#9c179e\"],[0.4444444444444444,\"#bd3786\"],[0.5555555555555556,\"#d8576b\"],[0.6666666666666666,\"#ed7953\"],[0.7777777777777778,\"#fb9f3a\"],[0.8888888888888888,\"#fdca26\"],[1.0,\"#f0f921\"]],\"type\":\"heatmap\"}],\"heatmapgl\":[{\"colorbar\":{\"outlinewidth\":0,\"ticks\":\"\"},\"colorscale\":[[0.0,\"#0d0887\"],[0.1111111111111111,\"#46039f\"],[0.2222222222222222,\"#7201a8\"],[0.3333333333333333,\"#9c179e\"],[0.4444444444444444,\"#bd3786\"],[0.5555555555555556,\"#d8576b\"],[0.6666666666666666,\"#ed7953\"],[0.7777777777777778,\"#fb9f3a\"],[0.8888888888888888,\"#fdca26\"],[1.0,\"#f0f921\"]],\"type\":\"heatmapgl\"}],\"histogram\":[{\"marker\":{\"pattern\":{\"fillmode\":\"overlay\",\"size\":10,\"solidity\":0.2}},\"type\":\"histogram\"}],\"histogram2d\":[{\"colorbar\":{\"outlinewidth\":0,\"ticks\":\"\"},\"colorscale\":[[0.0,\"#0d0887\"],[0.1111111111111111,\"#46039f\"],[0.2222222222222222,\"#7201a8\"],[0.3333333333333333,\"#9c179e\"],[0.4444444444444444,\"#bd3786\"],[0.5555555555555556,\"#d8576b\"],[0.6666666666666666,\"#ed7953\"],[0.7777777777777778,\"#fb9f3a\"],[0.8888888888888888,\"#fdca26\"],[1.0,\"#f0f921\"]],\"type\":\"histogram2d\"}],\"histogram2dcontour\":[{\"colorbar\":{\"outlinewidth\":0,\"ticks\":\"\"},\"colorscale\":[[0.0,\"#0d0887\"],[0.1111111111111111,\"#46039f\"],[0.2222222222222222,\"#7201a8\"],[0.3333333333333333,\"#9c179e\"],[0.4444444444444444,\"#bd3786\"],[0.5555555555555556,\"#d8576b\"],[0.6666666666666666,\"#ed7953\"],[0.7777777777777778,\"#fb9f3a\"],[0.8888888888888888,\"#fdca26\"],[1.0,\"#f0f921\"]],\"type\":\"histogram2dcontour\"}],\"mesh3d\":[{\"colorbar\":{\"outlinewidth\":0,\"ticks\":\"\"},\"type\":\"mesh3d\"}],\"parcoords\":[{\"line\":{\"colorbar\":{\"outlinewidth\":0,\"ticks\":\"\"}},\"type\":\"parcoords\"}],\"pie\":[{\"automargin\":true,\"type\":\"pie\"}],\"scatter\":[{\"marker\":{\"colorbar\":{\"outlinewidth\":0,\"ticks\":\"\"}},\"type\":\"scatter\"}],\"scatter3d\":[{\"line\":{\"colorbar\":{\"outlinewidth\":0,\"ticks\":\"\"}},\"marker\":{\"colorbar\":{\"outlinewidth\":0,\"ticks\":\"\"}},\"type\":\"scatter3d\"}],\"scattercarpet\":[{\"marker\":{\"colorbar\":{\"outlinewidth\":0,\"ticks\":\"\"}},\"type\":\"scattercarpet\"}],\"scattergeo\":[{\"marker\":{\"colorbar\":{\"outlinewidth\":0,\"ticks\":\"\"}},\"type\":\"scattergeo\"}],\"scattergl\":[{\"marker\":{\"colorbar\":{\"outlinewidth\":0,\"ticks\":\"\"}},\"type\":\"scattergl\"}],\"scattermapbox\":[{\"marker\":{\"colorbar\":{\"outlinewidth\":0,\"ticks\":\"\"}},\"type\":\"scattermapbox\"}],\"scatterpolar\":[{\"marker\":{\"colorbar\":{\"outlinewidth\":0,\"ticks\":\"\"}},\"type\":\"scatterpolar\"}],\"scatterpolargl\":[{\"marker\":{\"colorbar\":{\"outlinewidth\":0,\"ticks\":\"\"}},\"type\":\"scatterpolargl\"}],\"scatterternary\":[{\"marker\":{\"colorbar\":{\"outlinewidth\":0,\"ticks\":\"\"}},\"type\":\"scatterternary\"}],\"surface\":[{\"colorbar\":{\"outlinewidth\":0,\"ticks\":\"\"},\"colorscale\":[[0.0,\"#0d0887\"],[0.1111111111111111,\"#46039f\"],[0.2222222222222222,\"#7201a8\"],[0.3333333333333333,\"#9c179e\"],[0.4444444444444444,\"#bd3786\"],[0.5555555555555556,\"#d8576b\"],[0.6666666666666666,\"#ed7953\"],[0.7777777777777778,\"#fb9f3a\"],[0.8888888888888888,\"#fdca26\"],[1.0,\"#f0f921\"]],\"type\":\"surface\"}],\"table\":[{\"cells\":{\"fill\":{\"color\":\"#EBF0F8\"},\"line\":{\"color\":\"white\"}},\"header\":{\"fill\":{\"color\":\"#C8D4E3\"},\"line\":{\"color\":\"white\"}},\"type\":\"table\"}]},\"layout\":{\"annotationdefaults\":{\"arrowcolor\":\"#2a3f5f\",\"arrowhead\":0,\"arrowwidth\":1},\"autotypenumbers\":\"strict\",\"coloraxis\":{\"colorbar\":{\"outlinewidth\":0,\"ticks\":\"\"}},\"colorscale\":{\"diverging\":[[0,\"#8e0152\"],[0.1,\"#c51b7d\"],[0.2,\"#de77ae\"],[0.3,\"#f1b6da\"],[0.4,\"#fde0ef\"],[0.5,\"#f7f7f7\"],[0.6,\"#e6f5d0\"],[0.7,\"#b8e186\"],[0.8,\"#7fbc41\"],[0.9,\"#4d9221\"],[1,\"#276419\"]],\"sequential\":[[0.0,\"#0d0887\"],[0.1111111111111111,\"#46039f\"],[0.2222222222222222,\"#7201a8\"],[0.3333333333333333,\"#9c179e\"],[0.4444444444444444,\"#bd3786\"],[0.5555555555555556,\"#d8576b\"],[0.6666666666666666,\"#ed7953\"],[0.7777777777777778,\"#fb9f3a\"],[0.8888888888888888,\"#fdca26\"],[1.0,\"#f0f921\"]],\"sequentialminus\":[[0.0,\"#0d0887\"],[0.1111111111111111,\"#46039f\"],[0.2222222222222222,\"#7201a8\"],[0.3333333333333333,\"#9c179e\"],[0.4444444444444444,\"#bd3786\"],[0.5555555555555556,\"#d8576b\"],[0.6666666666666666,\"#ed7953\"],[0.7777777777777778,\"#fb9f3a\"],[0.8888888888888888,\"#fdca26\"],[1.0,\"#f0f921\"]]},\"colorway\":[\"#636efa\",\"#EF553B\",\"#00cc96\",\"#ab63fa\",\"#FFA15A\",\"#19d3f3\",\"#FF6692\",\"#B6E880\",\"#FF97FF\",\"#FECB52\"],\"font\":{\"color\":\"#2a3f5f\"},\"geo\":{\"bgcolor\":\"white\",\"lakecolor\":\"white\",\"landcolor\":\"#E5ECF6\",\"showlakes\":true,\"showland\":true,\"subunitcolor\":\"white\"},\"hoverlabel\":{\"align\":\"left\"},\"hovermode\":\"closest\",\"mapbox\":{\"style\":\"light\"},\"paper_bgcolor\":\"white\",\"plot_bgcolor\":\"#E5ECF6\",\"polar\":{\"angularaxis\":{\"gridcolor\":\"white\",\"linecolor\":\"white\",\"ticks\":\"\"},\"bgcolor\":\"#E5ECF6\",\"radialaxis\":{\"gridcolor\":\"white\",\"linecolor\":\"white\",\"ticks\":\"\"}},\"scene\":{\"xaxis\":{\"backgroundcolor\":\"#E5ECF6\",\"gridcolor\":\"white\",\"gridwidth\":2,\"linecolor\":\"white\",\"showbackground\":true,\"ticks\":\"\",\"zerolinecolor\":\"white\"},\"yaxis\":{\"backgroundcolor\":\"#E5ECF6\",\"gridcolor\":\"white\",\"gridwidth\":2,\"linecolor\":\"white\",\"showbackground\":true,\"ticks\":\"\",\"zerolinecolor\":\"white\"},\"zaxis\":{\"backgroundcolor\":\"#E5ECF6\",\"gridcolor\":\"white\",\"gridwidth\":2,\"linecolor\":\"white\",\"showbackground\":true,\"ticks\":\"\",\"zerolinecolor\":\"white\"}},\"shapedefaults\":{\"line\":{\"color\":\"#2a3f5f\"}},\"ternary\":{\"aaxis\":{\"gridcolor\":\"white\",\"linecolor\":\"white\",\"ticks\":\"\"},\"baxis\":{\"gridcolor\":\"white\",\"linecolor\":\"white\",\"ticks\":\"\"},\"bgcolor\":\"#E5ECF6\",\"caxis\":{\"gridcolor\":\"white\",\"linecolor\":\"white\",\"ticks\":\"\"}},\"title\":{\"x\":0.05},\"xaxis\":{\"automargin\":true,\"gridcolor\":\"white\",\"linecolor\":\"white\",\"ticks\":\"\",\"title\":{\"standoff\":15},\"zerolinecolor\":\"white\",\"zerolinewidth\":2},\"yaxis\":{\"automargin\":true,\"gridcolor\":\"white\",\"linecolor\":\"white\",\"ticks\":\"\",\"title\":{\"standoff\":15},\"zerolinecolor\":\"white\",\"zerolinewidth\":2}}},\"title\":{\"text\":\"Price - With Outliers\"},\"xaxis\":{\"anchor\":\"y\",\"domain\":[0.0,1.0],\"title\":{\"text\":\"value\"}},\"xaxis2\":{\"anchor\":\"y2\",\"domain\":[0.0,1.0],\"matches\":\"x\",\"showgrid\":true,\"showticklabels\":false},\"yaxis\":{\"anchor\":\"x\",\"domain\":[0.0,0.7326],\"title\":{\"text\":\"count\"}},\"yaxis2\":{\"anchor\":\"x2\",\"domain\":[0.7426,1.0],\"matches\":\"y2\",\"showgrid\":false,\"showline\":false,\"showticklabels\":false,\"ticks\":\"\"}},                        {\"responsive\": true}                    ).then(function(){\n",
       "                            \n",
       "var gd = document.getElementById('1419c40a-52f3-4f57-895a-8776b6e1270d');\n",
       "var x = new MutationObserver(function (mutations, observer) {{\n",
       "        var display = window.getComputedStyle(gd).display;\n",
       "        if (!display || display === 'none') {{\n",
       "            console.log([gd, 'removed!']);\n",
       "            Plotly.purge(gd);\n",
       "            observer.disconnect();\n",
       "        }}\n",
       "}});\n",
       "\n",
       "// Listen for the removal of the full notebook cells\n",
       "var notebookContainer = gd.closest('#notebook-container');\n",
       "if (notebookContainer) {{\n",
       "    x.observe(notebookContainer, {childList: true});\n",
       "}}\n",
       "\n",
       "// Listen for the clearing of the current output cell\n",
       "var outputEl = gd.closest('.output');\n",
       "if (outputEl) {{\n",
       "    x.observe(outputEl, {childList: true});\n",
       "}}\n",
       "\n",
       "                        })                };                            </script>        </div>\n",
       "</body>\n",
       "</html>"
      ]
     },
     "metadata": {},
     "output_type": "display_data"
    },
    {
     "data": {
      "text/html": [
       "<html>\n",
       "<head><meta charset=\"utf-8\" /></head>\n",
       "<body>\n",
       "    <div>            <script src=\"https://cdnjs.cloudflare.com/ajax/libs/mathjax/2.7.5/MathJax.js?config=TeX-AMS-MML_SVG\"></script><script type=\"text/javascript\">if (window.MathJax) {MathJax.Hub.Config({SVG: {font: \"STIX-Web\"}});}</script>                <script type=\"text/javascript\">window.PlotlyConfig = {MathJaxConfig: 'local'};</script>\n",
       "        <script src=\"https://cdn.plot.ly/plotly-2.4.2.min.js\"></script>                <div id=\"edd3a4f0-beb6-4181-8d65-1b8f7c5c7803\" class=\"plotly-graph-div\" style=\"height:525px; width:100%;\"></div>            <script type=\"text/javascript\">                                    window.PLOTLYENV=window.PLOTLYENV || {};                                    if (document.getElementById(\"edd3a4f0-beb6-4181-8d65-1b8f7c5c7803\")) {                    Plotly.newPlot(                        \"edd3a4f0-beb6-4181-8d65-1b8f7c5c7803\",                        [{\"alignmentgroup\":\"True\",\"bingroup\":\"x\",\"hovertemplate\":\"variable=Price<br>value=%{x}<br>count=%{y}<extra></extra>\",\"legendgroup\":\"Price\",\"marker\":{\"color\":\"#636efa\",\"pattern\":{\"shape\":\"\"}},\"name\":\"Price\",\"offsetgroup\":\"Price\",\"orientation\":\"v\",\"showlegend\":true,\"type\":\"histogram\",\"x\":[7.95,2.1,0.55,1.25,4.95,0.64,5.91,3.75,1.25,1.95,1.25,12.72,0.38,1.25,2.95,5.06,8.5,6.04,1.65,4.25,4.21,3.75,5.91,2.1,10.95,4.21,13.87,0.42,0.1,2.51,2.51,2.95,4.21,0.42,1.45,2.55,1.66,4.65,5.55,2.51,0.65,2.55,1.45,9.95,1.25,2.1,1.95,1.65,0.87,2.95,0.85,0.55,1.65,0.85,8.49,0.85,5.91,4.21,2.1,2.51,1.95,6.35,0.65,2.55,8.5,1.25,10.95,0.85,13.57,0.85,0.85,2.1,3.75,1.65,12.75,7.49,1.66,1.65,7.65,1.65,2.95,0.65,2.55,0.85,0.85,2.51,0.85,5.91,4.25,4.95,18.0,1.65,1.65,10.95,2.55,1.65,1.25,2.57,2.55,2.95,0.85,0.85,1.65,0.85,0.65,2.95,8.5,8.5,0.08,1.25,1.25,6.75,6.75,3.75,2.95,1.45,1.25,5.95,4.65,0.95,0.85,2.95,1.65,6.77,2.1,2.25,4.21,1.69,0.42,1.25,1.65,1.25,2.55,1.65,2.57,1.25,2.51,5.91,0.42,1.66,5.88,0.85,0.21,0.19,1.65,1.65,1.69,0.42,4.95,2.95,3.75,1.65,1.65,1.95,1.69,0.29,5.95,8.5,2.1,4.21,2.95,7.95,1.65,0.42,1.25,1.45,1.65,3.75,0.36,10.75,12.75,2.1,1.25,4.95,2.55,0.42,5.95,1.25,1.69,1.69,1.65,4.95,1.84,1.95,4.65,1.25,0.85,5.95,1.95,0.85,0.42,1.65,4.25,1.25,4.95,0.85,2.55,1.06,0.0,1.25,4.25,3.36,0.85,5.45,1.95,7.49,1.25,0.42,7.62,1.25,2.51,1.66,0.85,3.75,1.95,0.85,2.95,4.25,2.1,3.75,1.45,0.85,0.42,8.5,3.45,8.47,8.95,3.25,0.85,1.65,0.85,2.98,2.95,0.55,3.75,1.25,1.65,0.85,7.49,0.38,1.65,3.36,1.65,34.0,3.75,1.95,5.06,4.65,3.39,1.25,1.25,8.47,2.95,4.95,0.65,0.85,4.21,0.65,4.95,2.1,2.51,3.75,0.85,0.43,8.5,1.25,2.95,2.95,7.95,2.1,5.91,2.95,0.95,1.25,2.51,1.25,3.36,1.25,2.55,2.95,4.25,2.1,0.72,7.49,4.21,2.95,0.85,0.42,2.51,0.85,3.75,1.65,3.75,0.42,12.75,1.25,1.65,1.65,0.85,1.45,0.85,0.34,2.95,0.85,9.95,4.21,1.95,2.51,2.55,9.95,4.21,1.66,0.85,9.95,0.0,1.65,2.95,1.06,1.25,1.25,4.25,1.65,8.5,16.13,1.25,7.49,2.1,11.26,0.43,0.42,10.17,1.66,0.81,5.95,4.21,14.95,1.25,0.72,3.36,3.75,1.06,8.5,6.75,2.95,0.42,0.55,11.87,0.65,2.1,1.95,2.1,1.45,2.95,79.95,1.65,4.25,2.55,4.95,2.1,2.51,4.25,1.25,1.65,4.25,1.66,122.3,3.45,7.65,9.95,1.65,3.36,9.95,1.65,2.55,2.1,0.85,0.85,2.95,3.36,4.3,5.06,0.19,2.1,3.36,1.66,2.1,5.91,5.95,1.06,2.55,34.0,2.55,7.49,0.65,2.95,7.95,8.47,2.1,3.36,2.1,1.95,2.55,2.51,2.1,2.12,9.95,4.95,4.21,1.25,0.42,2.95,5.91,0.55,0.42,38.26,12.75,2.95,9.95,16.95,5.45,0.55,3.95,2.95,0.85,4.21,0.55,7.49,0.85,0.72,1.25,2.51,6.95,1.66,5.91,4.95,4.21,0.85,3.95,0.42,1.66,1.25,1.25,2.95,34.74,1.95,1.25,2.51,0.85,2.1,1.06,6.75,2.1,0.55,6.04,0.85,0.85,0.83,3.25,2.55,7.62,1.45,1.06,1.45,2.1,2.95,9.95,1.65,12.75,1.25,3.75,0.85,0.55,1.25,0.85,0.65,1.25,1.69,5.95,0.0,1.25,0.55,2.1,4.21,1.65,5.95,1.25,1.45,0.85,2.95,2.95,1.65,8.47,8.5,2.55,2.1,0.85,8.5,1.95,1.7,0.65,2.95,1.65,1.25,0.85,4.25,0.64,0.42,0.38,1.65,2.1,12.75,0.65,0.65,4.95,0.85,1.25,1.66,1.65,0.85,4.95,3.04,0.42,16.95,1.65,1.25,5.06,0.85,0.85,2.1,1.65,0.85,8.47,3.43,2.55,0.42,9.95,1.66,0.65,1.25,12.75,12.72,5.95,4.65,3.39,6.75,1.65,4.25,0.85,2.55,2.95,3.75,2.55,1.65,7.95,1.95,0.29,4.95,1.25,0.42,2.95,5.95,1.25,4.95,5.91,4.21,16.98,1.65,4.25,2.95,1.25,1.45,3.36,10.95,1.49,12.75,4.25,0.29,9.95,1.65,1.45,7.95,1.45,1.66,1.65,2.95,5.95,3.75,0.42,2.95,2.98,2.95,1.65,1.65,1.95,0.38,1.65,7.95,2.55,4.25,2.95,0.85,2.95,1.45,1.65,0.42,5.95,1.25,2.1,0.85,3.75,34.0,3.75,1.45,4.25,1.25,1.65,3.75,7.62,0.55,1.95,1.45,1.7,0.36,4.5,4.95,1.95,4.21,1.25,5.17,2.55,0.42,4.95,1.95,2.55,1.28,1.65,0.42,1.95,1.65,2.1,0.85,5.95,0.65,1.45,7.65,2.1,2.95,4.95,8.47,0.95,1.25,2.95,9.95,1.65,2.55,1.65,1.25,1.25,1.25,1.25,2.51,0.85,7.49,1.65,1.45,1.95,0.65,1.25,0.42,2.1,12.75,0.85,1.7,2.1,2.95,1.25,3.36,1.65,1.95,2.55,5.45,0.55,16.95,6.04,4.21,5.95,4.95,1.06,2.55,7.49,1.25,0.55,1.95,5.95,5.95,2.51,5.91,4.3,1.65,2.51,1.25,1.25,16.98,1.25,10.95,3.35,1.45,1.65,1.25,1.65,4.21,2.95,0.42,2.55,4.95,4.95,1.25,3.36,1.25,1.95,3.36,2.51,0.85,2.55,2.55,1.65,5.91,1.7,2.1,3.36,0.42,2.1,1.65,0.36,2.95,8.5,0.42,0.42,1.25,1.66,1.06,5.2,1.28,12.75,1.25,2.95,3.75,1.66,5.95,8.5,0.55,0.85,2.95,1.25,0.85,1.25,1.25,4.21,0.85,0.42,7.95,3.36,1.25,0.38,0.85,2.95,8.95,1.65,0.85,11.02,7.95,0.85,2.25,4.95,0.85,11.02,2.1,0.85,12.75,2.55,0.42,2.95,12.75,1.69,0.85,1.25,5.06,5.91,4.65,0.95,1.25,1.65,0.85,0.65,2.95,8.47,1.66,5.91,0.42,5.95,7.95,4.21,2.95,1.25,0.85,6.35,0.65,0.42,6.75,0.42,2.55,12.75,2.95,0.85,4.95,2.55,1.25,2.95,1.28,6.75,1.95,1.66,4.3,0.53,1.65,3.75,2.1,2.1,3.36,3.75,5.95,1.25,0.95,2.95,4.21,1.66,5.91,1.69,5.49,2.55,1.65,0.65,1.66,0.85,7.95,2.95,4.25,0.55,0.65,1.45,3.75,1.85,5.95,4.95,1.25,2.55,12.75,9.95,0.85,1.25,1.25,0.42,1.69,0.42,1.69,2.95,1.25,1.65,5.91,3.36,0.55,1.25,0.85,1.25,5.95,6.45,2.95,1.28,1.95,1.25,0.85,0.42,1.25,1.65,4.95,2.95,3.95,3.36,0.55,1.95,2.1,1.66,2.1,1.25,9.95,1.95,3.75,3.75,12.72,3.75,0.43,0.85,0.85,2.95,0.81,0.85,1.25,2.1,5.95,0.85,2.95,8.95,2.1,2.55,3.75,0.42,0.85,1.65,2.55,9.95,4.21,29.79,4.95,1.65,3.75,0.21,2.55,2.1,4.21,0.85,0.55,0.85,0.85,2.95,0.65,1.06,7.95,4.25,0.55,2.95,2.1,2.51,0.65,1.25,4.25,3.75,1.25,3.36,0.55,3.75,2.55,1.95,0.42,0.42,0.42,4.21,0.85,3.75,0.43,0.42,1.65,2.95,2.51,0.85,3.25,4.95,14.43,5.45,7.95,2.1,0.42,12.75,1.45,0.85,1.66,0.85,8.47,2.1,1.85,6.75,3.75,1.25,2.95,1.66,2.95,4.25,4.95,1.25,4.21,4.95,1.25,12.75,3.75,2.95,1.65,1.95,1.95,2.98],\"xaxis\":\"x\",\"yaxis\":\"y\"},{\"alignmentgroup\":\"True\",\"hovertemplate\":\"variable=Price<br>value=%{x}<extra></extra>\",\"legendgroup\":\"Price\",\"marker\":{\"color\":\"#636efa\"},\"name\":\"Price\",\"notched\":true,\"offsetgroup\":\"Price\",\"showlegend\":false,\"type\":\"box\",\"x\":[7.95,2.1,0.55,1.25,4.95,0.64,5.91,3.75,1.25,1.95,1.25,12.72,0.38,1.25,2.95,5.06,8.5,6.04,1.65,4.25,4.21,3.75,5.91,2.1,10.95,4.21,13.87,0.42,0.1,2.51,2.51,2.95,4.21,0.42,1.45,2.55,1.66,4.65,5.55,2.51,0.65,2.55,1.45,9.95,1.25,2.1,1.95,1.65,0.87,2.95,0.85,0.55,1.65,0.85,8.49,0.85,5.91,4.21,2.1,2.51,1.95,6.35,0.65,2.55,8.5,1.25,10.95,0.85,13.57,0.85,0.85,2.1,3.75,1.65,12.75,7.49,1.66,1.65,7.65,1.65,2.95,0.65,2.55,0.85,0.85,2.51,0.85,5.91,4.25,4.95,18.0,1.65,1.65,10.95,2.55,1.65,1.25,2.57,2.55,2.95,0.85,0.85,1.65,0.85,0.65,2.95,8.5,8.5,0.08,1.25,1.25,6.75,6.75,3.75,2.95,1.45,1.25,5.95,4.65,0.95,0.85,2.95,1.65,6.77,2.1,2.25,4.21,1.69,0.42,1.25,1.65,1.25,2.55,1.65,2.57,1.25,2.51,5.91,0.42,1.66,5.88,0.85,0.21,0.19,1.65,1.65,1.69,0.42,4.95,2.95,3.75,1.65,1.65,1.95,1.69,0.29,5.95,8.5,2.1,4.21,2.95,7.95,1.65,0.42,1.25,1.45,1.65,3.75,0.36,10.75,12.75,2.1,1.25,4.95,2.55,0.42,5.95,1.25,1.69,1.69,1.65,4.95,1.84,1.95,4.65,1.25,0.85,5.95,1.95,0.85,0.42,1.65,4.25,1.25,4.95,0.85,2.55,1.06,0.0,1.25,4.25,3.36,0.85,5.45,1.95,7.49,1.25,0.42,7.62,1.25,2.51,1.66,0.85,3.75,1.95,0.85,2.95,4.25,2.1,3.75,1.45,0.85,0.42,8.5,3.45,8.47,8.95,3.25,0.85,1.65,0.85,2.98,2.95,0.55,3.75,1.25,1.65,0.85,7.49,0.38,1.65,3.36,1.65,34.0,3.75,1.95,5.06,4.65,3.39,1.25,1.25,8.47,2.95,4.95,0.65,0.85,4.21,0.65,4.95,2.1,2.51,3.75,0.85,0.43,8.5,1.25,2.95,2.95,7.95,2.1,5.91,2.95,0.95,1.25,2.51,1.25,3.36,1.25,2.55,2.95,4.25,2.1,0.72,7.49,4.21,2.95,0.85,0.42,2.51,0.85,3.75,1.65,3.75,0.42,12.75,1.25,1.65,1.65,0.85,1.45,0.85,0.34,2.95,0.85,9.95,4.21,1.95,2.51,2.55,9.95,4.21,1.66,0.85,9.95,0.0,1.65,2.95,1.06,1.25,1.25,4.25,1.65,8.5,16.13,1.25,7.49,2.1,11.26,0.43,0.42,10.17,1.66,0.81,5.95,4.21,14.95,1.25,0.72,3.36,3.75,1.06,8.5,6.75,2.95,0.42,0.55,11.87,0.65,2.1,1.95,2.1,1.45,2.95,79.95,1.65,4.25,2.55,4.95,2.1,2.51,4.25,1.25,1.65,4.25,1.66,122.3,3.45,7.65,9.95,1.65,3.36,9.95,1.65,2.55,2.1,0.85,0.85,2.95,3.36,4.3,5.06,0.19,2.1,3.36,1.66,2.1,5.91,5.95,1.06,2.55,34.0,2.55,7.49,0.65,2.95,7.95,8.47,2.1,3.36,2.1,1.95,2.55,2.51,2.1,2.12,9.95,4.95,4.21,1.25,0.42,2.95,5.91,0.55,0.42,38.26,12.75,2.95,9.95,16.95,5.45,0.55,3.95,2.95,0.85,4.21,0.55,7.49,0.85,0.72,1.25,2.51,6.95,1.66,5.91,4.95,4.21,0.85,3.95,0.42,1.66,1.25,1.25,2.95,34.74,1.95,1.25,2.51,0.85,2.1,1.06,6.75,2.1,0.55,6.04,0.85,0.85,0.83,3.25,2.55,7.62,1.45,1.06,1.45,2.1,2.95,9.95,1.65,12.75,1.25,3.75,0.85,0.55,1.25,0.85,0.65,1.25,1.69,5.95,0.0,1.25,0.55,2.1,4.21,1.65,5.95,1.25,1.45,0.85,2.95,2.95,1.65,8.47,8.5,2.55,2.1,0.85,8.5,1.95,1.7,0.65,2.95,1.65,1.25,0.85,4.25,0.64,0.42,0.38,1.65,2.1,12.75,0.65,0.65,4.95,0.85,1.25,1.66,1.65,0.85,4.95,3.04,0.42,16.95,1.65,1.25,5.06,0.85,0.85,2.1,1.65,0.85,8.47,3.43,2.55,0.42,9.95,1.66,0.65,1.25,12.75,12.72,5.95,4.65,3.39,6.75,1.65,4.25,0.85,2.55,2.95,3.75,2.55,1.65,7.95,1.95,0.29,4.95,1.25,0.42,2.95,5.95,1.25,4.95,5.91,4.21,16.98,1.65,4.25,2.95,1.25,1.45,3.36,10.95,1.49,12.75,4.25,0.29,9.95,1.65,1.45,7.95,1.45,1.66,1.65,2.95,5.95,3.75,0.42,2.95,2.98,2.95,1.65,1.65,1.95,0.38,1.65,7.95,2.55,4.25,2.95,0.85,2.95,1.45,1.65,0.42,5.95,1.25,2.1,0.85,3.75,34.0,3.75,1.45,4.25,1.25,1.65,3.75,7.62,0.55,1.95,1.45,1.7,0.36,4.5,4.95,1.95,4.21,1.25,5.17,2.55,0.42,4.95,1.95,2.55,1.28,1.65,0.42,1.95,1.65,2.1,0.85,5.95,0.65,1.45,7.65,2.1,2.95,4.95,8.47,0.95,1.25,2.95,9.95,1.65,2.55,1.65,1.25,1.25,1.25,1.25,2.51,0.85,7.49,1.65,1.45,1.95,0.65,1.25,0.42,2.1,12.75,0.85,1.7,2.1,2.95,1.25,3.36,1.65,1.95,2.55,5.45,0.55,16.95,6.04,4.21,5.95,4.95,1.06,2.55,7.49,1.25,0.55,1.95,5.95,5.95,2.51,5.91,4.3,1.65,2.51,1.25,1.25,16.98,1.25,10.95,3.35,1.45,1.65,1.25,1.65,4.21,2.95,0.42,2.55,4.95,4.95,1.25,3.36,1.25,1.95,3.36,2.51,0.85,2.55,2.55,1.65,5.91,1.7,2.1,3.36,0.42,2.1,1.65,0.36,2.95,8.5,0.42,0.42,1.25,1.66,1.06,5.2,1.28,12.75,1.25,2.95,3.75,1.66,5.95,8.5,0.55,0.85,2.95,1.25,0.85,1.25,1.25,4.21,0.85,0.42,7.95,3.36,1.25,0.38,0.85,2.95,8.95,1.65,0.85,11.02,7.95,0.85,2.25,4.95,0.85,11.02,2.1,0.85,12.75,2.55,0.42,2.95,12.75,1.69,0.85,1.25,5.06,5.91,4.65,0.95,1.25,1.65,0.85,0.65,2.95,8.47,1.66,5.91,0.42,5.95,7.95,4.21,2.95,1.25,0.85,6.35,0.65,0.42,6.75,0.42,2.55,12.75,2.95,0.85,4.95,2.55,1.25,2.95,1.28,6.75,1.95,1.66,4.3,0.53,1.65,3.75,2.1,2.1,3.36,3.75,5.95,1.25,0.95,2.95,4.21,1.66,5.91,1.69,5.49,2.55,1.65,0.65,1.66,0.85,7.95,2.95,4.25,0.55,0.65,1.45,3.75,1.85,5.95,4.95,1.25,2.55,12.75,9.95,0.85,1.25,1.25,0.42,1.69,0.42,1.69,2.95,1.25,1.65,5.91,3.36,0.55,1.25,0.85,1.25,5.95,6.45,2.95,1.28,1.95,1.25,0.85,0.42,1.25,1.65,4.95,2.95,3.95,3.36,0.55,1.95,2.1,1.66,2.1,1.25,9.95,1.95,3.75,3.75,12.72,3.75,0.43,0.85,0.85,2.95,0.81,0.85,1.25,2.1,5.95,0.85,2.95,8.95,2.1,2.55,3.75,0.42,0.85,1.65,2.55,9.95,4.21,29.79,4.95,1.65,3.75,0.21,2.55,2.1,4.21,0.85,0.55,0.85,0.85,2.95,0.65,1.06,7.95,4.25,0.55,2.95,2.1,2.51,0.65,1.25,4.25,3.75,1.25,3.36,0.55,3.75,2.55,1.95,0.42,0.42,0.42,4.21,0.85,3.75,0.43,0.42,1.65,2.95,2.51,0.85,3.25,4.95,14.43,5.45,7.95,2.1,0.42,12.75,1.45,0.85,1.66,0.85,8.47,2.1,1.85,6.75,3.75,1.25,2.95,1.66,2.95,4.25,4.95,1.25,4.21,4.95,1.25,12.75,3.75,2.95,1.65,1.95,1.95,2.98],\"xaxis\":\"x2\",\"yaxis\":\"y2\"}],                        {\"barmode\":\"relative\",\"legend\":{\"title\":{\"text\":\"variable\"},\"tracegroupgap\":0},\"template\":{\"data\":{\"bar\":[{\"error_x\":{\"color\":\"#2a3f5f\"},\"error_y\":{\"color\":\"#2a3f5f\"},\"marker\":{\"line\":{\"color\":\"#E5ECF6\",\"width\":0.5},\"pattern\":{\"fillmode\":\"overlay\",\"size\":10,\"solidity\":0.2}},\"type\":\"bar\"}],\"barpolar\":[{\"marker\":{\"line\":{\"color\":\"#E5ECF6\",\"width\":0.5},\"pattern\":{\"fillmode\":\"overlay\",\"size\":10,\"solidity\":0.2}},\"type\":\"barpolar\"}],\"carpet\":[{\"aaxis\":{\"endlinecolor\":\"#2a3f5f\",\"gridcolor\":\"white\",\"linecolor\":\"white\",\"minorgridcolor\":\"white\",\"startlinecolor\":\"#2a3f5f\"},\"baxis\":{\"endlinecolor\":\"#2a3f5f\",\"gridcolor\":\"white\",\"linecolor\":\"white\",\"minorgridcolor\":\"white\",\"startlinecolor\":\"#2a3f5f\"},\"type\":\"carpet\"}],\"choropleth\":[{\"colorbar\":{\"outlinewidth\":0,\"ticks\":\"\"},\"type\":\"choropleth\"}],\"contour\":[{\"colorbar\":{\"outlinewidth\":0,\"ticks\":\"\"},\"colorscale\":[[0.0,\"#0d0887\"],[0.1111111111111111,\"#46039f\"],[0.2222222222222222,\"#7201a8\"],[0.3333333333333333,\"#9c179e\"],[0.4444444444444444,\"#bd3786\"],[0.5555555555555556,\"#d8576b\"],[0.6666666666666666,\"#ed7953\"],[0.7777777777777778,\"#fb9f3a\"],[0.8888888888888888,\"#fdca26\"],[1.0,\"#f0f921\"]],\"type\":\"contour\"}],\"contourcarpet\":[{\"colorbar\":{\"outlinewidth\":0,\"ticks\":\"\"},\"type\":\"contourcarpet\"}],\"heatmap\":[{\"colorbar\":{\"outlinewidth\":0,\"ticks\":\"\"},\"colorscale\":[[0.0,\"#0d0887\"],[0.1111111111111111,\"#46039f\"],[0.2222222222222222,\"#7201a8\"],[0.3333333333333333,\"#9c179e\"],[0.4444444444444444,\"#bd3786\"],[0.5555555555555556,\"#d8576b\"],[0.6666666666666666,\"#ed7953\"],[0.7777777777777778,\"#fb9f3a\"],[0.8888888888888888,\"#fdca26\"],[1.0,\"#f0f921\"]],\"type\":\"heatmap\"}],\"heatmapgl\":[{\"colorbar\":{\"outlinewidth\":0,\"ticks\":\"\"},\"colorscale\":[[0.0,\"#0d0887\"],[0.1111111111111111,\"#46039f\"],[0.2222222222222222,\"#7201a8\"],[0.3333333333333333,\"#9c179e\"],[0.4444444444444444,\"#bd3786\"],[0.5555555555555556,\"#d8576b\"],[0.6666666666666666,\"#ed7953\"],[0.7777777777777778,\"#fb9f3a\"],[0.8888888888888888,\"#fdca26\"],[1.0,\"#f0f921\"]],\"type\":\"heatmapgl\"}],\"histogram\":[{\"marker\":{\"pattern\":{\"fillmode\":\"overlay\",\"size\":10,\"solidity\":0.2}},\"type\":\"histogram\"}],\"histogram2d\":[{\"colorbar\":{\"outlinewidth\":0,\"ticks\":\"\"},\"colorscale\":[[0.0,\"#0d0887\"],[0.1111111111111111,\"#46039f\"],[0.2222222222222222,\"#7201a8\"],[0.3333333333333333,\"#9c179e\"],[0.4444444444444444,\"#bd3786\"],[0.5555555555555556,\"#d8576b\"],[0.6666666666666666,\"#ed7953\"],[0.7777777777777778,\"#fb9f3a\"],[0.8888888888888888,\"#fdca26\"],[1.0,\"#f0f921\"]],\"type\":\"histogram2d\"}],\"histogram2dcontour\":[{\"colorbar\":{\"outlinewidth\":0,\"ticks\":\"\"},\"colorscale\":[[0.0,\"#0d0887\"],[0.1111111111111111,\"#46039f\"],[0.2222222222222222,\"#7201a8\"],[0.3333333333333333,\"#9c179e\"],[0.4444444444444444,\"#bd3786\"],[0.5555555555555556,\"#d8576b\"],[0.6666666666666666,\"#ed7953\"],[0.7777777777777778,\"#fb9f3a\"],[0.8888888888888888,\"#fdca26\"],[1.0,\"#f0f921\"]],\"type\":\"histogram2dcontour\"}],\"mesh3d\":[{\"colorbar\":{\"outlinewidth\":0,\"ticks\":\"\"},\"type\":\"mesh3d\"}],\"parcoords\":[{\"line\":{\"colorbar\":{\"outlinewidth\":0,\"ticks\":\"\"}},\"type\":\"parcoords\"}],\"pie\":[{\"automargin\":true,\"type\":\"pie\"}],\"scatter\":[{\"marker\":{\"colorbar\":{\"outlinewidth\":0,\"ticks\":\"\"}},\"type\":\"scatter\"}],\"scatter3d\":[{\"line\":{\"colorbar\":{\"outlinewidth\":0,\"ticks\":\"\"}},\"marker\":{\"colorbar\":{\"outlinewidth\":0,\"ticks\":\"\"}},\"type\":\"scatter3d\"}],\"scattercarpet\":[{\"marker\":{\"colorbar\":{\"outlinewidth\":0,\"ticks\":\"\"}},\"type\":\"scattercarpet\"}],\"scattergeo\":[{\"marker\":{\"colorbar\":{\"outlinewidth\":0,\"ticks\":\"\"}},\"type\":\"scattergeo\"}],\"scattergl\":[{\"marker\":{\"colorbar\":{\"outlinewidth\":0,\"ticks\":\"\"}},\"type\":\"scattergl\"}],\"scattermapbox\":[{\"marker\":{\"colorbar\":{\"outlinewidth\":0,\"ticks\":\"\"}},\"type\":\"scattermapbox\"}],\"scatterpolar\":[{\"marker\":{\"colorbar\":{\"outlinewidth\":0,\"ticks\":\"\"}},\"type\":\"scatterpolar\"}],\"scatterpolargl\":[{\"marker\":{\"colorbar\":{\"outlinewidth\":0,\"ticks\":\"\"}},\"type\":\"scatterpolargl\"}],\"scatterternary\":[{\"marker\":{\"colorbar\":{\"outlinewidth\":0,\"ticks\":\"\"}},\"type\":\"scatterternary\"}],\"surface\":[{\"colorbar\":{\"outlinewidth\":0,\"ticks\":\"\"},\"colorscale\":[[0.0,\"#0d0887\"],[0.1111111111111111,\"#46039f\"],[0.2222222222222222,\"#7201a8\"],[0.3333333333333333,\"#9c179e\"],[0.4444444444444444,\"#bd3786\"],[0.5555555555555556,\"#d8576b\"],[0.6666666666666666,\"#ed7953\"],[0.7777777777777778,\"#fb9f3a\"],[0.8888888888888888,\"#fdca26\"],[1.0,\"#f0f921\"]],\"type\":\"surface\"}],\"table\":[{\"cells\":{\"fill\":{\"color\":\"#EBF0F8\"},\"line\":{\"color\":\"white\"}},\"header\":{\"fill\":{\"color\":\"#C8D4E3\"},\"line\":{\"color\":\"white\"}},\"type\":\"table\"}]},\"layout\":{\"annotationdefaults\":{\"arrowcolor\":\"#2a3f5f\",\"arrowhead\":0,\"arrowwidth\":1},\"autotypenumbers\":\"strict\",\"coloraxis\":{\"colorbar\":{\"outlinewidth\":0,\"ticks\":\"\"}},\"colorscale\":{\"diverging\":[[0,\"#8e0152\"],[0.1,\"#c51b7d\"],[0.2,\"#de77ae\"],[0.3,\"#f1b6da\"],[0.4,\"#fde0ef\"],[0.5,\"#f7f7f7\"],[0.6,\"#e6f5d0\"],[0.7,\"#b8e186\"],[0.8,\"#7fbc41\"],[0.9,\"#4d9221\"],[1,\"#276419\"]],\"sequential\":[[0.0,\"#0d0887\"],[0.1111111111111111,\"#46039f\"],[0.2222222222222222,\"#7201a8\"],[0.3333333333333333,\"#9c179e\"],[0.4444444444444444,\"#bd3786\"],[0.5555555555555556,\"#d8576b\"],[0.6666666666666666,\"#ed7953\"],[0.7777777777777778,\"#fb9f3a\"],[0.8888888888888888,\"#fdca26\"],[1.0,\"#f0f921\"]],\"sequentialminus\":[[0.0,\"#0d0887\"],[0.1111111111111111,\"#46039f\"],[0.2222222222222222,\"#7201a8\"],[0.3333333333333333,\"#9c179e\"],[0.4444444444444444,\"#bd3786\"],[0.5555555555555556,\"#d8576b\"],[0.6666666666666666,\"#ed7953\"],[0.7777777777777778,\"#fb9f3a\"],[0.8888888888888888,\"#fdca26\"],[1.0,\"#f0f921\"]]},\"colorway\":[\"#636efa\",\"#EF553B\",\"#00cc96\",\"#ab63fa\",\"#FFA15A\",\"#19d3f3\",\"#FF6692\",\"#B6E880\",\"#FF97FF\",\"#FECB52\"],\"font\":{\"color\":\"#2a3f5f\"},\"geo\":{\"bgcolor\":\"white\",\"lakecolor\":\"white\",\"landcolor\":\"#E5ECF6\",\"showlakes\":true,\"showland\":true,\"subunitcolor\":\"white\"},\"hoverlabel\":{\"align\":\"left\"},\"hovermode\":\"closest\",\"mapbox\":{\"style\":\"light\"},\"paper_bgcolor\":\"white\",\"plot_bgcolor\":\"#E5ECF6\",\"polar\":{\"angularaxis\":{\"gridcolor\":\"white\",\"linecolor\":\"white\",\"ticks\":\"\"},\"bgcolor\":\"#E5ECF6\",\"radialaxis\":{\"gridcolor\":\"white\",\"linecolor\":\"white\",\"ticks\":\"\"}},\"scene\":{\"xaxis\":{\"backgroundcolor\":\"#E5ECF6\",\"gridcolor\":\"white\",\"gridwidth\":2,\"linecolor\":\"white\",\"showbackground\":true,\"ticks\":\"\",\"zerolinecolor\":\"white\"},\"yaxis\":{\"backgroundcolor\":\"#E5ECF6\",\"gridcolor\":\"white\",\"gridwidth\":2,\"linecolor\":\"white\",\"showbackground\":true,\"ticks\":\"\",\"zerolinecolor\":\"white\"},\"zaxis\":{\"backgroundcolor\":\"#E5ECF6\",\"gridcolor\":\"white\",\"gridwidth\":2,\"linecolor\":\"white\",\"showbackground\":true,\"ticks\":\"\",\"zerolinecolor\":\"white\"}},\"shapedefaults\":{\"line\":{\"color\":\"#2a3f5f\"}},\"ternary\":{\"aaxis\":{\"gridcolor\":\"white\",\"linecolor\":\"white\",\"ticks\":\"\"},\"baxis\":{\"gridcolor\":\"white\",\"linecolor\":\"white\",\"ticks\":\"\"},\"bgcolor\":\"#E5ECF6\",\"caxis\":{\"gridcolor\":\"white\",\"linecolor\":\"white\",\"ticks\":\"\"}},\"title\":{\"x\":0.05},\"xaxis\":{\"automargin\":true,\"gridcolor\":\"white\",\"linecolor\":\"white\",\"ticks\":\"\",\"title\":{\"standoff\":15},\"zerolinecolor\":\"white\",\"zerolinewidth\":2},\"yaxis\":{\"automargin\":true,\"gridcolor\":\"white\",\"linecolor\":\"white\",\"ticks\":\"\",\"title\":{\"standoff\":15},\"zerolinecolor\":\"white\",\"zerolinewidth\":2}}},\"title\":{\"text\":\"Price - Without Outliers\"},\"xaxis\":{\"anchor\":\"y\",\"domain\":[0.0,1.0],\"title\":{\"text\":\"value\"}},\"xaxis2\":{\"anchor\":\"y2\",\"domain\":[0.0,1.0],\"matches\":\"x\",\"showgrid\":true,\"showticklabels\":false},\"yaxis\":{\"anchor\":\"x\",\"domain\":[0.0,0.7326],\"title\":{\"text\":\"count\"}},\"yaxis2\":{\"anchor\":\"x2\",\"domain\":[0.7426,1.0],\"matches\":\"y2\",\"showgrid\":false,\"showline\":false,\"showticklabels\":false,\"ticks\":\"\"}},                        {\"responsive\": true}                    ).then(function(){\n",
       "                            \n",
       "var gd = document.getElementById('edd3a4f0-beb6-4181-8d65-1b8f7c5c7803');\n",
       "var x = new MutationObserver(function (mutations, observer) {{\n",
       "        var display = window.getComputedStyle(gd).display;\n",
       "        if (!display || display === 'none') {{\n",
       "            console.log([gd, 'removed!']);\n",
       "            Plotly.purge(gd);\n",
       "            observer.disconnect();\n",
       "        }}\n",
       "}});\n",
       "\n",
       "// Listen for the removal of the full notebook cells\n",
       "var notebookContainer = gd.closest('#notebook-container');\n",
       "if (notebookContainer) {{\n",
       "    x.observe(notebookContainer, {childList: true});\n",
       "}}\n",
       "\n",
       "// Listen for the clearing of the current output cell\n",
       "var outputEl = gd.closest('.output');\n",
       "if (outputEl) {{\n",
       "    x.observe(outputEl, {childList: true});\n",
       "}}\n",
       "\n",
       "                        })                };                            </script>        </div>\n",
       "</body>\n",
       "</html>"
      ]
     },
     "metadata": {},
     "output_type": "display_data"
    }
   ],
   "source": [
    "profile_serie(df_retail['Price']) "
   ]
  },
  {
   "cell_type": "markdown",
   "metadata": {
    "cell_id": "00021-d9508a4a-ab9e-470f-b20e-2f3b1a095d99",
    "deepnote_cell_height": 69.83332824707031,
    "deepnote_cell_type": "markdown",
    "tags": []
   },
   "source": [
    "    Análisis de la primera serie..."
   ]
  },
  {
   "cell_type": "code",
   "execution_count": null,
   "metadata": {
    "cell_id": "00022-d0bb6e4c-430f-42e3-9f3f-bd372817d286",
    "deepnote_cell_height": 65.03334045410156,
    "deepnote_cell_type": "code",
    "tags": []
   },
   "outputs": [],
   "source": [
    "profile_serie(...)"
   ]
  },
  {
   "cell_type": "markdown",
   "metadata": {
    "cell_id": "00023-ecb7fa4e-63ba-490c-8da7-211532bff49b",
    "deepnote_cell_height": 69.83332824707031,
    "deepnote_cell_type": "markdown",
    "tags": []
   },
   "source": [
    "    Análisis de la primera n-esima serie..."
   ]
  },
  {
   "cell_type": "markdown",
   "metadata": {
    "cell_id": "00023-70400e15-a0f7-41f7-98a5-4b81f1d3315a",
    "deepnote_cell_height": 144.23333740234375,
    "deepnote_cell_type": "markdown",
    "tags": []
   },
   "source": [
    "### 1.2.2 Análisis Multivariado y Datos Faltantes [1 ptos]\n",
    "\n",
    "En segundo lugar encontrará la función ``profile_df()`` que recibe un dataframe como entrada y realiza un análisis bivariado de todas las variables numéricas que conforman el dataframe, un analisis de la correlación de Pearson entre las variables numericas del dataframe y la matriz de datos faltantes."
   ]
  },
  {
   "cell_type": "code",
   "execution_count": null,
   "metadata": {
    "cell_id": "00024-527d7ab1-22cb-461d-bb32-57ed65f2f2ab",
    "deepnote_cell_height": 530.0333251953125,
    "deepnote_cell_type": "code",
    "deepnote_to_be_reexecuted": false,
    "execution_millis": 2,
    "execution_start": 1634322697785,
    "owner_user_id": "badcc427-fd3d-4615-9296-faa43ec69cfb",
    "source_hash": "ac31b9bd",
    "tags": []
   },
   "outputs": [],
   "source": [
    "def profile_df(dataframe_in):\n",
    "    df = dataframe_in.copy()\n",
    "\n",
    "    list_type = []\n",
    "    for col in list(df.columns):\n",
    "        if is_numeric_dtype(df[col]) or \\\n",
    "        pd.core.dtypes.common.is_datetime_or_timedelta_dtype(df[col]):\n",
    "            list_type.append(col)\n",
    "\n",
    "    \n",
    "    display(Markdown('## Bivariant Analysis:'))\n",
    "    for i in range(len(list_type)):\n",
    "        for j in range(i+1, len(list_type)):\n",
    "            plt.scatter(df[list_type[i]], df[list_type[j]])\n",
    "            plt.xlabel(list_type[i]) \n",
    "            plt.ylabel(list_type[j]) \n",
    "            plt.title(f\"{list_type[i]} v/s {list_type[j]}\")\n",
    "            plt.show()\n",
    "\n",
    "    display(Markdown('## Correlation:'))\n",
    "    fig_corr = px.imshow(df.corr())\n",
    "    fig_corr.show()\n",
    "\n",
    "    display(Markdown('## Missing Matrix:'))\n",
    "    fig, ax = plt.subplots(figsize=[15, 10])\n",
    "    msno.matrix(df, ax=ax, sparkline=False)"
   ]
  },
  {
   "cell_type": "markdown",
   "metadata": {
    "cell_id": "00026-df20962a-a04e-4edd-9d19-3acc252a7f29",
    "deepnote_cell_height": 239.43333435058594,
    "deepnote_cell_type": "markdown",
    "tags": []
   },
   "source": [
    "### 1.2.3 Limpieza de Datos [1 pto]\n",
    "\n",
    "Como pudo ver en las secciones anteriores, los datos presentan valores erroneos, es por esto que se le solicita que realice una función que permita limpiar el dataset. Realice esta función en base observaciones propias y considere como imposible tener cantidades negativas en las ventas.\n",
    "\n",
    "Una vez realizada la función, realice nuevamente el análisis exploratorio y comente las principales diferencias.\n",
    "\n",
    "**Respuesta:**"
   ]
  },
  {
   "cell_type": "code",
   "execution_count": null,
   "metadata": {
    "cell_id": "00027-c103a1ac-7b8e-4ad8-af70-1385769b6c33",
    "deepnote_cell_height": 65.03334045410156,
    "deepnote_cell_type": "code",
    "tags": []
   },
   "outputs": [],
   "source": [
    "Código Aquí"
   ]
  },
  {
   "cell_type": "markdown",
   "metadata": {
    "cell_id": "00028-b5630b67-565d-42f3-a387-f67a80dda8ea",
    "deepnote_cell_height": 61.03334045410156,
    "deepnote_cell_type": "markdown",
    "id": "dkyp81nkBghF"
   },
   "source": [
    "### 1.2.4 Obtención de TOPs [0.75 ptos]"
   ]
  },
  {
   "cell_type": "markdown",
   "metadata": {
    "cell_id": "00029-71382778-46fe-4d49-9481-afec1667525a",
    "deepnote_cell_height": 177.43333435058594,
    "deepnote_cell_type": "markdown",
    "id": "FqWpKnmn6W0y"
   },
   "source": [
    "Sin considerar los comentarios realizados en la sección 1.2 , *Don Mora* les pide obtener el **Top de 30 productos que generan más ganancias** para la tienda de retail. Deben considerar todo el registro temporal presente en el dataset y entregar la información en un gráfico de barras de los ingresos/cantidades v/s el nombre de los productos (Utilice `plotly`). ¿Los artículos más vendidos son los mismos que generan más ganancias?, Comente los resultados obtenidos.\n",
    "\n",
    "**Resultados:**"
   ]
  },
  {
   "cell_type": "code",
   "execution_count": null,
   "metadata": {
    "cell_id": "00029-6e40375f-f1de-4643-8460-b3b2f74ec335",
    "deepnote_cell_height": 65.03334045410156,
    "deepnote_cell_type": "code",
    "tags": []
   },
   "outputs": [],
   "source": [
    "> Código Aquí"
   ]
  },
  {
   "cell_type": "markdown",
   "metadata": {
    "cell_id": "00032-61832905-3832-49f7-884b-4ffdd1045252",
    "deepnote_cell_height": 61.03334045410156,
    "deepnote_cell_type": "markdown",
    "tags": []
   },
   "source": [
    "### 1.2.5 Visualización del registro temporal [0,75 ptos]"
   ]
  },
  {
   "cell_type": "markdown",
   "metadata": {
    "cell_id": "00033-7886e714-8ad0-4387-b204-9d01f927df14",
    "deepnote_cell_height": 118.63333129882812,
    "deepnote_cell_type": "markdown",
    "tags": []
   },
   "source": [
    "El dueño del retail en su afán por saber más sobre los datos de su firma les solicita que grafiquen las ventas respecto al tiempo. Con esto les aclara que durante el día tienen muchas variaciones en sus ventas, por lo que les recomienda que consideren el registro temporal como `año-mes-día`. ¿Es posible observar datos extraños?, Comente lo que observa del gráfico."
   ]
  },
  {
   "cell_type": "code",
   "execution_count": null,
   "metadata": {
    "cell_id": "00034-de869967-0472-43f2-b4c7-63ec649e6447",
    "deepnote_cell_height": 98.03334045410156,
    "deepnote_cell_type": "code",
    "deepnote_to_be_reexecuted": false,
    "execution_millis": 1,
    "execution_start": 1634274396771,
    "id": "SBr7gQOAkmGV",
    "source_hash": "1c692b9d"
   },
   "outputs": [],
   "source": [
    "def plot_ventas(dataframe):\n",
    "    pass"
   ]
  },
  {
   "cell_type": "markdown",
   "metadata": {
    "cell_id": "00043-719d1a35-6773-42d7-8f88-1cc37eda7a1b",
    "deepnote_cell_height": 491.23333740234375,
    "deepnote_cell_type": "markdown",
    "id": "Rg4ZMq8ezAH6"
   },
   "source": [
    "# Conclusión\n",
    "Eso ha sido todo para el lab de hoy, recuerden que el laboratorio tiene un plazo de entrega de una semana y que **los días de atraso no se pueden utilizar para entregas de lab** solo para tareas. Cualquier duda del laboratorio, no duden en contactarnos por mail o U-cursos.\n",
    "\n",
    "![Gracias Totales!](https://i.pinimg.com/originals/65/ae/27/65ae270df87c3c4adcea997e48f60852.gif \"bruno\")\n"
   ]
  },
  {
   "cell_type": "markdown",
   "metadata": {
    "cell_id": "00044-b636da8f-c28b-4f2c-894e-1326a421926b",
    "deepnote_cell_height": 170.4499969482422,
    "deepnote_cell_type": "markdown",
    "id": "wCL1lACBzAH7"
   },
   "source": [
    "<br>\n",
    "<center>\n",
    "<img src=\"https://i.kym-cdn.com/photos/images/original/001/194/195/b18.png\" width=100 height=50 />\n",
    "</center>\n",
    "<br>"
   ]
  }
 ],
 "metadata": {
  "colab": {
   "collapsed_sections": [
    "Rcjs-dd1V-1u",
    "dkyp81nkBghF",
    "THmFfYs1AhAW"
   ],
   "name": "Copia de Tarea1.ipynb",
   "provenance": [],
   "toc_visible": true
  },
  "deepnote": {},
  "deepnote_execution_queue": [],
  "deepnote_notebook_id": "15b5ce14-e074-4f33-9c56-8f169cc96a69",
  "kernelspec": {
   "display_name": "Python 3",
   "language": "python",
   "name": "python3"
  },
  "language_info": {
   "codemirror_mode": {
    "name": "ipython",
    "version": 3
   },
   "file_extension": ".py",
   "mimetype": "text/x-python",
   "name": "python",
   "nbconvert_exporter": "python",
   "pygments_lexer": "ipython3",
   "version": "3.8.5"
  },
  "toc": {
   "base_numbering": 1,
   "nav_menu": {},
   "number_sections": true,
   "sideBar": true,
   "skip_h1_title": true,
   "title_cell": "Tabla de Contenidos",
   "title_sidebar": "Contenidos",
   "toc_cell": false,
   "toc_position": {
    "height": "calc(100% - 180px)",
    "left": "10px",
    "top": "150px",
    "width": "241.867px"
   },
   "toc_section_display": true,
   "toc_window_display": true
  },
  "varInspector": {
   "cols": {
    "lenName": 16,
    "lenType": 16,
    "lenVar": 40
   },
   "kernels_config": {
    "python": {
     "delete_cmd_postfix": "",
     "delete_cmd_prefix": "del ",
     "library": "var_list.py",
     "varRefreshCmd": "print(var_dic_list())"
    },
    "r": {
     "delete_cmd_postfix": ") ",
     "delete_cmd_prefix": "rm(",
     "library": "var_list.r",
     "varRefreshCmd": "cat(var_dic_list()) "
    }
   },
   "types_to_exclude": [
    "module",
    "function",
    "builtin_function_or_method",
    "instance",
    "_Feature"
   ],
   "window_display": false
  }
 },
 "nbformat": 4,
 "nbformat_minor": 1
}
