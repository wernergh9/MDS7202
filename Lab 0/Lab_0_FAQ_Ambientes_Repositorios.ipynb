{
 "cells": [
  {
   "cell_type": "markdown",
   "id": "31ebba21-2805-4090-bd42-0229819db2fc",
   "metadata": {},
   "source": [
    "# Lab 0 - FAQ\n"
   ]
  },
  {
   "cell_type": "markdown",
   "id": "3dd4824b-48ef-4b67-b74e-ba6d84ac8c43",
   "metadata": {},
   "source": [
    "## Ambientes con Conda"
   ]
  },
  {
   "cell_type": "markdown",
   "id": "54385ed2-5f3d-4e0d-8bff-eab28087c7fd",
   "metadata": {},
   "source": [
    "### Para el Curso\n",
    "\n",
    "1. Instalar anaconda (cliente + paquetes por defecto) o miniconda (es solo el cliente, sin paquetes).\n",
    "2. Luego de haber instaldo conda/miniconda, crear ambiente, instalar paquetes y abrir `jupyter-lab`\n",
    "\n",
    "\n",
    "#### 1.- ¿Cómo instalarlo?\n",
    "\n",
    "**Anaconda 🐍**:\n",
    "\n",
    "Descargar anaconda:\n",
    "\n",
    "https://www.anaconda.com/products/individual\n",
    "\n",
    "Seguir las instrucciones para Windows y Mac.\n",
    "\n",
    "Para linux:\n",
    "\n",
    "1. Descargar el archivo usando `wget url_archivo_por_descargar`.\n",
    "2. Instalar usando `bash ruta_al_archivo_descargado`.\n",
    "\n",
    "\n",
    "### ¿Como crear y activar el Ambiente?\n",
    "\n",
    "```bash\n",
    "# en el caso que estén trabajando desde powershell:\n",
    "conda init\n",
    "\n",
    "# crear un ambiente\n",
    "conda create --name mds7202 python=3.9\n",
    "\n",
    "# activar el nuevo ambiente\n",
    "conda activate mds7202\n",
    "\n",
    "# instalar paquetes\n",
    "conda install numpy pandas scikit-learn plotly jupyterlab  jupyterlab_code_formatter black -c conda-forge -y\n",
    "\n",
    "# iniciar jupyter-lab\n",
    "jupyter-lab\n",
    "\n",
    "# para entrar a jupyer-lab, en un navegador acceder a la dirección que les indica la terminal...\n",
    "```"
   ]
  },
  {
   "cell_type": "markdown",
   "id": "ff1db656-127d-4099-a4f1-b643d2e27c10",
   "metadata": {},
   "source": [
    "Para una siguiente vez ya tendrán todo instalado, por ende solo bastará activar el ambiente y ejecutar jupyter-lab:\n",
    "\n",
    "```\n",
    "conda activate mds7202\n",
    "\n",
    "jupyter-lab\n",
    "```"
   ]
  },
  {
   "cell_type": "markdown",
   "id": "c3ef5e14-2693-45da-8286-39cee8670303",
   "metadata": {},
   "source": [
    "## Repositorio 🗃️\n",
    "\n",
    "Para el curso: \n",
    "\n",
    "1. Instalar Git.\n",
    "2. Crear una cuenta en Github.\n",
    "3. Crear un repositorio.\n",
    "4. Clonar el repositorio.\n",
    "\n",
    "\n",
    "### ¿Cómo instalo git?\n",
    "\n",
    "Visitar https://git-scm.com/ y seguir con las instrucciones en la sección de `Download`.\n"
   ]
  },
  {
   "cell_type": "markdown",
   "id": "61a84908-c44c-4a2a-a9c7-3afcbd5d9980",
   "metadata": {},
   "source": [
    "![](./resources/git.png)"
   ]
  },
  {
   "cell_type": "markdown",
   "id": "98669f92-3380-434d-a997-be1d729c405c",
   "metadata": {},
   "source": [
    "### ¿Cómo creo una cuenta en Github?"
   ]
  },
  {
   "cell_type": "markdown",
   "id": "9a3c42a1-6a7f-4c3c-ac1b-cdee3def1052",
   "metadata": {},
   "source": [
    "Entrar a la página oficial de github: https://github.com/\n",
    "\n",
    "![](./resources/github1.png)\n",
    "\n"
   ]
  },
  {
   "cell_type": "markdown",
   "id": "c86c177f-3858-440a-9abd-72667f8c017b",
   "metadata": {},
   "source": [
    "Luego hacer click en el botón `Sign Up` de la esquina superior derecha y agregar los datos solicitados: \n",
    "\n",
    "![](./resources/github2.png)"
   ]
  },
  {
   "cell_type": "markdown",
   "id": "7b0d480f-d575-4322-b600-82d17d979f1b",
   "metadata": {},
   "source": [
    "Probablemente les llegue un correo solicitando verificar su información. Con esto ya deberían tener su cuenta operando en github."
   ]
  },
  {
   "cell_type": "markdown",
   "id": "2c92cb7b-ab34-4cce-bc2a-1af1c10e1ed2",
   "metadata": {},
   "source": [
    "### ¿Cómo crear un repositorio remoto en Github?\n",
    "\n",
    "Luego de haberse logeado en github, arriba a la izquierda les saldrá una interfaz similar a esta:"
   ]
  },
  {
   "cell_type": "markdown",
   "id": "290895ae-d85c-4221-b95a-ccc878db3d5c",
   "metadata": {},
   "source": [
    "![](./resources/crear_repo_1.png)"
   ]
  },
  {
   "cell_type": "markdown",
   "id": "416b2ef4-a12e-4aa9-ac87-a82d18474bb6",
   "metadata": {},
   "source": [
    "Luego, hagan click en `New` para ir al asistente de creación de nuevos repositorios. Esto les mostrará una vista similar a esta:\n",
    "\n",
    "![](./resources/crear_repo_2.png)\n",
    "\n",
    "En esta parte ustedes deberán asignarle un nombre a su futuro repositorio (en `Repository Name`)\n",
    "\n",
    "Luego llegan al final de la página y hacen click en el botón `Create Repository`. Esto generará un nuevo repositorio y les mostrará algo similar a lo que vemos a continuación:\n",
    "\n"
   ]
  },
  {
   "cell_type": "markdown",
   "id": "aa21ed15-3499-46c8-98fa-6f2e7bc00bca",
   "metadata": {},
   "source": [
    "![](./resources/crear_repo_3.png)\n"
   ]
  },
  {
   "cell_type": "markdown",
   "id": "3d22aafb-7d63-4cb5-a8d0-0bfe2c8f978e",
   "metadata": {},
   "source": [
    "Para inicializar el repositorio y copiarlo en local, en una terminal ejecuten el código que se muestra en la sección \n",
    "\n",
    "`...or create a new repository on the command line`\n",
    "\n",
    "El código especificado ahí creará un nuevo repositorio en su local, agregará un archivo `Readme.md`, creará un commit, linkeara su repositorio con el remoto de github y hará un push."
   ]
  },
  {
   "cell_type": "markdown",
   "id": "f6099125-dfe5-441f-8eb9-18ff35a8684a",
   "metadata": {},
   "source": [
    "### Crear un Token como Contraseña"
   ]
  },
  {
   "cell_type": "markdown",
   "id": "5c125848-7aee-47ea-bb11-0dacb387858e",
   "metadata": {},
   "source": [
    "Probablemente les pida un usuario y contraseña para hacer push.\n",
    "Github desactivó el uso de contraseñas y en su lugar hay que generar Tokens (código de acceso)\n",
    "\n",
    "![](./resources/password1.png)"
   ]
  },
  {
   "cell_type": "markdown",
   "id": "eb7c5589-3892-4e42-a581-cde2110b261d",
   "metadata": {},
   "source": [
    "### ¿Cómo genero un Token de Autenticación?\n",
    "\n",
    "Ir a su avatar, ubicado a la derecha arriba de la interfaz. Hacer click en el avatar y luego en `Settings`."
   ]
  },
  {
   "cell_type": "markdown",
   "id": "23bc287c-4de1-415c-828d-d5e3ce29999b",
   "metadata": {},
   "source": [
    "![](./resources/token1.png)"
   ]
  },
  {
   "cell_type": "markdown",
   "id": "8aceb405-a16d-4ecb-86b8-bc533608bcaa",
   "metadata": {},
   "source": [
    "En la barra derecha, desplazarse hasta `Develorper Settings` y hacer click ahí\n",
    "\n",
    "![](./resources/token2.png)"
   ]
  },
  {
   "cell_type": "markdown",
   "id": "1c290723-4da8-4eb4-872d-078f4d95b803",
   "metadata": {},
   "source": [
    "Luego, les aparecerá una vista similar a esta (si no, hacer click en `Personal access tokens`) y luego hacer click en `Ghenerate new token`."
   ]
  },
  {
   "cell_type": "markdown",
   "id": "2be0067e-223e-4894-906d-f6f77ed264d3",
   "metadata": {},
   "source": [
    "![](./resources/token3.png)"
   ]
  },
  {
   "cell_type": "markdown",
   "id": "1496decb-ae1f-4bd1-81b0-ef2bd81913a2",
   "metadata": {},
   "source": [
    "Dentro de la interfaz de generación de tokens, ponerle un nombre, una fecha de expiración y un click en checkbox de repo. Luego bajan y hacen click en `Generate Token` para crearlo."
   ]
  },
  {
   "cell_type": "markdown",
   "id": "9caf3de1-bea4-4fe2-b45d-f12492f40fd8",
   "metadata": {},
   "source": [
    "![](./resources/token4.png)"
   ]
  },
  {
   "cell_type": "markdown",
   "id": "5030ac5b-8e14-4bb4-85ae-11d16c332f2e",
   "metadata": {},
   "source": [
    "Con esto, ya deberían haber generado su token de autenticación.\n",
    "\n",
    "> Nota: **Guarden este token (por ejemplo en un archivo de texto plano), ya que lo usaremos como contraseña para interactuar con el repositorio remoto**\n",
    "\n",
    "![](./resources/token5.png)"
   ]
  },
  {
   "cell_type": "markdown",
   "id": "1ce59b25-6f76-4d8c-8480-a10aa84b0b07",
   "metadata": {},
   "source": [
    "Por último, copien y peguen ese token en la sección contraseña y hagan el push correspondiente.\n",
    "\n",
    "![](./resources/password2.png)"
   ]
  },
  {
   "cell_type": "markdown",
   "id": "dc1fd3e4-1b37-437d-bebe-bcaf19c05698",
   "metadata": {},
   "source": [
    "> Nota 2: **Este token es como su contraseña. No lo compartan ya que este les dará acceso a los repositorios de su cuenta.** "
   ]
  },
  {
   "cell_type": "markdown",
   "id": "4adfaaa7-5bc6-430c-9cde-fbc563df70b3",
   "metadata": {},
   "source": [
    "### ¿Cómo agrego alguien al repositorio?\n",
    "\n",
    "En la página del repositorio que acaban de crear, hacer click en `Settings`, después en `Collaborators` y añadir colaboradores haciendo click en `Add people`. Les pedirá el nombre de cuenta de la persona que quieran añadir. \n",
    "\n",
    "Para que la persona acepte la invitación, debe hacer click en el link de un email que le llegará (al email asociado a la cuenta) o entrando a la página del respositorio y aceptando la invitación desde ahí."
   ]
  },
  {
   "cell_type": "markdown",
   "id": "523a5e4d-ae49-4da7-9c6b-934a65a48892",
   "metadata": {},
   "source": [
    "![](./resources/agregar_colaboradores.png)"
   ]
  },
  {
   "cell_type": "markdown",
   "id": "a520c40b-c4d1-4b81-b5e5-406fdf829236",
   "metadata": {
    "tags": []
   },
   "source": [
    "### ¿Cómo clono el repositorio si este ya fue inicializado?"
   ]
  },
  {
   "cell_type": "markdown",
   "id": "78b0d782-1f81-4e54-a0bc-7f6c1439e05d",
   "metadata": {
    "tags": []
   },
   "source": [
    "`git clone url_repo`"
   ]
  }
 ],
 "metadata": {
  "kernelspec": {
   "display_name": "Python 3 (ipykernel)",
   "language": "python",
   "name": "python3"
  },
  "language_info": {
   "codemirror_mode": {
    "name": "ipython",
    "version": 3
   },
   "file_extension": ".py",
   "mimetype": "text/x-python",
   "name": "python",
   "nbconvert_exporter": "python",
   "pygments_lexer": "ipython3",
   "version": "3.9.7"
  }
 },
 "nbformat": 4,
 "nbformat_minor": 5
}
