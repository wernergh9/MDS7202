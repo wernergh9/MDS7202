{
 "cells": [
  {
   "cell_type": "markdown",
   "metadata": {
    "cell_id": "e651654461c3474fb2b0d36de22a6c14",
    "deepnote_cell_height": 103.53334045410156,
    "deepnote_cell_type": "markdown",
    "id": "XUZ1dFPHzAHl"
   },
   "source": [
    "<h1><center>Laboratorio 7: Aprendizaje Supervisado 🔮</center></h1>\n",
    "\n",
    "<center><strong>MDS7202: Laboratorio de Programación Científica para Ciencia de Datos</strong></center>"
   ]
  },
  {
   "cell_type": "markdown",
   "metadata": {
    "cell_id": "7a6943958920482eb851e608d1efb6ac",
    "deepnote_cell_type": "markdown",
    "id": "UD8X1uhGzAHq"
   },
   "source": [
    "### Cuerpo Docente:\n",
    "\n",
    "- Profesor: Matías Rojas y Mauricio Araneda\n",
    "- Auxiliar: Ignacio Meza D.\n",
    "- Ayudante: Rodrigo Guerra"
   ]
  },
  {
   "cell_type": "markdown",
   "metadata": {
    "cell_id": "0202c4ed94184a289e51ca5325b8afba",
    "deepnote_cell_height": 139.5,
    "deepnote_cell_type": "markdown",
    "id": "tXflExjqzAHr"
   },
   "source": [
    "### Equipo: SUPER IMPORTANTE - notebooks sin nombre no serán revisados\n",
    "\n",
    "- Nombre de alumno 1: Maximiliano Rosadio\n",
    "- Nombre de alumno 2: Werner González\n"
   ]
  },
  {
   "cell_type": "markdown",
   "metadata": {
    "cell_id": "ce180f8cd3f3485fabbe6c0959a648db",
    "deepnote_cell_height": 61.28334045410156,
    "deepnote_cell_type": "markdown",
    "id": "AD-V0bbZzAHr"
   },
   "source": [
    "### **Link de repositorio de GitHub:** `https://github.com/wernergh9/MDS7202.git`"
   ]
  },
  {
   "cell_type": "markdown",
   "metadata": {
    "cell_id": "df3ab193db4a4f09ac25dbe605e3a83a",
    "deepnote_cell_height": 603.8499755859375,
    "deepnote_cell_type": "markdown",
    "id": "6uBLPj1PzAHs"
   },
   "source": [
    "## Temas a tratar\n",
    "\n",
    "- Aprendizaje Supervisado\n",
    "- Flujos de datos a través de `Pipelines`.\n",
    "\n",
    "## Reglas\n",
    "\n",
    "- Fecha de entrega: TBD\n",
    "- **Grupos de 2 personas**\n",
    "- **Ausentes** deberán realizar la actividad solos. \n",
    "- Cualquier duda fuera del horario de clases al foro. Mensajes al equipo docente serán respondidos por este medio.\n",
    "- Prohibidas las copias. \n",
    "- Pueden usar cualquer matrial del curso que estimen conveniente.\n",
    "\n",
    "## Objetivos principales del laboratorio\n",
    "\n",
    "- Comprender el funcionamiento de clasificadores/regresores.\n",
    "- Generar múltiples modelos predictivos.\n",
    "- Comprender las ventajas de crear modelos en pipeline vs hacer las operaciones a mano.\n",
    "\n",
    "El laboratorio deberá ser desarrollado sin el uso indiscriminado de iteradores nativos de python (aka \"for\", \"while\"). La idea es que aprendan a exprimir al máximo las funciones optimizadas que nos entrega `pandas`, las cuales vale mencionar, son bastante más eficientes que los iteradores nativos sobre `DataFrames`."
   ]
  },
  {
   "cell_type": "markdown",
   "metadata": {
    "cell_id": "ad2df18de2544420960174a3f424bc5c",
    "deepnote_cell_height": 61.133331298828125,
    "deepnote_cell_type": "markdown",
    "id": "MhISwri4zAHy"
   },
   "source": [
    "### Importamos librerias utiles 😸"
   ]
  },
  {
   "cell_type": "code",
   "execution_count": 1,
   "metadata": {
    "ExecuteTime": {
     "end_time": "2021-03-29T00:08:16.884674Z",
     "start_time": "2021-03-29T00:08:16.349846Z"
    },
    "cell_id": "c99537db269c4b04970732c3cccac0c9",
    "colab": {
     "base_uri": "https://localhost:8080/"
    },
    "deepnote_cell_height": 896.5,
    "deepnote_cell_type": "code",
    "deepnote_to_be_reexecuted": false,
    "execution_millis": 7630,
    "execution_start": 1636741163382,
    "id": "uyc33dKdzAHy",
    "outputId": "e8cc251c-aa25-4fdb-db15-3027707cfbdf",
    "owner_user_id": "badcc427-fd3d-4615-9296-faa43ec69cfb",
    "source_hash": "cb3614e"
   },
   "outputs": [
    {
     "name": "stderr",
     "output_type": "stream",
     "text": [
      "C:\\Users\\werne\\anaconda3\\lib\\site-packages\\pandas\\core\\computation\\expressions.py:21: UserWarning: Pandas requires version '2.7.3' or newer of 'numexpr' (version '2.7.1' currently installed).\n",
      "  from pandas.core.computation.check import NUMEXPR_INSTALLED\n"
     ]
    },
    {
     "name": "stdout",
     "output_type": "stream",
     "text": [
      "Requirement already up-to-date: plotly in c:\\users\\werne\\anaconda3\\lib\\site-packages (5.10.0)\n",
      "Requirement already satisfied, skipping upgrade: tenacity>=6.2.0 in c:\\users\\werne\\anaconda3\\lib\\site-packages (from plotly) (8.0.1)\n"
     ]
    }
   ],
   "source": [
    "# Libreria Core del lab.\n",
    "import numpy as np\n",
    "import pandas as pd\n",
    "from sklearn.pipeline import Pipeline\n",
    "from sklearn.compose import ColumnTransformer\n",
    "from sklearn.model_selection import train_test_split \n",
    "\n",
    "# Pre-procesamiento\n",
    "from sklearn.preprocessing import MinMaxScaler\n",
    "from sklearn.preprocessing import StandardScaler\n",
    "from sklearn.preprocessing import FunctionTransformer\n",
    "from sklearn.preprocessing import PowerTransformer\n",
    "from sklearn.preprocessing import OneHotEncoder\n",
    "from sklearn.tree import DecisionTreeClassifier\n",
    "\n",
    "# Metricas de evaluación\n",
    "from sklearn.metrics import classification_report\n",
    "from sklearn.metrics import accuracy_score\n",
    "from sklearn.metrics import f1_score\n",
    "from sklearn.metrics import cohen_kappa_score\n",
    "\n",
    "#Libreria para plotear\n",
    "!pip install --upgrade plotly\n",
    "import plotly.express as px\n",
    "from plotly.subplots import make_subplots\n",
    "import plotly.graph_objects as go"
   ]
  },
  {
   "cell_type": "markdown",
   "metadata": {
    "cell_id": "3960faa7a101458896294c72b4b0758c",
    "deepnote_cell_height": 51.53334045410156,
    "deepnote_cell_type": "markdown",
    "id": "5FTGE74b3FBU"
   },
   "source": [
    "https://www.kaggle.com/antoinekrajnc/soccer-players-statistics"
   ]
  },
  {
   "cell_type": "markdown",
   "metadata": {
    "cell_id": "f9e9147f05744f749e29d4134157f1f3",
    "deepnote_cell_height": 305.933349609375,
    "deepnote_cell_type": "markdown",
    "id": "xpOTbQcxbSiy"
   },
   "source": [
    "# 1. Predicciones Futboleras\n",
    "\n",
    "<p align=\"center\">\n",
    "  <img src=\"https://drive.google.com/uc?export=view&id=1BnO4tyh3vM2P199Ec9s3JjngQ4qQ9seP\"\n",
    "\" width=\"300\">\n",
    "</p>\n",
    "\n",
    "\n",
    "Tras el trágico despido de la mítica mascota de Maipú, Renacín decide adentrarse como consultor en el mercado futbolero, el cuál (para variar...) está cargado en especulaciones. \n",
    "\n",
    "Como su principal tarea será asesorar a los directivos de los clubes sobre cuál jugador comprar y cuál no, Renacín desea generar modelos predictivos que evaluén distintas características de los jugadores; todo con el fin de tomar decisiones concretas basadas en los datos.\n",
    "\n",
    "Sin embargo, su condición de corporeo le impidió tomar la versión anterior de MDS7202, por lo que este motivo Renacín contrata a su equipo para lograr su objetivo final. Dado que aún tiene fuertes vínculos con la dirección de deportes de la municipalidad, el corporeo le entrega base de datos con las estadísticas de cada jugador para que su equipo empieze a trabajar ya con un dataset listo para ser usado.\n"
   ]
  },
  {
   "cell_type": "markdown",
   "metadata": {
    "cell_id": "5b831ae5e73547a1ae5f96b453f1ab2d",
    "deepnote_cell_height": 169.13333129882812,
    "deepnote_cell_type": "markdown",
    "id": "jnmZfFpxTTYX"
   },
   "source": [
    "**Los Datos**\n",
    "\n",
    "Para este laboratorio deberán trabajar con los csv `statsplayers.csv` y `salarios.pickle`, donde deberán aplicar algoritmos de de aprendizaje supervisado (clasificación y regresión) en base a características que describen de jugadores de futbol.\n",
    "\n",
    "Para comenzar cargue el dataset señalado y a continuación vea el reporte **`Player_Stats_Report.html`** (adjunto en la carpeta del enunciado) que describe las características principales del `DataFrame`."
   ]
  },
  {
   "cell_type": "code",
   "execution_count": 2,
   "metadata": {
    "cell_id": "9b9505acaf3f4906bbfc1950b04d9dca",
    "colab": {
     "base_uri": "https://localhost:8080/"
    },
    "deepnote_cell_height": 218.46665954589844,
    "deepnote_cell_type": "code",
    "deepnote_to_be_reexecuted": false,
    "execution_millis": 7,
    "execution_start": 1636741171022,
    "id": "Jqq-s010Iwl1",
    "outputId": "f4cecd84-95c6-4a80-e472-5b8ea011e843",
    "source_hash": "c60dc4a7"
   },
   "outputs": [
    {
     "name": "stdout",
     "output_type": "stream",
     "text": [
      "Ignorando conexión drive-colab\n"
     ]
    }
   ],
   "source": [
    "# Si usted está utilizando Colabolatory le puede ser útil este código para cargar los archivos.\n",
    "try:\n",
    "    from google.colab import drive\n",
    "    drive.mount(\"/content/drive\")\n",
    "    path = 'Dirección donde tiene los archivos en el Drive'\n",
    "except: \n",
    "    print('Ignorando conexión drive-colab')"
   ]
  },
  {
   "cell_type": "code",
   "execution_count": 2,
   "metadata": {
    "cell_id": "bbd60dabcba44542826c491f69c1f53c",
    "colab": {
     "base_uri": "https://localhost:8080/",
     "height": 309
    },
    "deepnote_cell_height": 490.70001220703125,
    "deepnote_cell_type": "code",
    "deepnote_output_heights": [
     377
    ],
    "deepnote_to_be_reexecuted": false,
    "execution_millis": 184,
    "execution_start": 1636742947300,
    "id": "bED3w3tDbSCf",
    "outputId": "8961b413-9ab2-4d57-8d77-648860771520",
    "source_hash": "65944a94"
   },
   "outputs": [
    {
     "data": {
      "text/html": [
       "<div>\n",
       "<style scoped>\n",
       "    .dataframe tbody tr th:only-of-type {\n",
       "        vertical-align: middle;\n",
       "    }\n",
       "\n",
       "    .dataframe tbody tr th {\n",
       "        vertical-align: top;\n",
       "    }\n",
       "\n",
       "    .dataframe thead th {\n",
       "        text-align: right;\n",
       "    }\n",
       "</style>\n",
       "<table border=\"1\" class=\"dataframe\">\n",
       "  <thead>\n",
       "    <tr style=\"text-align: right;\">\n",
       "      <th></th>\n",
       "      <th>Name</th>\n",
       "      <th>Nationality</th>\n",
       "      <th>National_Position</th>\n",
       "      <th>Club_Position</th>\n",
       "      <th>Height</th>\n",
       "      <th>Weight</th>\n",
       "      <th>Preffered_Foot</th>\n",
       "      <th>Age</th>\n",
       "      <th>Work_Rate</th>\n",
       "      <th>Weak_foot</th>\n",
       "      <th>...</th>\n",
       "      <th>Agility</th>\n",
       "      <th>Jumping</th>\n",
       "      <th>Heading</th>\n",
       "      <th>Shot_Power</th>\n",
       "      <th>Finishing</th>\n",
       "      <th>Long_Shots</th>\n",
       "      <th>Curve</th>\n",
       "      <th>Freekick_Accuracy</th>\n",
       "      <th>Penalties</th>\n",
       "      <th>Volleys</th>\n",
       "    </tr>\n",
       "  </thead>\n",
       "  <tbody>\n",
       "    <tr>\n",
       "      <th>0</th>\n",
       "      <td>Cristiano Ronaldo</td>\n",
       "      <td>Portugal</td>\n",
       "      <td>LS</td>\n",
       "      <td>LW</td>\n",
       "      <td>185</td>\n",
       "      <td>80</td>\n",
       "      <td>Right</td>\n",
       "      <td>32</td>\n",
       "      <td>High / Low</td>\n",
       "      <td>4</td>\n",
       "      <td>...</td>\n",
       "      <td>90</td>\n",
       "      <td>95</td>\n",
       "      <td>85</td>\n",
       "      <td>92</td>\n",
       "      <td>93</td>\n",
       "      <td>90</td>\n",
       "      <td>81</td>\n",
       "      <td>76</td>\n",
       "      <td>85</td>\n",
       "      <td>88</td>\n",
       "    </tr>\n",
       "    <tr>\n",
       "      <th>1</th>\n",
       "      <td>Lionel Messi</td>\n",
       "      <td>Argentina</td>\n",
       "      <td>RW</td>\n",
       "      <td>RW</td>\n",
       "      <td>170</td>\n",
       "      <td>72</td>\n",
       "      <td>Left</td>\n",
       "      <td>29</td>\n",
       "      <td>Medium / Medium</td>\n",
       "      <td>4</td>\n",
       "      <td>...</td>\n",
       "      <td>90</td>\n",
       "      <td>68</td>\n",
       "      <td>71</td>\n",
       "      <td>85</td>\n",
       "      <td>95</td>\n",
       "      <td>88</td>\n",
       "      <td>89</td>\n",
       "      <td>90</td>\n",
       "      <td>74</td>\n",
       "      <td>85</td>\n",
       "    </tr>\n",
       "    <tr>\n",
       "      <th>2</th>\n",
       "      <td>Neymar</td>\n",
       "      <td>Brazil</td>\n",
       "      <td>LW</td>\n",
       "      <td>LW</td>\n",
       "      <td>174</td>\n",
       "      <td>68</td>\n",
       "      <td>Right</td>\n",
       "      <td>25</td>\n",
       "      <td>High / Medium</td>\n",
       "      <td>5</td>\n",
       "      <td>...</td>\n",
       "      <td>96</td>\n",
       "      <td>61</td>\n",
       "      <td>62</td>\n",
       "      <td>78</td>\n",
       "      <td>89</td>\n",
       "      <td>77</td>\n",
       "      <td>79</td>\n",
       "      <td>84</td>\n",
       "      <td>81</td>\n",
       "      <td>83</td>\n",
       "    </tr>\n",
       "    <tr>\n",
       "      <th>3</th>\n",
       "      <td>Luis Suárez</td>\n",
       "      <td>Uruguay</td>\n",
       "      <td>LS</td>\n",
       "      <td>ST</td>\n",
       "      <td>182</td>\n",
       "      <td>85</td>\n",
       "      <td>Right</td>\n",
       "      <td>30</td>\n",
       "      <td>High / Medium</td>\n",
       "      <td>4</td>\n",
       "      <td>...</td>\n",
       "      <td>86</td>\n",
       "      <td>69</td>\n",
       "      <td>77</td>\n",
       "      <td>87</td>\n",
       "      <td>94</td>\n",
       "      <td>86</td>\n",
       "      <td>86</td>\n",
       "      <td>84</td>\n",
       "      <td>85</td>\n",
       "      <td>88</td>\n",
       "    </tr>\n",
       "    <tr>\n",
       "      <th>4</th>\n",
       "      <td>Manuel Neuer</td>\n",
       "      <td>Germany</td>\n",
       "      <td>GK</td>\n",
       "      <td>GK</td>\n",
       "      <td>193</td>\n",
       "      <td>92</td>\n",
       "      <td>Right</td>\n",
       "      <td>31</td>\n",
       "      <td>Medium / Medium</td>\n",
       "      <td>4</td>\n",
       "      <td>...</td>\n",
       "      <td>52</td>\n",
       "      <td>78</td>\n",
       "      <td>25</td>\n",
       "      <td>25</td>\n",
       "      <td>13</td>\n",
       "      <td>16</td>\n",
       "      <td>14</td>\n",
       "      <td>11</td>\n",
       "      <td>47</td>\n",
       "      <td>11</td>\n",
       "    </tr>\n",
       "    <tr>\n",
       "      <th>...</th>\n",
       "      <td>...</td>\n",
       "      <td>...</td>\n",
       "      <td>...</td>\n",
       "      <td>...</td>\n",
       "      <td>...</td>\n",
       "      <td>...</td>\n",
       "      <td>...</td>\n",
       "      <td>...</td>\n",
       "      <td>...</td>\n",
       "      <td>...</td>\n",
       "      <td>...</td>\n",
       "      <td>...</td>\n",
       "      <td>...</td>\n",
       "      <td>...</td>\n",
       "      <td>...</td>\n",
       "      <td>...</td>\n",
       "      <td>...</td>\n",
       "      <td>...</td>\n",
       "      <td>...</td>\n",
       "      <td>...</td>\n",
       "      <td>...</td>\n",
       "    </tr>\n",
       "    <tr>\n",
       "      <th>17583</th>\n",
       "      <td>Adam Dunbar</td>\n",
       "      <td>Republic of Ireland</td>\n",
       "      <td>NaN</td>\n",
       "      <td>Sub</td>\n",
       "      <td>183</td>\n",
       "      <td>82</td>\n",
       "      <td>Right</td>\n",
       "      <td>19</td>\n",
       "      <td>Medium / Medium</td>\n",
       "      <td>1</td>\n",
       "      <td>...</td>\n",
       "      <td>27</td>\n",
       "      <td>56</td>\n",
       "      <td>14</td>\n",
       "      <td>16</td>\n",
       "      <td>13</td>\n",
       "      <td>13</td>\n",
       "      <td>11</td>\n",
       "      <td>13</td>\n",
       "      <td>15</td>\n",
       "      <td>12</td>\n",
       "    </tr>\n",
       "    <tr>\n",
       "      <th>17584</th>\n",
       "      <td>Dylan McGoey</td>\n",
       "      <td>Republic of Ireland</td>\n",
       "      <td>NaN</td>\n",
       "      <td>Sub</td>\n",
       "      <td>185</td>\n",
       "      <td>80</td>\n",
       "      <td>Right</td>\n",
       "      <td>19</td>\n",
       "      <td>Medium / Medium</td>\n",
       "      <td>2</td>\n",
       "      <td>...</td>\n",
       "      <td>28</td>\n",
       "      <td>53</td>\n",
       "      <td>12</td>\n",
       "      <td>17</td>\n",
       "      <td>12</td>\n",
       "      <td>11</td>\n",
       "      <td>12</td>\n",
       "      <td>13</td>\n",
       "      <td>16</td>\n",
       "      <td>12</td>\n",
       "    </tr>\n",
       "    <tr>\n",
       "      <th>17585</th>\n",
       "      <td>Tommy Ouldridge</td>\n",
       "      <td>England</td>\n",
       "      <td>NaN</td>\n",
       "      <td>Res</td>\n",
       "      <td>173</td>\n",
       "      <td>61</td>\n",
       "      <td>Right</td>\n",
       "      <td>18</td>\n",
       "      <td>High / Medium</td>\n",
       "      <td>2</td>\n",
       "      <td>...</td>\n",
       "      <td>54</td>\n",
       "      <td>61</td>\n",
       "      <td>41</td>\n",
       "      <td>44</td>\n",
       "      <td>28</td>\n",
       "      <td>42</td>\n",
       "      <td>35</td>\n",
       "      <td>36</td>\n",
       "      <td>42</td>\n",
       "      <td>37</td>\n",
       "    </tr>\n",
       "    <tr>\n",
       "      <th>17586</th>\n",
       "      <td>Mark Foden</td>\n",
       "      <td>Scotland</td>\n",
       "      <td>NaN</td>\n",
       "      <td>Sub</td>\n",
       "      <td>180</td>\n",
       "      <td>80</td>\n",
       "      <td>Right</td>\n",
       "      <td>21</td>\n",
       "      <td>Medium / Medium</td>\n",
       "      <td>3</td>\n",
       "      <td>...</td>\n",
       "      <td>34</td>\n",
       "      <td>48</td>\n",
       "      <td>15</td>\n",
       "      <td>23</td>\n",
       "      <td>14</td>\n",
       "      <td>12</td>\n",
       "      <td>13</td>\n",
       "      <td>12</td>\n",
       "      <td>24</td>\n",
       "      <td>12</td>\n",
       "    </tr>\n",
       "    <tr>\n",
       "      <th>17587</th>\n",
       "      <td>Barry Richardson</td>\n",
       "      <td>England</td>\n",
       "      <td>NaN</td>\n",
       "      <td>Sub</td>\n",
       "      <td>185</td>\n",
       "      <td>77</td>\n",
       "      <td>Right</td>\n",
       "      <td>47</td>\n",
       "      <td>Medium / Medium</td>\n",
       "      <td>2</td>\n",
       "      <td>...</td>\n",
       "      <td>38</td>\n",
       "      <td>51</td>\n",
       "      <td>12</td>\n",
       "      <td>13</td>\n",
       "      <td>11</td>\n",
       "      <td>16</td>\n",
       "      <td>12</td>\n",
       "      <td>11</td>\n",
       "      <td>22</td>\n",
       "      <td>12</td>\n",
       "    </tr>\n",
       "  </tbody>\n",
       "</table>\n",
       "<p>17588 rows × 39 columns</p>\n",
       "</div>"
      ],
      "text/plain": [
       "                    Name          Nationality National_Position Club_Position  \\\n",
       "0      Cristiano Ronaldo             Portugal                LS            LW   \n",
       "1           Lionel Messi            Argentina                RW            RW   \n",
       "2                 Neymar               Brazil                LW            LW   \n",
       "3            Luis Suárez              Uruguay                LS            ST   \n",
       "4           Manuel Neuer              Germany                GK            GK   \n",
       "...                  ...                  ...               ...           ...   \n",
       "17583        Adam Dunbar  Republic of Ireland               NaN           Sub   \n",
       "17584       Dylan McGoey  Republic of Ireland               NaN           Sub   \n",
       "17585    Tommy Ouldridge              England               NaN           Res   \n",
       "17586         Mark Foden             Scotland               NaN           Sub   \n",
       "17587   Barry Richardson              England               NaN           Sub   \n",
       "\n",
       "       Height  Weight Preffered_Foot  Age        Work_Rate  Weak_foot  ...  \\\n",
       "0         185      80          Right   32       High / Low          4  ...   \n",
       "1         170      72           Left   29  Medium / Medium          4  ...   \n",
       "2         174      68          Right   25    High / Medium          5  ...   \n",
       "3         182      85          Right   30    High / Medium          4  ...   \n",
       "4         193      92          Right   31  Medium / Medium          4  ...   \n",
       "...       ...     ...            ...  ...              ...        ...  ...   \n",
       "17583     183      82          Right   19  Medium / Medium          1  ...   \n",
       "17584     185      80          Right   19  Medium / Medium          2  ...   \n",
       "17585     173      61          Right   18    High / Medium          2  ...   \n",
       "17586     180      80          Right   21  Medium / Medium          3  ...   \n",
       "17587     185      77          Right   47  Medium / Medium          2  ...   \n",
       "\n",
       "       Agility  Jumping  Heading  Shot_Power  Finishing  Long_Shots  Curve  \\\n",
       "0           90       95       85          92         93          90     81   \n",
       "1           90       68       71          85         95          88     89   \n",
       "2           96       61       62          78         89          77     79   \n",
       "3           86       69       77          87         94          86     86   \n",
       "4           52       78       25          25         13          16     14   \n",
       "...        ...      ...      ...         ...        ...         ...    ...   \n",
       "17583       27       56       14          16         13          13     11   \n",
       "17584       28       53       12          17         12          11     12   \n",
       "17585       54       61       41          44         28          42     35   \n",
       "17586       34       48       15          23         14          12     13   \n",
       "17587       38       51       12          13         11          16     12   \n",
       "\n",
       "       Freekick_Accuracy  Penalties  Volleys  \n",
       "0                     76         85       88  \n",
       "1                     90         74       85  \n",
       "2                     84         81       83  \n",
       "3                     84         85       88  \n",
       "4                     11         47       11  \n",
       "...                  ...        ...      ...  \n",
       "17583                 13         15       12  \n",
       "17584                 13         16       12  \n",
       "17585                 36         42       37  \n",
       "17586                 12         24       12  \n",
       "17587                 11         22       12  \n",
       "\n",
       "[17588 rows x 39 columns]"
      ]
     },
     "execution_count": 2,
     "metadata": {},
     "output_type": "execute_result"
    }
   ],
   "source": [
    "df_players = pd.read_csv('stats_players.csv')\n",
    "df_players"
   ]
  },
  {
   "cell_type": "markdown",
   "metadata": {
    "cell_id": "9e9e7d5dbc2f420ba40afb038a3c7b37",
    "deepnote_cell_height": 169.93333435058594,
    "deepnote_cell_type": "markdown",
    "id": "2R3b7Qe501t5",
    "owner_user_id": "d50c3174-babb-4861-9c71-7e3af66458b8"
   },
   "source": [
    "## 1.1 Predicción de Seleccionados Nacionales \n",
    "\n",
    "Como primera tarea, Renacín, intrigado por la posibilidad de saber qué tan reconocido es un jugador, le consulta a su equipo si es posible predecir si un jugador será o no seleccionado nacional a partir de sus estadísticas en el juego. \n",
    "\n",
    "<p align=\"center\">\n",
    "  <img src=\"https://thumbs.gfycat.com/ThornyFrankFoxhound-size_restricted.gif\" width=\"500\">\n",
    "</p>"
   ]
  },
  {
   "cell_type": "markdown",
   "metadata": {
    "cell_id": "4fd0ec6793474c6e8dd304827ef35c74",
    "deepnote_cell_height": 158.3333282470703,
    "deepnote_cell_type": "markdown",
    "id": "PIe_Ha58pQRC"
   },
   "source": [
    "### 1.1.1 Generación de Labels para la Clasificación [Sin Puntaje]\n",
    "\n",
    "\n",
    "Primero comience generando las labels para la clasificación. Para esto, trabaje sobre el atributo ```National_Position``` suponiendo que los valores nulos son jugadores no seleccionados para representar a su país. \n",
    "\n",
    "Hecho esto, ¿Cuantos ejemplos por cada clase se tienen? Comente lo que observa.\n",
    "\n"
   ]
  },
  {
   "cell_type": "markdown",
   "metadata": {
    "cell_id": "4bafb6f1da424f84be4eceb20d100d91",
    "deepnote_cell_height": 51.53334045410156,
    "deepnote_cell_type": "markdown",
    "tags": []
   },
   "source": [
    "**Respuesta:**"
   ]
  },
  {
   "cell_type": "code",
   "execution_count": 3,
   "metadata": {},
   "outputs": [
    {
     "name": "stdout",
     "output_type": "stream",
     "text": [
      "Total de jugadores:\n",
      "17588\n",
      "Porcentaje de seleccionados:\n",
      "6.11 %\n"
     ]
    },
    {
     "data": {
      "image/png": "[encoded data removed]",
      "text/plain": [
       "<Figure size 432x288 with 1 Axes>"
      ]
     },
     "metadata": {
      "needs_background": "light"
     },
     "output_type": "display_data"
    }
   ],
   "source": [
    "import seaborn as sns\n",
    "import matplotlib.pyplot as plt\n",
    "\n",
    "df_players[\"target\"] = df_players[\"National_Position\"].notnull().astype('int')\n",
    "df_players.drop(\"National_Position\", axis=1, inplace=True)\n",
    "\n",
    "print(\"Total de jugadores:\")\n",
    "l = len(df_players[\"target\"])\n",
    "print(l)\n",
    "print(\"Porcentaje de seleccionados:\")\n",
    "sel = len(df_players[df_players[\"target\"]==1])*100/l\n",
    "print(\"{:.2f}\".format(sel) + \" %\")\n",
    "# count plot on single categorical variable\n",
    "sns.countplot(x ='target', data = df_players)\n",
    " \n",
    "# Show the plot\n",
    "plt.show()"
   ]
  },
  {
   "cell_type": "code",
   "execution_count": 4,
   "metadata": {},
   "outputs": [
    {
     "data": {
      "text/html": [
       "<div>\n",
       "<style scoped>\n",
       "    .dataframe tbody tr th:only-of-type {\n",
       "        vertical-align: middle;\n",
       "    }\n",
       "\n",
       "    .dataframe tbody tr th {\n",
       "        vertical-align: top;\n",
       "    }\n",
       "\n",
       "    .dataframe thead th {\n",
       "        text-align: right;\n",
       "    }\n",
       "</style>\n",
       "<table border=\"1\" class=\"dataframe\">\n",
       "  <thead>\n",
       "    <tr style=\"text-align: right;\">\n",
       "      <th></th>\n",
       "      <th>Player_Id</th>\n",
       "      <th>Name</th>\n",
       "      <th>Nationality</th>\n",
       "      <th>Club_Position</th>\n",
       "      <th>Height</th>\n",
       "      <th>Weight</th>\n",
       "      <th>Preffered_Foot</th>\n",
       "      <th>Age</th>\n",
       "      <th>Work_Rate</th>\n",
       "      <th>Weak_foot</th>\n",
       "      <th>...</th>\n",
       "      <th>Jumping</th>\n",
       "      <th>Heading</th>\n",
       "      <th>Shot_Power</th>\n",
       "      <th>Finishing</th>\n",
       "      <th>Long_Shots</th>\n",
       "      <th>Curve</th>\n",
       "      <th>Freekick_Accuracy</th>\n",
       "      <th>Penalties</th>\n",
       "      <th>Volleys</th>\n",
       "      <th>target</th>\n",
       "    </tr>\n",
       "  </thead>\n",
       "  <tbody>\n",
       "    <tr>\n",
       "      <th>0</th>\n",
       "      <td>0</td>\n",
       "      <td>Cristiano Ronaldo</td>\n",
       "      <td>Portugal</td>\n",
       "      <td>LW</td>\n",
       "      <td>185</td>\n",
       "      <td>80</td>\n",
       "      <td>Right</td>\n",
       "      <td>32</td>\n",
       "      <td>High / Low</td>\n",
       "      <td>4</td>\n",
       "      <td>...</td>\n",
       "      <td>95</td>\n",
       "      <td>85</td>\n",
       "      <td>92</td>\n",
       "      <td>93</td>\n",
       "      <td>90</td>\n",
       "      <td>81</td>\n",
       "      <td>76</td>\n",
       "      <td>85</td>\n",
       "      <td>88</td>\n",
       "      <td>1</td>\n",
       "    </tr>\n",
       "    <tr>\n",
       "      <th>1</th>\n",
       "      <td>1</td>\n",
       "      <td>Lionel Messi</td>\n",
       "      <td>Argentina</td>\n",
       "      <td>RW</td>\n",
       "      <td>170</td>\n",
       "      <td>72</td>\n",
       "      <td>Left</td>\n",
       "      <td>29</td>\n",
       "      <td>Medium / Medium</td>\n",
       "      <td>4</td>\n",
       "      <td>...</td>\n",
       "      <td>68</td>\n",
       "      <td>71</td>\n",
       "      <td>85</td>\n",
       "      <td>95</td>\n",
       "      <td>88</td>\n",
       "      <td>89</td>\n",
       "      <td>90</td>\n",
       "      <td>74</td>\n",
       "      <td>85</td>\n",
       "      <td>1</td>\n",
       "    </tr>\n",
       "    <tr>\n",
       "      <th>2</th>\n",
       "      <td>2</td>\n",
       "      <td>Neymar</td>\n",
       "      <td>Brazil</td>\n",
       "      <td>LW</td>\n",
       "      <td>174</td>\n",
       "      <td>68</td>\n",
       "      <td>Right</td>\n",
       "      <td>25</td>\n",
       "      <td>High / Medium</td>\n",
       "      <td>5</td>\n",
       "      <td>...</td>\n",
       "      <td>61</td>\n",
       "      <td>62</td>\n",
       "      <td>78</td>\n",
       "      <td>89</td>\n",
       "      <td>77</td>\n",
       "      <td>79</td>\n",
       "      <td>84</td>\n",
       "      <td>81</td>\n",
       "      <td>83</td>\n",
       "      <td>1</td>\n",
       "    </tr>\n",
       "    <tr>\n",
       "      <th>3</th>\n",
       "      <td>3</td>\n",
       "      <td>Luis Suárez</td>\n",
       "      <td>Uruguay</td>\n",
       "      <td>ST</td>\n",
       "      <td>182</td>\n",
       "      <td>85</td>\n",
       "      <td>Right</td>\n",
       "      <td>30</td>\n",
       "      <td>High / Medium</td>\n",
       "      <td>4</td>\n",
       "      <td>...</td>\n",
       "      <td>69</td>\n",
       "      <td>77</td>\n",
       "      <td>87</td>\n",
       "      <td>94</td>\n",
       "      <td>86</td>\n",
       "      <td>86</td>\n",
       "      <td>84</td>\n",
       "      <td>85</td>\n",
       "      <td>88</td>\n",
       "      <td>1</td>\n",
       "    </tr>\n",
       "    <tr>\n",
       "      <th>4</th>\n",
       "      <td>4</td>\n",
       "      <td>Manuel Neuer</td>\n",
       "      <td>Germany</td>\n",
       "      <td>GK</td>\n",
       "      <td>193</td>\n",
       "      <td>92</td>\n",
       "      <td>Right</td>\n",
       "      <td>31</td>\n",
       "      <td>Medium / Medium</td>\n",
       "      <td>4</td>\n",
       "      <td>...</td>\n",
       "      <td>78</td>\n",
       "      <td>25</td>\n",
       "      <td>25</td>\n",
       "      <td>13</td>\n",
       "      <td>16</td>\n",
       "      <td>14</td>\n",
       "      <td>11</td>\n",
       "      <td>47</td>\n",
       "      <td>11</td>\n",
       "      <td>1</td>\n",
       "    </tr>\n",
       "    <tr>\n",
       "      <th>...</th>\n",
       "      <td>...</td>\n",
       "      <td>...</td>\n",
       "      <td>...</td>\n",
       "      <td>...</td>\n",
       "      <td>...</td>\n",
       "      <td>...</td>\n",
       "      <td>...</td>\n",
       "      <td>...</td>\n",
       "      <td>...</td>\n",
       "      <td>...</td>\n",
       "      <td>...</td>\n",
       "      <td>...</td>\n",
       "      <td>...</td>\n",
       "      <td>...</td>\n",
       "      <td>...</td>\n",
       "      <td>...</td>\n",
       "      <td>...</td>\n",
       "      <td>...</td>\n",
       "      <td>...</td>\n",
       "      <td>...</td>\n",
       "      <td>...</td>\n",
       "    </tr>\n",
       "    <tr>\n",
       "      <th>17583</th>\n",
       "      <td>17583</td>\n",
       "      <td>Adam Dunbar</td>\n",
       "      <td>Republic of Ireland</td>\n",
       "      <td>Sub</td>\n",
       "      <td>183</td>\n",
       "      <td>82</td>\n",
       "      <td>Right</td>\n",
       "      <td>19</td>\n",
       "      <td>Medium / Medium</td>\n",
       "      <td>1</td>\n",
       "      <td>...</td>\n",
       "      <td>56</td>\n",
       "      <td>14</td>\n",
       "      <td>16</td>\n",
       "      <td>13</td>\n",
       "      <td>13</td>\n",
       "      <td>11</td>\n",
       "      <td>13</td>\n",
       "      <td>15</td>\n",
       "      <td>12</td>\n",
       "      <td>0</td>\n",
       "    </tr>\n",
       "    <tr>\n",
       "      <th>17584</th>\n",
       "      <td>17584</td>\n",
       "      <td>Dylan McGoey</td>\n",
       "      <td>Republic of Ireland</td>\n",
       "      <td>Sub</td>\n",
       "      <td>185</td>\n",
       "      <td>80</td>\n",
       "      <td>Right</td>\n",
       "      <td>19</td>\n",
       "      <td>Medium / Medium</td>\n",
       "      <td>2</td>\n",
       "      <td>...</td>\n",
       "      <td>53</td>\n",
       "      <td>12</td>\n",
       "      <td>17</td>\n",
       "      <td>12</td>\n",
       "      <td>11</td>\n",
       "      <td>12</td>\n",
       "      <td>13</td>\n",
       "      <td>16</td>\n",
       "      <td>12</td>\n",
       "      <td>0</td>\n",
       "    </tr>\n",
       "    <tr>\n",
       "      <th>17585</th>\n",
       "      <td>17585</td>\n",
       "      <td>Tommy Ouldridge</td>\n",
       "      <td>England</td>\n",
       "      <td>Res</td>\n",
       "      <td>173</td>\n",
       "      <td>61</td>\n",
       "      <td>Right</td>\n",
       "      <td>18</td>\n",
       "      <td>High / Medium</td>\n",
       "      <td>2</td>\n",
       "      <td>...</td>\n",
       "      <td>61</td>\n",
       "      <td>41</td>\n",
       "      <td>44</td>\n",
       "      <td>28</td>\n",
       "      <td>42</td>\n",
       "      <td>35</td>\n",
       "      <td>36</td>\n",
       "      <td>42</td>\n",
       "      <td>37</td>\n",
       "      <td>0</td>\n",
       "    </tr>\n",
       "    <tr>\n",
       "      <th>17586</th>\n",
       "      <td>17586</td>\n",
       "      <td>Mark Foden</td>\n",
       "      <td>Scotland</td>\n",
       "      <td>Sub</td>\n",
       "      <td>180</td>\n",
       "      <td>80</td>\n",
       "      <td>Right</td>\n",
       "      <td>21</td>\n",
       "      <td>Medium / Medium</td>\n",
       "      <td>3</td>\n",
       "      <td>...</td>\n",
       "      <td>48</td>\n",
       "      <td>15</td>\n",
       "      <td>23</td>\n",
       "      <td>14</td>\n",
       "      <td>12</td>\n",
       "      <td>13</td>\n",
       "      <td>12</td>\n",
       "      <td>24</td>\n",
       "      <td>12</td>\n",
       "      <td>0</td>\n",
       "    </tr>\n",
       "    <tr>\n",
       "      <th>17587</th>\n",
       "      <td>17587</td>\n",
       "      <td>Barry Richardson</td>\n",
       "      <td>England</td>\n",
       "      <td>Sub</td>\n",
       "      <td>185</td>\n",
       "      <td>77</td>\n",
       "      <td>Right</td>\n",
       "      <td>47</td>\n",
       "      <td>Medium / Medium</td>\n",
       "      <td>2</td>\n",
       "      <td>...</td>\n",
       "      <td>51</td>\n",
       "      <td>12</td>\n",
       "      <td>13</td>\n",
       "      <td>11</td>\n",
       "      <td>16</td>\n",
       "      <td>12</td>\n",
       "      <td>11</td>\n",
       "      <td>22</td>\n",
       "      <td>12</td>\n",
       "      <td>0</td>\n",
       "    </tr>\n",
       "  </tbody>\n",
       "</table>\n",
       "<p>17588 rows × 40 columns</p>\n",
       "</div>"
      ],
      "text/plain": [
       "       Player_Id               Name          Nationality Club_Position  \\\n",
       "0              0  Cristiano Ronaldo             Portugal            LW   \n",
       "1              1       Lionel Messi            Argentina            RW   \n",
       "2              2             Neymar               Brazil            LW   \n",
       "3              3        Luis Suárez              Uruguay            ST   \n",
       "4              4       Manuel Neuer              Germany            GK   \n",
       "...          ...                ...                  ...           ...   \n",
       "17583      17583        Adam Dunbar  Republic of Ireland           Sub   \n",
       "17584      17584       Dylan McGoey  Republic of Ireland           Sub   \n",
       "17585      17585    Tommy Ouldridge              England           Res   \n",
       "17586      17586         Mark Foden             Scotland           Sub   \n",
       "17587      17587   Barry Richardson              England           Sub   \n",
       "\n",
       "       Height  Weight Preffered_Foot  Age        Work_Rate  Weak_foot  ...  \\\n",
       "0         185      80          Right   32       High / Low          4  ...   \n",
       "1         170      72           Left   29  Medium / Medium          4  ...   \n",
       "2         174      68          Right   25    High / Medium          5  ...   \n",
       "3         182      85          Right   30    High / Medium          4  ...   \n",
       "4         193      92          Right   31  Medium / Medium          4  ...   \n",
       "...       ...     ...            ...  ...              ...        ...  ...   \n",
       "17583     183      82          Right   19  Medium / Medium          1  ...   \n",
       "17584     185      80          Right   19  Medium / Medium          2  ...   \n",
       "17585     173      61          Right   18    High / Medium          2  ...   \n",
       "17586     180      80          Right   21  Medium / Medium          3  ...   \n",
       "17587     185      77          Right   47  Medium / Medium          2  ...   \n",
       "\n",
       "       Jumping  Heading  Shot_Power  Finishing  Long_Shots  Curve  \\\n",
       "0           95       85          92         93          90     81   \n",
       "1           68       71          85         95          88     89   \n",
       "2           61       62          78         89          77     79   \n",
       "3           69       77          87         94          86     86   \n",
       "4           78       25          25         13          16     14   \n",
       "...        ...      ...         ...        ...         ...    ...   \n",
       "17583       56       14          16         13          13     11   \n",
       "17584       53       12          17         12          11     12   \n",
       "17585       61       41          44         28          42     35   \n",
       "17586       48       15          23         14          12     13   \n",
       "17587       51       12          13         11          16     12   \n",
       "\n",
       "       Freekick_Accuracy  Penalties  Volleys  target  \n",
       "0                     76         85       88       1  \n",
       "1                     90         74       85       1  \n",
       "2                     84         81       83       1  \n",
       "3                     84         85       88       1  \n",
       "4                     11         47       11       1  \n",
       "...                  ...        ...      ...     ...  \n",
       "17583                 13         15       12       0  \n",
       "17584                 13         16       12       0  \n",
       "17585                 36         42       37       0  \n",
       "17586                 12         24       12       0  \n",
       "17587                 11         22       12       0  \n",
       "\n",
       "[17588 rows x 40 columns]"
      ]
     },
     "execution_count": 4,
     "metadata": {},
     "output_type": "execute_result"
    }
   ],
   "source": [
    "df_players[\"Player_Id\"] = pd.Series(range(0, len(df_players)))\n",
    "df_players = df_players[df_players.columns.tolist()[-1:] + df_players.columns.tolist()[:-1]]\n",
    "df_players"
   ]
  },
  {
   "cell_type": "code",
   "execution_count": 5,
   "metadata": {},
   "outputs": [
    {
     "name": "stdout",
     "output_type": "stream",
     "text": [
      "<class 'pandas.core.frame.DataFrame'>\n",
      "RangeIndex: 17588 entries, 0 to 17587\n",
      "Data columns (total 40 columns):\n",
      " #   Column             Non-Null Count  Dtype \n",
      "---  ------             --------------  ----- \n",
      " 0   Player_Id          17588 non-null  int64 \n",
      " 1   Name               17588 non-null  object\n",
      " 2   Nationality        17588 non-null  object\n",
      " 3   Club_Position      17587 non-null  object\n",
      " 4   Height             17588 non-null  int64 \n",
      " 5   Weight             17588 non-null  int64 \n",
      " 6   Preffered_Foot     17588 non-null  object\n",
      " 7   Age                17588 non-null  int64 \n",
      " 8   Work_Rate          17588 non-null  object\n",
      " 9   Weak_foot          17588 non-null  int64 \n",
      " 10  Skill_Moves        17588 non-null  int64 \n",
      " 11  Ball_Control       17588 non-null  int64 \n",
      " 12  Dribbling          17588 non-null  int64 \n",
      " 13  Marking            17588 non-null  int64 \n",
      " 14  Sliding_Tackle     17588 non-null  int64 \n",
      " 15  Standing_Tackle    17588 non-null  int64 \n",
      " 16  Aggression         17588 non-null  int64 \n",
      " 17  Reactions          17588 non-null  int64 \n",
      " 18  Interceptions      17588 non-null  int64 \n",
      " 19  Vision             17588 non-null  int64 \n",
      " 20  Composure          17588 non-null  int64 \n",
      " 21  Crossing           17588 non-null  int64 \n",
      " 22  Short_Pass         17588 non-null  int64 \n",
      " 23  Long_Pass          17588 non-null  int64 \n",
      " 24  Acceleration       17588 non-null  int64 \n",
      " 25  Speed              17588 non-null  int64 \n",
      " 26  Stamina            17588 non-null  int64 \n",
      " 27  Strength           17588 non-null  int64 \n",
      " 28  Balance            17588 non-null  int64 \n",
      " 29  Agility            17588 non-null  int64 \n",
      " 30  Jumping            17588 non-null  int64 \n",
      " 31  Heading            17588 non-null  int64 \n",
      " 32  Shot_Power         17588 non-null  int64 \n",
      " 33  Finishing          17588 non-null  int64 \n",
      " 34  Long_Shots         17588 non-null  int64 \n",
      " 35  Curve              17588 non-null  int64 \n",
      " 36  Freekick_Accuracy  17588 non-null  int64 \n",
      " 37  Penalties          17588 non-null  int64 \n",
      " 38  Volleys            17588 non-null  int64 \n",
      " 39  target             17588 non-null  int32 \n",
      "dtypes: int32(1), int64(34), object(5)\n",
      "memory usage: 5.3+ MB\n"
     ]
    }
   ],
   "source": [
    "df_players.info()"
   ]
  },
  {
   "cell_type": "markdown",
   "metadata": {
    "cell_id": "882716f31dd4415983e3ed8e403ddcf0",
    "deepnote_cell_height": 678.1500244140625,
    "deepnote_cell_type": "markdown",
    "id": "0F70XPRFpWH9"
   },
   "source": [
    "### 1.1.2 Camino a la clasificación [1 punto]\n",
    "\n",
    "<p align=\"center\">\n",
    "  <img src=\"https://c.tenor.com/SoXZJHWnhKAAAAAC/pitbull-medel.gif\" width=\"500\">\n",
    "</p>\n",
    "\n",
    "Para preprocesar el dataset, genere un `ColumnTransformer` en donde especifique las transformaciones que hay que realizar para cada columna (por ejemplo StandarScaler, MinMaxScaler, OneHotEncoder, etc...) para que puedan ser utilizadas correctamente por el modelo predictivo y guardelo en algúna variable.\n",
    "\n",
    "Luego, comente y justifique las transformaciones elegidas sobre cada una de las variables (para esto utilice el material ```Player_Stats_Report.html``` que viene en el zip del lab), al igual que las transformaciones aplicadas.\n",
    "\n",
    "Hecho lo anterior, **defina al menos 3 pipelines para la clasificación**, en donde utilice el mismo ColumnTransformer definido anteriormente, pero que varie entre cada pipeline los clasificadores. \n",
    "\n",
    "Para seleccionar los clasificadores más adecuados, utilice la siguiente guía:\n",
    "\n",
    "<p align=\"center\">\n",
    "  <img src=\"https://scikit-learn.org/stable/_static/ml_map.png\" width=\"500\">\n",
    "</p>\n",
    "\n",
    "<br/>\n",
    "\n",
    "Con ella, comente y justifique cada una de las decisiones tomadas al momento de desarrollar su pipeline.\n",
    "\n",
    "**Nota:** Si tiene problemas al utilizar OneHotEncoder puede utilizar el parámetro handle_unknown='ignore'. Esto hace que en la codificación se omitan las categorias que no aparecen en el entrenamiento. Pregunta dudosa (no tiene puntaje), ¿esto tiene sentido a nivel de modelos?.\n",
    "\n",
    "**To-Do:**\n",
    "\n",
    "- [ ] Genere un ```ColumnTransformer``` enfocado en preprocesar los datos.\n",
    "- [ ] Indicar y Justificar que preprocesamiento utiliza sobre cada columna.\n",
    "- [ ] Crear 3 ``pipelines`` con diferentes clasificadores.\n",
    "- [ ] Para seleccionar los clasificadores base sus decisiones en la siguiente [guía](https://scikit-learn.org/stable/tutorial/machine_learning_map/index.html)\n",
    "- [ ] No entrenar los ``pipelines`` aún.\n",
    "\n",
    "**Nota:** No es necesario entrenar los clasificadores aún."
   ]
  },
  {
   "cell_type": "markdown",
   "metadata": {
    "cell_id": "494effcc7471436084ebd22e15296fb9",
    "deepnote_cell_height": 51.53334045410156,
    "deepnote_cell_type": "markdown",
    "tags": []
   },
   "source": [
    "**Respuesta:**"
   ]
  },
  {
   "cell_type": "code",
   "execution_count": 44,
   "metadata": {},
   "outputs": [],
   "source": [
    "from sklearn.base import BaseEstimator,TransformerMixin\n",
    "class IdentityTransformer(BaseEstimator, TransformerMixin):\n",
    "    def __init__(self):\n",
    "        pass\n",
    "    \n",
    "    def fit(self, input_array, y=None):\n",
    "        return self\n",
    "    \n",
    "    def transform(self, input_array, y=None):\n",
    "        return input_array*1"
   ]
  },
  {
   "cell_type": "code",
   "execution_count": 102,
   "metadata": {},
   "outputs": [],
   "source": [
    "ToNormalStandarScaler = Pipeline([('yeo-johnson', PowerTransformer(method='yeo-johnson')),\n",
    "                                  ('scaler', StandardScaler())\n",
    "                                 ])\n",
    "\n",
    "preprocessing_transformer = ColumnTransformer(\n",
    "    transformers=[\n",
    "        ('ReduceCardOneHotEncoder1', OneHotEncoder(sparse=False, min_frequency=0.03, handle_unknown='infrequent_if_exist'),  ['Nationality','Club_Position']),\n",
    "        ('OneHotEncoder1', OneHotEncoder(sparse=False),  ['Work_Rate']),\n",
    "        ('OneHotEncoder2', OneHotEncoder(sparse=False, drop='if_binary'),  ['Preffered_Foot']),\n",
    "        ('Identity', IdentityTransformer(),  ['Weak_foot', 'Skill_Moves']),\n",
    "        ('StandardScaler', StandardScaler(),  ['Height', 'Weight']),\n",
    "        ('ToNormalStandarScaler', ToNormalStandarScaler, ['Age', 'Ball_Control', 'Dribbling',\n",
    "                                                          'Marking', 'Sliding_Tackle', 'Standing_Tackle',\n",
    "                                                          'Aggression', 'Reactions', 'Interceptions',\n",
    "                                                          'Vision', 'Composure', 'Crossing',\n",
    "                                                          'Short_Pass', 'Long_Pass', 'Acceleration',\n",
    "                                                          'Speed', 'Stamina', 'Strength',\n",
    "                                                          'Balance', 'Agility', 'Jumping',\n",
    "                                                          'Heading', 'Shot_Power', 'Finishing',\n",
    "                                                          'Long_Shots', 'Curve', 'Freekick_Accuracy',\n",
    "                                                          'Penalties', 'Volleys'])\n",
    "    ])\n",
    "\n",
    "from sklearn import svm\n",
    "\n",
    "players_pipeline1 = Pipeline([\n",
    "    ('Preprocessing', preprocessing_transformer),\n",
    "    ('Classifier', svm.SVC())\n",
    "])"
   ]
  },
  {
   "cell_type": "markdown",
   "metadata": {
    "cell_id": "b7fa6937d9a043fd93b7966fb0e81861",
    "deepnote_cell_height": 101.13333129882812,
    "deepnote_cell_type": "markdown",
    "id": "MpKq6oO3vCNL"
   },
   "source": [
    "### 1.1.3 Entrenemos los pipelines [1 punto]\n",
    "\n",
    "<p align=\"center\">\n",
    "  <img src=\"https://i.gifer.com/7Cc8.gif\" width=\"350\">\n",
    "</p>\n"
   ]
  },
  {
   "cell_type": "markdown",
   "metadata": {
    "cell_id": "5ead21d7e26d4e3da1486c9937f22968",
    "deepnote_cell_height": 454.433349609375,
    "deepnote_cell_type": "markdown",
    "id": "wE_1aZaIvOeN"
   },
   "source": [
    "Ahora, entrene los `pipeline` generados en los pasos anteriores. Para esto, primero separe los datos de entrenamiento en un conjunto de entrenamiento y de prueba  (la proporción queda a su juicio).\n",
    "\n",
    "En este paso, seleccione los ejemplos de forma aleatoria e intente mantener la distribución original de labels de cada clase en los conjuntos de prueba/entrenamiento. (vea la documentación de `train_test_split`).\n",
    "\n",
    "\n",
    "Luego, entrene los pipelines\n",
    "\n",
    "Una vez entrenado su modelo, evalue su rendimiento a través de diferentes métricas, comentando que significa cada uno de los valores obtenidos. Puede usar la función `classification_report` para corroborar sus resultados.\n",
    "\n",
    "- ¿Qué implican los valores de accuracy, precisión y recall de la clase positiva (la que indica que un jugador es seleccionado nacional)?\n",
    "- ¿Podrían mejorarse los resultados?, ¿Cómo?\n",
    "- ¿Influye la cantidad de ejemplos por clase?\n",
    "\n",
    "**To-Do**:\n",
    "\n",
    "- [ ] Separar el conjunto de datos en entrenamiento y de prueba.\n",
    "- [ ] Entrenar los `pipelines`.\n",
    "- [ ] Utilizar las métricas para evaluar los modelos generados.\n"
   ]
  },
  {
   "cell_type": "markdown",
   "metadata": {
    "cell_id": "053a95315e3245b39ba9d263d932e7d4",
    "deepnote_cell_height": 51.53334045410156,
    "deepnote_cell_type": "markdown",
    "tags": []
   },
   "source": [
    "**Respuesta:**"
   ]
  },
  {
   "cell_type": "code",
   "execution_count": 103,
   "metadata": {
    "cell_id": "0148b8e4a7e24b838381dbee30b31758",
    "deepnote_cell_height": 65.13333129882812,
    "deepnote_cell_type": "code",
    "tags": []
   },
   "outputs": [],
   "source": [
    "### Código aquí ###\n",
    "X_train, X_test, y_train, y_test = train_test_split(\n",
    "    df_players.drop(columns=[\"target\"]), df_players['target'], test_size=0.2, shuffle=True, stratify=df_players['target']\n",
    ")\n",
    "\n",
    "X_train_preprocessed = pd.DataFrame(\n",
    "    preprocessing_transformer.fit_transform(X_train),\n",
    "    columns=np.concatenate(\n",
    "        [preprocessing_transformer.transformers_[0][1].get_feature_names_out(), \n",
    "         preprocessing_transformer.transformers_[1][1].get_feature_names_out(),\n",
    "         preprocessing_transformer.transformers_[2][1].get_feature_names_out(),\n",
    "        preprocessing_transformer.transformers_[3][2],\n",
    "        preprocessing_transformer.transformers_[4][2],\n",
    "        preprocessing_transformer.transformers_[5][2]], axis=0\n",
    "    ),\n",
    ")"
   ]
  },
  {
   "cell_type": "code",
   "execution_count": null,
   "metadata": {},
   "outputs": [],
   "source": []
  },
  {
   "cell_type": "code",
   "execution_count": 104,
   "metadata": {},
   "outputs": [
    {
     "name": "stdout",
     "output_type": "stream",
     "text": [
      "14070\n"
     ]
    },
    {
     "data": {
      "text/plain": [
       "0    93.887704\n",
       "1     6.112296\n",
       "Name: target, dtype: float64"
      ]
     },
     "execution_count": 104,
     "metadata": {},
     "output_type": "execute_result"
    }
   ],
   "source": [
    "# conjunto de entrenamiento\n",
    "print(len(y_train))\n",
    "y_train.value_counts() / y_train.count() * 100"
   ]
  },
  {
   "cell_type": "code",
   "execution_count": 105,
   "metadata": {},
   "outputs": [
    {
     "name": "stdout",
     "output_type": "stream",
     "text": [
      "3518\n"
     ]
    },
    {
     "data": {
      "text/plain": [
       "0    93.888573\n",
       "1     6.111427\n",
       "Name: target, dtype: float64"
      ]
     },
     "execution_count": 105,
     "metadata": {},
     "output_type": "execute_result"
    }
   ],
   "source": [
    "# conjunto de pruebas\n",
    "print(len(y_test))\n",
    "y_test.value_counts() / y_test.count() * 100"
   ]
  },
  {
   "cell_type": "code",
   "execution_count": 106,
   "metadata": {},
   "outputs": [],
   "source": [
    "players_pipeline1 = players_pipeline1.fit(X_train, y_train)"
   ]
  },
  {
   "cell_type": "code",
   "execution_count": 107,
   "metadata": {},
   "outputs": [],
   "source": [
    "y_pred = players_pipeline1.predict(X_test)"
   ]
  },
  {
   "cell_type": "code",
   "execution_count": 108,
   "metadata": {},
   "outputs": [
    {
     "data": {
      "text/plain": [
       "7009     0\n",
       "14402    0\n",
       "17498    0\n",
       "2451     0\n",
       "7924     0\n",
       "        ..\n",
       "10433    0\n",
       "2213     0\n",
       "15765    0\n",
       "567      0\n",
       "6541     0\n",
       "Name: target, Length: 3518, dtype: int32"
      ]
     },
     "execution_count": 108,
     "metadata": {},
     "output_type": "execute_result"
    }
   ],
   "source": [
    "y_test"
   ]
  },
  {
   "cell_type": "code",
   "execution_count": 109,
   "metadata": {},
   "outputs": [
    {
     "data": {
      "image/png": "[encoded data removed]",
      "text/plain": [
       "<Figure size 432x288 with 1 Axes>"
      ]
     },
     "metadata": {
      "needs_background": "light"
     },
     "output_type": "display_data"
    }
   ],
   "source": [
    "sns.countplot(data = y_train)\n",
    " \n",
    "# Show the plot\n",
    "plt.show()"
   ]
  },
  {
   "cell_type": "code",
   "execution_count": 110,
   "metadata": {},
   "outputs": [
    {
     "name": "stdout",
     "output_type": "stream",
     "text": [
      "Matriz de confusión\n",
      "\n",
      " [[3298    5]\n",
      " [ 209    6]] \n",
      "\n",
      "              precision    recall  f1-score   support\n",
      "\n",
      "           0       1.00      0.94      0.97      3507\n",
      "           1       0.03      0.55      0.05        11\n",
      "\n",
      "    accuracy                           0.94      3518\n",
      "   macro avg       0.51      0.74      0.51      3518\n",
      "weighted avg       1.00      0.94      0.97      3518\n",
      "\n"
     ]
    }
   ],
   "source": [
    "from sklearn.metrics import classification_report, confusion_matrix\n",
    "print(\"Matriz de confusión\\n\\n\", confusion_matrix(y_test, y_pred), \"\\n\")\n",
    "print(classification_report(y_pred, y_test))"
   ]
  },
  {
   "cell_type": "markdown",
   "metadata": {
    "cell_id": "2e9c35fbe33d4a38bfdf6af6de3022f3",
    "deepnote_cell_height": 106.33332824707031,
    "deepnote_cell_type": "markdown",
    "id": "QgSeo0aIx9ow"
   },
   "source": [
    "**Respuesta**:\n",
    "\n",
    "```\n",
    "Comente de resultados observados y si es posible mejorar los resultados.\n",
    "```"
   ]
  },
  {
   "cell_type": "markdown",
   "metadata": {
    "cell_id": "5aa0cc14dba04749ad3bc07a92d351d2",
    "deepnote_cell_type": "markdown",
    "id": "ix97Ho4uOARH"
   },
   "source": [
    "## 1.2 Predicción de posiciones de jugadores [2 puntos]\n",
    "\n",
    "<p align=\"center\">\n",
    "  <img src=\"https://pbs.twimg.com/media/E1rfA1aWEAYU6Ny.jpg\" width=\"500\">\n",
    "</p>"
   ]
  },
  {
   "cell_type": "markdown",
   "metadata": {
    "cell_id": "6cd2eee12b6147bc8eba66af43a1f1f7",
    "deepnote_cell_type": "markdown",
    "id": "oHAwZfV8hMsk"
   },
   "source": [
    "En una nueva jornada de desmesuradas transacciones deportivas, Renacín escuchó a sus colegas discutir acerca de que el precio de cada jugador depende en gran medida de la posición en la cancha en la que juega. Y además, que hay bastantes jugadores nuevos que no tienen muy claro en que posición verdaderamente brillarían, por lo que actualmente puede que actualmente estén jugando en posiciones sub-optimas. \n",
    "\n",
    "Viendo que los resultados del primer análisis no son tan esperanzadores, el corporeo los comanda a cambiar su tarea: ahora, les solicita que construyan un clasificador enfocado en predecir la mejor posición de los jugadores en la cancha según sus características. \n",
    "\n",
    "Para lograr esto, primero, les pide que etiqueten de la siguiente manera los valores que aparecen en el atributo ```Club_Position```, pidiendo que agrupen los valores en los siguientes grupos:\n",
    "\n",
    "**Nota**:  Renacín les recalca que **no deben utilizar los valores ```Sub``` y ```Res``` de esta columna**.\n",
    "\n",
    "```python\n",
    "ataque = ['ST', 'CF'] \n",
    "central_ataque = ['RW', 'CAM', 'LW'] \n",
    "central = ['RM', 'CM', 'LM'] \n",
    "central_defensa = ['RWB', 'CDM', 'LWB']\n",
    "defensa = ['RB', 'CB', 'LB']\n",
    "arquero = ['GK']\n",
    "```\n",
    "\n",
    "Cabe señalar que al igual como lo realizado con la clasificación binaria, deberá justificar en base a la [guía](https://scikit-learn.org/stable/tutorial/machine_learning_map/index.html) la elección del clasificador y se deben comentar los resultados obtenidos en la clasificación.\n",
    "\n",
    "**Nota:** Clasifique solamente con las clases señaladas, si observa mas clases eliminelas de la clasficación.\n",
    "\n",
    "**To-Do**:\n",
    "\n",
    "- [ ] Aplique las etiquetas descritas anteriormente en cada uno de los valores señalados en esta sección.\n",
    "- [ ] Cuente cuantos por clase quedan.\n",
    "- [ ] Entrene el nuevo pipeline y ejecute una evaluación de este.  \n",
    "- [ ] Comente los resultados obtenidos."
   ]
  },
  {
   "cell_type": "markdown",
   "metadata": {
    "cell_id": "71cd4b2ee5a74b96aa2dd4e1da166655",
    "deepnote_cell_type": "markdown",
    "tags": []
   },
   "source": [
    "**Respuesta:**"
   ]
  },
  {
   "cell_type": "code",
   "execution_count": null,
   "metadata": {
    "cell_id": "e54c0311c11e47cf917f4c7ec61370bc",
    "deepnote_cell_type": "code",
    "tags": []
   },
   "outputs": [],
   "source": [
    "### Código aquí ###"
   ]
  },
  {
   "cell_type": "markdown",
   "metadata": {
    "cell_id": "bea1283d202545a7a1008e29ee53e044",
    "deepnote_cell_type": "markdown",
    "tags": []
   },
   "source": [
    "**Respuesta**:\n",
    "\n",
    "```\n",
    "Comente de resultados observados y si es posible mejorar los resultados.\n",
    "```"
   ]
  },
  {
   "cell_type": "markdown",
   "metadata": {
    "cell_id": "f8008fda06be4d8ab7564d7362151a14",
    "deepnote_cell_type": "markdown",
    "id": "C-vkB4xoOGtM"
   },
   "source": [
    "## 1.3 Predicción de Sueldos [2 puntos]\n",
    "\n",
    "<p align=\"center\">\n",
    "  <img src=\"https://media.giphy.com/media/3oEjHWtHAFcOKS4iA0/giphy.gif\" width=\"460\">\n",
    "</p>"
   ]
  },
  {
   "cell_type": "markdown",
   "metadata": {
    "cell_id": "598c8a91d80c412091470f396af54b5f",
    "deepnote_cell_type": "markdown",
    "tags": []
   },
   "source": [
    "Queriendo ahondar aún más en el mercado del balompíe, Renacin, logra obtener (de una manera no muy formal) los sueldos de múltiples futbolistas y los guarda en el archivo ```sueldos.csv```. Con ellos les solicita que generen un regresor que les permita predecir el sueldo de los futbolistas en base a las características de los pichichis, esto, debido a su motivación por invertir y/o realizar especulación sobre los sueldos de jugadores.\n",
    "\n",
    "Renacin es claro señalando que deben seguir utilizando la [guía](https://scikit-learn.org/stable/tutorial/machine_learning_map/index.html) y comenten cada uno de los pasos realizados, para obtener su regresión lineal. Señalándoles que no aceptara un $R^2$ inferior a 0.35 para el modelo solicitado.\n",
    "\n",
    "Para esta parte usted tiene total libertad en la generación del regresor, la unica exigencia es que utilice un pipeline para generar la regresión y utilice la metrica $R^2$ para medir el rendimiento de esta.\n",
    "\n",
    "**To-Do**:\n",
    "\n",
    "- [ ] Explique en que consiste la métrica $R^2$\n",
    "- [ ] Generar un pipeline para la regresión.\n",
    "- [ ] Obtener un regresor con un $R^2$ superior a  $0.35$.\n",
    "- [ ] Comente sus resultados y si es posible mejorar los resultados obtenidos. ¿Se necesitarían más datos o otros tipos de características o una combinación de ambos?"
   ]
  },
  {
   "cell_type": "markdown",
   "metadata": {
    "cell_id": "5ce70aab37cb4924b1543eeab84e7de4",
    "deepnote_cell_type": "markdown",
    "tags": []
   },
   "source": [
    "**Respuesta**"
   ]
  },
  {
   "cell_type": "code",
   "execution_count": null,
   "metadata": {
    "cell_id": "96e8db5c5a7044b79966da981618c807",
    "deepnote_cell_type": "code",
    "tags": []
   },
   "outputs": [],
   "source": [
    "### Código aquí ###"
   ]
  },
  {
   "cell_type": "markdown",
   "metadata": {
    "cell_id": "bb39f9e88bf04d639ea5d67732450be6",
    "deepnote_cell_type": "markdown",
    "tags": []
   },
   "source": [
    "**Respuesta**:\n",
    "\n",
    "```\n",
    "Comente de resultados observados y si es posible mejorar los resultados.\n",
    "```"
   ]
  },
  {
   "cell_type": "markdown",
   "metadata": {
    "cell_id": "502994b597214d4ba2f05e2b900d895c",
    "deepnote_cell_type": "markdown",
    "id": "Rg4ZMq8ezAH6"
   },
   "source": [
    "# Conclusión\n",
    "Eso ha sido todo para el lab de hoy, recuerden que el laboratorio tiene un plazo de entrega de una semana. Cualquier duda del laboratorio, no duden en contactarnos por mail o U-cursos.\n",
    "\n",
    "<p align=\"center\">\n",
    "  <img src=\"https://media2.giphy.com/media/l1J3CbFgn5o7DGRuE/giphy.gif\">\n",
    "</p>"
   ]
  },
  {
   "cell_type": "markdown",
   "metadata": {
    "cell_id": "da6d643bcf1542a8b119a15edaf0f75c",
    "deepnote_cell_type": "markdown",
    "id": "wCL1lACBzAH7"
   },
   "source": [
    "<br>\n",
    "<center>\n",
    "<img src=\"https://i.kym-cdn.com/photos/images/original/001/194/195/b18.png\" width=100 height=50 />\n",
    "</center>\n",
    "<br>"
   ]
  },
  {
   "cell_type": "markdown",
   "metadata": {
    "created_in_deepnote_cell": true,
    "deepnote_cell_type": "markdown",
    "tags": []
   },
   "source": [
    "<a style='text-decoration:none;line-height:16px;display:flex;color:#5B5B62;padding:10px;justify-content:end;' href='https://deepnote.com?utm_source=created-in-deepnote-cell&projectId=87110296-876e-426f-b91d-aaf681223468' target=\"_blank\">\n",
    "<img alt='Created in deepnote.com' style='display:inline;max-height:16px;margin:0px;margin-right:7.5px;' src='data:image/svg+xml;base64,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' > </img>\n",
    "Created in <span style='font-weight:600;margin-left:4px;'>Deepnote</span></a>"
   ]
  }
 ],
 "metadata": {
  "colab": {
   "collapsed_sections": [],
   "name": "Laboratorio3.ipynb",
   "provenance": []
  },
  "deepnote": {},
  "deepnote_execution_queue": [],
  "deepnote_notebook_id": "41ad7e529bfb484c8f7f538003203695",
  "kernelspec": {
   "display_name": "Python 3",
   "language": "python",
   "name": "python3"
  },
  "language_info": {
   "codemirror_mode": {
    "name": "ipython",
    "version": 3
   },
   "file_extension": ".py",
   "mimetype": "text/x-python",
   "name": "python",
   "nbconvert_exporter": "python",
   "pygments_lexer": "ipython3",
   "version": "3.8.5"
  },
  "toc": {
   "base_numbering": 1,
   "nav_menu": {},
   "number_sections": true,
   "sideBar": true,
   "skip_h1_title": true,
   "title_cell": "Tabla de Contenidos",
   "title_sidebar": "Contenidos",
   "toc_cell": false,
   "toc_position": {
    "height": "calc(100% - 180px)",
    "left": "10px",
    "top": "150px",
    "width": "241.867px"
   },
   "toc_section_display": true,
   "toc_window_display": true
  },
  "varInspector": {
   "cols": {
    "lenName": 16,
    "lenType": 16,
    "lenVar": 40
   },
   "kernels_config": {
    "python": {
     "delete_cmd_postfix": "",
     "delete_cmd_prefix": "del ",
     "library": "var_list.py",
     "varRefreshCmd": "print(var_dic_list())"
    },
    "r": {
     "delete_cmd_postfix": ") ",
     "delete_cmd_prefix": "rm(",
     "library": "var_list.r",
     "varRefreshCmd": "cat(var_dic_list()) "
    }
   },
   "types_to_exclude": [
    "module",
    "function",
    "builtin_function_or_method",
    "instance",
    "_Feature"
   ],
   "window_display": false
  }
 },
 "nbformat": 4,
 "nbformat_minor": 1
}
