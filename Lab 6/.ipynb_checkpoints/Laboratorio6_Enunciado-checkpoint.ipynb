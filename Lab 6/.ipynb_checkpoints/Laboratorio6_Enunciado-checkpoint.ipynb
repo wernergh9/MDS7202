{
 "cells": [
  {
   "cell_type": "markdown",
   "metadata": {
    "cell_id": "8dd9b572c805487a9fb430fdc4ab12bb",
    "deepnote_cell_height": 156.26666259765625,
    "deepnote_cell_type": "markdown",
    "id": "XUZ1dFPHzAHl"
   },
   "source": [
    "<h1><center>Laboratorio 6: La desperación de Mr. Lepin 🐼</center></h1>\n",
    "\n",
    "<center><strong>MDS7202: Laboratorio de Programación Científica para Ciencia de Datos</strong></center>"
   ]
  },
  {
   "cell_type": "markdown",
   "metadata": {
    "cell_id": "d65413cd8566460dbceffcd13ca236e7",
    "deepnote_cell_type": "markdown",
    "id": "UD8X1uhGzAHq"
   },
   "source": [
    "### Cuerpo Docente:\n",
    "\n",
    "- Profesor: Matías Rojas y Mauricio Araneda\n",
    "- Auxiliar: Ignacio Meza D.\n",
    "- Ayudante: Rodrigo Guerra"
   ]
  },
  {
   "cell_type": "markdown",
   "metadata": {
    "cell_id": "8e9217d02d124830a9b86046600a1605",
    "deepnote_cell_height": 172.13333129882812,
    "deepnote_cell_type": "markdown",
    "id": "tXflExjqzAHr"
   },
   "source": [
    "### Equipo: SUPER IMPORTANTE - notebooks sin nombre no serán revisados\n",
    "\n",
    "- Nombre de alumno 1: Maximiliano Rosadio\n",
    "- Nombre de alumno 2: Werner González\n"
   ]
  },
  {
   "cell_type": "markdown",
   "metadata": {
    "cell_id": "010402b6d5f743b885a80d2e1c6ae11a",
    "deepnote_cell_height": 62.19999694824219,
    "deepnote_cell_type": "markdown",
    "id": "AD-V0bbZzAHr"
   },
   "source": [
    "### **Link de repositorio de GitHub:** `https://github.com/wernergh9/MDS7202.git`"
   ]
  },
  {
   "cell_type": "markdown",
   "metadata": {
    "cell_id": "3abfe63b97c946e5ba1d4061b08e7913",
    "deepnote_cell_height": 165.06666564941406,
    "deepnote_cell_type": "markdown",
    "id": "EcnsiQMkzAHr"
   },
   "source": [
    "### Indice \n",
    "\n",
    "1. [Temas a tratar](#Temas-a-tratar:)\n",
    "3. [Descripcción del laboratorio](#Descripción-del-laboratorio.)\n",
    "4. [Desarrollo](#Desarrollo)"
   ]
  },
  {
   "cell_type": "markdown",
   "metadata": {
    "cell_id": "ef0224c7a99e4b718b55493b0a1e99c4",
    "deepnote_cell_height": 724.9000244140625,
    "deepnote_cell_type": "markdown",
    "id": "6uBLPj1PzAHs"
   },
   "source": [
    "# Temas a tratar\n",
    "\n",
    "- Aplicar Pandas para obtener características de un DataFrame.\n",
    "- Aplicar Pipelines.\n",
    "- Aplicar Clusters sobre un conjunto de datos.\n",
    "\n",
    "## Reglas:\n",
    "\n",
    "- Fecha de entrega: 09/06/2021\n",
    "- **Grupos de 2 personas**\n",
    "- **Ausentes** deberán realizar la actividad solos. \n",
    "- Cualquier duda fuera del horario de clases al foro. Mensajes al equipo docente serán respondidos por este medio.\n",
    "- Prohibidas las copias. \n",
    "- Pueden usar cualquer matrial del curso que estimen conveniente.\n",
    "- Código que no se pueda ejecutar, no será revisado.\n",
    "\n",
    "### Objetivos principales del laboratorio\n",
    "\n",
    "- Comprender y aprovechar las ventajas que nos ofrece la librería `pandas` con respecto a trabajar en Python 'puro'.\n",
    "- Crear nuevas características para entrenar un modelo de clustering.\n",
    "- Comprender como aplicar pipelines de Scikit-Learn para generar procesos más limpios.\n",
    "\n",
    "El laboratorio deberá ser desarrollado sin el uso indiscriminado de iteradores nativos de python (aka \"for\", \"while\"). La idea es que aprendan a exprimir al máximo las funciones optimizadas que nos entrega `numpy`, las cuales vale mencionar, son bastante más eficientes que los iteradores nativos sobre arreglos (*o tensores*)."
   ]
  },
  {
   "cell_type": "markdown",
   "metadata": {
    "cell_id": "59664481c26f4ac4a753765269b1db6a",
    "deepnote_cell_height": 69.86666870117188,
    "deepnote_cell_type": "markdown",
    "id": "wrG4gYabzAHs"
   },
   "source": [
    "## Descripción del laboratorio."
   ]
  },
  {
   "cell_type": "markdown",
   "metadata": {
    "cell_id": "8c7bf8ea553d44c7a2efd61106a0bac2",
    "deepnote_cell_height": 61.866668701171875,
    "deepnote_cell_type": "markdown",
    "id": "MhISwri4zAHy"
   },
   "source": [
    "### Importamos librerias utiles 😸"
   ]
  },
  {
   "cell_type": "code",
   "execution_count": 1,
   "metadata": {
    "ExecuteTime": {
     "end_time": "2021-03-29T00:08:16.884674Z",
     "start_time": "2021-03-29T00:08:16.349846Z"
    },
    "cell_id": "67b4b29f0e6b48719b58d579276f2b19",
    "colab": {
     "base_uri": "https://localhost:8080/"
    },
    "deepnote_cell_height": 514.13330078125,
    "deepnote_cell_type": "code",
    "deepnote_to_be_reexecuted": false,
    "executionInfo": {
     "elapsed": 7340,
     "status": "ok",
     "timestamp": 1619926444128,
     "user": {
      "displayName": "IGNACIO ALEJANDRO MEZA",
      "photoUrl": "",
      "userId": "17011121633069169364"
     },
     "user_tz": 240
    },
    "execution_millis": 8517,
    "execution_start": 1635469788590,
    "id": "uyc33dKdzAHy",
    "outputId": "275fee3c-4ef0-4bfb-acb7-e318d613bdce",
    "source_hash": "a3741fd5"
   },
   "outputs": [
    {
     "name": "stdout",
     "output_type": "stream",
     "text": [
      "Requirement already satisfied: plotly in c:\\users\\maxro\\anaconda3\\lib\\site-packages (5.10.0)\n",
      "Requirement already satisfied: tenacity>=6.2.0 in c:\\users\\maxro\\anaconda3\\lib\\site-packages (from plotly) (8.0.1)\n"
     ]
    },
    {
     "name": "stderr",
     "output_type": "stream",
     "text": [
      "\n",
      "[notice] A new release of pip available: 22.2.2 -> 22.3\n",
      "[notice] To update, run: python.exe -m pip install --upgrade pip\n"
     ]
    }
   ],
   "source": [
    "# Libreria Core del lab.\n",
    "import numpy as np\n",
    "import pandas as pd\n",
    "import datetime\n",
    "from IPython.display import HTML\n",
    "\n",
    "# Libreria para plotear (En colab esta desactualizado plotly)\n",
    "!pip install --upgrade plotly\n",
    "import plotly.express as px\n",
    "import plotly.graph_objects as go\n",
    "\n",
    "# Librerias utiles\n",
    "from sklearn.manifold import TSNE\n",
    "from sklearn.cluster import KMeans\n",
    "from sklearn.base import BaseEstimator, TransformerMixin\n",
    "from sklearn.model_selection import train_test_split \n",
    "from sklearn.pipeline import Pipeline\n",
    "from sklearn.compose import ColumnTransformer\n",
    "from sklearn.preprocessing import FunctionTransformer"
   ]
  },
  {
   "cell_type": "code",
   "execution_count": null,
   "metadata": {
    "cell_id": "ce6a19ec6fc6486e832760ac3740d7ef",
    "deepnote_cell_height": 219.46665954589844,
    "deepnote_cell_type": "code",
    "deepnote_to_be_reexecuted": false,
    "execution_millis": 7,
    "execution_start": 1635165625274,
    "id": "gQ0-zPV4NNrq",
    "source_hash": "c60dc4a7"
   },
   "outputs": [],
   "source": [
    "# Si usted está utilizando Colabolatory le puede ser útil este código para cargar los archivos.\n",
    "try:\n",
    "    from google.colab import drive\n",
    "    drive.mount(\"/content/drive\")\n",
    "    path = 'Dirección donde tiene los archivos en el Drive'\n",
    "except: \n",
    "    print('Ignorando conexión drive-colab')"
   ]
  },
  {
   "cell_type": "markdown",
   "metadata": {
    "cell_id": "28c7a8b483d84878ac5a4f7ba882b711",
    "deepnote_cell_height": 133.86666870117188,
    "deepnote_cell_type": "markdown",
    "id": "QDwIXTh7bK_A",
    "owner_user_id": "badcc427-fd3d-4615-9296-faa43ec69cfb"
   },
   "source": [
    "# Segmentación de Clientes en Tienda de Retail 🛍️"
   ]
  },
  {
   "cell_type": "markdown",
   "metadata": {
    "cell_id": "6c6799ecc9e74272922d46a3b5a8b79e",
    "deepnote_cell_height": 294.683349609375,
    "deepnote_cell_type": "markdown",
    "tags": []
   },
   "source": [
    "<p align=\"center\">\n",
    "  <img width=300 src=\"https://s1.eestatic.com/2018/04/14/social/la_jungla_-_social_299733421_73842361_854x640.jpg\">\n",
    "</p>"
   ]
  },
  {
   "cell_type": "markdown",
   "metadata": {
    "cell_id": "160bb2695f6547448bfb0f99420f952c",
    "deepnote_cell_height": 69.86666870117188,
    "deepnote_cell_type": "markdown",
    "tags": []
   },
   "source": [
    "## 1.1 Cargar Dataset"
   ]
  },
  {
   "cell_type": "markdown",
   "metadata": {
    "cell_id": "48d29c89e3b6455083f8fac764f97f3b",
    "deepnote_cell_height": 475.066650390625,
    "deepnote_cell_type": "markdown",
    "tags": []
   },
   "source": [
    "Mr. Lepin, en una nueva reunión, le cuenta a ud y su equipo que los resultados derivados del análisis exploratorio de dato presentaron una gran utilidad para la empresa y que tiene un gran entusiasmo por continuar trabajando con ustedes.\n",
    "Es por esto, que Mr. Lepin les pide que cargue y visualicen algunas de las filas que componen el Dataset.\n",
    "A continuación un extracto de lo parlamentado en la reunión:\n",
    "\n",
    "    - Usted: Es un gran logro para nuestro equipo que usted haya encontrado excelente el EDA. ¿Qué tiene en mente ahora?\n",
    "    - Mr. Lepin: Resulta que hace algún tiempo, mientras tomaba un mojito en una reunión de gerentes en Panamá, oí a un *chato* acerca de **LRMFP**, que es un modelo que permite personificar a los clientes a través de la farbicación de distintos atributos que describen a los clientes. Lo encontré es-tu-pendo ñatito. \n",
    "    - Usted: Ehh bueno. Investigaremos acerca de este modelo y veremos lo que podemos hacer.\n",
    "\n",
    "Por ende, su siguiente tarea es calcular **LRMFP** sobre cada cliente y luego hacer un análisis de las características generadas. Para esto, el área de ventas les entrega un nuevo archivo llamado `online_retail_II_cleaned.pickle`, quien posee los datos del DataFrame original limpios y listos para obtener las características solicitadas por Mr. Lepin."
   ]
  },
  {
   "cell_type": "code",
   "execution_count": 2,
   "metadata": {
    "cell_id": "4d7d0f0855744e6c9d5a2198e5dcd690",
    "colab": {
     "base_uri": "https://localhost:8080/",
     "height": 204
    },
    "deepnote_cell_height": 489.79998779296875,
    "deepnote_cell_type": "code",
    "deepnote_output_heights": [
     177
    ],
    "deepnote_to_be_reexecuted": false,
    "executionInfo": {
     "elapsed": 77353,
     "status": "ok",
     "timestamp": 1619717831933,
     "user": {
      "displayName": "IGNACIO ALEJANDRO MEZA",
      "photoUrl": "",
      "userId": "17011121633069169364"
     },
     "user_tz": 240
    },
    "execution_millis": 466,
    "execution_start": 1635469797118,
    "id": "7FNOu-CvjV5m",
    "outputId": "90b4f92c-71df-44d4-8084-4dd06a6179e4",
    "source_hash": "d52b246c"
   },
   "outputs": [
    {
     "data": {
      "text/html": [
       "<div>\n",
       "<style scoped>\n",
       "    .dataframe tbody tr th:only-of-type {\n",
       "        vertical-align: middle;\n",
       "    }\n",
       "\n",
       "    .dataframe tbody tr th {\n",
       "        vertical-align: top;\n",
       "    }\n",
       "\n",
       "    .dataframe thead th {\n",
       "        text-align: right;\n",
       "    }\n",
       "</style>\n",
       "<table border=\"1\" class=\"dataframe\">\n",
       "  <thead>\n",
       "    <tr style=\"text-align: right;\">\n",
       "      <th></th>\n",
       "      <th>Invoice</th>\n",
       "      <th>StockCode</th>\n",
       "      <th>Description</th>\n",
       "      <th>Quantity</th>\n",
       "      <th>InvoiceDate</th>\n",
       "      <th>Price</th>\n",
       "      <th>Customer ID</th>\n",
       "      <th>Country</th>\n",
       "    </tr>\n",
       "  </thead>\n",
       "  <tbody>\n",
       "    <tr>\n",
       "      <th>0</th>\n",
       "      <td>489434</td>\n",
       "      <td>85048</td>\n",
       "      <td>15CM CHRISTMAS GLASS BALL 20 LIGHTS</td>\n",
       "      <td>12</td>\n",
       "      <td>2009-12-01 07:45:00</td>\n",
       "      <td>6.95</td>\n",
       "      <td>13085.0</td>\n",
       "      <td>United Kingdom</td>\n",
       "    </tr>\n",
       "    <tr>\n",
       "      <th>1</th>\n",
       "      <td>489434</td>\n",
       "      <td>79323P</td>\n",
       "      <td>PINK CHERRY LIGHTS</td>\n",
       "      <td>12</td>\n",
       "      <td>2009-12-01 07:45:00</td>\n",
       "      <td>6.75</td>\n",
       "      <td>13085.0</td>\n",
       "      <td>United Kingdom</td>\n",
       "    </tr>\n",
       "    <tr>\n",
       "      <th>2</th>\n",
       "      <td>489434</td>\n",
       "      <td>79323W</td>\n",
       "      <td>WHITE CHERRY LIGHTS</td>\n",
       "      <td>12</td>\n",
       "      <td>2009-12-01 07:45:00</td>\n",
       "      <td>6.75</td>\n",
       "      <td>13085.0</td>\n",
       "      <td>United Kingdom</td>\n",
       "    </tr>\n",
       "    <tr>\n",
       "      <th>3</th>\n",
       "      <td>489434</td>\n",
       "      <td>22041</td>\n",
       "      <td>RECORD FRAME 7\" SINGLE SIZE</td>\n",
       "      <td>48</td>\n",
       "      <td>2009-12-01 07:45:00</td>\n",
       "      <td>2.10</td>\n",
       "      <td>13085.0</td>\n",
       "      <td>United Kingdom</td>\n",
       "    </tr>\n",
       "    <tr>\n",
       "      <th>4</th>\n",
       "      <td>489434</td>\n",
       "      <td>21232</td>\n",
       "      <td>STRAWBERRY CERAMIC TRINKET BOX</td>\n",
       "      <td>24</td>\n",
       "      <td>2009-12-01 07:45:00</td>\n",
       "      <td>1.25</td>\n",
       "      <td>13085.0</td>\n",
       "      <td>United Kingdom</td>\n",
       "    </tr>\n",
       "  </tbody>\n",
       "</table>\n",
       "</div>"
      ],
      "text/plain": [
       "  Invoice StockCode                          Description  Quantity  \\\n",
       "0  489434     85048  15CM CHRISTMAS GLASS BALL 20 LIGHTS        12   \n",
       "1  489434    79323P                   PINK CHERRY LIGHTS        12   \n",
       "2  489434    79323W                  WHITE CHERRY LIGHTS        12   \n",
       "3  489434     22041         RECORD FRAME 7\" SINGLE SIZE         48   \n",
       "4  489434     21232       STRAWBERRY CERAMIC TRINKET BOX        24   \n",
       "\n",
       "          InvoiceDate  Price Customer ID         Country  \n",
       "0 2009-12-01 07:45:00   6.95     13085.0  United Kingdom  \n",
       "1 2009-12-01 07:45:00   6.75     13085.0  United Kingdom  \n",
       "2 2009-12-01 07:45:00   6.75     13085.0  United Kingdom  \n",
       "3 2009-12-01 07:45:00   2.10     13085.0  United Kingdom  \n",
       "4 2009-12-01 07:45:00   1.25     13085.0  United Kingdom  "
      ]
     },
     "execution_count": 2,
     "metadata": {},
     "output_type": "execute_result"
    }
   ],
   "source": [
    "df_retail = pd.read_pickle(\"online_retail_II_cleaned.pickle\")\n",
    "df_retail = df_retail.astype(\n",
    "    {\n",
    "        \"Invoice\": \"category\",\n",
    "        \"StockCode\": \"category\",\n",
    "        \"Description\": \"category\",\n",
    "        \"Description\": str,\n",
    "        \"Customer ID\": \"category\",\n",
    "        \"Country\": \"category\"\n",
    "    }\n",
    ")\n",
    "df_retail.head()\n"
   ]
  },
  {
   "cell_type": "markdown",
   "metadata": {
    "cell_id": "060e1885d93d4325a313fded82de1921",
    "deepnote_cell_height": 109.86666870117188,
    "deepnote_cell_type": "markdown",
    "tags": []
   },
   "source": [
    "## 1.2 Creación de nuevas Caracteristicas [2 Puntos] "
   ]
  },
  {
   "cell_type": "markdown",
   "metadata": {
    "cell_id": "e650f364c9c64b079603f6d9312d2d13",
    "deepnote_cell_height": 862.933349609375,
    "deepnote_cell_type": "markdown",
    "tags": []
   },
   "source": [
    "Como ya se les comento, Mr. Lepin esta interesado en obtener las características **LRMFP**, para esto les señala que estas características se construyen en base a las siguientes definiciones:\n",
    "\n",
    "- **Length (L)**: Intervalo de tiempo, en días, entre la primera y la última visita del cliente. Mientras mas grande sea el valor, mas fiel es el cliente.\n",
    "- **Recency (R)**: Indica la actualidad de la interacción de un cliente con la empresa, y da información sobre la tendencia a repetir la compra. Se define como: \n",
    "$$Recency(n)=\\dfrac{1}{n} \\sum^n_{i=1} date\\_diff(t_{fecha final}, t_{m-i+1})$$\n",
    "\n",
    " Donde $date\\_diff$ representa la diferencia en días entre la fecha de finalización del periodo de observación ($t_{fecha final}$), y la fecha de una visita del cliente cercana a $t_{fecha final}$, $t_{m-i+1}; t_{m}$ es la última visita del cliente; y n es el número de visitas recientes del cliente consideradas.\n",
    "\n",
    "- **Monetary (M)**: El término \"monetario\" se refiere a la cantidad media de dinero gastada por cada visita del cliente durante el período de observación y refleja la contribución del cliente a los ingresos de la empresa.\n",
    "\n",
    "- **Frequency (F)**: Se refiere al número total de visitas del cliente durante el periodo de observación. Cuanto mayor sea la frecuencia, mayor será la fidelidad del cliente. \n",
    "\n",
    "- **Periodicity (P)**: Representa si los clientes visitan las tiendas con regularidad.\n",
    "\n",
    "$$Periodicity(n)=std(IVT_1, ..., IVT_n)$$\n",
    "\n",
    "&nbsp;&nbsp; &nbsp;&nbsp;&nbsp;&nbsp;&nbsp;&nbsp;Donde $IVT$ denota el tiempo entre visitas y n representa el número de valores de tiempo entre visitas de un cliente.\n",
    " \n",
    "\n",
    "$$IVT_i=date\\_diff(t_{i+1},t)$$\n",
    "\n",
    "En base a las definiciones señaladas, diseñe una función que permita obtener las características **LRMFP** recibiendo un DataFrame como entrada. Para esto, no estará permitido el uso de iteradores, utilice todas las herramientas que les ofrece `pandas` para realizar esto.\n",
    "\n",
    "Una referencia que le puede ser útil es el [documento original](https://www.researchgate.net/publication/315979555_LRFMP_model_for_customer_segmentation_in_the_grocery_retail_industry_a_case_study) en donde se propone este método.\n",
    "\n",
    "**Nota:** Para la $fechafinal$ utilice la fecha máxima del dataset más 1 día."
   ]
  },
  {
   "cell_type": "markdown",
   "metadata": {
    "cell_id": "bee8d549c7c043a5b0cafae0543afadf",
    "deepnote_cell_height": 212.6666717529297,
    "deepnote_cell_type": "markdown",
    "tags": []
   },
   "source": [
    "**Ejemplo de Resultado Esperado:**\n",
    "\n",
    "| Customer ID | Length | Recency | Frequency | Monetary | Periodicity |\n",
    "|------------:|-------:|--------:|----------:|---------:|------------:|\n",
    "|   12346.0   |    294 |      67 |        46 |   -64.68 |        37.0 |\n",
    "|   12347.0   |     37 |       3 |        71 |  1323.32 |         0.0 |\n",
    "|   12349.0   |    327 |      43 |       107 |  2646.99 |        78.0 |\n",
    "|   12352.0   |     16 |      11 |        18 |   343.80 |         0.0 |\n",
    "|   12356.0   |     44 |      16 |        84 |  3562.25 |        12.0 |"
   ]
  },
  {
   "cell_type": "markdown",
   "metadata": {
    "cell_id": "3c7f8a4a06a44cbd8d50e8a4decf4c71",
    "deepnote_cell_height": 52.26666259765625,
    "deepnote_cell_type": "markdown",
    "tags": []
   },
   "source": [
    "**Respuesta:**"
   ]
  },
  {
   "cell_type": "code",
   "execution_count": 3,
   "metadata": {
    "cell_id": "39a8b98eacdc43a4bdfeaa138b746198",
    "deepnote_cell_height": 83.86666870117188,
    "deepnote_cell_type": "code",
    "owner_user_id": "8c58f50a-7a08-41a2-952e-38bdb7507048",
    "tags": []
   },
   "outputs": [],
   "source": [
    "def custom_features(dataframe_in):\n",
    "    df = dataframe_in.copy()\n",
    "    \n",
    "    # Length\n",
    "    df_length = (df.groupby([\"Customer ID\"])\n",
    "                      .agg({\"InvoiceDate\": [\"max\", \"min\"]})\n",
    "                      )[\"InvoiceDate\"]\n",
    "    df_length[\"Length\"] = df_length.apply(lambda row: (row[\"max\"]-row[\"min\"]).days, axis=1)\n",
    "    df_length = df_length.drop(columns=[\"max\", \"min\"])\n",
    "    \n",
    "    #Recency\n",
    "    \n",
    "    df_recency = (df.copy()[['Customer ID', 'InvoiceDate']])\n",
    "    df_recency['InvoiceDate'] = pd.to_datetime(df_recency['InvoiceDate']).dt.normalize()\n",
    "    df_recency = df_recency[~df_recency.duplicated(['Customer ID','InvoiceDate'], keep=\"first\")]\n",
    "    \n",
    "    df_recency = pd.merge(left=df_recency,\n",
    "                              right=(df_recency.groupby([\"Customer ID\"])\n",
    "                                       .agg({\"InvoiceDate\": [\"max\"]}))[\"InvoiceDate\"],\n",
    "                              on=\"Customer ID\",\n",
    "                              how=\"left\",\n",
    "                              )\n",
    "    \n",
    "    df_recency[\"date_diff\"] = df_recency.apply(lambda row: (row[\"max\"]-row[\"InvoiceDate\"]).days+1, axis=1)\n",
    "    df_recency = ((df_recency.groupby([\"Customer ID\"])\n",
    "                  .agg({\"date_diff\": [\"mean\"]}))[\"date_diff\"]\n",
    "                  .rename(columns={\"mean\":\"Recency\"})\n",
    "                  .astype({\"Recency\": int}))\n",
    "    \n",
    "    #Monetary\n",
    "    \n",
    "    df[\"Monetary\"] = df[\"Price\"]*df[\"Quantity\"]\n",
    "    df_monetary = df.groupby(['Customer ID']).agg({'Monetary': 'mean'})\n",
    "    df_monetary = pd.DataFrame(df_monetary[\"Monetary\"])\n",
    "    \n",
    "    #Frequency\n",
    "    \n",
    "    df_frequency = (df.copy()[['Customer ID', 'InvoiceDate']])\n",
    "    df_frequency['InvoiceDate'] = pd.to_datetime(df_frequency['InvoiceDate']).dt.normalize()\n",
    "    df_frequency = df_frequency[~df_frequency.duplicated(['Customer ID','InvoiceDate'], keep=\"first\")]\n",
    "    \n",
    "    df_frequency = df_frequency.groupby(['Customer ID']).count()\n",
    "    df_frequency.rename(columns = {'InvoiceDate':'Frequency'}, inplace = True)\n",
    "    \n",
    "    # Periodicity\n",
    "    \n",
    "    df_periodicity = (df.copy()[['Customer ID', 'InvoiceDate']])\n",
    "    df_periodicity['InvoiceDate'] = pd.to_datetime(df_periodicity['InvoiceDate']).dt.normalize()\n",
    "    df_periodicity = df_periodicity[~df_periodicity.duplicated(['Customer ID','InvoiceDate'], keep=\"first\")]\n",
    "    \n",
    "    df_periodicity = df_periodicity.sort_values(['Customer ID', 'InvoiceDate'])\n",
    "    \n",
    "    df_periodicity['IVT'] = (df_periodicity['InvoiceDate'] - df_periodicity['InvoiceDate'].shift(1))\n",
    "    df_periodicity = (df_periodicity[df_periodicity['Customer ID'] == df_periodicity['Customer ID'].shift()]\n",
    "                     .astype({\"IVT\": 'timedelta64[D]'}))\n",
    "    \n",
    "    df_periodicity =((df_periodicity.groupby([\"Customer ID\"])\n",
    "                     .agg({\"IVT\": [\"std\"]}))[\"IVT\"]\n",
    "                     .rename(columns={\"std\":\"Periodicity\"}))\n",
    "    \n",
    "    df_periodicity[\"Periodicity\"] = df_periodicity[\"Periodicity\"].fillna(0).astype(int)\n",
    "\n",
    "    # LRMFP\n",
    "    \n",
    "    LRMFP = pd.concat([df_length, df_recency, df_monetary, df_frequency, df_periodicity], axis=1)\n",
    "    \n",
    "    return LRMFP\n"
   ]
  },
  {
   "cell_type": "markdown",
   "metadata": {
    "cell_id": "e227578abc624b36bedcf300ab03dec3",
    "deepnote_cell_height": 52.26666259765625,
    "deepnote_cell_type": "markdown",
    "tags": []
   },
   "source": [
    "**Resúesta de Pauta:**"
   ]
  },
  {
   "cell_type": "code",
   "execution_count": 48,
   "metadata": {},
   "outputs": [
    {
     "data": {
      "text/html": [
       "<div>\n",
       "<style scoped>\n",
       "    .dataframe tbody tr th:only-of-type {\n",
       "        vertical-align: middle;\n",
       "    }\n",
       "\n",
       "    .dataframe tbody tr th {\n",
       "        vertical-align: top;\n",
       "    }\n",
       "\n",
       "    .dataframe thead th {\n",
       "        text-align: right;\n",
       "    }\n",
       "</style>\n",
       "<table border=\"1\" class=\"dataframe\">\n",
       "  <thead>\n",
       "    <tr style=\"text-align: right;\">\n",
       "      <th></th>\n",
       "      <th>Length</th>\n",
       "      <th>Recency</th>\n",
       "      <th>Monetary</th>\n",
       "      <th>Frequency</th>\n",
       "      <th>Periodicity</th>\n",
       "    </tr>\n",
       "    <tr>\n",
       "      <th>Customer ID</th>\n",
       "      <th></th>\n",
       "      <th></th>\n",
       "      <th></th>\n",
       "      <th></th>\n",
       "      <th></th>\n",
       "    </tr>\n",
       "  </thead>\n",
       "  <tbody>\n",
       "    <tr>\n",
       "      <th>12346.0</th>\n",
       "      <td>196</td>\n",
       "      <td>144</td>\n",
       "      <td>11.298788</td>\n",
       "      <td>7</td>\n",
       "      <td>43</td>\n",
       "    </tr>\n",
       "    <tr>\n",
       "      <th>12347.0</th>\n",
       "      <td>37</td>\n",
       "      <td>19</td>\n",
       "      <td>18.638310</td>\n",
       "      <td>2</td>\n",
       "      <td>0</td>\n",
       "    </tr>\n",
       "    <tr>\n",
       "      <th>12348.0</th>\n",
       "      <td>0</td>\n",
       "      <td>1</td>\n",
       "      <td>11.108000</td>\n",
       "      <td>1</td>\n",
       "      <td>0</td>\n",
       "    </tr>\n",
       "    <tr>\n",
       "      <th>12349.0</th>\n",
       "      <td>181</td>\n",
       "      <td>116</td>\n",
       "      <td>26.187647</td>\n",
       "      <td>3</td>\n",
       "      <td>101</td>\n",
       "    </tr>\n",
       "    <tr>\n",
       "      <th>12351.0</th>\n",
       "      <td>0</td>\n",
       "      <td>1</td>\n",
       "      <td>14.330000</td>\n",
       "      <td>1</td>\n",
       "      <td>0</td>\n",
       "    </tr>\n",
       "    <tr>\n",
       "      <th>...</th>\n",
       "      <td>...</td>\n",
       "      <td>...</td>\n",
       "      <td>...</td>\n",
       "      <td>...</td>\n",
       "      <td>...</td>\n",
       "    </tr>\n",
       "    <tr>\n",
       "      <th>18283.0</th>\n",
       "      <td>275</td>\n",
       "      <td>176</td>\n",
       "      <td>2.854240</td>\n",
       "      <td>5</td>\n",
       "      <td>61</td>\n",
       "    </tr>\n",
       "    <tr>\n",
       "      <th>18284.0</th>\n",
       "      <td>0</td>\n",
       "      <td>1</td>\n",
       "      <td>16.488571</td>\n",
       "      <td>1</td>\n",
       "      <td>0</td>\n",
       "    </tr>\n",
       "    <tr>\n",
       "      <th>18285.0</th>\n",
       "      <td>0</td>\n",
       "      <td>1</td>\n",
       "      <td>35.583333</td>\n",
       "      <td>1</td>\n",
       "      <td>0</td>\n",
       "    </tr>\n",
       "    <tr>\n",
       "      <th>18286.0</th>\n",
       "      <td>247</td>\n",
       "      <td>124</td>\n",
       "      <td>19.349701</td>\n",
       "      <td>2</td>\n",
       "      <td>0</td>\n",
       "    </tr>\n",
       "    <tr>\n",
       "      <th>18287.0</th>\n",
       "      <td>188</td>\n",
       "      <td>84</td>\n",
       "      <td>27.596588</td>\n",
       "      <td>3</td>\n",
       "      <td>45</td>\n",
       "    </tr>\n",
       "  </tbody>\n",
       "</table>\n",
       "<p>4314 rows × 5 columns</p>\n",
       "</div>"
      ],
      "text/plain": [
       "             Length  Recency   Monetary  Frequency  Periodicity\n",
       "Customer ID                                                    \n",
       "12346.0         196      144  11.298788          7           43\n",
       "12347.0          37       19  18.638310          2            0\n",
       "12348.0           0        1  11.108000          1            0\n",
       "12349.0         181      116  26.187647          3          101\n",
       "12351.0           0        1  14.330000          1            0\n",
       "...             ...      ...        ...        ...          ...\n",
       "18283.0         275      176   2.854240          5           61\n",
       "18284.0           0        1  16.488571          1            0\n",
       "18285.0           0        1  35.583333          1            0\n",
       "18286.0         247      124  19.349701          2            0\n",
       "18287.0         188       84  27.596588          3           45\n",
       "\n",
       "[4314 rows x 5 columns]"
      ]
     },
     "metadata": {},
     "output_type": "display_data"
    }
   ],
   "source": [
    "LRMFP = custom_features(df_retail)\n",
    "display(LRMFP)"
   ]
  },
  {
   "cell_type": "markdown",
   "metadata": {
    "cell_id": "e4adca3e05c741df93087e2a0638ef7d",
    "deepnote_cell_height": 69.86666870117188,
    "deepnote_cell_type": "markdown",
    "tags": []
   },
   "source": [
    "## 1.3 Pipelines 👷"
   ]
  },
  {
   "cell_type": "markdown",
   "metadata": {
    "cell_id": "20e2c59abf64489d8cabc5c230e86fd2",
    "deepnote_cell_height": 133.46665954589844,
    "deepnote_cell_type": "markdown",
    "tags": []
   },
   "source": [
    "Finalmente *Don Mora* le pregunta si seria posible realizar un pipeline para realizar una segmentación de los clientes con los nuevos datos generados, a lo que usted responde que **sí** y propone la utilización de k-means para la segmentación.\n",
    "\n",
    "A continuación siga los pasos requeridos para obtener la segmentación de clientes."
   ]
  },
  {
   "cell_type": "markdown",
   "metadata": {
    "cell_id": "c6162b8b49a045bba12f9b17b51f21bf",
    "deepnote_cell_height": 61.866668701171875,
    "deepnote_cell_type": "markdown",
    "tags": []
   },
   "source": [
    "### 1.3.1 Estandarizar Caracteristicas [0.5 puntos]"
   ]
  },
  {
   "cell_type": "markdown",
   "metadata": {
    "cell_id": "94c48775ecb4496d970fbd920f65c126",
    "deepnote_cell_height": 268.70001220703125,
    "deepnote_cell_type": "markdown",
    "tags": []
   },
   "source": [
    "Construya una clase llamada ``MinMax()`` utilizando ``BaseEstimator`` y ``TransformerMixin`` para realizar una transformación de cada una de las columnas de un DataFrame utilizando ``ColumnTransformer()`` más tarde (tome como referencia el siguiente [enlace](https://sklearn-template.readthedocs.io/en/latest/user_guide.html#transformer)).\n",
    "\n",
    "\n",
    " Para esto considere que Min-Max escaler queda dada por la ecuación:\n",
    "\n",
    "$$MinMax = \\dfrac{x-min(x)}{max(x) - min(x)}$$\n",
    "\n",
    "Con esto buscamos que los valores que componen a las columnas se muevan en el rango de valores $[0, 1]$."
   ]
  },
  {
   "cell_type": "markdown",
   "metadata": {
    "cell_id": "c087d1fa8aa94d7485fe1292bf628660",
    "deepnote_cell_height": 52.26666259765625,
    "deepnote_cell_type": "markdown",
    "tags": []
   },
   "source": [
    "**Respuesta:**"
   ]
  },
  {
   "cell_type": "code",
   "execution_count": 9,
   "metadata": {
    "cell_id": "07cb4dcf097c4c6baabb9ae2bda25caf",
    "deepnote_cell_height": 83.86666870117188,
    "deepnote_cell_type": "code",
    "tags": []
   },
   "outputs": [],
   "source": [
    "class MinMax(BaseEstimator, TransformerMixin):\n",
    "    \n",
    "    def fit(self, X, y=None):\n",
    "        return self\n",
    "    \n",
    "    def transform(self, X):\n",
    "        \n",
    "        mn, mx = X.min(), X.max()\n",
    "        X_scaled = (X - mn) / (mx - mn)\n",
    "        \n",
    "        return X_scaled\n"
   ]
  },
  {
   "cell_type": "code",
   "execution_count": 10,
   "metadata": {},
   "outputs": [],
   "source": [
    "columns = [\"Length\", \"Recency\", \"Frequency\", \"Monetary\", \"Periodicity\"]\n",
    "ct = ColumnTransformer([(\"MinMax\", MinMax(), columns)])\n",
    "\n",
    "pipe = Pipeline([(\"Preprocesamiento\", ct)])\n",
    "#pipe.fit_transform(LRMFP)"
   ]
  },
  {
   "cell_type": "markdown",
   "metadata": {
    "cell_id": "b280dbe181ce4d80a6a5b5f563c842e7",
    "deepnote_cell_height": 62.19999694824219,
    "deepnote_cell_type": "markdown",
    "tags": []
   },
   "source": [
    "### 1.3.2 `T-SNA` Pipeline [1.0 puntos]"
   ]
  },
  {
   "cell_type": "markdown",
   "metadata": {
    "cell_id": "c532e63f2fd541cda5b741d2f24c1ea8",
    "deepnote_cell_height": 413.8666687011719,
    "deepnote_cell_type": "markdown",
    "tags": []
   },
   "source": [
    "Para comenzar introduciéndose en el uso de pipeline, decide probar realizando un pipeline enfocado en la reducción de dimensionalidad y así hacer no decepcionar a Mr. Lepin con la clusterización del modelo. \n",
    "\n",
    "Configure un pipeline utilizando el algoritmo `T-SNE` sobre los datos **LRMFP**, donde, para la realización del pipeline considera los siguientes pasos:\n",
    "\n",
    "1. Como primer paso obtenga las características **LRMFP** desde el DataFrame ``df_retail_II_cleaned.pickle`` utilizando la función ``custom_features`` creada anteriormente, junto a ``FunctionTransformer()``. Considere esto como el primer paso de su pipeline.\n",
    "2. En segundo lugar usando ``ColumnTransformer()`` aplique el MinxMax scaler creado por usted sobre todas las columnas generadas en el paso anterior. \n",
    "3. Finalmente, aplique un último paso donde obtiene las 2 componentes más relevantes utilizando el algoritmo T-sne de sckit-learn.\n",
    "\n",
    "Tras aplicar las transformaciones sobre el dataset **LRMFP**, gráfique las componentes obtenidas en la reducción de dimensionalidad."
   ]
  },
  {
   "cell_type": "markdown",
   "metadata": {
    "cell_id": "a480355952a34b6cb7e72afa764091d6",
    "deepnote_cell_height": 52.26666259765625,
    "deepnote_cell_type": "markdown",
    "tags": []
   },
   "source": [
    "**Respuesta:**"
   ]
  },
  {
   "cell_type": "code",
   "execution_count": 11,
   "metadata": {
    "cell_id": "1889976b7a4c40c7825752979b577567",
    "deepnote_cell_height": 65.86666870117188,
    "deepnote_cell_type": "code",
    "tags": []
   },
   "outputs": [
    {
     "name": "stdout",
     "output_type": "stream",
     "text": [
      "[Pipeline] ............. (step 1 of 3) Processing LRMFP, total=   0.6s\n",
      "[Pipeline] .. (step 2 of 3) Processing Preprocesamiento, total=   0.0s\n",
      "[Pipeline] .............. (step 3 of 3) Processing TSNE, total=  15.8s\n"
     ]
    }
   ],
   "source": [
    "pipe = Pipeline([('LRMFP', FunctionTransformer(custom_features)),\n",
    "                 (\"Preprocesamiento\", ct),\n",
    "                 ('TSNE', TSNE())], verbose = True)\n",
    " \n",
    "# fitting the data in the pipe\n",
    "TSNE_components = pipe.fit_transform(df_retail)"
   ]
  },
  {
   "cell_type": "code",
   "execution_count": 12,
   "metadata": {},
   "outputs": [
    {
     "data": {
      "text/plain": [
       "<matplotlib.collections.PathCollection at 0x142ed5b85b0>"
      ]
     },
     "execution_count": 12,
     "metadata": {},
     "output_type": "execute_result"
    },
    {
     "data": {
      "image/png": "[encoded data removed]",
      "text/plain": [
       "<Figure size 432x288 with 1 Axes>"
      ]
     },
     "metadata": {
      "needs_background": "light"
     },
     "output_type": "display_data"
    }
   ],
   "source": [
    "import matplotlib.pyplot as plt\n",
    "plt.scatter(TSNE_components.T[0], TSNE_components.T[1]) "
   ]
  },
  {
   "cell_type": "markdown",
   "metadata": {
    "cell_id": "75015b8bec9f4985ae3535276edb9cf6",
    "deepnote_cell_height": 61.866668701171875,
    "deepnote_cell_type": "markdown",
    "tags": []
   },
   "source": [
    "### 1.3.3 Clustering"
   ]
  },
  {
   "cell_type": "markdown",
   "metadata": {
    "cell_id": "01eb144ba7b844c98b0f68dc07f1ba38",
    "deepnote_cell_height": 53.866668701171875,
    "deepnote_cell_type": "markdown",
    "tags": []
   },
   "source": [
    "#### 1.3.3.1 Método del Codo [1 puntos]"
   ]
  },
  {
   "cell_type": "markdown",
   "metadata": {
    "cell_id": "de1f59f512af42618d3a5b084f84b460",
    "deepnote_cell_height": 223.06666564941406,
    "deepnote_cell_type": "markdown",
    "tags": []
   },
   "source": [
    "Utilizando la clase creada para escalamiento, aplique el método del codo para visualizar cual es el número de clusters que mejor se ajustan a los datos. Realice esto utilizando el algoritmo K-means dentro de un pipeline para un $k \\in [1,20]$, donde k representa el número de clusters del k-means. Para la realización de esta sección y la próxima (1.3.3.2), considere los mismos pasos utilizados para el t-sne, pero permutando el algoritmo de reducción de dimensionalidad por k-means.\n",
    "\n",
    "A través del grafico obtenido, comente y justifique que valor de k escogería para realizar el k-means."
   ]
  },
  {
   "cell_type": "markdown",
   "metadata": {
    "cell_id": "a268dbe1c26b4dccbaa8c976005c9141",
    "deepnote_cell_height": 52.26666259765625,
    "deepnote_cell_type": "markdown",
    "tags": []
   },
   "source": [
    "**Respuesta:**"
   ]
  },
  {
   "cell_type": "code",
   "execution_count": 24,
   "metadata": {},
   "outputs": [],
   "source": [
    "columns2 = [\"Length\", \"Recency\", \"Frequency\", \"Monetary\", \"Periodicity\"]\n",
    "ct2 = ColumnTransformer([(\"MinMax\", MinMax(), columns2)])"
   ]
  },
  {
   "cell_type": "code",
   "execution_count": 28,
   "metadata": {},
   "outputs": [
    {
     "data": {
      "image/png": "[encoded data removed]",
      "text/plain": [
       "<Figure size 432x288 with 1 Axes>"
      ]
     },
     "metadata": {
      "needs_background": "light"
     },
     "output_type": "display_data"
    }
   ],
   "source": [
    "# Método del codo\n",
    "from sklearn.cluster import KMeans\n",
    "import matplotlib.pyplot as plt\n",
    "\n",
    "sse = []\n",
    "clusters = list(range(1, 20))\n",
    "umbral = 10\n",
    "opt_cluster = None\n",
    "opt_sse = None\n",
    "for k in clusters:\n",
    "    pipe = Pipeline([('LRMFP', FunctionTransformer(custom_features)),\n",
    "                 (\"Preprocesamiento\", ct2),\n",
    "                 ('Kmeans', KMeans(k))])\n",
    "    # fitting the data in the pipe\n",
    "    kmeans = pipe.fit(df_retail)\n",
    "    sse.append(kmeans[\"Kmeans\"].inertia_)\n",
    "    if k>1 and sse[-2]-sse[-1]>umbral:\n",
    "        opt_cluster = k\n",
    "        opt_sse = sse[-1]\n",
    "    \n",
    "plt.plot(clusters, sse, marker=\"o\")\n",
    "plt.plot(opt_cluster, opt_sse, marker=\"o\", color=\"red\")\n",
    "plt.title(\"Método del codo de 1 a 20 clusters\")\n",
    "plt.grid(True)\n",
    "plt.show()"
   ]
  },
  {
   "cell_type": "markdown",
   "metadata": {
    "cell_id": "3bb5d86bc1e54cf18a851e71c2c3a3c1",
    "deepnote_cell_height": 53.866668701171875,
    "deepnote_cell_type": "markdown",
    "tags": []
   },
   "source": [
    "#### 1.3.3.2 Segmentación de Clientes con K-Means 🎁 [1 punto]"
   ]
  },
  {
   "cell_type": "markdown",
   "metadata": {
    "cell_id": "f8c3b4d105754ccb8a1ce6dfd606a40e",
    "deepnote_cell_height": 200.6666717529297,
    "deepnote_cell_type": "markdown",
    "tags": []
   },
   "source": [
    "En base a la elección de k realizada en la sección anterior, utilice este valor escogido y entrene un modelo de K-means utilizando el mismo pipeline de scikit-learn utilizado anteriormente.\n",
    "\n",
    "Una vez ajustado los datos, genere una tabla con los promedios (o medianas) para cada uno de los atributos, agrupando estos por el clúster que pertenecen. ¿Es posible observar agrupaciones coherentes?, ¿Qué tipo de clientes posee el retail?, Justifique su respuesta y no decepcione a Mr. Lepin.\n"
   ]
  },
  {
   "cell_type": "markdown",
   "metadata": {
    "cell_id": "dbce893901024a828d2b875798e27674",
    "deepnote_cell_height": 52.26666259765625,
    "deepnote_cell_type": "markdown",
    "tags": []
   },
   "source": [
    "**Respuesta:**"
   ]
  },
  {
   "cell_type": "code",
   "execution_count": 38,
   "metadata": {},
   "outputs": [],
   "source": [
    "pipe = Pipeline([('LRMFP', FunctionTransformer(custom_features)),\n",
    "                 (\"Preprocesamiento\", ct2),\n",
    "                 ('Kmeans', KMeans(5))])\n",
    "\n",
    "kmeans = pipe.fit(df_retail)"
   ]
  },
  {
   "cell_type": "code",
   "execution_count": 45,
   "metadata": {},
   "outputs": [
    {
     "data": {
      "text/plain": [
       "array([0, 1, 2, 3, 4])"
      ]
     },
     "execution_count": 45,
     "metadata": {},
     "output_type": "execute_result"
    }
   ],
   "source": [
    "labels = kmeans[\"Kmeans\"].labels_"
   ]
  },
  {
   "cell_type": "code",
   "execution_count": 53,
   "metadata": {},
   "outputs": [
    {
     "data": {
      "text/html": [
       "<div>\n",
       "<style scoped>\n",
       "    .dataframe tbody tr th:only-of-type {\n",
       "        vertical-align: middle;\n",
       "    }\n",
       "\n",
       "    .dataframe tbody tr th {\n",
       "        vertical-align: top;\n",
       "    }\n",
       "\n",
       "    .dataframe thead th {\n",
       "        text-align: right;\n",
       "    }\n",
       "</style>\n",
       "<table border=\"1\" class=\"dataframe\">\n",
       "  <thead>\n",
       "    <tr style=\"text-align: right;\">\n",
       "      <th></th>\n",
       "      <th>Length</th>\n",
       "      <th>Recency</th>\n",
       "      <th>Frequency</th>\n",
       "      <th>Monetary</th>\n",
       "      <th>Periodicity</th>\n",
       "    </tr>\n",
       "    <tr>\n",
       "      <th>Cluster</th>\n",
       "      <th></th>\n",
       "      <th></th>\n",
       "      <th></th>\n",
       "      <th></th>\n",
       "      <th></th>\n",
       "    </tr>\n",
       "  </thead>\n",
       "  <tbody>\n",
       "    <tr>\n",
       "      <th>1</th>\n",
       "      <td>7.187338</td>\n",
       "      <td>4.550597</td>\n",
       "      <td>1.301505</td>\n",
       "      <td>43.891490</td>\n",
       "      <td>0.483653</td>\n",
       "    </tr>\n",
       "    <tr>\n",
       "      <th>2</th>\n",
       "      <td>231.848821</td>\n",
       "      <td>115.262136</td>\n",
       "      <td>4.855756</td>\n",
       "      <td>27.484205</td>\n",
       "      <td>29.589459</td>\n",
       "    </tr>\n",
       "    <tr>\n",
       "      <th>3</th>\n",
       "      <td>337.374121</td>\n",
       "      <td>168.257384</td>\n",
       "      <td>10.873418</td>\n",
       "      <td>38.993410</td>\n",
       "      <td>28.613221</td>\n",
       "    </tr>\n",
       "    <tr>\n",
       "      <th>4</th>\n",
       "      <td>125.592443</td>\n",
       "      <td>61.603239</td>\n",
       "      <td>3.313090</td>\n",
       "      <td>27.880140</td>\n",
       "      <td>16.296896</td>\n",
       "    </tr>\n",
       "    <tr>\n",
       "      <th>5</th>\n",
       "      <td>298.373832</td>\n",
       "      <td>140.943925</td>\n",
       "      <td>3.766355</td>\n",
       "      <td>31.696998</td>\n",
       "      <td>119.009346</td>\n",
       "    </tr>\n",
       "  </tbody>\n",
       "</table>\n",
       "</div>"
      ],
      "text/plain": [
       "             Length     Recency  Frequency   Monetary  Periodicity\n",
       "Cluster                                                           \n",
       "1          7.187338    4.550597   1.301505  43.891490     0.483653\n",
       "2        231.848821  115.262136   4.855756  27.484205    29.589459\n",
       "3        337.374121  168.257384  10.873418  38.993410    28.613221\n",
       "4        125.592443   61.603239   3.313090  27.880140    16.296896\n",
       "5        298.373832  140.943925   3.766355  31.696998   119.009346"
      ]
     },
     "metadata": {},
     "output_type": "display_data"
    }
   ],
   "source": [
    "LRMFP = custom_features(df_retail)\n",
    "LRMFP[\"Cluster\"] = labels +1\n",
    "\n",
    "\n",
    "df_cluster = LRMFP.groupby(['Cluster']).agg({'Length': 'mean', 'Recency': 'mean', 'Frequency': 'mean', 'Monetary': 'mean', 'Periodicity': 'mean'})\n",
    "df_cluster = pd.DataFrame(df_cluster)\n",
    "display(df_cluster)"
   ]
  },
  {
   "cell_type": "markdown",
   "metadata": {},
   "source": [
    "Se llegó a que el número óptimo de clusters para los datos generados es de 5. Mirando los valores promedios de los atributos para cada cluster nos podemos dar cuenta de algunas cosas:\n",
    "\n",
    "* El primer tipo de cliente se podría catalogar como un cliente que fue una o un par de veces a la tienda y luego no fue más. Algo que llama la atención de este grupo es que son los que mayor valor alcanzan en la columna \"Monetary\", esto quiere decir que si bien estos clientes compran un número reducido de veces, gastan harto dinero en general o al menos existe un sub grupo de clientes de este cluster que gastaron mucho dinero cuando fueron a la tienda. \n",
    "* El segundo grupo corresponde a un grupo más fiel que el anterior, en promedio llevan harto tiempo yendo a la tienda pero no tanto como para ser considerados como el grupo más antiguo o frecuente. \n",
    "* El tercer grupo, corresponde a los clientes más fieles de la tienda, son los que más interactúan con la tienda y los que compran con más frecuencia. Este grupo quizás no realiza compras de mucho dinero en promedio, pero al ser tan recurrentes representan gran parte de las ganancias de la tienda. \n",
    "* El cuarto grupo podría caracterizarse como un grupo que está comenzando a hacerce un cliente frecuente la tienda, en comparación al grupo 2, tienen una frecuencia menor pero es debido a que llevan menos tiempo (length) yendo a la tienda, esto se compueba con la variable perioricidad, la cual indica que el grupo 4 realiza compras con mayor perioricidad que el grupo 2. Esto en general nos dice que el grupo 4 corresponde a clientes que en un periodo relativamente corto de tiempo, han ido hartas veces a la tienda.\n",
    "* Finalmente, el último grupo se puede considerar como un grupo de clientes antiguos pero que no van mucho a la tienda, sin embargo no dejan de ser clientes, a diferencia del grupo 1 que compra una sola vez y luego no vuelve. Este grupo tiene la menor perioricidad, sin embargo, también generan un ingreso importante para la tienda"
   ]
  },
  {
   "cell_type": "markdown",
   "metadata": {
    "cell_id": "18e50ee0240543d692bcde6d9c29fe73",
    "deepnote_cell_height": 261.4666748046875,
    "deepnote_cell_type": "markdown",
    "tags": []
   },
   "source": [
    "**Respuesta Esperada:**\n",
    "\n",
    "|         | Length  | Recency   | Frequency | Monetary | Periodicity |       |\n",
    "|---------|---------|-----------|----------|-------------|-------|-------|\n",
    "| Cluster |         |           |          |             |       |       |\n",
    "|    0    |   258.8 |      45.2 |     76.1 |      1107.7 | 107.6 |   449 |\n",
    "|    1    |    76.1 |     217.6 |     45.5 |       791.7 |  14.1 |   466 |\n",
    "|    2    |   368.5 |       4.8 |   2715.0 |    226621.6 |   4.2 |     4 |\n",
    "|    3    |    85.3 |      45.7 |     65.8 |      1047.0 |  10.5 |   987 |\n",
    "|    4    |   347.2 |      15.9 |   1658.0 |     35829.3 |   8.0 |    25 |\n",
    "|    5    |   298.0 |      29.8 |    183.8 |      3639.9 |  32.0 |  1188 |"
   ]
  },
  {
   "cell_type": "markdown",
   "metadata": {
    "cell_id": "f79d1fa6b1a64b6f97bffc62b037a663",
    "deepnote_cell_height": 53.866668701171875,
    "deepnote_cell_type": "markdown",
    "tags": []
   },
   "source": [
    "#### 1.3.3.3 Plot de K-Means 📈 [0.5 puntos]\n",
    "\n"
   ]
  },
  {
   "cell_type": "markdown",
   "metadata": {
    "cell_id": "2d0348435e814f16b8957dfbc6384a88",
    "deepnote_cell_height": 192.26666259765625,
    "deepnote_cell_type": "markdown",
    "owner_user_id": "d50c3174-babb-4861-9c71-7e3af66458b8",
    "tags": []
   },
   "source": [
    "Por último, Mr. Lepin, impaciente de no entender lo que usted intenta explicarle, le solicita que por favor muestre algún resultado \"visual\" de los grupos encontrados.\n",
    "\n",
    "Para esto, grafique nuevamente las características encontradas usando `T-SNE` (no calcule de nuevo, simplemente utilice las proyecciones encontradas) y agregue las labels calculadas con kmeans como el argumento `color`.   \n",
    "\n",
    "Comente: ¿Se separan bien los distintos clusters en la visualización?\n"
   ]
  },
  {
   "cell_type": "markdown",
   "metadata": {
    "cell_id": "e805388b96c04ea8a06a262229c2f799",
    "deepnote_cell_height": 52.26666259765625,
    "deepnote_cell_type": "markdown",
    "tags": []
   },
   "source": [
    "**Respuesta:**"
   ]
  },
  {
   "cell_type": "code",
   "execution_count": 57,
   "metadata": {},
   "outputs": [
    {
     "data": {
      "text/html": [
       "<div>\n",
       "<style scoped>\n",
       "    .dataframe tbody tr th:only-of-type {\n",
       "        vertical-align: middle;\n",
       "    }\n",
       "\n",
       "    .dataframe tbody tr th {\n",
       "        vertical-align: top;\n",
       "    }\n",
       "\n",
       "    .dataframe thead th {\n",
       "        text-align: right;\n",
       "    }\n",
       "</style>\n",
       "<table border=\"1\" class=\"dataframe\">\n",
       "  <thead>\n",
       "    <tr style=\"text-align: right;\">\n",
       "      <th></th>\n",
       "      <th>Cluster</th>\n",
       "      <th>Component 1</th>\n",
       "      <th>Component 2</th>\n",
       "    </tr>\n",
       "  </thead>\n",
       "  <tbody>\n",
       "    <tr>\n",
       "      <th>0</th>\n",
       "      <td>1</td>\n",
       "      <td>7.607199</td>\n",
       "      <td>5.534971</td>\n",
       "    </tr>\n",
       "    <tr>\n",
       "      <th>1</th>\n",
       "      <td>0</td>\n",
       "      <td>-11.041123</td>\n",
       "      <td>68.279732</td>\n",
       "    </tr>\n",
       "    <tr>\n",
       "      <th>2</th>\n",
       "      <td>0</td>\n",
       "      <td>-48.494144</td>\n",
       "      <td>-13.010745</td>\n",
       "    </tr>\n",
       "    <tr>\n",
       "      <th>3</th>\n",
       "      <td>1</td>\n",
       "      <td>12.499609</td>\n",
       "      <td>17.341854</td>\n",
       "    </tr>\n",
       "    <tr>\n",
       "      <th>4</th>\n",
       "      <td>0</td>\n",
       "      <td>-67.827461</td>\n",
       "      <td>-21.900465</td>\n",
       "    </tr>\n",
       "    <tr>\n",
       "      <th>...</th>\n",
       "      <td>...</td>\n",
       "      <td>...</td>\n",
       "      <td>...</td>\n",
       "    </tr>\n",
       "    <tr>\n",
       "      <th>4309</th>\n",
       "      <td>2</td>\n",
       "      <td>33.032051</td>\n",
       "      <td>3.665433</td>\n",
       "    </tr>\n",
       "    <tr>\n",
       "      <th>4310</th>\n",
       "      <td>0</td>\n",
       "      <td>-31.925900</td>\n",
       "      <td>-55.701607</td>\n",
       "    </tr>\n",
       "    <tr>\n",
       "      <th>4311</th>\n",
       "      <td>0</td>\n",
       "      <td>48.259998</td>\n",
       "      <td>39.471836</td>\n",
       "    </tr>\n",
       "    <tr>\n",
       "      <th>4312</th>\n",
       "      <td>1</td>\n",
       "      <td>1.765551</td>\n",
       "      <td>-21.055281</td>\n",
       "    </tr>\n",
       "    <tr>\n",
       "      <th>4313</th>\n",
       "      <td>1</td>\n",
       "      <td>-8.941693</td>\n",
       "      <td>13.161430</td>\n",
       "    </tr>\n",
       "  </tbody>\n",
       "</table>\n",
       "<p>4314 rows × 3 columns</p>\n",
       "</div>"
      ],
      "text/plain": [
       "      Cluster  Component 1  Component 2\n",
       "0           1     7.607199     5.534971\n",
       "1           0   -11.041123    68.279732\n",
       "2           0   -48.494144   -13.010745\n",
       "3           1    12.499609    17.341854\n",
       "4           0   -67.827461   -21.900465\n",
       "...       ...          ...          ...\n",
       "4309        2    33.032051     3.665433\n",
       "4310        0   -31.925900   -55.701607\n",
       "4311        0    48.259998    39.471836\n",
       "4312        1     1.765551   -21.055281\n",
       "4313        1    -8.941693    13.161430\n",
       "\n",
       "[4314 rows x 3 columns]"
      ]
     },
     "metadata": {},
     "output_type": "display_data"
    }
   ],
   "source": [
    "c1 = TSNE_components.T[0]\n",
    "c2 = TSNE_components.T[1]\n",
    "\n",
    "data = {\"Cluster\": labels, \"Component 1\": c1, \"Component 2\": c2}\n",
    "\n",
    "df_tsne = pd.DataFrame(data)\n",
    "display(df_tsne)"
   ]
  },
  {
   "cell_type": "code",
   "execution_count": 65,
   "metadata": {
    "cell_id": "36239002cba54f98a3778e66878b1041",
    "deepnote_cell_height": 65.86666870117188,
    "deepnote_cell_type": "code",
    "tags": []
   },
   "outputs": [
    {
     "data": {
      "image/png": "[encoded data removed]",
      "text/plain": [
       "<Figure size 432x288 with 1 Axes>"
      ]
     },
     "metadata": {
      "needs_background": "light"
     },
     "output_type": "display_data"
    }
   ],
   "source": [
    "cmap = plt.cm.viridis\n",
    "norm = plt.Normalize(df_tsne['Cluster'].values.min(), df_tsne['Cluster'].values.max())\n",
    "\n",
    "for i, dff in df_tsne.groupby(\"Cluster\"):\n",
    "    plt.scatter(dff['Component 1'], dff['Component 2'], c=cmap(norm(dff['Cluster'])), \n",
    "                edgecolors='none', label=\"Cluster {:g}\".format(i+1))\n",
    "\n",
    "plt.legend()\n",
    "plt.show()"
   ]
  },
  {
   "cell_type": "markdown",
   "metadata": {},
   "source": [
    "Del gráfico de los segmentos generados se puede ver que el algoritmo Kmeans no es el mejor para segmentar este tipo de datos, ya que por ejemplo, deja en distintos grupos un grupo de puntos que pertenece al mismo trazo (linea superior) y deja en grupos iguales a puntos que están claramente separados. Esto se puede deber a que para estos datos, es difícil establecen un centroide que pueda encapsular bien todos los datos, finalmente esto genera que exista un grupo \"exterior\" alejado del resto.\n",
    "\n",
    "Ahora, en relación a la visualización y los grupos generados, hace sentido que el grupo 1 sea tan distinto del resto, debido a lo hablado anteriormente. También el gráfico explica porque los valores de los otros grupos son más parecidos. "
   ]
  },
  {
   "cell_type": "markdown",
   "metadata": {
    "cell_id": "94721075d5ff44bd83601c871797ae2a",
    "deepnote_cell_height": 514.4666748046875,
    "deepnote_cell_type": "markdown",
    "id": "Rg4ZMq8ezAH6"
   },
   "source": [
    "# Conclusión\n",
    "Eso ha sido todo para el lab de hoy, recuerden que el laboratorio tiene un plazo de entrega de una semana y que **los días de atraso no se pueden utilizar para entregas de lab** solo para tareas. Cualquier duda del laboratorio, no duden en contactarnos por mail o U-cursos.\n",
    "\n",
    "![Gracias Totales!](https://i.pinimg.com/originals/65/ae/27/65ae270df87c3c4adcea997e48f60852.gif \"bruno\")\n"
   ]
  },
  {
   "cell_type": "markdown",
   "metadata": {
    "cell_id": "7e31a91f8cb744cabd0ed0287ac5257e",
    "deepnote_cell_height": 171.28334045410156,
    "deepnote_cell_type": "markdown",
    "id": "wCL1lACBzAH7"
   },
   "source": [
    "<br>\n",
    "<center>\n",
    "<img src=\"https://i.kym-cdn.com/photos/images/original/001/194/195/b18.png\" width=100 height=50 />\n",
    "</center>\n",
    "<br>"
   ]
  },
  {
   "cell_type": "markdown",
   "metadata": {
    "created_in_deepnote_cell": true,
    "deepnote_cell_type": "markdown",
    "tags": []
   },
   "source": [
    "<a style='text-decoration:none;line-height:16px;display:flex;color:#5B5B62;padding:10px;justify-content:end;' href='https://deepnote.com?utm_source=created-in-deepnote-cell&projectId=87110296-876e-426f-b91d-aaf681223468' target=\"_blank\">\n",
    "<img alt='Created in deepnote.com' style='display:inline;max-height:16px;margin:0px;margin-right:7.5px;' src='data:image/svg+xml;base64,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' > </img>\n",
    "Created in <span style='font-weight:600;margin-left:4px;'>Deepnote</span></a>"
   ]
  }
 ],
 "metadata": {
  "colab": {
   "collapsed_sections": [
    "Rcjs-dd1V-1u",
    "dkyp81nkBghF",
    "THmFfYs1AhAW"
   ],
   "name": "Copia de Tarea1.ipynb",
   "provenance": [],
   "toc_visible": true
  },
  "deepnote": {},
  "deepnote_execution_queue": [],
  "deepnote_notebook_id": "33c253a4f84d40a091bd5023e95abb64",
  "kernelspec": {
   "display_name": "Python 3",
   "language": "python",
   "name": "python3"
  },
  "language_info": {
   "codemirror_mode": {
    "name": "ipython",
    "version": 3
   },
   "file_extension": ".py",
   "mimetype": "text/x-python",
   "name": "python",
   "nbconvert_exporter": "python",
   "pygments_lexer": "ipython3",
   "version": "3.8.5"
  },
  "toc": {
   "base_numbering": 1,
   "nav_menu": {},
   "number_sections": true,
   "sideBar": true,
   "skip_h1_title": true,
   "title_cell": "Tabla de Contenidos",
   "title_sidebar": "Contenidos",
   "toc_cell": false,
   "toc_position": {
    "height": "calc(100% - 180px)",
    "left": "10px",
    "top": "150px",
    "width": "241.867px"
   },
   "toc_section_display": true,
   "toc_window_display": true
  },
  "varInspector": {
   "cols": {
    "lenName": 16,
    "lenType": 16,
    "lenVar": 40
   },
   "kernels_config": {
    "python": {
     "delete_cmd_postfix": "",
     "delete_cmd_prefix": "del ",
     "library": "var_list.py",
     "varRefreshCmd": "print(var_dic_list())"
    },
    "r": {
     "delete_cmd_postfix": ") ",
     "delete_cmd_prefix": "rm(",
     "library": "var_list.r",
     "varRefreshCmd": "cat(var_dic_list()) "
    }
   },
   "types_to_exclude": [
    "module",
    "function",
    "builtin_function_or_method",
    "instance",
    "_Feature"
   ],
   "window_display": false
  }
 },
 "nbformat": 4,
 "nbformat_minor": 1
}
