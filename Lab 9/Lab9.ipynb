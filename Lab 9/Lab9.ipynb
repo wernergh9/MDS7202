{
  "cells": [
    {
      "cell_type": "markdown",
      "metadata": {
        "id": "GY55z8AgI3R_"
      },
      "source": [
        "<h1><center>Laboratorio 9: Los huesos de Hipócrates 🦴</center></h1>\n",
        "\n",
        "<center><strong>MDS7202: Laboratorio de Programación Científica para Ciencia de Datos</strong></center>"
      ]
    },
    {
      "cell_type": "markdown",
      "metadata": {
        "id": "An2eAgh1I3SC"
      },
      "source": [
        "### Cuerpo Docente:\n",
        "\n",
        "- Profesor: Matías Rojas y Mauricio Araneda\n",
        "- Auxiliar: Ignacio Meza D.\n",
        "- Ayudante: Rodrigo Guerra"
      ]
    },
    {
      "cell_type": "markdown",
      "metadata": {
        "id": "BxDJnxYqI3SD"
      },
      "source": [
        "### Equipo: SUPER IMPORTANTE - notebooks sin nombre no serán revisados\n",
        "\n",
        "- Nombre de alumno 1: Werner González H\n",
        "- Nombre de alumno 2: Maximiliano Rosadio Z\n"
      ]
    },
    {
      "cell_type": "markdown",
      "metadata": {
        "id": "cJOoe9f7I3SE"
      },
      "source": [
        "### **Link de repositorio de GitHub:** `https://github.com/wernergh9/MDS7202.git`"
      ]
    },
    {
      "cell_type": "markdown",
      "metadata": {
        "id": "T6Pabsx7I3SE"
      },
      "source": [
        "### Indice \n",
        "\n",
        "1. [Temas a tratar](#Temas-a-tratar:)\n",
        "3. [Descripcción del laboratorio](#Descripción-del-laboratorio.)\n",
        "4. [Desarrollo](#Desarrollo)"
      ]
    },
    {
      "cell_type": "markdown",
      "metadata": {
        "id": "1UJwLbGNI3SE"
      },
      "source": [
        "## Temas a tratar\n",
        "\n",
        "- Creación de clasificadores de imagenes a traves de redes Fully connected y CNN.\n",
        "- Uso de Dataloaders para la carga de datasets.\n",
        "- Comparación de Fully Connected y red convolucional.\n",
        "\n",
        "## Reglas:\n",
        "\n",
        "- Fecha de entrega: 17/11/2022\n",
        "- **Grupos de 2 personas**\n",
        "- **Ausentes** deberán realizar la actividad solos. \n",
        "- Cualquier duda fuera del horario de clases al foro. Mensajes al equipo docente serán respondidos por este medio.\n",
        "- Prohibidas las copias. \n",
        "- Pueden usar cualquier material del curso que estimen conveniente.\n",
        "\n",
        "### Objetivos principales del laboratorio\n",
        "\n",
        "- Creación de modelos de clasificación de imágenes utilizando Pytorch.\n",
        "- Creación de dataloader y aplicar transformaciones sobre el dataset.\n",
        "- Comprender la diferencia entre una CNN y una Fully Connected.\n",
        "\n",
        "El laboratorio deberá ser desarrollado sin el uso indiscriminado de iteradores nativos de python (aka \"for\", \"while\"). La idea es que aprendan a exprimir al máximo las funciones de `Pytorch`, la cual, está enfocada para proyectos de Deep Learning.\n"
      ]
    },
    {
      "cell_type": "markdown",
      "metadata": {
        "id": "JR17TeZcI3SF"
      },
      "source": [
        "# Importamos librerias utiles 😸\n",
        "\n",
        "Comenzamos importando librerías utiles para la ejecución del laboratorio:"
      ]
    },
    {
      "cell_type": "code",
      "execution_count": null,
      "metadata": {
        "scrolled": true,
        "id": "nQnRivaII3SG"
      },
      "outputs": [],
      "source": [
        "import os\n",
        "import time\n",
        "from PIL import Image\n",
        "\n",
        "import pandas as pd\n",
        "import numpy as np\n",
        "\n",
        "import matplotlib.pyplot as plt\n",
        "import plotly.express as px\n",
        "\n",
        "import torch\n",
        "import torch.nn as nn\n",
        "import torch.nn.functional as F\n",
        "\n",
        "import torch.optim as optim\n",
        "from torch.optim import lr_scheduler\n",
        "from torch.autograd import Variable\n",
        "from torch.utils.data import Dataset, DataLoader\n",
        "\n",
        "import torchvision\n",
        "from torchvision import datasets, models\n",
        "from torchvision import transforms as T"
      ]
    },
    {
      "cell_type": "markdown",
      "metadata": {
        "id": "OJXFsAH1I3SH"
      },
      "source": [
        "# Identificando los Huesos de Hipócrates🔎\n",
        "\n",
        "<p align=\"center\">\n",
        "  <img src=\"https://i.pinimg.com/originals/d8/58/66/d85866cd1cc3979f94526551addf74b4.gif\" width=\"300\">\n",
        "</p>\n",
        "\n",
        "Tras el éxito que han tenido proponiendo modelos de machine learning en trabajos anteriores, el famoso medico Hipócrates se ha contactado con ustedes para solicitarles ayuda para automatizar la identificación de radiografías de partes humanas. Para esto, les señala que le gustaría utilizar algoritmos de deep learning producto que Demócrito le señalo que resultan la mejor alternativa para la predicción de imágenes.\n",
        "\n",
        "En su conversación con el medico usted le comenta que ha tenido algunas clases relacionadas a Deep Learning, por esto, están motivados en abordar el problema utilizando redes Fully Connected y redes convolucionales con Pytorch. Sin embargo, al anunciarle los tipos de redes que conocen, el filósofo les comenta que no había escuchado muy buenos resultados por parte de las CNN, por lo que les pide que comprueben a traves de la métrica de accuracy que tipo de redes es mejor para la tarea de identificación de radiografías. ¿Será cierto lo que dice el filósofo?, Veámoslo en un nuevo capítulo de los Laboratorios de Programación Científica para Ciencia de Datos!"
      ]
    },
    {
      "cell_type": "markdown",
      "metadata": {
        "id": "UTKv67i-I3SI"
      },
      "source": [
        "## 1.1 Creación de Lista de Archivos\n",
        "\n",
        "<p align=\"center\">\n",
        "  <img src=\"https://media.tenor.com/BJ-9w-MUVCMAAAAM/tis100-sad.gif\" width=\"300\">\n",
        "</p>\n"
      ]
    },
    {
      "cell_type": "markdown",
      "metadata": {
        "id": "K8zZh2SFI3SI"
      },
      "source": [
        "Comience revisando de forma manual cada una de las imágenes que posee la carpeta subida a material docente. Verifique la cantidad de tipos de radiografías que se tienen y la cantidad de imágenes que dispone cada carpeta.\n",
        "\n",
        "Revisado el contenido de las imágenes, utilice `os.listdir` para crear un `numpy.array` o un `Dataframe` que contenga las imágenes y un label que señale al tipo de radiografía a la que hace referencia la imagen. Para hacer las etiquetas codifique el tipo de imágenes en números que vayan del 0 al total de tipos de radiografías, no utilice strings para codificar las etiquetas.\n",
        "\n",
        "**Ejemplo de Estructura:**"
      ]
    },
    {
      "cell_type": "markdown",
      "metadata": {
        "id": "63AJQUnBI3SI"
      },
      "source": [
        "<style type=\"text/css\">\n",
        ".tg  {border-collapse:collapse;border-spacing:0;}\n",
        ".tg td{border-color:black;border-style:solid;border-width:1px;font-family:Arial, sans-serif;font-size:14px;\n",
        "  overflow:hidden;padding:10px 5px;word-break:normal;}\n",
        ".tg th{border-color:black;border-style:solid;border-width:1px;font-family:Arial, sans-serif;font-size:14px;\n",
        "  font-weight:normal;overflow:hidden;padding:10px 5px;word-break:normal;}\n",
        ".tg .tg-0lax{text-align:left;vertical-align:top}\n",
        "</style>\n",
        "<table class=\"tg\">\n",
        "<thead>\n",
        "  <tr>\n",
        "    <th class=\"tg-0lax\"></th>\n",
        "    <th class=\"tg-0lax\">image_path</th>\n",
        "    <th class=\"tg-0lax\">label</th>\n",
        "  </tr>\n",
        "</thead>\n",
        "<tbody>\n",
        "  <tr>\n",
        "    <td class=\"tg-0lax\">0</td>\n",
        "    <td class=\"tg-0lax\">image1</td>\n",
        "    <td class=\"tg-0lax\">1</td>\n",
        "  </tr>\n",
        "  <tr>\n",
        "    <td class=\"tg-0lax\">1</td>\n",
        "    <td class=\"tg-0lax\">image2</td>\n",
        "    <td class=\"tg-0lax\">0</td>\n",
        "  </tr>\n",
        "  <tr>\n",
        "    <td class=\"tg-0lax\">2</td>\n",
        "    <td class=\"tg-0lax\">image3</td>\n",
        "    <td class=\"tg-0lax\">2</td>\n",
        "  </tr>\n",
        "  <tr>\n",
        "    <td class=\"tg-0lax\">3</td>\n",
        "    <td class=\"tg-0lax\">image4</td>\n",
        "    <td class=\"tg-0lax\">0</td>\n",
        "  </tr>\n",
        "  <tr>\n",
        "    <td class=\"tg-0lax\">4</td>\n",
        "    <td class=\"tg-0lax\">image5</td>\n",
        "    <td class=\"tg-0lax\">4</td>\n",
        "  </tr>\n",
        "</tbody>\n",
        "</table>"
      ]
    },
    {
      "cell_type": "code",
      "source": [
        "# el archivo comprimido se descarga en la carpeta /tmp y el nombre del archivo es archive.zip\n",
        "!wget --no-check-certificate \\\n",
        "    \"https://www.dropbox.com/s/co6ee2vg5ybzyn6/Medical-MNIST.zip?dl=1\" \\\n",
        "    -O /tmp/archive.zip"
      ],
      "metadata": {
        "colab": {
          "base_uri": "https://localhost:8080/"
        },
        "id": "BFAAVwLuJcvi",
        "outputId": "fff1c0c8-8c43-45f3-e7d2-68ac48b320e3"
      },
      "execution_count": null,
      "outputs": [
        {
          "output_type": "stream",
          "name": "stdout",
          "text": [
            "--2022-11-14 15:09:21--  https://www.dropbox.com/s/co6ee2vg5ybzyn6/Medical-MNIST.zip?dl=1\n",
            "Resolving www.dropbox.com (www.dropbox.com)... 162.125.81.18, 2620:100:6030:18::a27d:5012\n",
            "Connecting to www.dropbox.com (www.dropbox.com)|162.125.81.18|:443... connected.\n",
            "HTTP request sent, awaiting response... 302 Found\n",
            "Location: /s/dl/co6ee2vg5ybzyn6/Medical-MNIST.zip [following]\n",
            "--2022-11-14 15:09:22--  https://www.dropbox.com/s/dl/co6ee2vg5ybzyn6/Medical-MNIST.zip\n",
            "Reusing existing connection to www.dropbox.com:443.\n",
            "HTTP request sent, awaiting response... 302 Found\n",
            "Location: https://uc781aa97714faeda1dfe5fe7eb9.dl.dropboxusercontent.com/cd/0/get/Bwup5_3_Sutn7EFDpU0oEI4fvg5IhNWj3_4WlMbJQpvByKjfUYkObTlBgbaYFb4Z6ArN0tYYiDqQODAz4tK6Ru2fNcrkuE2qZMh8kt9njCRWBZzz4g8jYy5NQDWIJT-pOdiqRNHZHD1yT7MGU1I0n7qeMkXh9M-5k4zBp1H8zFhuBfWoFpKbmzMYJlj-VRv3-ow/file?dl=1# [following]\n",
            "--2022-11-14 15:09:23--  https://uc781aa97714faeda1dfe5fe7eb9.dl.dropboxusercontent.com/cd/0/get/Bwup5_3_Sutn7EFDpU0oEI4fvg5IhNWj3_4WlMbJQpvByKjfUYkObTlBgbaYFb4Z6ArN0tYYiDqQODAz4tK6Ru2fNcrkuE2qZMh8kt9njCRWBZzz4g8jYy5NQDWIJT-pOdiqRNHZHD1yT7MGU1I0n7qeMkXh9M-5k4zBp1H8zFhuBfWoFpKbmzMYJlj-VRv3-ow/file?dl=1\n",
            "Resolving uc781aa97714faeda1dfe5fe7eb9.dl.dropboxusercontent.com (uc781aa97714faeda1dfe5fe7eb9.dl.dropboxusercontent.com)... 162.125.81.15, 2620:100:6030:15::a27d:500f\n",
            "Connecting to uc781aa97714faeda1dfe5fe7eb9.dl.dropboxusercontent.com (uc781aa97714faeda1dfe5fe7eb9.dl.dropboxusercontent.com)|162.125.81.15|:443... connected.\n",
            "HTTP request sent, awaiting response... 200 OK\n",
            "Length: 87937794 (84M) [application/binary]\n",
            "Saving to: ‘/tmp/archive.zip’\n",
            "\n",
            "/tmp/archive.zip    100%[===================>]  83.86M  17.4MB/s    in 5.0s    \n",
            "\n",
            "2022-11-14 15:09:29 (16.7 MB/s) - ‘/tmp/archive.zip’ saved [87937794/87937794]\n",
            "\n"
          ]
        }
      ]
    },
    {
      "cell_type": "code",
      "source": [
        "import zipfile\n",
        "\n",
        "# el contenido se descomprime en la carpeta /tmp que es una carpeta temporal del sistema. se puede cambiar para descomprimirlo donde se quiera\n",
        "local_zip = '/tmp/archive.zip'\n",
        "zip_ref = zipfile.ZipFile(local_zip, 'r')\n",
        "zip_ref.extractall('/tmp')\n",
        "zip_ref.close()"
      ],
      "metadata": {
        "id": "tqPgsbeTJ-T6"
      },
      "execution_count": null,
      "outputs": []
    },
    {
      "cell_type": "code",
      "source": [
        "import os\n",
        "base_dir = '/tmp/Medical-MNIST'\n",
        "print(os.listdir(base_dir))"
      ],
      "metadata": {
        "colab": {
          "base_uri": "https://localhost:8080/"
        },
        "id": "FEcstrGHKK4y",
        "outputId": "b372e9fb-fe49-4f63-e6ac-aed6b0f32b1e"
      },
      "execution_count": null,
      "outputs": [
        {
          "output_type": "stream",
          "name": "stdout",
          "text": [
            "['CXR', 'HeadCT', 'AbdomenCT', 'Hand', 'ChestCT', 'BreastMRI']\n"
          ]
        }
      ]
    },
    {
      "cell_type": "code",
      "execution_count": null,
      "metadata": {
        "id": "6SJUL7G_I3SJ"
      },
      "outputs": [],
      "source": [
        "# Código Aquí\n",
        "array = []\n",
        "for i, category in enumerate(os.listdir(base_dir)):\n",
        "    for image in os.listdir(base_dir+\"/\"+category):\n",
        "      image_path = base_dir+\"/\"+category+\"/\"+image\n",
        "      label = i\n",
        "      array.append([image_path, label])"
      ]
    },
    {
      "cell_type": "code",
      "source": [
        "df = pd.DataFrame(array, columns=[\"image_path\", \"label\"])\n",
        "df"
      ],
      "metadata": {
        "colab": {
          "base_uri": "https://localhost:8080/",
          "height": 424
        },
        "id": "xrXWbWtfOLzB",
        "outputId": "97bcbbf1-5ab4-4f83-f5f7-2522100b3c93"
      },
      "execution_count": null,
      "outputs": [
        {
          "output_type": "execute_result",
          "data": {
            "text/plain": [
              "                                     image_path  label\n",
              "0            /tmp/Medical-MNIST/CXR/009554.jpeg      0\n",
              "1            /tmp/Medical-MNIST/CXR/001781.jpeg      0\n",
              "2            /tmp/Medical-MNIST/CXR/007672.jpeg      0\n",
              "3            /tmp/Medical-MNIST/CXR/001733.jpeg      0\n",
              "4            /tmp/Medical-MNIST/CXR/000377.jpeg      0\n",
              "...                                         ...    ...\n",
              "58949  /tmp/Medical-MNIST/BreastMRI/001316.jpeg      5\n",
              "58950  /tmp/Medical-MNIST/BreastMRI/004407.jpeg      5\n",
              "58951  /tmp/Medical-MNIST/BreastMRI/007075.jpeg      5\n",
              "58952  /tmp/Medical-MNIST/BreastMRI/004931.jpeg      5\n",
              "58953  /tmp/Medical-MNIST/BreastMRI/000546.jpeg      5\n",
              "\n",
              "[58954 rows x 2 columns]"
            ],
            "text/html": [
              "\n",
              "  <div id=\"df-a2198ed0-23d8-43cc-9f07-ff6eeb4807d1\">\n",
              "    <div class=\"colab-df-container\">\n",
              "      <div>\n",
              "<style scoped>\n",
              "    .dataframe tbody tr th:only-of-type {\n",
              "        vertical-align: middle;\n",
              "    }\n",
              "\n",
              "    .dataframe tbody tr th {\n",
              "        vertical-align: top;\n",
              "    }\n",
              "\n",
              "    .dataframe thead th {\n",
              "        text-align: right;\n",
              "    }\n",
              "</style>\n",
              "<table border=\"1\" class=\"dataframe\">\n",
              "  <thead>\n",
              "    <tr style=\"text-align: right;\">\n",
              "      <th></th>\n",
              "      <th>image_path</th>\n",
              "      <th>label</th>\n",
              "    </tr>\n",
              "  </thead>\n",
              "  <tbody>\n",
              "    <tr>\n",
              "      <th>0</th>\n",
              "      <td>/tmp/Medical-MNIST/CXR/009554.jpeg</td>\n",
              "      <td>0</td>\n",
              "    </tr>\n",
              "    <tr>\n",
              "      <th>1</th>\n",
              "      <td>/tmp/Medical-MNIST/CXR/001781.jpeg</td>\n",
              "      <td>0</td>\n",
              "    </tr>\n",
              "    <tr>\n",
              "      <th>2</th>\n",
              "      <td>/tmp/Medical-MNIST/CXR/007672.jpeg</td>\n",
              "      <td>0</td>\n",
              "    </tr>\n",
              "    <tr>\n",
              "      <th>3</th>\n",
              "      <td>/tmp/Medical-MNIST/CXR/001733.jpeg</td>\n",
              "      <td>0</td>\n",
              "    </tr>\n",
              "    <tr>\n",
              "      <th>4</th>\n",
              "      <td>/tmp/Medical-MNIST/CXR/000377.jpeg</td>\n",
              "      <td>0</td>\n",
              "    </tr>\n",
              "    <tr>\n",
              "      <th>...</th>\n",
              "      <td>...</td>\n",
              "      <td>...</td>\n",
              "    </tr>\n",
              "    <tr>\n",
              "      <th>58949</th>\n",
              "      <td>/tmp/Medical-MNIST/BreastMRI/001316.jpeg</td>\n",
              "      <td>5</td>\n",
              "    </tr>\n",
              "    <tr>\n",
              "      <th>58950</th>\n",
              "      <td>/tmp/Medical-MNIST/BreastMRI/004407.jpeg</td>\n",
              "      <td>5</td>\n",
              "    </tr>\n",
              "    <tr>\n",
              "      <th>58951</th>\n",
              "      <td>/tmp/Medical-MNIST/BreastMRI/007075.jpeg</td>\n",
              "      <td>5</td>\n",
              "    </tr>\n",
              "    <tr>\n",
              "      <th>58952</th>\n",
              "      <td>/tmp/Medical-MNIST/BreastMRI/004931.jpeg</td>\n",
              "      <td>5</td>\n",
              "    </tr>\n",
              "    <tr>\n",
              "      <th>58953</th>\n",
              "      <td>/tmp/Medical-MNIST/BreastMRI/000546.jpeg</td>\n",
              "      <td>5</td>\n",
              "    </tr>\n",
              "  </tbody>\n",
              "</table>\n",
              "<p>58954 rows × 2 columns</p>\n",
              "</div>\n",
              "      <button class=\"colab-df-convert\" onclick=\"convertToInteractive('df-a2198ed0-23d8-43cc-9f07-ff6eeb4807d1')\"\n",
              "              title=\"Convert this dataframe to an interactive table.\"\n",
              "              style=\"display:none;\">\n",
              "        \n",
              "  <svg xmlns=\"http://www.w3.org/2000/svg\" height=\"24px\"viewBox=\"0 0 24 24\"\n",
              "       width=\"24px\">\n",
              "    <path d=\"M0 0h24v24H0V0z\" fill=\"none\"/>\n",
              "    <path d=\"M18.56 5.44l.94 2.06.94-2.06 2.06-.94-2.06-.94-.94-2.06-.94 2.06-2.06.94zm-11 1L8.5 8.5l.94-2.06 2.06-.94-2.06-.94L8.5 2.5l-.94 2.06-2.06.94zm10 10l.94 2.06.94-2.06 2.06-.94-2.06-.94-.94-2.06-.94 2.06-2.06.94z\"/><path d=\"M17.41 7.96l-1.37-1.37c-.4-.4-.92-.59-1.43-.59-.52 0-1.04.2-1.43.59L10.3 9.45l-7.72 7.72c-.78.78-.78 2.05 0 2.83L4 21.41c.39.39.9.59 1.41.59.51 0 1.02-.2 1.41-.59l7.78-7.78 2.81-2.81c.8-.78.8-2.07 0-2.86zM5.41 20L4 18.59l7.72-7.72 1.47 1.35L5.41 20z\"/>\n",
              "  </svg>\n",
              "      </button>\n",
              "      \n",
              "  <style>\n",
              "    .colab-df-container {\n",
              "      display:flex;\n",
              "      flex-wrap:wrap;\n",
              "      gap: 12px;\n",
              "    }\n",
              "\n",
              "    .colab-df-convert {\n",
              "      background-color: #E8F0FE;\n",
              "      border: none;\n",
              "      border-radius: 50%;\n",
              "      cursor: pointer;\n",
              "      display: none;\n",
              "      fill: #1967D2;\n",
              "      height: 32px;\n",
              "      padding: 0 0 0 0;\n",
              "      width: 32px;\n",
              "    }\n",
              "\n",
              "    .colab-df-convert:hover {\n",
              "      background-color: #E2EBFA;\n",
              "      box-shadow: 0px 1px 2px rgba(60, 64, 67, 0.3), 0px 1px 3px 1px rgba(60, 64, 67, 0.15);\n",
              "      fill: #174EA6;\n",
              "    }\n",
              "\n",
              "    [theme=dark] .colab-df-convert {\n",
              "      background-color: #3B4455;\n",
              "      fill: #D2E3FC;\n",
              "    }\n",
              "\n",
              "    [theme=dark] .colab-df-convert:hover {\n",
              "      background-color: #434B5C;\n",
              "      box-shadow: 0px 1px 3px 1px rgba(0, 0, 0, 0.15);\n",
              "      filter: drop-shadow(0px 1px 2px rgba(0, 0, 0, 0.3));\n",
              "      fill: #FFFFFF;\n",
              "    }\n",
              "  </style>\n",
              "\n",
              "      <script>\n",
              "        const buttonEl =\n",
              "          document.querySelector('#df-a2198ed0-23d8-43cc-9f07-ff6eeb4807d1 button.colab-df-convert');\n",
              "        buttonEl.style.display =\n",
              "          google.colab.kernel.accessAllowed ? 'block' : 'none';\n",
              "\n",
              "        async function convertToInteractive(key) {\n",
              "          const element = document.querySelector('#df-a2198ed0-23d8-43cc-9f07-ff6eeb4807d1');\n",
              "          const dataTable =\n",
              "            await google.colab.kernel.invokeFunction('convertToInteractive',\n",
              "                                                     [key], {});\n",
              "          if (!dataTable) return;\n",
              "\n",
              "          const docLinkHtml = 'Like what you see? Visit the ' +\n",
              "            '<a target=\"_blank\" href=https://colab.research.google.com/notebooks/data_table.ipynb>data table notebook</a>'\n",
              "            + ' to learn more about interactive tables.';\n",
              "          element.innerHTML = '';\n",
              "          dataTable['output_type'] = 'display_data';\n",
              "          await google.colab.output.renderOutput(dataTable, element);\n",
              "          const docLink = document.createElement('div');\n",
              "          docLink.innerHTML = docLinkHtml;\n",
              "          element.appendChild(docLink);\n",
              "        }\n",
              "      </script>\n",
              "    </div>\n",
              "  </div>\n",
              "  "
            ]
          },
          "metadata": {},
          "execution_count": 6
        }
      ]
    },
    {
      "cell_type": "markdown",
      "metadata": {
        "id": "7XCy0c-dI3SJ"
      },
      "source": [
        "## 1.2 Creación de Dataset\n",
        "\n",
        "Tomando en cuenta la estructura de datos desarrollada en el punto 1.1, construya la clase `MedicalDataset()` que cumpla los siguientes puntos:\n",
        "\n",
        "- [ ] Poseer un `__init__` en el que se almacene `estructura` creada en 1.1, la `raiz` de la carpeta y una función que permita transformar el dataset (de esto no se preocupe mucho, ya que solamente debe almacenar una función en el atributo).\n",
        "- [ ] La clase debe ser capaz de entregar la cantidad de elementos a traves de `__len__`.\n",
        "- [ ] Debe poseer el método `__getitem__` que retorne una tupla con la imagen y su correspondiente etiqueta."
      ]
    },
    {
      "cell_type": "code",
      "execution_count": null,
      "metadata": {
        "id": "t9hBuLicI3SJ"
      },
      "outputs": [],
      "source": [
        "# Código Aquí\n",
        "class MedicalDataset(Dataset):\n",
        "    def __init__(self, estructura, base_dir, transform = None):\n",
        "        self.estructura = estructura\n",
        "        self.raiz = base_dir\n",
        "        self.transform = transform\n",
        "    \n",
        "    def __getitem__(self, index):\n",
        "        img_path, label = self.estructura.iloc[index]\n",
        "        # Un poco de ayuda para cargar la imagen\n",
        "        image = Image.open(img_path).convert('RGB')\n",
        "        \n",
        "        # Auida para realizar la transformación\n",
        "        if self.transform:\n",
        "            image = self.transform(image)\n",
        "        \n",
        "        return image, label\n",
        "    \n",
        "    def __len__(self):\n",
        "        return len(self.estructura)"
      ]
    },
    {
      "cell_type": "code",
      "source": [
        "med_dataset = MedicalDataset(df, base_dir)\n",
        "image, label = med_dataset[50000]\n",
        "display(image)"
      ],
      "metadata": {
        "colab": {
          "base_uri": "https://localhost:8080/",
          "height": 81
        },
        "id": "Hq1H_SguP6Zh",
        "outputId": "be3e94ab-0b4f-48ed-df36-fedae3d8499d"
      },
      "execution_count": null,
      "outputs": [
        {
          "output_type": "display_data",
          "data": {
            "text/plain": [
              "<PIL.Image.Image image mode=RGB size=64x64 at 0x7F74B3F06490>"
            ],
            "image/png": "[encoded data removed]"
          },
          "metadata": {}
        }
      ]
    },
    {
      "cell_type": "markdown",
      "metadata": {
        "id": "mznQFcg9I3SJ"
      },
      "source": [
        "## 1.3 Prueba del MedicalDataset\n",
        "\n",
        "Con la clase construida en el punto 1.2, verifique su funcionamiento cargando el dataset y realizando las transformaciones que entrega la función `transform_image`. Compruebe a través de un ejemplo las transformaciones aplicadas en la imagen, comentando la función que cumple `MedicalDataset` y si es posible observar todas las transformaciones aplicadas con la función `transform_image`.\n",
        "\n",
        "- [ ] Probar la clase MedicalDataset y aplicando una transformación de \"train\"\n",
        "- [ ] Plotear un ejemplo del MedicalDataset.\n",
        "\n",
        "**Función para transformar las imagenes:**"
      ]
    },
    {
      "cell_type": "code",
      "execution_count": null,
      "metadata": {
        "id": "WUzqJfSTI3SK"
      },
      "outputs": [],
      "source": [
        "def transform_image(stage = None):\n",
        "    \n",
        "    if stage == \"train\":\n",
        "        Tr_img = T.Compose([T.Resize(size = (256,256)),\n",
        "                T.RandomRotation(degrees = (-20,+20)),\n",
        "                T.ToTensor()])\n",
        "        \n",
        "    elif stage == \"test\" or stage == \"val\":\n",
        "        #Tr_img = T.Compose([T.Resize(size = (224,224)), T.ToTensor()]) \n",
        "        Tr_img = T.Compose([T.Resize(size = (256,256)), T.ToTensor()])\n",
        "\n",
        "    return Tr_img"
      ]
    },
    {
      "cell_type": "markdown",
      "metadata": {
        "id": "1xmwqtgeI3SK"
      },
      "source": [
        "**Código para obtener un ejemplo:**"
      ]
    },
    {
      "cell_type": "code",
      "execution_count": null,
      "metadata": {
        "id": "CQZAttJ9I3SK"
      },
      "outputs": [],
      "source": [
        "# Prueba del dataset\n",
        "dataset = MedicalDataset(df, base_dir, transform_image(\"train\"))"
      ]
    },
    {
      "cell_type": "code",
      "execution_count": null,
      "metadata": {
        "colab": {
          "base_uri": "https://localhost:8080/",
          "height": 542
        },
        "id": "OfGynmU9I3SK",
        "outputId": "77e4e65e-36f6-4954-a413-5cb202cb6f8c"
      },
      "outputs": [
        {
          "output_type": "display_data",
          "data": {
            "text/html": [
              "<html>\n",
              "<head><meta charset=\"utf-8\" /></head>\n",
              "<body>\n",
              "    <div>            <script src=\"https://cdnjs.cloudflare.com/ajax/libs/mathjax/2.7.5/MathJax.js?config=TeX-AMS-MML_SVG\"></script><script type=\"text/javascript\">if (window.MathJax) {MathJax.Hub.Config({SVG: {font: \"STIX-Web\"}});}</script>                <script type=\"text/javascript\">window.PlotlyConfig = {MathJaxConfig: 'local'};</script>\n",
              "        <script src=\"https://cdn.plot.ly/plotly-2.8.3.min.js\"></script>                <div id=\"7a211205-3a97-4aef-9e38-48b43a39c4e9\" class=\"plotly-graph-div\" style=\"height:525px; width:100%;\"></div>            <script type=\"text/javascript\">                                    window.PLOTLYENV=window.PLOTLYENV || {};                                    if (document.getElementById(\"7a211205-3a97-4aef-9e38-48b43a39c4e9\")) {                    Plotly.newPlot(                        \"7a211205-3a97-4aef-9e38-48b43a39c4e9\",                        [{\"name\":\"0\",\"source\":\"data:image/png;base64,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\",\"type\":\"image\",\"xaxis\":\"x\",\"yaxis\":\"y\",\"hovertemplate\":\"x: %{x}<br>y: %{y}<extra></extra>\"}],                        {\"template\":{\"data\":{\"bar\":[{\"error_x\":{\"color\":\"#2a3f5f\"},\"error_y\":{\"color\":\"#2a3f5f\"},\"marker\":{\"line\":{\"color\":\"#E5ECF6\",\"width\":0.5},\"pattern\":{\"fillmode\":\"overlay\",\"size\":10,\"solidity\":0.2}},\"type\":\"bar\"}],\"barpolar\":[{\"marker\":{\"line\":{\"color\":\"#E5ECF6\",\"width\":0.5},\"pattern\":{\"fillmode\":\"overlay\",\"size\":10,\"solidity\":0.2}},\"type\":\"barpolar\"}],\"carpet\":[{\"aaxis\":{\"endlinecolor\":\"#2a3f5f\",\"gridcolor\":\"white\",\"linecolor\":\"white\",\"minorgridcolor\":\"white\",\"startlinecolor\":\"#2a3f5f\"},\"baxis\":{\"endlinecolor\":\"#2a3f5f\",\"gridcolor\":\"white\",\"linecolor\":\"white\",\"minorgridcolor\":\"white\",\"startlinecolor\":\"#2a3f5f\"},\"type\":\"carpet\"}],\"choropleth\":[{\"colorbar\":{\"outlinewidth\":0,\"ticks\":\"\"},\"type\":\"choropleth\"}],\"contour\":[{\"colorbar\":{\"outlinewidth\":0,\"ticks\":\"\"},\"colorscale\":[[0.0,\"#0d0887\"],[0.1111111111111111,\"#46039f\"],[0.2222222222222222,\"#7201a8\"],[0.3333333333333333,\"#9c179e\"],[0.4444444444444444,\"#bd3786\"],[0.5555555555555556,\"#d8576b\"],[0.6666666666666666,\"#ed7953\"],[0.7777777777777778,\"#fb9f3a\"],[0.8888888888888888,\"#fdca26\"],[1.0,\"#f0f921\"]],\"type\":\"contour\"}],\"contourcarpet\":[{\"colorbar\":{\"outlinewidth\":0,\"ticks\":\"\"},\"type\":\"contourcarpet\"}],\"heatmap\":[{\"colorbar\":{\"outlinewidth\":0,\"ticks\":\"\"},\"colorscale\":[[0.0,\"#0d0887\"],[0.1111111111111111,\"#46039f\"],[0.2222222222222222,\"#7201a8\"],[0.3333333333333333,\"#9c179e\"],[0.4444444444444444,\"#bd3786\"],[0.5555555555555556,\"#d8576b\"],[0.6666666666666666,\"#ed7953\"],[0.7777777777777778,\"#fb9f3a\"],[0.8888888888888888,\"#fdca26\"],[1.0,\"#f0f921\"]],\"type\":\"heatmap\"}],\"heatmapgl\":[{\"colorbar\":{\"outlinewidth\":0,\"ticks\":\"\"},\"colorscale\":[[0.0,\"#0d0887\"],[0.1111111111111111,\"#46039f\"],[0.2222222222222222,\"#7201a8\"],[0.3333333333333333,\"#9c179e\"],[0.4444444444444444,\"#bd3786\"],[0.5555555555555556,\"#d8576b\"],[0.6666666666666666,\"#ed7953\"],[0.7777777777777778,\"#fb9f3a\"],[0.8888888888888888,\"#fdca26\"],[1.0,\"#f0f921\"]],\"type\":\"heatmapgl\"}],\"histogram\":[{\"marker\":{\"pattern\":{\"fillmode\":\"overlay\",\"size\":10,\"solidity\":0.2}},\"type\":\"histogram\"}],\"histogram2d\":[{\"colorbar\":{\"outlinewidth\":0,\"ticks\":\"\"},\"colorscale\":[[0.0,\"#0d0887\"],[0.1111111111111111,\"#46039f\"],[0.2222222222222222,\"#7201a8\"],[0.3333333333333333,\"#9c179e\"],[0.4444444444444444,\"#bd3786\"],[0.5555555555555556,\"#d8576b\"],[0.6666666666666666,\"#ed7953\"],[0.7777777777777778,\"#fb9f3a\"],[0.8888888888888888,\"#fdca26\"],[1.0,\"#f0f921\"]],\"type\":\"histogram2d\"}],\"histogram2dcontour\":[{\"colorbar\":{\"outlinewidth\":0,\"ticks\":\"\"},\"colorscale\":[[0.0,\"#0d0887\"],[0.1111111111111111,\"#46039f\"],[0.2222222222222222,\"#7201a8\"],[0.3333333333333333,\"#9c179e\"],[0.4444444444444444,\"#bd3786\"],[0.5555555555555556,\"#d8576b\"],[0.6666666666666666,\"#ed7953\"],[0.7777777777777778,\"#fb9f3a\"],[0.8888888888888888,\"#fdca26\"],[1.0,\"#f0f921\"]],\"type\":\"histogram2dcontour\"}],\"mesh3d\":[{\"colorbar\":{\"outlinewidth\":0,\"ticks\":\"\"},\"type\":\"mesh3d\"}],\"parcoords\":[{\"line\":{\"colorbar\":{\"outlinewidth\":0,\"ticks\":\"\"}},\"type\":\"parcoords\"}],\"pie\":[{\"automargin\":true,\"type\":\"pie\"}],\"scatter\":[{\"marker\":{\"colorbar\":{\"outlinewidth\":0,\"ticks\":\"\"}},\"type\":\"scatter\"}],\"scatter3d\":[{\"line\":{\"colorbar\":{\"outlinewidth\":0,\"ticks\":\"\"}},\"marker\":{\"colorbar\":{\"outlinewidth\":0,\"ticks\":\"\"}},\"type\":\"scatter3d\"}],\"scattercarpet\":[{\"marker\":{\"colorbar\":{\"outlinewidth\":0,\"ticks\":\"\"}},\"type\":\"scattercarpet\"}],\"scattergeo\":[{\"marker\":{\"colorbar\":{\"outlinewidth\":0,\"ticks\":\"\"}},\"type\":\"scattergeo\"}],\"scattergl\":[{\"marker\":{\"colorbar\":{\"outlinewidth\":0,\"ticks\":\"\"}},\"type\":\"scattergl\"}],\"scattermapbox\":[{\"marker\":{\"colorbar\":{\"outlinewidth\":0,\"ticks\":\"\"}},\"type\":\"scattermapbox\"}],\"scatterpolar\":[{\"marker\":{\"colorbar\":{\"outlinewidth\":0,\"ticks\":\"\"}},\"type\":\"scatterpolar\"}],\"scatterpolargl\":[{\"marker\":{\"colorbar\":{\"outlinewidth\":0,\"ticks\":\"\"}},\"type\":\"scatterpolargl\"}],\"scatterternary\":[{\"marker\":{\"colorbar\":{\"outlinewidth\":0,\"ticks\":\"\"}},\"type\":\"scatterternary\"}],\"surface\":[{\"colorbar\":{\"outlinewidth\":0,\"ticks\":\"\"},\"colorscale\":[[0.0,\"#0d0887\"],[0.1111111111111111,\"#46039f\"],[0.2222222222222222,\"#7201a8\"],[0.3333333333333333,\"#9c179e\"],[0.4444444444444444,\"#bd3786\"],[0.5555555555555556,\"#d8576b\"],[0.6666666666666666,\"#ed7953\"],[0.7777777777777778,\"#fb9f3a\"],[0.8888888888888888,\"#fdca26\"],[1.0,\"#f0f921\"]],\"type\":\"surface\"}],\"table\":[{\"cells\":{\"fill\":{\"color\":\"#EBF0F8\"},\"line\":{\"color\":\"white\"}},\"header\":{\"fill\":{\"color\":\"#C8D4E3\"},\"line\":{\"color\":\"white\"}},\"type\":\"table\"}]},\"layout\":{\"annotationdefaults\":{\"arrowcolor\":\"#2a3f5f\",\"arrowhead\":0,\"arrowwidth\":1},\"autotypenumbers\":\"strict\",\"coloraxis\":{\"colorbar\":{\"outlinewidth\":0,\"ticks\":\"\"}},\"colorscale\":{\"diverging\":[[0,\"#8e0152\"],[0.1,\"#c51b7d\"],[0.2,\"#de77ae\"],[0.3,\"#f1b6da\"],[0.4,\"#fde0ef\"],[0.5,\"#f7f7f7\"],[0.6,\"#e6f5d0\"],[0.7,\"#b8e186\"],[0.8,\"#7fbc41\"],[0.9,\"#4d9221\"],[1,\"#276419\"]],\"sequential\":[[0.0,\"#0d0887\"],[0.1111111111111111,\"#46039f\"],[0.2222222222222222,\"#7201a8\"],[0.3333333333333333,\"#9c179e\"],[0.4444444444444444,\"#bd3786\"],[0.5555555555555556,\"#d8576b\"],[0.6666666666666666,\"#ed7953\"],[0.7777777777777778,\"#fb9f3a\"],[0.8888888888888888,\"#fdca26\"],[1.0,\"#f0f921\"]],\"sequentialminus\":[[0.0,\"#0d0887\"],[0.1111111111111111,\"#46039f\"],[0.2222222222222222,\"#7201a8\"],[0.3333333333333333,\"#9c179e\"],[0.4444444444444444,\"#bd3786\"],[0.5555555555555556,\"#d8576b\"],[0.6666666666666666,\"#ed7953\"],[0.7777777777777778,\"#fb9f3a\"],[0.8888888888888888,\"#fdca26\"],[1.0,\"#f0f921\"]]},\"colorway\":[\"#636efa\",\"#EF553B\",\"#00cc96\",\"#ab63fa\",\"#FFA15A\",\"#19d3f3\",\"#FF6692\",\"#B6E880\",\"#FF97FF\",\"#FECB52\"],\"font\":{\"color\":\"#2a3f5f\"},\"geo\":{\"bgcolor\":\"white\",\"lakecolor\":\"white\",\"landcolor\":\"#E5ECF6\",\"showlakes\":true,\"showland\":true,\"subunitcolor\":\"white\"},\"hoverlabel\":{\"align\":\"left\"},\"hovermode\":\"closest\",\"mapbox\":{\"style\":\"light\"},\"paper_bgcolor\":\"white\",\"plot_bgcolor\":\"#E5ECF6\",\"polar\":{\"angularaxis\":{\"gridcolor\":\"white\",\"linecolor\":\"white\",\"ticks\":\"\"},\"bgcolor\":\"#E5ECF6\",\"radialaxis\":{\"gridcolor\":\"white\",\"linecolor\":\"white\",\"ticks\":\"\"}},\"scene\":{\"xaxis\":{\"backgroundcolor\":\"#E5ECF6\",\"gridcolor\":\"white\",\"gridwidth\":2,\"linecolor\":\"white\",\"showbackground\":true,\"ticks\":\"\",\"zerolinecolor\":\"white\"},\"yaxis\":{\"backgroundcolor\":\"#E5ECF6\",\"gridcolor\":\"white\",\"gridwidth\":2,\"linecolor\":\"white\",\"showbackground\":true,\"ticks\":\"\",\"zerolinecolor\":\"white\"},\"zaxis\":{\"backgroundcolor\":\"#E5ECF6\",\"gridcolor\":\"white\",\"gridwidth\":2,\"linecolor\":\"white\",\"showbackground\":true,\"ticks\":\"\",\"zerolinecolor\":\"white\"}},\"shapedefaults\":{\"line\":{\"color\":\"#2a3f5f\"}},\"ternary\":{\"aaxis\":{\"gridcolor\":\"white\",\"linecolor\":\"white\",\"ticks\":\"\"},\"baxis\":{\"gridcolor\":\"white\",\"linecolor\":\"white\",\"ticks\":\"\"},\"bgcolor\":\"#E5ECF6\",\"caxis\":{\"gridcolor\":\"white\",\"linecolor\":\"white\",\"ticks\":\"\"}},\"title\":{\"x\":0.05},\"xaxis\":{\"automargin\":true,\"gridcolor\":\"white\",\"linecolor\":\"white\",\"ticks\":\"\",\"title\":{\"standoff\":15},\"zerolinecolor\":\"white\",\"zerolinewidth\":2},\"yaxis\":{\"automargin\":true,\"gridcolor\":\"white\",\"linecolor\":\"white\",\"ticks\":\"\",\"title\":{\"standoff\":15},\"zerolinecolor\":\"white\",\"zerolinewidth\":2}}},\"xaxis\":{\"anchor\":\"y\",\"domain\":[0.0,1.0]},\"yaxis\":{\"anchor\":\"x\",\"domain\":[0.0,1.0]},\"margin\":{\"t\":60}},                        {\"responsive\": true}                    ).then(function(){\n",
              "                            \n",
              "var gd = document.getElementById('7a211205-3a97-4aef-9e38-48b43a39c4e9');\n",
              "var x = new MutationObserver(function (mutations, observer) {{\n",
              "        var display = window.getComputedStyle(gd).display;\n",
              "        if (!display || display === 'none') {{\n",
              "            console.log([gd, 'removed!']);\n",
              "            Plotly.purge(gd);\n",
              "            observer.disconnect();\n",
              "        }}\n",
              "}});\n",
              "\n",
              "// Listen for the removal of the full notebook cells\n",
              "var notebookContainer = gd.closest('#notebook-container');\n",
              "if (notebookContainer) {{\n",
              "    x.observe(notebookContainer, {childList: true});\n",
              "}}\n",
              "\n",
              "// Listen for the clearing of the current output cell\n",
              "var outputEl = gd.closest('.output');\n",
              "if (outputEl) {{\n",
              "    x.observe(outputEl, {childList: true});\n",
              "}}\n",
              "\n",
              "                        })                };                            </script>        </div>\n",
              "</body>\n",
              "</html>"
            ]
          },
          "metadata": {}
        }
      ],
      "source": [
        "data_test= iter(dataset)\n",
        "example_image = next(data_test)\n",
        "example_image_2 = np.moveaxis(example_image[0].numpy(), 0, -1)\n",
        "# Utilice plotly para plotear un ejemplo\n",
        "px.imshow(example_image_2)"
      ]
    },
    {
      "cell_type": "markdown",
      "metadata": {
        "id": "cQGii0uAI3SL"
      },
      "source": [
        "> Comente que realiza la clase construida y las transformaciones aplicadas.\n",
        "\n",
        "El dataset de imágenes es muy pesado hablando de memoria, entonces subir todas las imágenes a la memoria RAM no es buena idea porque ocuparía demasiado espacio. Para arreglar este problema se crea la clase MedicalDataset que es una clase hereda la clase Dataset de pytorch. Este MedicalDataset tiene la función de almacenar las rutas de las imágenes en el disco y su respectiva clase. De esta manera, al pedir una imagen en particular, el método `__getitem__` usa la ruta de la imagen para buscarla en el disco, subir esa imagen en particular a la memoria RAM y devolver la imagen como arreglo. De esta manera la imagen solo usa memoria RAM al momento de pedirla con `__getitem__`.\n",
        "\n",
        "En particular se muestra un ejemplo donde se recupera la imagen X del dataset. Se puede observar la primera transformación que consiste en reescalar la imagen a un tamaño de 256x256 (ya que antes se pudo ver que las imagenes son más pequeñas) y se puede observar una rotación con los bordes que quedan sobrantes por esta rotación rellenado con ceros que visualmente corresponde a secciones negras.\n",
        "\n",
        "La desventaja de este método, es que es muy lento. Toma mucho tiempo acceder al disco y cargar la imagen a la memoria RAM. Al tener una cantidad grande de imágenes el entrenamiento de una red neuronal se hace muy lenta por este problema. Existen eso si forma más sofisticadas para acelerar este proceso."
      ]
    },
    {
      "cell_type": "markdown",
      "metadata": {
        "id": "Tpkum5mII3SL"
      },
      "source": [
        "## 1.4 Creación de Clasificadores\n",
        "\n",
        "<p align=\"center\">\n",
        "  <img src=\"https://149695847.v2.pressablecdn.com/wp-content/uploads/2018/01/conv-full-layer.gif\" width=\"300\">\n",
        "</p>\n",
        "\n",
        "A continuación, deben construir tres clasificadores con los que deberán verificar cuál de las arquitecturas posee un mejor desempeño para la tarea de clasificación de imágenes. Para la construcción considere los siguientes puntos:\n",
        "\n",
        "- [ ] Señale cual es el objetivo del `forward` en este tipo de redes, sea breve para su explicación.\n",
        "- [ ] Construir una red Fully Connected para solucionar el problema de clasificación. Para esta parte se le aconseja que rellene el esqueleto dispuesto más abajo y que lleva el nombre de `FCClassifier`, en el deberá rellenar con la dimensión de las capas ocultas y verificar cual será el tamaño de la entrada.\n",
        "- [ ] Construya una red convolucional **simple** (no más de una capa convolucional) para la tarea de clasificación de imágenes, para esto basen su código en la clase del día `09-11-2022`.\n",
        "- [ ] Crear una red convolucional más compleja. Para esta parte tienen completa libertad en la construcción de su red, lo único que debe cumplir es que sea convolucional.\n",
        "\n",
        "**Esqueletos Propuestos:**"
      ]
    },
    {
      "cell_type": "code",
      "execution_count": null,
      "metadata": {
        "id": "eNdbrLstI3SL"
      },
      "outputs": [],
      "source": [
        "class FCClassifier(nn.Module):\n",
        "    def __init__(self, in_channels, num_classes):\n",
        "        super(FCClassifier, self).__init__()\n",
        "        self.flatten = nn.Flatten()\n",
        "        self.lin1 = nn.Linear(in_channels, 1000)\n",
        "        self.relu_1 = nn.ReLU()\n",
        "        self.lin2 = nn.Linear(1000, num_classes)\n",
        "        \n",
        "    def forward(self, x):\n",
        "        out = self.flatten(x)\n",
        "        out = self.lin1(out)\n",
        "        out = self.relu_1(out)\n",
        "        out = self.lin2(out)\n",
        "\n",
        "        return out"
      ]
    },
    {
      "cell_type": "code",
      "execution_count": null,
      "metadata": {
        "id": "rFog2Cp-I3SM"
      },
      "outputs": [],
      "source": [
        "class CNNClassifier1(nn.Module):\n",
        "    def __init__(self, in_channels, num_classes):\n",
        "        super(CNNClassifier1, self).__init__()\n",
        "        self.conv1 = nn.Conv2d(in_channels, 6, 7, padding=3)\n",
        "        self.pool = nn.MaxPool2d(4,4)\n",
        "        self.relu_cnn = nn.ReLU()\n",
        "        self.flatten = nn.Flatten()\n",
        "        self.fc1 = nn.Linear(6*64*64, 120)\n",
        "        self.relu_1 = nn.ReLU()\n",
        "        self.fc2 = nn.Linear(120, 84)\n",
        "        self.relu_2 = nn.ReLU()\n",
        "        self.fc3 = nn.Linear(84, num_classes)\n",
        "        \n",
        "    def forward(self, x):\n",
        "        out = self.conv1(x)\n",
        "        out = self.pool(out)\n",
        "        out = self.relu_cnn(out)\n",
        "        out = self.flatten(out)\n",
        "        out = self.fc1(out)\n",
        "        out = self.relu_1(out)\n",
        "        out = self.fc2(out)\n",
        "        out = self.relu_2(out)\n",
        "        out = self.fc3(out)\n",
        "\n",
        "        return out\n",
        "    \n",
        "class CNNClassifier2(nn.Module):\n",
        "    def __init__(self, in_channels, num_classes):\n",
        "        super(CNNClassifier2, self).__init__()\n",
        "        self.conv1 = nn.Conv2d(in_channels, 6, 7, padding=3)\n",
        "        self.pool = nn.MaxPool2d(3,3)\n",
        "        self.relu_cnn1 = nn.ReLU()\n",
        "        self.conv2 = nn.Conv2d(6,16,5, padding=2)\n",
        "        self.relu_cnn2 = nn.ReLU()\n",
        "        self.flatten = nn.Flatten()\n",
        "        self.fc1 = nn.Linear(16*28*28, 1000)\n",
        "        self.relu_1 = nn.ReLU()\n",
        "        self.fc2 = nn.Linear(1000, 120)\n",
        "        self.relu_2 = nn.ReLU()\n",
        "        self.fc3 = nn.Linear(120, 84)\n",
        "        self.relu_3 = nn.ReLU()\n",
        "        self.fc4 = nn.Linear(84, num_classes)\n",
        "        \n",
        "    def forward(self, x):\n",
        "        out = self.conv1(x)\n",
        "        out = self.pool(out)\n",
        "        out = self.relu_cnn1(out)\n",
        "        out = self.conv2(out)\n",
        "        out = self.pool(out)\n",
        "        out = self.relu_cnn2(out)\n",
        "        out = self.flatten(out)\n",
        "        out = self.fc1(out)\n",
        "        out = self.relu_1(out)\n",
        "        out = self.fc2(out)\n",
        "        out = self.relu_2(out)\n",
        "        out = self.fc3(out)\n",
        "        out = self.relu_3(out)\n",
        "        out = self.fc4(out)\n",
        "\n",
        "        return out"
      ]
    },
    {
      "cell_type": "markdown",
      "source": [
        "El objetivo del forward es hacer una \"pasada hacia adelante\" de la red. Esto significa que se le entrega un tensor de entrada, en este caso una imagen, hace todo el procesamiento de la red de pasar por capas lineales y/o convolucionales y funciones de activación, para poder entregar una predicción. Es importante destacar que este pasada es con los parámetros de la red ya fijos, no existe ajuste de parámetros en este método. \n",
        "\n",
        "Hay que mencionar que en realidad por temas de implementación el método forward no entrega la predicción, sino entrega un vector que se llama logits, que representa valores de probabilidad de las clases en un rango de $-\\infty$ a $\\infty$. El logits se pasa por una función softmax para dejar los valores entre 0 y 1 y que sean efectivamente probabilidades."
      ],
      "metadata": {
        "id": "uM3RpxzSkCTM"
      }
    },
    {
      "cell_type": "markdown",
      "metadata": {
        "id": "tkcLD4ldI3SM"
      },
      "source": [
        "## 1.5 Separando Datos para el Entrenamiento\n",
        "\n",
        "<p align=\"center\">\n",
        "  <img src=\"https://c.tenor.com/Esn7Jif-ZLQAAAAC/separate-square.gif\" width=\"200\">\n",
        "</p>\n",
        "\n",
        "Utilizando un Holdout a su gusto, separe los datos en un conjunto de entrenamiento y de testing. Aplique las transformaciones correspondientes usando `transform_image` para cada conjunto de datos y utilice `torch.utils.data.DataLoader` para crear un objeto iterable del dataset.\n",
        "\n",
        "- [ ] Definir el Holdout a utilizar.\n",
        "- [ ] Separar los datos en un conjunto de entrenamiento y prueba.\n",
        "- [ ] Aplicar las transformaciones correspondientes en cada uno de los dataset.\n",
        "- [ ] Utilizar `DataLoader` de pytorch sobre los dataset."
      ]
    },
    {
      "cell_type": "code",
      "execution_count": null,
      "metadata": {
        "id": "yYd-kngiI3SM"
      },
      "outputs": [],
      "source": [
        "# Separar Datos de Entrenamiento\n",
        "from sklearn.model_selection import train_test_split\n",
        "\n",
        "data_train, data_test = train_test_split(df, test_size=0.3)"
      ]
    },
    {
      "cell_type": "code",
      "execution_count": null,
      "metadata": {
        "id": "T-BxhnDRI3SM"
      },
      "outputs": [],
      "source": [
        "# Uso de torch.utils.data.DataLoader\n",
        "batch_size = 128\n",
        "train_loader = DataLoader(MedicalDataset(data_train, base_dir, transform_image(\"train\")), batch_size=batch_size, shuffle=True)\n",
        "test_loader = DataLoader(MedicalDataset(data_test, base_dir, transform_image(\"test\")), batch_size=batch_size, shuffle=True)"
      ]
    },
    {
      "cell_type": "markdown",
      "metadata": {
        "id": "FlZ7eb5MI3SM"
      },
      "source": [
        "## 1.6 Creación de Funciones de Entrenamiento y Evaluación\n",
        "\n",
        "<p align=\"center\">\n",
        "  <img src=\"https://www.researchgate.net/publication/319535615/figure/fig3/AS:536187598065664@1504848493070/A-typical-convolutional-neural-network-CNN-Architecture-for-Medical-Image-Classification.png\" width=\"500\">\n",
        "</p>\n",
        "\n",
        "\n",
        "Ya construido todas las funciones y clases necesarias llego el momento más importante... probar la red. Para esta sección, ustedes deberán ser capaces de definir los hiperparámetros de la red, definir las funciones de perdida a utilizar, señalar el optimizador a usar y finalmente crear sus funciones para el entrenamiento y prueba. Para realizar esta parte más estructurada, seguir los siguientes puntos de forma secuencial:\n",
        "\n",
        "- [ ] Especifique los Hiperparámetros de las 3 redes. Para esta parte sea claro de su elección y señale el porqué de sus elecciones (o sea justifique el setting de sus hiperparámetros).\n",
        "- [ ] Defina los modelos a utilizar, el optimizador que utilizará para el modelo y señale la función de perdida que utilizará.\n",
        "- [ ] Explique de forma breve la función que cumplen los pasos `Backward` y `Descenso del gradiente` en una red neuronal.\n",
        "- [ ] Cree una función llamado `train` que entrene a los clasificadores. Para esto, recuerde que estos modelos suelen utilizar un número de épocas, por lo que deberá generar un proceso iterativo de entrenamiento. Es importante que su función imprima las `loss` obtenidas por el modelo en cada época (si gusta puede almacenar estas losses en una lista para luego graficarlas y comparar).\n",
        "- [ ] Diseñe una función para evaluar el desempeño de las redes. Para evaluar las redes utilice solamente la métrica accuracy (para esto se le recomienda comparar la predicción con el ground truth)"
      ]
    },
    {
      "cell_type": "markdown",
      "source": [
        "Las tres redes serán entrenadas usando el optimizador Adam con un learning rate de 0.001 y los parámetros de $\\beta'$s por defecto (0.9, 0.999). Esta elección se basa en que empíricamente se ha demostrado que este optimizador converge más rápido a un óptimo. Por su parte, la combinación de parámetros ($lr$, $\\beta'$s) que escogimos es una de las más clásicas para este optimizador y fue considerada como un punto de partida, lo cual significa que estos parámetros se podrían cambiar si no se llega a resultados satisfactorios. \n",
        "\n",
        "Las 3 redes usarán ademas la entropía cruzada como función de pérdida, esto debido a que es una $Loss$ común en problemas de clasificación multiclase como es el caso. Cabe destacar que dicha $Loss$ ya viene incorporada con la función de activación $Softmax$ en pytorch por lo que no es necesario incluirla dentro de la configuración de la red. "
      ],
      "metadata": {
        "id": "bgjVu0XkvqaF"
      }
    },
    {
      "cell_type": "code",
      "execution_count": null,
      "metadata": {
        "id": "d_7_sZCEI3SM"
      },
      "outputs": [],
      "source": [
        "# Especificar hyperparámetros de las redes\n",
        "in_channels_fc = 256*256*3\n",
        "in_channels_cnn = 3\n",
        "num_classes = 6\n",
        "lr = 0.001\n",
        "n_epochs = 5"
      ]
    },
    {
      "cell_type": "code",
      "execution_count": null,
      "metadata": {
        "id": "N475sWk7I3SN"
      },
      "outputs": [],
      "source": [
        "# train\n",
        "def train(model, train_loader, num_epochs, lr, report_every=1):\n",
        "    device = torch.device(\"cuda:0\" if torch.cuda.is_available() else \"cpu\")\n",
        "    model.to(device)\n",
        "    Train_loss = []\n",
        "    Train_accuracy = []\n",
        "\n",
        "    criterion = nn.CrossEntropyLoss()\n",
        "    optimizer = optim.Adam(model.parameters(), lr=lr)\n",
        "\n",
        "    model.train()\n",
        "    \n",
        "    for e in range(num_epochs):\n",
        "      train_loss = 0\n",
        "      correct = 0\n",
        "      num_data = 0\n",
        "\n",
        "      for i, (data, label) in enumerate(train_loader):\n",
        "\n",
        "        images, labels = data.to(device), label.to(device)           \n",
        "        \n",
        "        optimizer.zero_grad()\n",
        "\n",
        "        #Forward\n",
        "        output = model(images)\n",
        "        # Descenso del gradiente\n",
        "        \n",
        "        loss = criterion(output,labels)\n",
        "        loss.backward()\n",
        "        optimizer.step()\n",
        "\n",
        "        train_loss += loss.item()\n",
        "        correct += torch.sum(output.argmax(1) == labels)\n",
        "        num_data += len(data)\n",
        "\n",
        "      # Saving training loss  \n",
        "      Train_loss.append(train_loss/len(train_loader))\n",
        "\n",
        "      # Accuracy\n",
        "      accuracy = 100*correct/num_data\n",
        "      Train_accuracy.append(accuracy.cpu())\n",
        "\n",
        "      if (e+1) % report_every == 0 or e == 0:\n",
        "            print(f'Epoch {e+1} \\t\\t Training Loss: {train_loss/len(train_loader)} \\t\\t  Training Accuracy: {accuracy}')\n",
        "\n",
        "    return Train_loss, Train_accuracy\n",
        "        \n",
        "\n",
        "# Evaluate\n",
        "def evaluate(loader, model):\n",
        "    \n",
        "    device = torch.device(\"cuda:0\" if torch.cuda.is_available() else \"cpu\")\n",
        "    model.to(device)\n",
        "\n",
        "    criterion = nn.CrossEntropyLoss()\n",
        "\n",
        "    total_loss = 0\n",
        "    correct = 0\n",
        "    num_data = 0\n",
        "\n",
        "    model.eval()\n",
        "    with torch.no_grad():\n",
        "\n",
        "      for i, (data, label) in enumerate(loader):\n",
        "\n",
        "        images, labels = data.to(device), label.to(device)            \n",
        "        \n",
        "        #Forward\n",
        "        output = model.forward(images)\n",
        "\n",
        "        loss = criterion(output,labels)\n",
        "\n",
        "        total_loss += loss.item()\n",
        "        correct += torch.sum(output.argmax(1) == labels)\n",
        "        num_data += len(data)\n",
        "\n",
        "      # Saving training loss  \n",
        "      total_loss = total_loss/len(loader)\n",
        "\n",
        "      # Accuracy\n",
        "      accuracy = (100*correct/(num_data)).cpu()\n",
        "\n",
        "    return total_loss, accuracy\n",
        "        "
      ]
    },
    {
      "cell_type": "markdown",
      "source": [
        "Una vez hecha la pasada hacía adelante por la red (forward) se obtiene una salida, la cual es pasada por una función de activación $Softmax$ para obtener las probabilidades de pertenencia de cada entradada a cada clase, luego, estas probabilidades son comparadas con las clases reales mediante la función de pérdida para obtener una especie de error de estimación. Lo que hace el método $Backward$ es calcular el gradiente de la función de pérdida con respecto a los pesos de la red y evaluarlo en los datos de entrada (en este caso lo hace por bache), de esta manera se puede llamar al método $step$, el cual actualiza los pesos en función del learning rate y de los gradientes calculados anteriormente. "
      ],
      "metadata": {
        "id": "3SxNTXiG1BuN"
      }
    },
    {
      "cell_type": "markdown",
      "metadata": {
        "id": "19wCS4OMI3SN"
      },
      "source": [
        "## 1.7 Comparación de Resultados\n",
        "\n",
        "<p align=\"center\">\n",
        "  <img src=\"https://media2.giphy.com/media/icJA0VF7ntoEL18Jez/giphy.gif\"  width=\"200\">\n",
        "</p>\n",
        "\n",
        "Construidas las funciones de entrenamiento y evaluación, entrene a las redes que construyo y compare los resultados obtenidos con todas las redes señalando cual posee mejor rendimiento. Comente una diferencia entre las redes Fully Connected y CNN podría generar un mejor desempeño en una u otra en la tarea de clasificación de imágenes.\n",
        "\n",
        "- [ ] Entrenar las redes.\n",
        "- [ ] Evaluar las redes.\n",
        "- [ ] Comentar los resultados obtenidos y visualizar si existe una diferencia significativa en el rendimiento debido a la naturaleza de la red."
      ]
    },
    {
      "cell_type": "code",
      "execution_count": null,
      "metadata": {
        "id": "npXs35zUI3SN",
        "colab": {
          "base_uri": "https://localhost:8080/"
        },
        "outputId": "a0635da7-3a3f-47e3-d286-8e2d13cb16dd"
      },
      "outputs": [
        {
          "output_type": "stream",
          "name": "stdout",
          "text": [
            "Epoch 1 \t\t Training Loss: 4.283179990843446 \t\t  Training Accuracy: 89.77391052246094\n",
            "Epoch 2 \t\t Training Loss: 0.2951182754345933 \t\t  Training Accuracy: 95.58969116210938\n",
            "Epoch 3 \t\t Training Loss: 0.08749066022889337 \t\t  Training Accuracy: 97.7391128540039\n",
            "Epoch 4 \t\t Training Loss: 0.06445451623229627 \t\t  Training Accuracy: 98.11228942871094\n",
            "Epoch 5 \t\t Training Loss: 0.07006328832610415 \t\t  Training Accuracy: 98.02989959716797\n"
          ]
        }
      ],
      "source": [
        "# Red 1\n",
        "model_fc = FCClassifier(in_channels_fc, num_classes)\n",
        "\n",
        "Train_loss, Train_accuracy = train(model_fc, train_loader, n_epochs, lr)"
      ]
    },
    {
      "cell_type": "code",
      "source": [
        "loss1, accuracy1 = evaluate(test_loader, model_fc)\n",
        "\n",
        "print(\"Loss y accuracy de test:\\n\")\n",
        "print(f\"Loss: {loss1}   -  Accuracy: {accuracy1}\")"
      ],
      "metadata": {
        "colab": {
          "base_uri": "https://localhost:8080/"
        },
        "id": "HpmcUF02WUxP",
        "outputId": "5978fe4c-f908-44a9-af6b-8641592499ba"
      },
      "execution_count": null,
      "outputs": [
        {
          "output_type": "stream",
          "name": "stdout",
          "text": [
            "Loss y accuracy de test:\n",
            "\n",
            "Loss: 0.03634834616099947   -  Accuracy: 99.0501480102539\n"
          ]
        }
      ]
    },
    {
      "cell_type": "code",
      "source": [
        "# Red 2\n",
        "model_cnn1 = CNNClassifier1(in_channels_cnn, num_classes)\n",
        "\n",
        "Train_loss, Train_accuracy = train(model_cnn1, train_loader, n_epochs, lr)"
      ],
      "metadata": {
        "id": "brXVCrkdbmZp",
        "colab": {
          "base_uri": "https://localhost:8080/"
        },
        "outputId": "17548ee0-a0ed-4c16-dca9-f05a10219cde"
      },
      "execution_count": null,
      "outputs": [
        {
          "output_type": "stream",
          "name": "stdout",
          "text": [
            "Epoch 1 \t\t Training Loss: 0.15744519193913362 \t\t  Training Accuracy: 94.86029815673828\n",
            "Epoch 2 \t\t Training Loss: 0.042131524291552674 \t\t  Training Accuracy: 98.62117004394531\n",
            "Epoch 3 \t\t Training Loss: 0.01919506007034891 \t\t  Training Accuracy: 99.47415161132812\n",
            "Epoch 4 \t\t Training Loss: 0.011733369246624763 \t\t  Training Accuracy: 99.64378356933594\n",
            "Epoch 5 \t\t Training Loss: 0.035639663017499074 \t\t  Training Accuracy: 98.90953826904297\n"
          ]
        }
      ]
    },
    {
      "cell_type": "code",
      "source": [
        "loss2, accuracy2 = evaluate(test_loader, model_cnn1)\n",
        "\n",
        "print(\"Loss y accuracy de test:\\n\")\n",
        "print(f\"Loss: {loss2}   -  Accuracy: {accuracy2}\")"
      ],
      "metadata": {
        "colab": {
          "base_uri": "https://localhost:8080/"
        },
        "id": "SzO8uH1BZACg",
        "outputId": "ab77c6ec-400c-4685-94c2-85eaaa188a74"
      },
      "execution_count": null,
      "outputs": [
        {
          "output_type": "stream",
          "name": "stdout",
          "text": [
            "Loss y accuracy de test:\n",
            "\n",
            "Loss: 0.016439647049468896   -  Accuracy: 99.53073120117188\n"
          ]
        }
      ]
    },
    {
      "cell_type": "code",
      "source": [
        "# Red 3\n",
        "model_cnn2 = CNNClassifier2(in_channels_cnn, num_classes)\n",
        "\n",
        "Train_loss, Train_accuracy = train(model_cnn2, train_loader, n_epochs, lr)"
      ],
      "metadata": {
        "id": "8JGM1TMXbmhH",
        "colab": {
          "base_uri": "https://localhost:8080/"
        },
        "outputId": "82fd8e3d-1821-4bda-c08f-8bef2b487dec"
      },
      "execution_count": null,
      "outputs": [
        {
          "output_type": "stream",
          "name": "stdout",
          "text": [
            "Epoch 1 \t\t Training Loss: 0.14964663650157167 \t\t  Training Accuracy: 95.20197296142578\n",
            "Epoch 2 \t\t Training Loss: 0.01717555605184327 \t\t  Training Accuracy: 99.44992065429688\n",
            "Epoch 3 \t\t Training Loss: 0.008683479737851555 \t\t  Training Accuracy: 99.75767517089844\n",
            "Epoch 4 \t\t Training Loss: 0.005989228873355055 \t\t  Training Accuracy: 99.8037109375\n",
            "Epoch 5 \t\t Training Loss: 0.009244053886504844 \t\t  Training Accuracy: 99.68254852294922\n"
          ]
        }
      ]
    },
    {
      "cell_type": "code",
      "source": [
        "loss3, accuracy3 = evaluate(test_loader, model_cnn2)\n",
        "\n",
        "print(\"Loss y accuracy de test:\\n\")\n",
        "print(f\"Loss: {loss3}   -  Accuracy: {accuracy3}\")"
      ],
      "metadata": {
        "colab": {
          "base_uri": "https://localhost:8080/"
        },
        "id": "TqrIHjvRZXfo",
        "outputId": "470a9042-481c-4802-ef3f-72de956da829"
      },
      "execution_count": null,
      "outputs": [
        {
          "output_type": "stream",
          "name": "stdout",
          "text": [
            "Loss y accuracy de test:\n",
            "\n",
            "Loss: 0.030603658991782898   -  Accuracy: 99.2819595336914\n"
          ]
        }
      ]
    },
    {
      "cell_type": "markdown",
      "metadata": {
        "id": "DrCWuoVMI3SN"
      },
      "source": [
        "Se entrenaron las 3 redes por un total de 5 épocas. En cuanto al desempeño de las redes durante el entrenamiento, las 3 llegaron a resultados muy similares y satisfactorios. La red feed forward fue la que obtuvo menores resultados, tanto en acurracy como loss, pero es en este último donde se puede ver mayor diferencia con las CNN. Con respecto a estas, la segunda CNN (más compleja)  muestra alcanzar un mejor accuracy durante el entrenamiento pero peor en la validación en comparación a la más simple, esto se puede deber al mayor potencial de la segunda para sobreajustarse. Sin más que decir, se puede concluir que ambos tipos de redes funcionaron bien para estos datos, aunque las CNN muestran una pequeña superioridad con respecto a la red feed forward. Se espera que dicha diferencia pueda ser más aún cuando se trabaje con datos más complejos y de mayor dimensionalidad. "
      ]
    },
    {
      "cell_type": "markdown",
      "metadata": {
        "id": "ATJabNQ2I3SN"
      },
      "source": [
        "# Conclusión\n",
        "\n",
        "Eso ha sido todo para el lab de hoy, recuerden que el laboratorio tiene un plazo de entrega de una semana. Cualquier duda del laboratorio, no duden en contactarnos por mail o U-cursos.\n",
        "\n",
        "<p align=\"center\">\n",
        "  <img src=\"https://media.tenor.com/vKSR-ZakVMIAAAAC/pochitadancing-pochita.gif\">\n",
        "</p>"
      ]
    }
  ],
  "metadata": {
    "kernelspec": {
      "display_name": "Python 3 (ipykernel)",
      "language": "python",
      "name": "python3"
    },
    "language_info": {
      "codemirror_mode": {
        "name": "ipython",
        "version": 3
      },
      "file_extension": ".py",
      "mimetype": "text/x-python",
      "name": "python",
      "nbconvert_exporter": "python",
      "pygments_lexer": "ipython3",
      "version": "3.7.13"
    },
    "vscode": {
      "interpreter": {
        "hash": "74a3d55773e9b3c246359d50654dd4558d2f2e3d7e6e6cc3c5c43d1d4b65ec31"
      }
    },
    "colab": {
      "provenance": []
    },
    "accelerator": "GPU",
    "gpuClass": "standard"
  },
  "nbformat": 4,
  "nbformat_minor": 0
}