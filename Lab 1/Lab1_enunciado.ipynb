{
  "cells": [
    {
      "cell_type": "markdown",
      "source": [
        "<h1><center>Laboratorio 1: Primeros pasos 👣</center></h1>\n",
        "\n",
        "<center><strong>MDS7202: Laboratorio de Programación Científica para Ciencia de Datos - Primavera 2022</strong></center>"
      ],
      "metadata": {
        "id": "cd7b1b55",
        "cell_id": "bfdbf4ab-01a2-4eb3-975a-8637166de34a",
        "deepnote_cell_type": "markdown",
        "deepnote_cell_height": 104.390625
      },
      "id": "cd7b1b55"
    },
    {
      "cell_type": "markdown",
      "source": [
        "### Cuerpo Docente:\n",
        "\n",
        "- Profesor: Matías Rojas y Mauricio Araneda\n",
        "- Auxiliar: Ignacio Meza D.\n",
        "- Ayudante: Rodrigo Guerra"
      ],
      "metadata": {
        "id": "Vp_vOHK7V97e",
        "cell_id": "00001-34166f5e-1967-44bf-93ae-9e1f689a9d2b",
        "deepnote_cell_type": "markdown",
        "deepnote_cell_height": 165.1875
      },
      "id": "Vp_vOHK7V97e"
    },
    {
      "cell_type": "markdown",
      "source": [
        "### Equipo: SUPER IMPORTANTE - notebooks sin nombre no serán revisados\n",
        "\n",
        "- Nombre de alumno 1: Werner González\n",
        "- Nombre de alumno 2: Maximiliano Rosadio\n"
      ],
      "metadata": {
        "id": "4N_5AYgyWKyA",
        "cell_id": "00002-de00814c-fecc-4f73-81d3-0c551d90f502",
        "deepnote_cell_type": "markdown",
        "deepnote_cell_height": 171.796875
      },
      "id": "4N_5AYgyWKyA"
    },
    {
      "cell_type": "markdown",
      "source": [
        "### **Link de repositorio de GitHub:** `http://....`"
      ],
      "metadata": {
        "id": "1rjlaJDEWxd9",
        "cell_id": "00003-9e155e1b-c755-4987-a921-ef4b610a8cac",
        "deepnote_cell_type": "markdown",
        "deepnote_cell_height": 62
      },
      "id": "1rjlaJDEWxd9"
    },
    {
      "cell_type": "markdown",
      "source": [
        "## Reglas:\n",
        "\n",
        "- Fecha de entrega: 6 días desde la publicación, 3 días de atraso con 1 punto de descuento c/u. Pueden utilizar días bonus sin descuento.\n",
        "- **Grupos de 2 personas**.\n",
        "- **Ausentes** deberán realizar la actividad solos. \n",
        "- Cualquier duda fuera del horario de clases al foro. Mensajes al equipo docente serán respondidos por este medio.\n",
        "- Prohibidas las copias. \n",
        "- Pueden usar cualquer material del curso que estimen conveniente."
      ],
      "metadata": {
        "id": "9el9ERaKWW3i",
        "cell_id": "00004-b68898c3-df7f-4924-b546-39989db5c1eb",
        "deepnote_cell_type": "markdown",
        "deepnote_cell_height": 271.796875
      },
      "id": "9el9ERaKWW3i"
    },
    {
      "cell_type": "markdown",
      "source": [
        "\n",
        "## Objetivos del lab:\n",
        "\n",
        "\n",
        "- Variables, Operadores y Expresiones.\n",
        "- Estructuras de Control (if/else).\n",
        "- Iteraciones.\n",
        "- Listas y Diccionarios.\n",
        "- Programación Funcional (Map, Filter y Reduce).\n",
        "- Programación Orientada a Objetos (Encapsulamiento, Polimorfismo y Herencia)"
      ],
      "metadata": {
        "id": "4708b9b7",
        "cell_id": "00005-ee364add-3449-4845-8a64-70b2026cf418",
        "deepnote_cell_type": "markdown",
        "deepnote_cell_height": 249.390625
      },
      "id": "4708b9b7"
    },
    {
      "cell_type": "markdown",
      "source": [
        "## Parte 1: 🍋 Frutas 🍓\n",
        "\n",
        "En esta primera parte se trabajará lo escencial visto hasta el momento más un poco de programación funcional a través de frutas:\n",
        "\n",
        "<div align='center'>\n",
        "<img src='https://upload.wikimedia.org/wikipedia/commons/a/a2/Berries_in_Berlin.jpg' width=600/>\n",
        "</div>"
      ],
      "metadata": {
        "id": "d58b089c",
        "cell_id": "00006-ee59127c-6e4d-4f0a-b7b3-91fa67030c38",
        "deepnote_cell_type": "markdown",
        "deepnote_cell_height": 567.09375
      },
      "id": "d58b089c"
    },
    {
      "cell_type": "markdown",
      "source": [
        "Defina las siguientes frutas como diccionarios a partir de sus características (nombre, color, tipo y si posee o no pepas):\n",
        "\n",
        "| Nombre    | Tipo     | Color    | Pepas |\n",
        "|-----------|----------|----------|-------|\n",
        "| limon     | cítrica  | amarillo | True  |\n",
        "| naranja   | cítrica  | naranjo  | True  |\n",
        "| plátano   | tropical | amarillo | False |\n",
        "| piña      | tropical | amarillo | False |\n",
        "| frutilla  | bosque   | rojo     | True |\n",
        "| frambuesa | bosque   | rojo     | True |"
      ],
      "metadata": {
        "id": "5fdf6b19",
        "cell_id": "00007-a7c16348-8e92-4ca9-8186-61b6469ed037",
        "deepnote_cell_type": "markdown",
        "deepnote_cell_height": 259.59375
      },
      "id": "5fdf6b19"
    },
    {
      "cell_type": "markdown",
      "source": [
        "### [0.5] Estructurar Datos \n",
        "\n",
        "Agregue Piña, Frutilla y Frambuesa como diccionarios (siga los ejemplos de las frutas dadas) y luego cree un arreglo que contenga estas frutas.\n"
      ],
      "metadata": {
        "id": "33aed47b",
        "cell_id": "00008-129dfcb2-92ca-420e-914c-ef3d28ca94cb",
        "deepnote_cell_type": "markdown",
        "deepnote_cell_height": 122.796875
      },
      "id": "33aed47b"
    },
    {
      "cell_type": "code",
      "metadata": {
        "id": "26d23e26",
        "deepnote_to_be_reexecuted": false,
        "source_hash": "56db5a38",
        "execution_start": 1648863016482,
        "execution_millis": 22,
        "cell_id": "00009-dc5bdf7c-c90a-4657-9ab2-b459aae42f9c",
        "deepnote_cell_type": "code",
        "deepnote_cell_height": 436
      },
      "source": [
        "limon = {\n",
        "    \"nombre\": \"limón\", \n",
        "    \"tipo\": \"cítrica\", \n",
        "    \"color\": \"amarillo\", \n",
        "    \"pepas\": True\n",
        "    }\n",
        "\n",
        "naranja = {\"nombre\": \"naranja\", \n",
        "           \"tipo\": \"cítrica\", \n",
        "           \"color\": \"naranjo\", \n",
        "           \"pepas\": True\n",
        "          }\n",
        "\n",
        "platano = {\"nombre\": \"plátano\", \n",
        "           \"tipo\": \"tropical\", \n",
        "           \"color\": \"amarillo\", \n",
        "           \"pepas\": False\n",
        "          }\n",
        "          \n",
        "piña = {\"nombre\": \"piña\", \n",
        "           \"tipo\": \"tropical\", \n",
        "           \"color\": \"amarillo\", \n",
        "           \"pepas\": False\n",
        "          }  \n",
        "\n",
        "frutilla = {\"nombre\": \"frutilla\", \n",
        "           \"tipo\": \"bosque\", \n",
        "           \"color\": \"rojo\", \n",
        "           \"pepas\": True\n",
        "          }  \n",
        "\n",
        "frambuesa = {\"nombre\": \"frambuesa\", \n",
        "           \"tipo\": \"bosque\", \n",
        "           \"color\": \"rojo\", \n",
        "           \"pepas\": True\n",
        "          } "
      ],
      "execution_count": 1,
      "outputs": [],
      "id": "26d23e26"
    },
    {
      "cell_type": "markdown",
      "source": [
        "Ahora, agregue todas las frutas a un arreglo."
      ],
      "metadata": {
        "id": "259ee333",
        "cell_id": "00010-8baad02c-338c-4832-a1fb-421094a960d5",
        "deepnote_cell_type": "markdown",
        "deepnote_cell_height": 52.390625
      },
      "id": "259ee333"
    },
    {
      "cell_type": "code",
      "metadata": {
        "id": "fcf62186",
        "deepnote_to_be_reexecuted": false,
        "source_hash": "78d4e62",
        "execution_start": 1648863016524,
        "execution_millis": 29,
        "cell_id": "00011-c1317f9f-b373-4ffa-85a4-edae3c0d74f6",
        "deepnote_cell_type": "code",
        "deepnote_cell_height": 94
      },
      "source": [
        "# Ojo: agregue los datos en el mismo orden que aparecen en la tabla\n",
        "datos = [limon, naranja, platano, piña, frutilla, frambuesa]"
      ],
      "execution_count": 2,
      "outputs": [],
      "id": "fcf62186"
    },
    {
      "cell_type": "markdown",
      "source": [
        "Este arreglo será la información con la que se trabajará durante el lab."
      ],
      "metadata": {
        "id": "2ed7730e",
        "cell_id": "00012-5549a576-e1ee-4f26-8bea-dfbed941bef9",
        "deepnote_cell_type": "markdown",
        "deepnote_cell_height": 52.390625
      },
      "id": "2ed7730e"
    },
    {
      "cell_type": "markdown",
      "source": [
        "### Funciones Aplicadas a los Datos [1.5 puntos]"
      ],
      "metadata": {
        "id": "e9b1e46d",
        "cell_id": "00013-28d3dfd6-20bb-4cec-aade-bedb822304cd",
        "deepnote_cell_type": "markdown",
        "deepnote_cell_height": 62
      },
      "id": "e9b1e46d"
    },
    {
      "cell_type": "markdown",
      "source": [
        "Elabore las siguientes funciones:\n",
        "    \n",
        "**1. La función `describir(datos)` que genere un arreglo con strings que describan cada fruta de la siguiente manera:**\n",
        "\n",
        "```{El/La} {...} es una fruta de tipo {...} de color {...}. {Presenta/No presenta} pepas en su interior.```\n",
        "    \n",
        "Por ejemplo, para el plátano se debe generar el siguiente string:\n",
        "    \n",
        "```\n",
        "'El plátano es una fruta de tipo tropical de color amarillo. No presenta pepas en su interior.'\n",
        "```\n",
        "    \n",
        "Indicaciones: \n",
        "- Usen formateo o suma de strings, if, else y for.\n",
        "- Para saber si ocupar 'El' o 'La', pueden acceder al nombre de la fruta y ver cual es el último carácter a través de indexadores `string[indice]`.\n",
        "    \n",
        "**2. La función `filtrar_por_pepa(datos, tiene_pepas)` que dado un tipo de fruta y un booleano, retorne las frutas que tienen o no tienen pepas (según el valor de `tiene_pepas`).**\n",
        "    \n",
        "\n",
        "Por ejemplo, `filtrar_por_pepa(datos, True)` deberá retornar un arreglo con los diccionarios de: naranja, limon, frutilla y frambuesa.\n",
        "\n",
        "\n",
        "**3. La función `conteo_colores(datos)` que cree un diccionario que haga un conteo los colores de las frutas.**\n",
        "\n",
        "Para estos datos, la función debería retornar el siguiente diccionario: \n",
        "    \n",
        "```python\n",
        "{\"amarillo\": 3, \"naranjo\": 1, \"rojo\": 2}\n",
        "````"
      ],
      "metadata": {
        "id": "b7b016d6",
        "cell_id": "00014-cd5b819f-eab4-4c58-ad5d-38f8c7748b2a",
        "deepnote_cell_type": "markdown",
        "deepnote_cell_height": 614.59375
      },
      "id": "b7b016d6"
    },
    {
      "cell_type": "code",
      "metadata": {
        "id": "023bc051",
        "deepnote_to_be_reexecuted": false,
        "source_hash": "cc4d3003",
        "execution_start": 1648863316144,
        "execution_millis": 0,
        "cell_id": "00015-60e93552-c571-4d33-8760-e0224417f3ff",
        "deepnote_cell_type": "code",
        "deepnote_cell_height": 310
      },
      "source": [
        "def describir(datos):\n",
        "    pronombre = None\n",
        "    descripciones = []\n",
        "    texto_pepas = None\n",
        "    for dato in datos:\n",
        "      if dato['nombre'][-1] == 'a':\n",
        "        pronombre = 'La'\n",
        "      else: #Se asume que no existe otra terminación a parte de \"a\" u \"o\"\n",
        "        pronombre = 'El'\n",
        "\n",
        "      if dato['pepas']:\n",
        "        text_pepas = 'Presenta'\n",
        "      else:\n",
        "        text_pepas = 'No presenta'\n",
        "\n",
        "      descripciones.append( f\"{pronombre} {dato['nombre']} es una fruta de tipo {dato['tipo']}\" \\\n",
        "                        f\" de color {dato['color']}. {text_pepas} pepas en su interior.\")\n",
        "    return descripciones\n",
        "\n",
        "\n",
        "def filtrar_por_pepa(datos, tiene_pepas):\n",
        "    filtrados = []\n",
        "\n",
        "    for dato in datos:\n",
        "      if dato[\"pepas\"] == tiene_pepas:\n",
        "        filtrados.append(dato)\n",
        "    return filtrados\n",
        "\n",
        "\n",
        "def conteo_colores(datos):\n",
        "    conteos = {}\n",
        "\n",
        "    for dato in datos:\n",
        "\n",
        "      if dato[\"color\"] not in conteos.keys():\n",
        "        conteos[dato[\"color\"]] = 1\n",
        "      else:\n",
        "        conteos[dato[\"color\"]] += 1\n",
        "\n",
        "    return conteos"
      ],
      "execution_count": 3,
      "outputs": [],
      "id": "023bc051"
    },
    {
      "cell_type": "markdown",
      "source": [
        "El código de la siguiente celda presenta tests para probar sus funciones: Si la ejecución de esta celda no les levanta ninguna excepción, entonces sus funciones están implementadas según lo requerido. Si alguna falla, entonces deberán corregir los errores mostrados. \n",
        "Noten que los strings, diccionarios y en general, los objetos deben ser exactamente idénticos para que el test no falle.\n"
      ],
      "metadata": {
        "id": "5240bec1",
        "cell_id": "00016-3a23b5a7-7670-44ae-9d7f-799a1c55e7fe",
        "deepnote_cell_type": "markdown",
        "deepnote_cell_height": 142
      },
      "id": "5240bec1"
    },
    {
      "cell_type": "markdown",
      "source": [
        "**Ejecuten esta celda para comprobar su código:**"
      ],
      "metadata": {
        "id": "F2mt7aIusap8",
        "cell_id": "00017-069e9135-e447-4925-b184-6b3caef5395d",
        "deepnote_cell_type": "markdown",
        "deepnote_cell_height": 52.390625
      },
      "id": "F2mt7aIusap8"
    },
    {
      "cell_type": "code",
      "metadata": {
        "id": "c39b58c0",
        "deepnote_to_be_reexecuted": false,
        "source_hash": "af520603",
        "execution_start": 1648863016644,
        "execution_millis": 0,
        "cell_id": "00018-e3eddceb-a874-4260-8649-c594aedc83ce",
        "deepnote_cell_type": "code",
        "deepnote_cell_height": 657
      },
      "source": [
        "# ---------------------------------------------------------------------\n",
        "# test descripciones\n",
        "# note que las frutas deben estar en igual orden para que este assert no falle.\n",
        "\n",
        "descripciones_esperadas = [\n",
        "    \"El limón es una fruta de tipo cítrica de color amarillo. Presenta pepas en su interior.\",\n",
        "    \"La naranja es una fruta de tipo cítrica de color naranjo. Presenta pepas en su interior.\",\n",
        "    \"El plátano es una fruta de tipo tropical de color amarillo. No presenta pepas en su interior.\",\n",
        "    \"La piña es una fruta de tipo tropical de color amarillo. No presenta pepas en su interior.\",\n",
        "    \"La frutilla es una fruta de tipo bosque de color rojo. Presenta pepas en su interior.\",\n",
        "    \"La frambuesa es una fruta de tipo bosque de color rojo. Presenta pepas en su interior.\",\n",
        "]\n",
        "\n",
        "assert descripciones_esperadas == describir(datos)\n",
        "\n",
        "\n",
        "# ---------------------------------------------------------------------\n",
        "# test filtro\n",
        "frutas_con_pepa_esperadas = [\n",
        "    {\"nombre\": \"limón\", \"tipo\": \"cítrica\", \"color\": \"amarillo\", \"pepas\": True},\n",
        "    {\"nombre\": \"naranja\", \"tipo\": \"cítrica\", \"color\": \"naranjo\", \"pepas\": True},\n",
        "    {\"nombre\": \"frutilla\", \"tipo\": \"bosque\", \"color\": \"rojo\", \"pepas\": True},\n",
        "    {\"nombre\": \"frambuesa\", \"tipo\": \"bosque\", \"color\": \"rojo\", \"pepas\": True}\n",
        "]\n",
        "\n",
        "assert frutas_con_pepa_esperadas == filtrar_por_pepa(datos, True)\n",
        "\n",
        "# ---------------------------------------------------------------------\n",
        "# test conteo\n",
        "conteo_esperado = {'amarillo': 3, 'naranjo': 1, 'rojo': 2}\n",
        "\n",
        "\n",
        "assert conteo_esperado == conteo_colores(datos)"
      ],
      "execution_count": 4,
      "outputs": [],
      "id": "c39b58c0"
    },
    {
      "cell_type": "markdown",
      "source": [
        "### Implementaciones Funcionales [1.0 punto] \n",
        "\n",
        "Implementar las funciones de la sección anterior de forma funcional (solo las primeras 2)."
      ],
      "metadata": {
        "id": "yvry-8cgmHk5",
        "cell_id": "00019-4f86fe93-a6fe-4f70-a2de-9502e44b49b5",
        "deepnote_cell_type": "markdown",
        "deepnote_cell_height": 100.390625
      },
      "id": "yvry-8cgmHk5"
    },
    {
      "cell_type": "code",
      "metadata": {
        "id": "c6ef993a",
        "deepnote_to_be_reexecuted": false,
        "source_hash": "64c31950",
        "execution_start": 1648863330543,
        "execution_millis": 3,
        "cell_id": "00020-dad72fd1-f187-41f7-8a0c-4146cb5b306f",
        "deepnote_cell_type": "code",
        "deepnote_cell_height": 274
      },
      "source": [
        "def describir_funcional(datos):\n",
        "\n",
        "    def generar_descripcion(fruta):\n",
        "        pronombre = None\n",
        "        text_pepas = None\n",
        "\n",
        "        if fruta['nombre'][-1] == 'a':\n",
        "          pronombre = 'La'\n",
        "        else: #Se asume que no existe otra terminación a parte de \"a\" u \"o\"\n",
        "          pronombre = 'El'\n",
        "\n",
        "        if fruta['pepas']:\n",
        "          text_pepas = 'Presenta'\n",
        "        else:\n",
        "          text_pepas = 'No presenta'\n",
        "\n",
        "        return f\"{pronombre} {fruta['nombre']} es una fruta de tipo {fruta['tipo']}\" \\\n",
        "                       f\" de color {fruta['color']}. {text_pepas} pepas en su interior.\"\n",
        "\n",
        "    descripciones = list(map(generar_descripcion, datos))\n",
        "    return descripciones\n",
        "    \n",
        "def filtrar_por_pepa_funcional(datos, tipo_de_dato):\n",
        "\n",
        "  filtrados = list(filter(lambda fruta: fruta[\"pepas\"]==tipo_de_dato, datos))\n",
        "  return filtrados"
      ],
      "execution_count": 5,
      "outputs": [],
      "id": "c6ef993a"
    },
    {
      "cell_type": "code",
      "metadata": {
        "id": "OyGdi9IRS9fy",
        "deepnote_to_be_reexecuted": false,
        "source_hash": "a202dbc8",
        "execution_start": 1648863332481,
        "execution_millis": 4,
        "cell_id": "00021-b768865a-b51d-42df-870e-5ce765869644",
        "deepnote_cell_type": "code",
        "deepnote_cell_height": 94
      },
      "source": [
        "assert descripciones_esperadas == describir_funcional(datos)\n",
        "assert frutas_con_pepa_esperadas == filtrar_por_pepa_funcional(datos, True)"
      ],
      "execution_count": 6,
      "outputs": [],
      "id": "OyGdi9IRS9fy"
    },
    {
      "cell_type": "markdown",
      "source": [
        "## Parte 2: Electrodomésticos \n",
        "\n",
        "En esta parte se solicitarán un par de clases que permitirá jugar con la Programación Orientada a Objetos.\n",
        "\n",
        "<div align='center'>\n",
        "<img src='https://upload.wikimedia.org/wikipedia/commons/6/67/Breville.jpg' width=400/>\n",
        "</div>\n",
        "\n",
        "\n",
        "### [0.5] Clase Electrodoméstico\n",
        "\n",
        "Defina la clase `Electrodomestico` que implemente:\n",
        "\n",
        "\n",
        "- Un constructor que defina un atributo de instancia llamado `enchufado` que almacene valores booleanos. \n",
        "- Un método llamado `esta_enchufado(self)` que levante una excepción `Exception` y que termine con la ejecución del programa cuando el atributo enchuado sea `False`. La exepción debe levantar el mensaje `'Alerta ⚠️: El electrodoméstico no está enchufado'`\n",
        "- Un método llamado `enchufar(self)` que cambia el estado de `enchufado` a True.\n",
        "\n"
      ],
      "metadata": {
        "id": "492b941a",
        "cell_id": "00022-276603b2-51d4-4b7f-8001-a1616289e70e",
        "deepnote_cell_type": "markdown",
        "deepnote_cell_height": 723.59375
      },
      "id": "492b941a"
    },
    {
      "cell_type": "code",
      "metadata": {
        "id": "9f8aa475",
        "deepnote_to_be_reexecuted": false,
        "source_hash": "43ca10f0",
        "execution_start": 1648863016745,
        "execution_millis": 21,
        "cell_id": "00023-6491b37f-6bf9-48c1-8dd6-64734002117f",
        "deepnote_cell_type": "code",
        "deepnote_cell_height": 238
      },
      "source": [
        "class Electrodomestico:\n",
        "    \n",
        "    def __init__(self, enchufado=False):\n",
        "      # Código Aquí\n",
        "      self.enchufado = enchufado\n",
        "        \n",
        "    def esta_enchufado(self):\n",
        "      # Código Aquí\n",
        "      if self.enchufado == True:\n",
        "        pass\n",
        "      else:\n",
        "        raise TypeError(f'Alerta ⚠️: El electrodoméstico no está enchufado')\n",
        "\n",
        "            \n",
        "    def enchufar(self):\n",
        "      # Código Aquí\n",
        "      self.enchufado = True\n",
        "      print(\"Ahora el aparato se encuentra enchufado\")"
      ],
      "execution_count": 7,
      "outputs": [],
      "id": "9f8aa475"
    },
    {
      "cell_type": "markdown",
      "source": [
        "### Clase Jugera [1.0 puntos] \n",
        "\n",
        "\n",
        "<div align='center'>\n",
        "<img src='https://upload.wikimedia.org/wikipedia/commons/b/bb/Liquadora_%28parts%29.JPG' width=400/>\n",
        "</div>\n",
        "\n",
        "\n",
        "Implemente la clase `Jugera` que extiende `Electrodomestico` y que implemente: \n",
        "\n",
        "\n",
        "- Un constructor que tenga una lista de ingredientes frutales (llamado `bandeja`).\n",
        "\n",
        "\n",
        "- Un método llamado `agregar_ingrediente(self, nueva_fruta)` que dado una fruta, agregue esa fruta a la `bandeja`.\n",
        "\n",
        "- Un método llamado `listar_ingredientes(self)` que imprima (con `print`) los ingredientes actuales de la `bandeja` de la siguiente forma: \n",
        "\n",
        "    `Ingredientes en la bandeja: frutilla, frambuesa, piña.`\n",
        "\n",
        "De lo contrario si no tiene ingredientes imprima:\n",
        "\n",
        "    `Bandeja vacía`\n",
        "\n",
        "\n",
        "**Hint:** Investigar el método `join` de un string para generar el string con los nombres de las frutas.\n",
        "    \n",
        "    \n",
        "    \n",
        "\n",
        "- Un método llamado `preparar_jugo(self)` que: \n",
        "    - Primero verifique que el electrodoméstico esté enchufado usando `self.esta_enchufado()`.\n",
        "    - Verifique que haya por lo menos un ingrediente en la `bandeja`. En el caso que no haya, levantar una excepción con contenido `'Error ❌: La bandeja no tiene ingredientes.'`\n",
        "    - Verifique que ninguna fruta tenga pepas. En el caso que haya alguna, imprimir (con `print`) el mensaje de advertencia `'Alerta ⚠️: El jugo puede contener restos de pepas.'`. Puede usar la función definida en la sección anterior.\n",
        "    - Genere un mensaje indicado `Jugo de {nombres de las frutas separadas por una ,} listo. 🏖️🥤 Que lo disfrutes!!! 🥤🏖️. ` (Hint: Usar nuevamente `join`).\n",
        "    - Vacie la `bandeja` (es decir, eliminar todas las frutas de la bandeja).\n",
        "    - Retorne el mensaje generado.\n"
      ],
      "metadata": {
        "id": "d7d477b5",
        "cell_id": "00024-0d2d8181-6462-4204-9fa4-da88063e46c8",
        "deepnote_cell_type": "markdown",
        "deepnote_cell_height": 1059.59375
      },
      "id": "d7d477b5"
    },
    {
      "cell_type": "code",
      "metadata": {
        "id": "d9db037b",
        "deepnote_to_be_reexecuted": false,
        "source_hash": "fe592b51",
        "execution_start": 1648863366156,
        "execution_millis": 0,
        "cell_id": "00025-bb7f14a6-ab47-4169-9435-6cab7ecf5ccf",
        "deepnote_cell_type": "code",
        "deepnote_cell_height": 346
      },
      "source": [
        "class Jugera(Electrodomestico):\n",
        "    \n",
        "    def __init__(self, bandeja = []):\n",
        "      super().__init__()\n",
        "      # Código Aquí\n",
        "      self.bandeja = bandeja\n",
        "        \n",
        "    def agregar_ingrediente(self, nueva_fruta):\n",
        "        # Código Aquí\n",
        "        self.bandeja.append(nueva_fruta)\n",
        "     \n",
        "    def listar_ingredientes(self):\n",
        "        # Código Aquí\n",
        "        if len(self.bandeja) == 0:\n",
        "          print(\"Bandeja vacía\")\n",
        "        else:\n",
        "          names = [i[\"nombre\"] for i in self.bandeja]\n",
        "          print(\"Ingredientes en la bandeja: \" + \", \".join(map(str, names)) + \".\")\n",
        "    \n",
        "    def preparar_jugo(self):\n",
        "        # Código Aquí\n",
        "        self.esta_enchufado()\n",
        "        if len(self.bandeja) > 0:\n",
        "          pass\n",
        "        else:\n",
        "          raise TypeError(f'Error ❌: La bandeja no tiene ingredientes.')\n",
        "\n",
        "        if len(filtrar_por_pepa_funcional(self.bandeja, True)) == 0:\n",
        "          pass\n",
        "        else:\n",
        "          print('Alerta ⚠️: El jugo puede contener restos de pepas.')\n",
        "\n",
        "        names = [i[\"nombre\"] for i in self.bandeja]\n",
        "        mensaje = \"Jugo de \" + \", \".join(map(str, names)) + \" listo. 🏖️🥤 Que lo disfrutes!!! 🥤🏖️.\"\n",
        "        self.bandeja = []\n",
        "\n",
        "        return mensaje"
      ],
      "execution_count": 18,
      "outputs": [],
      "id": "d9db037b"
    },
    {
      "cell_type": "markdown",
      "source": [
        "### Interacciones\n",
        "\n",
        "Las siguientes celdas les permitirán probar las interacciones de esta clase.\n",
        "La ejecución es solo referencial y no lleva puntaje. La idea es que la utilice como guía para desarrollar la clase."
      ],
      "metadata": {
        "id": "6889015a",
        "cell_id": "00026-21181882-8e79-4805-8e16-94ba7fcf4a37",
        "deepnote_cell_type": "markdown",
        "deepnote_cell_height": 122.796875
      },
      "id": "6889015a"
    },
    {
      "cell_type": "code",
      "metadata": {
        "id": "913af660",
        "colab": {
          "base_uri": "https://localhost:8080/"
        },
        "outputId": "1255748d-5306-4669-c1c7-78c3f175fd26",
        "deepnote_to_be_reexecuted": false,
        "source_hash": "239b8903",
        "execution_start": 1648863369348,
        "execution_millis": 8,
        "cell_id": "00027-1867ac2c-f7af-402f-b64b-90b3a762058a",
        "deepnote_cell_type": "code",
        "deepnote_cell_height": 161
      },
      "source": [
        "jugera = Jugera()\n",
        "\n",
        "# Como no tenemos ingredientes, listar_ingredientes deberá imprimir 'Bandeja vacía'\n",
        "jugera.listar_ingredientes()"
      ],
      "execution_count": 19,
      "outputs": [
        {
          "output_type": "stream",
          "name": "stdout",
          "text": [
            "Bandeja vacía\n"
          ]
        }
      ],
      "id": "913af660"
    },
    {
      "cell_type": "code",
      "metadata": {
        "scrolled": false,
        "id": "9d06bf3e",
        "colab": {
          "base_uri": "https://localhost:8080/",
          "height": 341
        },
        "outputId": "764f9eb5-5e13-4996-af95-40225e3b29c2",
        "deepnote_to_be_reexecuted": false,
        "source_hash": "77689b24",
        "execution_start": 1648863371573,
        "execution_millis": 20,
        "cell_id": "00028-de679d95-a42c-48f6-86ff-3ca92f9de2c2",
        "deepnote_cell_type": "code",
        "deepnote_cell_height": 157.1875
      },
      "source": [
        "# Esta celda debería levantar una excepcion indicando que no está enchufada la jugera.\n",
        "jugera.preparar_jugo()"
      ],
      "execution_count": 20,
      "outputs": [
        {
          "output_type": "error",
          "ename": "TypeError",
          "evalue": "ignored",
          "traceback": [
            "\u001b[0;31m---------------------------------------------------------------------------\u001b[0m",
            "\u001b[0;31mTypeError\u001b[0m                                 Traceback (most recent call last)",
            "\u001b[0;32m<ipython-input-20-12a82fa67e1d>\u001b[0m in \u001b[0;36m<module>\u001b[0;34m\u001b[0m\n\u001b[1;32m      1\u001b[0m \u001b[0;31m# Esta celda debería levantar una excepcion indicando que no está enchufada la jugera.\u001b[0m\u001b[0;34m\u001b[0m\u001b[0;34m\u001b[0m\u001b[0;34m\u001b[0m\u001b[0m\n\u001b[0;32m----> 2\u001b[0;31m \u001b[0mjugera\u001b[0m\u001b[0;34m.\u001b[0m\u001b[0mpreparar_jugo\u001b[0m\u001b[0;34m(\u001b[0m\u001b[0;34m)\u001b[0m\u001b[0;34m\u001b[0m\u001b[0;34m\u001b[0m\u001b[0m\n\u001b[0m",
            "\u001b[0;32m<ipython-input-18-9bb48be55f71>\u001b[0m in \u001b[0;36mpreparar_jugo\u001b[0;34m(self)\u001b[0m\n\u001b[1;32m     20\u001b[0m     \u001b[0;32mdef\u001b[0m \u001b[0mpreparar_jugo\u001b[0m\u001b[0;34m(\u001b[0m\u001b[0mself\u001b[0m\u001b[0;34m)\u001b[0m\u001b[0;34m:\u001b[0m\u001b[0;34m\u001b[0m\u001b[0;34m\u001b[0m\u001b[0m\n\u001b[1;32m     21\u001b[0m         \u001b[0;31m# Código Aquí\u001b[0m\u001b[0;34m\u001b[0m\u001b[0;34m\u001b[0m\u001b[0;34m\u001b[0m\u001b[0m\n\u001b[0;32m---> 22\u001b[0;31m         \u001b[0mself\u001b[0m\u001b[0;34m.\u001b[0m\u001b[0mesta_enchufado\u001b[0m\u001b[0;34m(\u001b[0m\u001b[0;34m)\u001b[0m\u001b[0;34m\u001b[0m\u001b[0;34m\u001b[0m\u001b[0m\n\u001b[0m\u001b[1;32m     23\u001b[0m         \u001b[0;32mif\u001b[0m \u001b[0mlen\u001b[0m\u001b[0;34m(\u001b[0m\u001b[0mself\u001b[0m\u001b[0;34m.\u001b[0m\u001b[0mbandeja\u001b[0m\u001b[0;34m)\u001b[0m \u001b[0;34m>\u001b[0m \u001b[0;36m0\u001b[0m\u001b[0;34m:\u001b[0m\u001b[0;34m\u001b[0m\u001b[0;34m\u001b[0m\u001b[0m\n\u001b[1;32m     24\u001b[0m           \u001b[0;32mpass\u001b[0m\u001b[0;34m\u001b[0m\u001b[0;34m\u001b[0m\u001b[0m\n",
            "\u001b[0;32m<ipython-input-7-4f4570cba566>\u001b[0m in \u001b[0;36mesta_enchufado\u001b[0;34m(self)\u001b[0m\n\u001b[1;32m     10\u001b[0m         \u001b[0;32mpass\u001b[0m\u001b[0;34m\u001b[0m\u001b[0;34m\u001b[0m\u001b[0m\n\u001b[1;32m     11\u001b[0m       \u001b[0;32melse\u001b[0m\u001b[0;34m:\u001b[0m\u001b[0;34m\u001b[0m\u001b[0;34m\u001b[0m\u001b[0m\n\u001b[0;32m---> 12\u001b[0;31m         \u001b[0;32mraise\u001b[0m \u001b[0mTypeError\u001b[0m\u001b[0;34m(\u001b[0m\u001b[0;34mf'Alerta ⚠️: El electrodoméstico no está enchufado'\u001b[0m\u001b[0;34m)\u001b[0m\u001b[0;34m\u001b[0m\u001b[0;34m\u001b[0m\u001b[0m\n\u001b[0m\u001b[1;32m     13\u001b[0m \u001b[0;34m\u001b[0m\u001b[0m\n\u001b[1;32m     14\u001b[0m \u001b[0;34m\u001b[0m\u001b[0m\n",
            "\u001b[0;31mTypeError\u001b[0m: Alerta ⚠️: El electrodoméstico no está enchufado"
          ]
        }
      ],
      "id": "9d06bf3e"
    },
    {
      "cell_type": "code",
      "metadata": {
        "id": "3ad38f18",
        "deepnote_to_be_reexecuted": false,
        "source_hash": "36a2ab49",
        "execution_start": 1648863372430,
        "execution_millis": 0,
        "cell_id": "00029-d9165e10-9c64-4c24-9a09-8ab9d42107fe",
        "deepnote_cell_type": "code",
        "deepnote_cell_height": 94,
        "colab": {
          "base_uri": "https://localhost:8080/"
        },
        "outputId": "4041407f-4e8c-4bec-bdf0-f2d5e0923d49"
      },
      "source": [
        "# Enchufamos el electrodoméstico\n",
        "jugera.enchufar()"
      ],
      "execution_count": 21,
      "outputs": [
        {
          "output_type": "stream",
          "name": "stdout",
          "text": [
            "Ahora el aparato se encuentra enchufado\n"
          ]
        }
      ],
      "id": "3ad38f18"
    },
    {
      "cell_type": "code",
      "metadata": {
        "scrolled": true,
        "id": "48009872",
        "colab": {
          "base_uri": "https://localhost:8080/",
          "height": 317
        },
        "outputId": "78ce9de4-c2f3-4402-ac47-e91fc64a93fc",
        "deepnote_to_be_reexecuted": false,
        "source_hash": "27514b2c",
        "execution_start": 1648863376136,
        "execution_millis": 173,
        "cell_id": "00030-21f1cce1-c787-421e-9a9d-568148509bfa",
        "deepnote_cell_type": "code",
        "deepnote_cell_height": 162.1875
      },
      "source": [
        "# Esta celda debería levantar ina excepción informandoles que la bandeja no tiene ingredientes.\n",
        "jugera.preparar_jugo()"
      ],
      "execution_count": 22,
      "outputs": [
        {
          "output_type": "error",
          "ename": "TypeError",
          "evalue": "ignored",
          "traceback": [
            "\u001b[0;31m---------------------------------------------------------------------------\u001b[0m",
            "\u001b[0;31mTypeError\u001b[0m                                 Traceback (most recent call last)",
            "\u001b[0;32m<ipython-input-22-763feb2b9970>\u001b[0m in \u001b[0;36m<module>\u001b[0;34m\u001b[0m\n\u001b[1;32m      1\u001b[0m \u001b[0;31m# Esta celda debería levantar ina excepción informandoles que la bandeja no tiene ingredientes.\u001b[0m\u001b[0;34m\u001b[0m\u001b[0;34m\u001b[0m\u001b[0;34m\u001b[0m\u001b[0m\n\u001b[0;32m----> 2\u001b[0;31m \u001b[0mjugera\u001b[0m\u001b[0;34m.\u001b[0m\u001b[0mpreparar_jugo\u001b[0m\u001b[0;34m(\u001b[0m\u001b[0;34m)\u001b[0m\u001b[0;34m\u001b[0m\u001b[0;34m\u001b[0m\u001b[0m\n\u001b[0m",
            "\u001b[0;32m<ipython-input-18-9bb48be55f71>\u001b[0m in \u001b[0;36mpreparar_jugo\u001b[0;34m(self)\u001b[0m\n\u001b[1;32m     24\u001b[0m           \u001b[0;32mpass\u001b[0m\u001b[0;34m\u001b[0m\u001b[0;34m\u001b[0m\u001b[0m\n\u001b[1;32m     25\u001b[0m         \u001b[0;32melse\u001b[0m\u001b[0;34m:\u001b[0m\u001b[0;34m\u001b[0m\u001b[0;34m\u001b[0m\u001b[0m\n\u001b[0;32m---> 26\u001b[0;31m           \u001b[0;32mraise\u001b[0m \u001b[0mTypeError\u001b[0m\u001b[0;34m(\u001b[0m\u001b[0;34mf'Error ❌: La bandeja no tiene ingredientes.'\u001b[0m\u001b[0;34m)\u001b[0m\u001b[0;34m\u001b[0m\u001b[0;34m\u001b[0m\u001b[0m\n\u001b[0m\u001b[1;32m     27\u001b[0m \u001b[0;34m\u001b[0m\u001b[0m\n\u001b[1;32m     28\u001b[0m         \u001b[0;32mif\u001b[0m \u001b[0mlen\u001b[0m\u001b[0;34m(\u001b[0m\u001b[0mfiltrar_por_pepa_funcional\u001b[0m\u001b[0;34m(\u001b[0m\u001b[0mself\u001b[0m\u001b[0;34m.\u001b[0m\u001b[0mbandeja\u001b[0m\u001b[0;34m,\u001b[0m \u001b[0;32mTrue\u001b[0m\u001b[0;34m)\u001b[0m\u001b[0;34m)\u001b[0m \u001b[0;34m==\u001b[0m \u001b[0;36m0\u001b[0m\u001b[0;34m:\u001b[0m\u001b[0;34m\u001b[0m\u001b[0;34m\u001b[0m\u001b[0m\n",
            "\u001b[0;31mTypeError\u001b[0m: Error ❌: La bandeja no tiene ingredientes."
          ]
        }
      ],
      "id": "48009872"
    },
    {
      "cell_type": "code",
      "metadata": {
        "id": "4873e0bf",
        "colab": {
          "base_uri": "https://localhost:8080/"
        },
        "outputId": "8ede756b-9682-4687-d586-9b80e40df2a1",
        "deepnote_to_be_reexecuted": false,
        "source_hash": "a8f0979e",
        "execution_start": 1648863377052,
        "execution_millis": 6,
        "cell_id": "00031-557247ee-0b0e-419d-ab91-05eb6c622fea",
        "deepnote_cell_type": "code",
        "deepnote_cell_height": 197
      },
      "source": [
        "# Agregamos algunos ingredientes\n",
        "jugera.agregar_ingrediente(naranja)\n",
        "jugera.agregar_ingrediente(platano)\n",
        "\n",
        "# Y los listamos (debería imprimir: 'Ingredientes en la bandeja: naranja, plátano')\n",
        "jugera.listar_ingredientes()"
      ],
      "execution_count": 23,
      "outputs": [
        {
          "output_type": "stream",
          "name": "stdout",
          "text": [
            "Ingredientes en la bandeja: naranja, plátano.\n"
          ]
        }
      ],
      "id": "4873e0bf"
    },
    {
      "cell_type": "code",
      "metadata": {
        "id": "ff555151",
        "colab": {
          "base_uri": "https://localhost:8080/",
          "height": 54
        },
        "outputId": "a6dbd6d2-244f-416b-fe66-2eeb611c2325",
        "deepnote_to_be_reexecuted": false,
        "source_hash": "7086345e",
        "execution_start": 1648863380098,
        "execution_millis": 5,
        "cell_id": "00032-fe1976d4-c86a-446c-bd56-cc8fcc77902d",
        "deepnote_cell_type": "code",
        "deepnote_cell_height": 176.1875,
        "deepnote_output_heights": [
          null,
          20.1875
        ]
      },
      "source": [
        "# Preparamos el jugo: 'Jugo de naranja, plátano listo. 🏖️🥤 Que lo disfrutes!!! 🥤🏖️.'\n",
        "jugera.preparar_jugo()"
      ],
      "execution_count": 24,
      "outputs": [
        {
          "output_type": "stream",
          "name": "stdout",
          "text": [
            "Alerta ⚠️: El jugo puede contener restos de pepas.\n"
          ]
        },
        {
          "output_type": "execute_result",
          "data": {
            "text/plain": [
              "'Jugo de naranja, plátano listo. 🏖️🥤 Que lo disfrutes!!! 🥤🏖️.'"
            ],
            "application/vnd.google.colaboratory.intrinsic+json": {
              "type": "string"
            }
          },
          "metadata": {},
          "execution_count": 24
        }
      ],
      "id": "ff555151"
    },
    {
      "cell_type": "code",
      "metadata": {
        "id": "bbc532b2",
        "colab": {
          "base_uri": "https://localhost:8080/"
        },
        "outputId": "758786d5-8b1a-486a-997d-c66614012f30",
        "deepnote_to_be_reexecuted": false,
        "source_hash": "6a032d0a",
        "execution_start": 1648863382273,
        "execution_millis": 0,
        "cell_id": "00033-b4fab02e-5c0b-4370-b0ff-f5e7fc5e06ba",
        "deepnote_cell_type": "code",
        "deepnote_cell_height": 125
      },
      "source": [
        "# Una vez preparado el jugo, debería vaciarse la bandeja (imprimir Bandeja vacía)\n",
        "jugera.listar_ingredientes()"
      ],
      "execution_count": 25,
      "outputs": [
        {
          "output_type": "stream",
          "name": "stdout",
          "text": [
            "Bandeja vacía\n"
          ]
        }
      ],
      "id": "bbc532b2"
    },
    {
      "cell_type": "markdown",
      "source": [
        "### Clase Jugera + Properties  [1.0]\n",
        "\n",
        "Implementar `bandeja` usando una `property` que permita setear una `nueva_bandeja` como `bandeja` según las siguientes condiciones:\n",
        "\n",
        "\n",
        "- Compruebe que `nueva_bandeja` sea una lista. En caso contrario, levante una excepción.\n",
        "- No permita agregar más de 3 ingredientes a la bandeja a la vez. Si se entregan más de 3 frutas, se levante una excepción.\n",
        "- Se compruebe que todos los elementos del arreglo sean frutas. Para esto, por cada fruta compruebe que:\n",
        "    1. La fruta sea diccionario.\n",
        "    2. El diccionario entregado tenga las llaves `nombre`, `tipo`, `color` y `pepas`."
      ],
      "metadata": {
        "id": "972dbcac",
        "cell_id": "00034-73d8fb0c-4cf8-48a7-8cba-d20f701f942e",
        "deepnote_cell_type": "markdown",
        "deepnote_cell_height": 297.1875
      },
      "id": "972dbcac"
    },
    {
      "cell_type": "code",
      "metadata": {
        "id": "X3RXI9nisGfa",
        "deepnote_to_be_reexecuted": false,
        "source_hash": "68977855",
        "execution_start": 1648863394051,
        "execution_millis": 5,
        "cell_id": "00035-61c68f41-ca47-4794-9d61-1b5d3197d5a1",
        "deepnote_cell_type": "code",
        "deepnote_cell_height": 490
      },
      "source": [
        "class Jugera(Electrodomestico):\n",
        "    \n",
        "    \n",
        "    def __init__(self, bandeja=[]):\n",
        "      super().__init__()\n",
        "      # Código Aquí\n",
        "      self._bandeja = bandeja\n",
        "\n",
        "    @property\n",
        "    def bandeja(self):\n",
        "        return self._bandeja\n",
        "\n",
        "    @bandeja.setter\n",
        "    def bandeja(self, nueva_bandeja):\n",
        "\n",
        "        if not isinstance(nueva_bandeja, list):\n",
        "          raise TypeError('Error ❌: La bandeja no es una lista.')\n",
        "\n",
        "        if len(nueva_bandeja)>3:\n",
        "          raise TypeError('Error ❌: No se pueden agregar más de 3 ingredientes a la vez.')\n",
        "\n",
        "        for fruta in nueva_bandeja:\n",
        "          if not isinstance(fruta, dict):\n",
        "            raise TypeError(f'Error ❌: Existe una fruta que no es un diccionario: {fruta}')\n",
        "          \n",
        "          if list(fruta.keys()) != [\"nombre\", \"tipo\", \"color\", \"pepas\"]:\n",
        "            raise TypeError(f'Error ❌: Existe una fruta que no contiene las llaves necesarias: {fruta}')\n",
        "\n",
        "        self._bandeja += nueva_bandeja\n",
        "\n",
        "        \n",
        "\n",
        "\n",
        "    def agregar_ingrediente(self, nueva_fruta):\n",
        "        # Código Aquí\n",
        "        self._bandeja.append(nueva_fruta)\n",
        "     \n",
        "    def listar_ingredientes(self):\n",
        "        # Código Aquí\n",
        "        if len(self._bandeja) == 0:\n",
        "          print(\"Bandeja vacía\")\n",
        "        else:\n",
        "          names = [i[\"nombre\"] for i in self._bandeja]\n",
        "          print(\"Ingredientes en la bandeja: \" + \", \".join(map(str, names)) + \".\")\n",
        "    \n",
        "    def preparar_jugo(self):\n",
        "        # Código Aquí\n",
        "        self.esta_enchufado()\n",
        "        if len(self._bandeja) > 0:\n",
        "          pass\n",
        "        else:\n",
        "          raise TypeError(f'Error ❌: La bandeja no tiene ingredientes.')\n",
        "\n",
        "        if len(filtrar_por_pepa_funcional(self._bandeja, True)) == 0:\n",
        "          pass\n",
        "        else:\n",
        "          print('Alerta ⚠️: El jugo puede contener restos de pepas.')\n",
        "\n",
        "        names = [i[\"nombre\"] for i in self._bandeja]\n",
        "        mensaje = \"Jugo de \" + \", \".join(map(str, names)) + \" listo. 🏖️🥤 Que lo disfrutes!!! 🥤🏖️.\"\n",
        "        self._bandeja = []\n",
        "\n",
        "        return mensaje"
      ],
      "execution_count": 80,
      "outputs": [],
      "id": "X3RXI9nisGfa"
    },
    {
      "cell_type": "markdown",
      "source": [
        "### Interacciones\n",
        "\n",
        "Las siguientes celdas les permitirán probar las interacciones de esta clase.\n",
        "La ejecución es solo referencial y no lleva puntaje. La idea es que la utilice como guía para desarrollar la clase."
      ],
      "metadata": {
        "tags": [],
        "cell_id": "00036-342fea3a-f9ca-4640-8b91-b8aad9dbe1f4",
        "deepnote_cell_type": "markdown",
        "deepnote_cell_height": 122.796875,
        "id": "OEV75gJ_wRO3"
      },
      "id": "OEV75gJ_wRO3"
    },
    {
      "cell_type": "code",
      "metadata": {
        "tags": [],
        "deepnote_to_be_reexecuted": false,
        "source_hash": "d7617c26",
        "execution_start": 1648863396777,
        "execution_millis": 4,
        "cell_id": "00037-17d018bc-6787-43f5-b3bf-cced43cb481c",
        "deepnote_cell_type": "code",
        "deepnote_cell_height": 143,
        "id": "WNJq7JVPwRO3",
        "outputId": "e64c12cc-a548-46d9-dbd1-2b794779252f",
        "colab": {
          "base_uri": "https://localhost:8080/"
        }
      },
      "source": [
        "jugera_2 = Jugera()\n",
        "\n",
        "jugera_2.listar_ingredientes()"
      ],
      "execution_count": 81,
      "outputs": [
        {
          "output_type": "stream",
          "name": "stdout",
          "text": [
            "Bandeja vacía\n"
          ]
        }
      ],
      "id": "WNJq7JVPwRO3"
    },
    {
      "cell_type": "code",
      "metadata": {
        "tags": [],
        "deepnote_to_be_reexecuted": false,
        "source_hash": "480070d3",
        "execution_start": 1648863398145,
        "execution_millis": 18,
        "cell_id": "00038-95a2db01-4115-48c9-bb65-7038de5dd2ff",
        "deepnote_cell_type": "code",
        "deepnote_cell_height": 139.1875,
        "id": "Sjf4c2pbwRO3",
        "outputId": "fc4948de-03b2-4725-8d9b-bc71b438322a",
        "colab": {
          "base_uri": "https://localhost:8080/",
          "height": 323
        }
      },
      "source": [
        "jugera_2.preparar_jugo()"
      ],
      "execution_count": 82,
      "outputs": [
        {
          "output_type": "error",
          "ename": "TypeError",
          "evalue": "ignored",
          "traceback": [
            "\u001b[0;31m---------------------------------------------------------------------------\u001b[0m",
            "\u001b[0;31mTypeError\u001b[0m                                 Traceback (most recent call last)",
            "\u001b[0;32m<ipython-input-82-b7b38da5dd79>\u001b[0m in \u001b[0;36m<module>\u001b[0;34m\u001b[0m\n\u001b[0;32m----> 1\u001b[0;31m \u001b[0mjugera_2\u001b[0m\u001b[0;34m.\u001b[0m\u001b[0mpreparar_jugo\u001b[0m\u001b[0;34m(\u001b[0m\u001b[0;34m)\u001b[0m\u001b[0;34m\u001b[0m\u001b[0;34m\u001b[0m\u001b[0m\n\u001b[0m",
            "\u001b[0;32m<ipython-input-80-723af46cecc7>\u001b[0m in \u001b[0;36mpreparar_jugo\u001b[0;34m(self)\u001b[0m\n\u001b[1;32m     46\u001b[0m     \u001b[0;32mdef\u001b[0m \u001b[0mpreparar_jugo\u001b[0m\u001b[0;34m(\u001b[0m\u001b[0mself\u001b[0m\u001b[0;34m)\u001b[0m\u001b[0;34m:\u001b[0m\u001b[0;34m\u001b[0m\u001b[0;34m\u001b[0m\u001b[0m\n\u001b[1;32m     47\u001b[0m         \u001b[0;31m# Código Aquí\u001b[0m\u001b[0;34m\u001b[0m\u001b[0;34m\u001b[0m\u001b[0;34m\u001b[0m\u001b[0m\n\u001b[0;32m---> 48\u001b[0;31m         \u001b[0mself\u001b[0m\u001b[0;34m.\u001b[0m\u001b[0mesta_enchufado\u001b[0m\u001b[0;34m(\u001b[0m\u001b[0;34m)\u001b[0m\u001b[0;34m\u001b[0m\u001b[0;34m\u001b[0m\u001b[0m\n\u001b[0m\u001b[1;32m     49\u001b[0m         \u001b[0;32mif\u001b[0m \u001b[0mlen\u001b[0m\u001b[0;34m(\u001b[0m\u001b[0mself\u001b[0m\u001b[0;34m.\u001b[0m\u001b[0m_bandeja\u001b[0m\u001b[0;34m)\u001b[0m \u001b[0;34m>\u001b[0m \u001b[0;36m0\u001b[0m\u001b[0;34m:\u001b[0m\u001b[0;34m\u001b[0m\u001b[0;34m\u001b[0m\u001b[0m\n\u001b[1;32m     50\u001b[0m           \u001b[0;32mpass\u001b[0m\u001b[0;34m\u001b[0m\u001b[0;34m\u001b[0m\u001b[0m\n",
            "\u001b[0;32m<ipython-input-7-4f4570cba566>\u001b[0m in \u001b[0;36mesta_enchufado\u001b[0;34m(self)\u001b[0m\n\u001b[1;32m     10\u001b[0m         \u001b[0;32mpass\u001b[0m\u001b[0;34m\u001b[0m\u001b[0;34m\u001b[0m\u001b[0m\n\u001b[1;32m     11\u001b[0m       \u001b[0;32melse\u001b[0m\u001b[0;34m:\u001b[0m\u001b[0;34m\u001b[0m\u001b[0;34m\u001b[0m\u001b[0m\n\u001b[0;32m---> 12\u001b[0;31m         \u001b[0;32mraise\u001b[0m \u001b[0mTypeError\u001b[0m\u001b[0;34m(\u001b[0m\u001b[0;34mf'Alerta ⚠️: El electrodoméstico no está enchufado'\u001b[0m\u001b[0;34m)\u001b[0m\u001b[0;34m\u001b[0m\u001b[0;34m\u001b[0m\u001b[0m\n\u001b[0m\u001b[1;32m     13\u001b[0m \u001b[0;34m\u001b[0m\u001b[0m\n\u001b[1;32m     14\u001b[0m \u001b[0;34m\u001b[0m\u001b[0m\n",
            "\u001b[0;31mTypeError\u001b[0m: Alerta ⚠️: El electrodoméstico no está enchufado"
          ]
        }
      ],
      "id": "Sjf4c2pbwRO3"
    },
    {
      "cell_type": "code",
      "metadata": {
        "tags": [],
        "deepnote_to_be_reexecuted": false,
        "source_hash": "d3e1edd9",
        "execution_start": 1648863398900,
        "execution_millis": 3,
        "cell_id": "00039-648e90a9-a693-4d0a-8692-a20751cfc99a",
        "deepnote_cell_type": "code",
        "deepnote_cell_height": 94,
        "id": "xiB9X687wRO4",
        "colab": {
          "base_uri": "https://localhost:8080/"
        },
        "outputId": "656a7261-e233-43c8-b703-c3b28e57b07d"
      },
      "source": [
        "# Enchufamos el electrodoméstico\n",
        "jugera_2.enchufar()"
      ],
      "execution_count": 83,
      "outputs": [
        {
          "output_type": "stream",
          "name": "stdout",
          "text": [
            "Ahora el aparato se encuentra enchufado\n"
          ]
        }
      ],
      "id": "xiB9X687wRO4"
    },
    {
      "cell_type": "code",
      "metadata": {
        "tags": [],
        "deepnote_to_be_reexecuted": false,
        "source_hash": "b81f1f5b",
        "execution_start": 1648863400238,
        "execution_millis": 17,
        "cell_id": "00040-88f17b75-396d-4170-88cd-bafad6f7f911",
        "deepnote_cell_type": "code",
        "deepnote_cell_height": 162.1875,
        "id": "-1xSRDFLwRO4",
        "outputId": "ecec1903-d2e0-43b1-f226-58ceb35fd35d",
        "colab": {
          "base_uri": "https://localhost:8080/",
          "height": 317
        }
      },
      "source": [
        "# Esta celda debería levantar ina excepción informandoles que la bandeja no tiene ingredientes.\n",
        "jugera_2.preparar_jugo()"
      ],
      "execution_count": 84,
      "outputs": [
        {
          "output_type": "error",
          "ename": "TypeError",
          "evalue": "ignored",
          "traceback": [
            "\u001b[0;31m---------------------------------------------------------------------------\u001b[0m",
            "\u001b[0;31mTypeError\u001b[0m                                 Traceback (most recent call last)",
            "\u001b[0;32m<ipython-input-84-50e6459dff43>\u001b[0m in \u001b[0;36m<module>\u001b[0;34m\u001b[0m\n\u001b[1;32m      1\u001b[0m \u001b[0;31m# Esta celda debería levantar ina excepción informandoles que la bandeja no tiene ingredientes.\u001b[0m\u001b[0;34m\u001b[0m\u001b[0;34m\u001b[0m\u001b[0;34m\u001b[0m\u001b[0m\n\u001b[0;32m----> 2\u001b[0;31m \u001b[0mjugera_2\u001b[0m\u001b[0;34m.\u001b[0m\u001b[0mpreparar_jugo\u001b[0m\u001b[0;34m(\u001b[0m\u001b[0;34m)\u001b[0m\u001b[0;34m\u001b[0m\u001b[0;34m\u001b[0m\u001b[0m\n\u001b[0m",
            "\u001b[0;32m<ipython-input-80-723af46cecc7>\u001b[0m in \u001b[0;36mpreparar_jugo\u001b[0;34m(self)\u001b[0m\n\u001b[1;32m     50\u001b[0m           \u001b[0;32mpass\u001b[0m\u001b[0;34m\u001b[0m\u001b[0;34m\u001b[0m\u001b[0m\n\u001b[1;32m     51\u001b[0m         \u001b[0;32melse\u001b[0m\u001b[0;34m:\u001b[0m\u001b[0;34m\u001b[0m\u001b[0;34m\u001b[0m\u001b[0m\n\u001b[0;32m---> 52\u001b[0;31m           \u001b[0;32mraise\u001b[0m \u001b[0mTypeError\u001b[0m\u001b[0;34m(\u001b[0m\u001b[0;34mf'Error ❌: La bandeja no tiene ingredientes.'\u001b[0m\u001b[0;34m)\u001b[0m\u001b[0;34m\u001b[0m\u001b[0;34m\u001b[0m\u001b[0m\n\u001b[0m\u001b[1;32m     53\u001b[0m \u001b[0;34m\u001b[0m\u001b[0m\n\u001b[1;32m     54\u001b[0m         \u001b[0;32mif\u001b[0m \u001b[0mlen\u001b[0m\u001b[0;34m(\u001b[0m\u001b[0mfiltrar_por_pepa_funcional\u001b[0m\u001b[0;34m(\u001b[0m\u001b[0mself\u001b[0m\u001b[0;34m.\u001b[0m\u001b[0m_bandeja\u001b[0m\u001b[0;34m,\u001b[0m \u001b[0;32mTrue\u001b[0m\u001b[0;34m)\u001b[0m\u001b[0;34m)\u001b[0m \u001b[0;34m==\u001b[0m \u001b[0;36m0\u001b[0m\u001b[0;34m:\u001b[0m\u001b[0;34m\u001b[0m\u001b[0;34m\u001b[0m\u001b[0m\n",
            "\u001b[0;31mTypeError\u001b[0m: Error ❌: La bandeja no tiene ingredientes."
          ]
        }
      ],
      "id": "-1xSRDFLwRO4"
    },
    {
      "cell_type": "code",
      "metadata": {
        "tags": [],
        "deepnote_to_be_reexecuted": false,
        "source_hash": "a016a727",
        "execution_start": 1648863402271,
        "execution_millis": 482,
        "cell_id": "00041-d568b85e-c5c6-4906-94a7-01c11a0dc18d",
        "deepnote_cell_type": "code",
        "deepnote_cell_height": 157.1875,
        "id": "9h8ZZYV6wRO4",
        "outputId": "d24f7244-8745-432f-99e4-e2c834e90c21",
        "colab": {
          "base_uri": "https://localhost:8080/",
          "height": 317
        }
      },
      "source": [
        "# Agregamos algunos ingredientes (en este caso, como son más de 3, fallará)\n",
        "jugera_2.bandeja = [naranja, platano, frutilla, limon]"
      ],
      "execution_count": 85,
      "outputs": [
        {
          "output_type": "error",
          "ename": "TypeError",
          "evalue": "ignored",
          "traceback": [
            "\u001b[0;31m---------------------------------------------------------------------------\u001b[0m",
            "\u001b[0;31mTypeError\u001b[0m                                 Traceback (most recent call last)",
            "\u001b[0;32m<ipython-input-85-a2a110761309>\u001b[0m in \u001b[0;36m<module>\u001b[0;34m\u001b[0m\n\u001b[1;32m      1\u001b[0m \u001b[0;31m# Agregamos algunos ingredientes (en este caso, como son más de 3, fallará)\u001b[0m\u001b[0;34m\u001b[0m\u001b[0;34m\u001b[0m\u001b[0;34m\u001b[0m\u001b[0m\n\u001b[0;32m----> 2\u001b[0;31m \u001b[0mjugera_2\u001b[0m\u001b[0;34m.\u001b[0m\u001b[0mbandeja\u001b[0m \u001b[0;34m=\u001b[0m \u001b[0;34m[\u001b[0m\u001b[0mnaranja\u001b[0m\u001b[0;34m,\u001b[0m \u001b[0mplatano\u001b[0m\u001b[0;34m,\u001b[0m \u001b[0mfrutilla\u001b[0m\u001b[0;34m,\u001b[0m \u001b[0mlimon\u001b[0m\u001b[0;34m]\u001b[0m\u001b[0;34m\u001b[0m\u001b[0;34m\u001b[0m\u001b[0m\n\u001b[0m",
            "\u001b[0;32m<ipython-input-80-723af46cecc7>\u001b[0m in \u001b[0;36mbandeja\u001b[0;34m(self, nueva_bandeja)\u001b[0m\n\u001b[1;32m     18\u001b[0m \u001b[0;34m\u001b[0m\u001b[0m\n\u001b[1;32m     19\u001b[0m         \u001b[0;32mif\u001b[0m \u001b[0mlen\u001b[0m\u001b[0;34m(\u001b[0m\u001b[0mnueva_bandeja\u001b[0m\u001b[0;34m)\u001b[0m\u001b[0;34m>\u001b[0m\u001b[0;36m3\u001b[0m\u001b[0;34m:\u001b[0m\u001b[0;34m\u001b[0m\u001b[0;34m\u001b[0m\u001b[0m\n\u001b[0;32m---> 20\u001b[0;31m           \u001b[0;32mraise\u001b[0m \u001b[0mTypeError\u001b[0m\u001b[0;34m(\u001b[0m\u001b[0;34m'Error ❌: No se pueden agregar más de 3 ingredientes a la vez.'\u001b[0m\u001b[0;34m)\u001b[0m\u001b[0;34m\u001b[0m\u001b[0;34m\u001b[0m\u001b[0m\n\u001b[0m\u001b[1;32m     21\u001b[0m \u001b[0;34m\u001b[0m\u001b[0m\n\u001b[1;32m     22\u001b[0m         \u001b[0;32mfor\u001b[0m \u001b[0mfruta\u001b[0m \u001b[0;32min\u001b[0m \u001b[0mnueva_bandeja\u001b[0m\u001b[0;34m:\u001b[0m\u001b[0;34m\u001b[0m\u001b[0;34m\u001b[0m\u001b[0m\n",
            "\u001b[0;31mTypeError\u001b[0m: Error ❌: No se pueden agregar más de 3 ingredientes a la vez."
          ]
        }
      ],
      "id": "9h8ZZYV6wRO4"
    },
    {
      "cell_type": "code",
      "metadata": {
        "tags": [],
        "deepnote_to_be_reexecuted": false,
        "source_hash": "561a3ff9",
        "execution_start": 1648863404537,
        "execution_millis": 20,
        "cell_id": "00042-8428a7c5-2a18-4c9f-9550-f5caa8f375f5",
        "deepnote_cell_type": "code",
        "deepnote_cell_height": 175.1875,
        "id": "mxgygFmvwRO5",
        "outputId": "e6c7b635-bb11-4288-b65a-12c8bd311845",
        "colab": {
          "base_uri": "https://localhost:8080/",
          "height": 336
        }
      },
      "source": [
        "# Agregamos algunos ingredientes \n",
        "# (en este caso debería fallar, ya que estamos entregando un string en el primer lugar)\n",
        "jugera_2.bandeja = [\"naranja\", platano, frutilla]"
      ],
      "execution_count": 86,
      "outputs": [
        {
          "output_type": "error",
          "ename": "TypeError",
          "evalue": "ignored",
          "traceback": [
            "\u001b[0;31m---------------------------------------------------------------------------\u001b[0m",
            "\u001b[0;31mTypeError\u001b[0m                                 Traceback (most recent call last)",
            "\u001b[0;32m<ipython-input-86-7b6a7af0ac43>\u001b[0m in \u001b[0;36m<module>\u001b[0;34m\u001b[0m\n\u001b[1;32m      1\u001b[0m \u001b[0;31m# Agregamos algunos ingredientes\u001b[0m\u001b[0;34m\u001b[0m\u001b[0;34m\u001b[0m\u001b[0;34m\u001b[0m\u001b[0m\n\u001b[1;32m      2\u001b[0m \u001b[0;31m# (en este caso debería fallar, ya que estamos entregando un string en el primer lugar)\u001b[0m\u001b[0;34m\u001b[0m\u001b[0;34m\u001b[0m\u001b[0;34m\u001b[0m\u001b[0m\n\u001b[0;32m----> 3\u001b[0;31m \u001b[0mjugera_2\u001b[0m\u001b[0;34m.\u001b[0m\u001b[0mbandeja\u001b[0m \u001b[0;34m=\u001b[0m \u001b[0;34m[\u001b[0m\u001b[0;34m\"naranja\"\u001b[0m\u001b[0;34m,\u001b[0m \u001b[0mplatano\u001b[0m\u001b[0;34m,\u001b[0m \u001b[0mfrutilla\u001b[0m\u001b[0;34m]\u001b[0m\u001b[0;34m\u001b[0m\u001b[0;34m\u001b[0m\u001b[0m\n\u001b[0m",
            "\u001b[0;32m<ipython-input-80-723af46cecc7>\u001b[0m in \u001b[0;36mbandeja\u001b[0;34m(self, nueva_bandeja)\u001b[0m\n\u001b[1;32m     22\u001b[0m         \u001b[0;32mfor\u001b[0m \u001b[0mfruta\u001b[0m \u001b[0;32min\u001b[0m \u001b[0mnueva_bandeja\u001b[0m\u001b[0;34m:\u001b[0m\u001b[0;34m\u001b[0m\u001b[0;34m\u001b[0m\u001b[0m\n\u001b[1;32m     23\u001b[0m           \u001b[0;32mif\u001b[0m \u001b[0;32mnot\u001b[0m \u001b[0misinstance\u001b[0m\u001b[0;34m(\u001b[0m\u001b[0mfruta\u001b[0m\u001b[0;34m,\u001b[0m \u001b[0mdict\u001b[0m\u001b[0;34m)\u001b[0m\u001b[0;34m:\u001b[0m\u001b[0;34m\u001b[0m\u001b[0;34m\u001b[0m\u001b[0m\n\u001b[0;32m---> 24\u001b[0;31m             \u001b[0;32mraise\u001b[0m \u001b[0mTypeError\u001b[0m\u001b[0;34m(\u001b[0m\u001b[0;34mf'Error ❌: Existe una fruta que no es un diccionario: {fruta}'\u001b[0m\u001b[0;34m)\u001b[0m\u001b[0;34m\u001b[0m\u001b[0;34m\u001b[0m\u001b[0m\n\u001b[0m\u001b[1;32m     25\u001b[0m \u001b[0;34m\u001b[0m\u001b[0m\n\u001b[1;32m     26\u001b[0m           \u001b[0;32mif\u001b[0m \u001b[0mlist\u001b[0m\u001b[0;34m(\u001b[0m\u001b[0mfruta\u001b[0m\u001b[0;34m.\u001b[0m\u001b[0mkeys\u001b[0m\u001b[0;34m(\u001b[0m\u001b[0;34m)\u001b[0m\u001b[0;34m)\u001b[0m \u001b[0;34m!=\u001b[0m \u001b[0;34m[\u001b[0m\u001b[0;34m\"nombre\"\u001b[0m\u001b[0;34m,\u001b[0m \u001b[0;34m\"tipo\"\u001b[0m\u001b[0;34m,\u001b[0m \u001b[0;34m\"color\"\u001b[0m\u001b[0;34m,\u001b[0m \u001b[0;34m\"pepas\"\u001b[0m\u001b[0;34m]\u001b[0m\u001b[0;34m:\u001b[0m\u001b[0;34m\u001b[0m\u001b[0;34m\u001b[0m\u001b[0m\n",
            "\u001b[0;31mTypeError\u001b[0m: Error ❌: Existe una fruta que no es un diccionario: naranja"
          ]
        }
      ],
      "id": "mxgygFmvwRO5"
    },
    {
      "cell_type": "code",
      "metadata": {
        "tags": [],
        "deepnote_to_be_reexecuted": false,
        "source_hash": "ecc3586",
        "execution_start": 1648863408300,
        "execution_millis": 2,
        "cell_id": "00043-cdaa6e03-e046-4306-b84e-6aa8d00e6b4f",
        "deepnote_cell_type": "code",
        "deepnote_cell_height": 175.1875,
        "id": "SM3g5p1ywRO5",
        "outputId": "78bac693-71d2-4a85-82eb-22ba995ba514",
        "colab": {
          "base_uri": "https://localhost:8080/",
          "height": 336
        }
      },
      "source": [
        "# Agregamos algunos ingredientes \n",
        "# (en este caso debería fallar, ya que arándando tiene solo la llave nombre)\n",
        "jugera_2.bandeja = [{'nombre': 'arándano'}, platano, frutilla]"
      ],
      "execution_count": 87,
      "outputs": [
        {
          "output_type": "error",
          "ename": "TypeError",
          "evalue": "ignored",
          "traceback": [
            "\u001b[0;31m---------------------------------------------------------------------------\u001b[0m",
            "\u001b[0;31mTypeError\u001b[0m                                 Traceback (most recent call last)",
            "\u001b[0;32m<ipython-input-87-4b28cdf8df59>\u001b[0m in \u001b[0;36m<module>\u001b[0;34m\u001b[0m\n\u001b[1;32m      1\u001b[0m \u001b[0;31m# Agregamos algunos ingredientes\u001b[0m\u001b[0;34m\u001b[0m\u001b[0;34m\u001b[0m\u001b[0;34m\u001b[0m\u001b[0m\n\u001b[1;32m      2\u001b[0m \u001b[0;31m# (en este caso debería fallar, ya que arándando tiene solo la llave nombre)\u001b[0m\u001b[0;34m\u001b[0m\u001b[0;34m\u001b[0m\u001b[0;34m\u001b[0m\u001b[0m\n\u001b[0;32m----> 3\u001b[0;31m \u001b[0mjugera_2\u001b[0m\u001b[0;34m.\u001b[0m\u001b[0mbandeja\u001b[0m \u001b[0;34m=\u001b[0m \u001b[0;34m[\u001b[0m\u001b[0;34m{\u001b[0m\u001b[0;34m'nombre'\u001b[0m\u001b[0;34m:\u001b[0m \u001b[0;34m'arándano'\u001b[0m\u001b[0;34m}\u001b[0m\u001b[0;34m,\u001b[0m \u001b[0mplatano\u001b[0m\u001b[0;34m,\u001b[0m \u001b[0mfrutilla\u001b[0m\u001b[0;34m]\u001b[0m\u001b[0;34m\u001b[0m\u001b[0;34m\u001b[0m\u001b[0m\n\u001b[0m",
            "\u001b[0;32m<ipython-input-80-723af46cecc7>\u001b[0m in \u001b[0;36mbandeja\u001b[0;34m(self, nueva_bandeja)\u001b[0m\n\u001b[1;32m     25\u001b[0m \u001b[0;34m\u001b[0m\u001b[0m\n\u001b[1;32m     26\u001b[0m           \u001b[0;32mif\u001b[0m \u001b[0mlist\u001b[0m\u001b[0;34m(\u001b[0m\u001b[0mfruta\u001b[0m\u001b[0;34m.\u001b[0m\u001b[0mkeys\u001b[0m\u001b[0;34m(\u001b[0m\u001b[0;34m)\u001b[0m\u001b[0;34m)\u001b[0m \u001b[0;34m!=\u001b[0m \u001b[0;34m[\u001b[0m\u001b[0;34m\"nombre\"\u001b[0m\u001b[0;34m,\u001b[0m \u001b[0;34m\"tipo\"\u001b[0m\u001b[0;34m,\u001b[0m \u001b[0;34m\"color\"\u001b[0m\u001b[0;34m,\u001b[0m \u001b[0;34m\"pepas\"\u001b[0m\u001b[0;34m]\u001b[0m\u001b[0;34m:\u001b[0m\u001b[0;34m\u001b[0m\u001b[0;34m\u001b[0m\u001b[0m\n\u001b[0;32m---> 27\u001b[0;31m             \u001b[0;32mraise\u001b[0m \u001b[0mTypeError\u001b[0m\u001b[0;34m(\u001b[0m\u001b[0;34mf'Error ❌: Existe una fruta que no contiene las llaves necesarias: {fruta}'\u001b[0m\u001b[0;34m)\u001b[0m\u001b[0;34m\u001b[0m\u001b[0;34m\u001b[0m\u001b[0m\n\u001b[0m\u001b[1;32m     28\u001b[0m \u001b[0;34m\u001b[0m\u001b[0m\n\u001b[1;32m     29\u001b[0m         \u001b[0mself\u001b[0m\u001b[0;34m.\u001b[0m\u001b[0m_bandeja\u001b[0m \u001b[0;34m+=\u001b[0m \u001b[0mnueva_bandeja\u001b[0m\u001b[0;34m\u001b[0m\u001b[0;34m\u001b[0m\u001b[0m\n",
            "\u001b[0;31mTypeError\u001b[0m: Error ❌: Existe una fruta que no contiene las llaves necesarias: {'nombre': 'arándano'}"
          ]
        }
      ],
      "id": "SM3g5p1ywRO5"
    },
    {
      "cell_type": "code",
      "metadata": {
        "tags": [],
        "deepnote_to_be_reexecuted": false,
        "source_hash": "b2bcbf",
        "execution_start": 1648863409767,
        "execution_millis": 6,
        "cell_id": "00044-5f6a180e-79e3-43be-9bac-9d8ca3d8994d",
        "deepnote_cell_type": "code",
        "deepnote_cell_height": 179,
        "id": "w2ivWmYywRO6",
        "outputId": "0b8453d3-5221-4fe7-aa2e-0142f2f5dc34",
        "colab": {
          "base_uri": "https://localhost:8080/"
        }
      },
      "source": [
        "# Agregamos algunos ingredientes (en este caso, como son 3, debería funcionar)\n",
        "jugera_2.bandeja = [naranja, platano, frutilla]\n",
        "\n",
        "# Y los listamos (debería imprimir: 'Ingredientes en la bandeja: naranja, plátano')\n",
        "jugera_2.listar_ingredientes()"
      ],
      "execution_count": 88,
      "outputs": [
        {
          "output_type": "stream",
          "name": "stdout",
          "text": [
            "Ingredientes en la bandeja: naranja, plátano, frutilla.\n"
          ]
        }
      ],
      "id": "w2ivWmYywRO6"
    },
    {
      "cell_type": "code",
      "metadata": {
        "tags": [],
        "deepnote_to_be_reexecuted": false,
        "source_hash": "a9d685c1",
        "execution_start": 1648863411760,
        "execution_millis": 5,
        "cell_id": "00045-97676ca5-7d02-499f-974d-9e53412fcdc2",
        "deepnote_cell_type": "code",
        "deepnote_cell_height": 194.1875,
        "deepnote_output_heights": [
          null,
          20.1875
        ],
        "id": "1zsPm4oqwRO7",
        "outputId": "747c32c1-76f3-48ed-f91d-744b7a70a28a",
        "colab": {
          "base_uri": "https://localhost:8080/",
          "height": 54
        }
      },
      "source": [
        "# Una vez preparado el jugo, imprima el contenido del jugo y si una alerta, \n",
        "# en el caso que el jugo tenga pepas.\n",
        "jugera_2.preparar_jugo()"
      ],
      "execution_count": 89,
      "outputs": [
        {
          "output_type": "stream",
          "name": "stdout",
          "text": [
            "Alerta ⚠️: El jugo puede contener restos de pepas.\n"
          ]
        },
        {
          "output_type": "execute_result",
          "data": {
            "text/plain": [
              "'Jugo de naranja, plátano, frutilla listo. 🏖️🥤 Que lo disfrutes!!! 🥤🏖️.'"
            ],
            "application/vnd.google.colaboratory.intrinsic+json": {
              "type": "string"
            }
          },
          "metadata": {},
          "execution_count": 89
        }
      ],
      "id": "1zsPm4oqwRO7"
    },
    {
      "cell_type": "code",
      "source": [
        "# Una vez preparado el jugo, debería vaciarse la bandeja (imprimir Bandeja vacía)\n",
        "jugera.listar_ingredientes()"
      ],
      "metadata": {
        "colab": {
          "base_uri": "https://localhost:8080/"
        },
        "id": "piQseSlZUjKk",
        "outputId": "28a30816-f637-4ab1-cb7c-529175967797"
      },
      "id": "piQseSlZUjKk",
      "execution_count": 90,
      "outputs": [
        {
          "output_type": "stream",
          "name": "stdout",
          "text": [
            "Bandeja vacía\n"
          ]
        }
      ]
    },
    {
      "cell_type": "markdown",
      "source": [
        "<a style='text-decoration:none;line-height:16px;display:flex;color:#5B5B62;padding:10px;justify-content:end;' href='https://deepnote.com?utm_source=created-in-deepnote-cell&projectId=87110296-876e-426f-b91d-aaf681223468' target=\"_blank\">\n",
        "<img alt='Created in deepnote.com' style='display:inline;max-height:16px;margin:0px;margin-right:7.5px;' src='data:image/svg+xml;base64,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' > </img>\n",
        "Created in <span style='font-weight:600;margin-left:4px;'>Deepnote</span></a>"
      ],
      "metadata": {
        "tags": [],
        "created_in_deepnote_cell": true,
        "deepnote_cell_type": "markdown",
        "id": "8-jTLSuCwRO7"
      },
      "id": "8-jTLSuCwRO7"
    }
  ],
  "nbformat": 4,
  "nbformat_minor": 5,
  "metadata": {
    "kernelspec": {
      "display_name": "Python 3",
      "language": "python",
      "name": "python3"
    },
    "language_info": {
      "codemirror_mode": {
        "name": "ipython",
        "version": 3
      },
      "file_extension": ".py",
      "mimetype": "text/x-python",
      "name": "python",
      "nbconvert_exporter": "python",
      "pygments_lexer": "ipython3",
      "version": "3.8.3"
    },
    "colab": {
      "name": "Lab1_enunciado.ipynb",
      "provenance": [],
      "collapsed_sections": []
    },
    "deepnote_notebook_id": "de356b11-874c-495a-ba14-3a203f214e90",
    "deepnote": {},
    "deepnote_execution_queue": []
  }
}